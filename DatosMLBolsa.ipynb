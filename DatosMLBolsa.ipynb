{
 "cells": [
  {
   "cell_type": "code",
   "execution_count": 2,
   "metadata": {
    "id": "AGvxCnCju53W"
   },
   "outputs": [
    {
     "ename": "ModuleNotFoundError",
     "evalue": "No module named 'pandas_datareader'",
     "output_type": "error",
     "traceback": [
      "\u001b[0;31m---------------------------------------------------------------------------\u001b[0m",
      "\u001b[0;31mModuleNotFoundError\u001b[0m                       Traceback (most recent call last)",
      "\u001b[0;32m<ipython-input-2-6b883b9ff423>\u001b[0m in \u001b[0;36m<module>\u001b[0;34m\u001b[0m\n\u001b[1;32m      1\u001b[0m \u001b[0;31m# Para obtener los datos vamos a utilizar pandas_datareader (https://pandas-datareader.readthedocs.io/)\u001b[0m\u001b[0;34m\u001b[0m\u001b[0;34m\u001b[0m\u001b[0;34m\u001b[0m\u001b[0m\n\u001b[0;32m----> 2\u001b[0;31m \u001b[0;32mfrom\u001b[0m \u001b[0mpandas_datareader\u001b[0m \u001b[0;32mimport\u001b[0m \u001b[0mdata\u001b[0m\u001b[0;34m\u001b[0m\u001b[0;34m\u001b[0m\u001b[0m\n\u001b[0m",
      "\u001b[0;31mModuleNotFoundError\u001b[0m: No module named 'pandas_datareader'"
     ]
    }
   ],
   "source": [
    "# Para obtener los datos vamos a utilizar pandas_datareader (https://pandas-datareader.readthedocs.io/)\n",
    "from pandas_datareader import data"
   ]
  },
  {
   "cell_type": "code",
   "execution_count": 29,
   "metadata": {
    "id": "7by4LiZ3vCfL"
   },
   "outputs": [],
   "source": [
    "# Definimos tickers en los cuales estamos interesados\n",
    "# '^GSPC' == S&P 500\n",
    "ticker = ['^GSPC']\n",
    "\n",
    "# Definimos el rango de fechas deseado\n",
    "start_date = '2020-1-1'\n",
    "end_date = '2020-12-31'\n",
    "\n",
    "# Obtenemos un DataFrame\n",
    "df = data.DataReader(\n",
    "    tickers, \n",
    "    start=start_date, \n",
    "    end=end_date, \n",
    "    data_source='yahoo'\n",
    ")"
   ]
  },
  {
   "cell_type": "code",
   "execution_count": 38,
   "metadata": {
    "colab": {
     "base_uri": "https://localhost:8080/",
     "height": 487
    },
    "id": "39rNcQqsyOoh",
    "outputId": "ec1d47e4-4ea1-4f29-ff7c-5f2b2bdf9a1b"
   },
   "outputs": [
    {
     "data": {
      "text/html": [
       "<div>\n",
       "<style scoped>\n",
       "    .dataframe tbody tr th:only-of-type {\n",
       "        vertical-align: middle;\n",
       "    }\n",
       "\n",
       "    .dataframe tbody tr th {\n",
       "        vertical-align: top;\n",
       "    }\n",
       "\n",
       "    .dataframe thead tr th {\n",
       "        text-align: left;\n",
       "    }\n",
       "\n",
       "    .dataframe thead tr:last-of-type th {\n",
       "        text-align: right;\n",
       "    }\n",
       "</style>\n",
       "<table border=\"1\" class=\"dataframe\">\n",
       "  <thead>\n",
       "    <tr>\n",
       "      <th>Attributes</th>\n",
       "      <th>Adj Close</th>\n",
       "      <th>Close</th>\n",
       "      <th>High</th>\n",
       "      <th>Low</th>\n",
       "      <th>Open</th>\n",
       "      <th>Volume</th>\n",
       "    </tr>\n",
       "    <tr>\n",
       "      <th>Symbols</th>\n",
       "      <th>^GSPC</th>\n",
       "      <th>^GSPC</th>\n",
       "      <th>^GSPC</th>\n",
       "      <th>^GSPC</th>\n",
       "      <th>^GSPC</th>\n",
       "      <th>^GSPC</th>\n",
       "    </tr>\n",
       "    <tr>\n",
       "      <th>Date</th>\n",
       "      <th></th>\n",
       "      <th></th>\n",
       "      <th></th>\n",
       "      <th></th>\n",
       "      <th></th>\n",
       "      <th></th>\n",
       "    </tr>\n",
       "  </thead>\n",
       "  <tbody>\n",
       "    <tr>\n",
       "      <th>2020-01-02</th>\n",
       "      <td>3257.850098</td>\n",
       "      <td>3257.850098</td>\n",
       "      <td>3258.139893</td>\n",
       "      <td>3235.530029</td>\n",
       "      <td>3244.669922</td>\n",
       "      <td>3458250000</td>\n",
       "    </tr>\n",
       "    <tr>\n",
       "      <th>2020-01-03</th>\n",
       "      <td>3234.850098</td>\n",
       "      <td>3234.850098</td>\n",
       "      <td>3246.149902</td>\n",
       "      <td>3222.340088</td>\n",
       "      <td>3226.360107</td>\n",
       "      <td>3461290000</td>\n",
       "    </tr>\n",
       "    <tr>\n",
       "      <th>2020-01-06</th>\n",
       "      <td>3246.280029</td>\n",
       "      <td>3246.280029</td>\n",
       "      <td>3246.840088</td>\n",
       "      <td>3214.639893</td>\n",
       "      <td>3217.550049</td>\n",
       "      <td>3674070000</td>\n",
       "    </tr>\n",
       "    <tr>\n",
       "      <th>2020-01-07</th>\n",
       "      <td>3237.179932</td>\n",
       "      <td>3237.179932</td>\n",
       "      <td>3244.909912</td>\n",
       "      <td>3232.429932</td>\n",
       "      <td>3241.860107</td>\n",
       "      <td>3420380000</td>\n",
       "    </tr>\n",
       "    <tr>\n",
       "      <th>2020-01-08</th>\n",
       "      <td>3253.050049</td>\n",
       "      <td>3253.050049</td>\n",
       "      <td>3267.070068</td>\n",
       "      <td>3236.669922</td>\n",
       "      <td>3238.590088</td>\n",
       "      <td>3720890000</td>\n",
       "    </tr>\n",
       "    <tr>\n",
       "      <th>...</th>\n",
       "      <td>...</td>\n",
       "      <td>...</td>\n",
       "      <td>...</td>\n",
       "      <td>...</td>\n",
       "      <td>...</td>\n",
       "      <td>...</td>\n",
       "    </tr>\n",
       "    <tr>\n",
       "      <th>2020-12-24</th>\n",
       "      <td>3703.060059</td>\n",
       "      <td>3703.060059</td>\n",
       "      <td>3703.820068</td>\n",
       "      <td>3689.320068</td>\n",
       "      <td>3694.030029</td>\n",
       "      <td>1885090000</td>\n",
       "    </tr>\n",
       "    <tr>\n",
       "      <th>2020-12-28</th>\n",
       "      <td>3735.360107</td>\n",
       "      <td>3735.360107</td>\n",
       "      <td>3740.510010</td>\n",
       "      <td>3723.030029</td>\n",
       "      <td>3723.030029</td>\n",
       "      <td>3527460000</td>\n",
       "    </tr>\n",
       "    <tr>\n",
       "      <th>2020-12-29</th>\n",
       "      <td>3727.040039</td>\n",
       "      <td>3727.040039</td>\n",
       "      <td>3756.120117</td>\n",
       "      <td>3723.310059</td>\n",
       "      <td>3750.010010</td>\n",
       "      <td>3387030000</td>\n",
       "    </tr>\n",
       "    <tr>\n",
       "      <th>2020-12-30</th>\n",
       "      <td>3732.040039</td>\n",
       "      <td>3732.040039</td>\n",
       "      <td>3744.629883</td>\n",
       "      <td>3730.209961</td>\n",
       "      <td>3736.189941</td>\n",
       "      <td>3145200000</td>\n",
       "    </tr>\n",
       "    <tr>\n",
       "      <th>2020-12-31</th>\n",
       "      <td>3756.070068</td>\n",
       "      <td>3756.070068</td>\n",
       "      <td>3760.199951</td>\n",
       "      <td>3726.879883</td>\n",
       "      <td>3733.270020</td>\n",
       "      <td>3172510000</td>\n",
       "    </tr>\n",
       "  </tbody>\n",
       "</table>\n",
       "<p>253 rows × 6 columns</p>\n",
       "</div>"
      ],
      "text/plain": [
       "Attributes    Adj Close        Close  ...         Open      Volume\n",
       "Symbols           ^GSPC        ^GSPC  ...        ^GSPC       ^GSPC\n",
       "Date                                  ...                         \n",
       "2020-01-02  3257.850098  3257.850098  ...  3244.669922  3458250000\n",
       "2020-01-03  3234.850098  3234.850098  ...  3226.360107  3461290000\n",
       "2020-01-06  3246.280029  3246.280029  ...  3217.550049  3674070000\n",
       "2020-01-07  3237.179932  3237.179932  ...  3241.860107  3420380000\n",
       "2020-01-08  3253.050049  3253.050049  ...  3238.590088  3720890000\n",
       "...                 ...          ...  ...          ...         ...\n",
       "2020-12-24  3703.060059  3703.060059  ...  3694.030029  1885090000\n",
       "2020-12-28  3735.360107  3735.360107  ...  3723.030029  3527460000\n",
       "2020-12-29  3727.040039  3727.040039  ...  3750.010010  3387030000\n",
       "2020-12-30  3732.040039  3732.040039  ...  3736.189941  3145200000\n",
       "2020-12-31  3756.070068  3756.070068  ...  3733.270020  3172510000\n",
       "\n",
       "[253 rows x 6 columns]"
      ]
     },
     "execution_count": 38,
     "metadata": {
      "tags": []
     },
     "output_type": "execute_result"
    }
   ],
   "source": [
    "df"
   ]
  },
  {
   "cell_type": "code",
   "execution_count": null,
   "metadata": {
    "id": "lfVclGzJ4eQU"
   },
   "outputs": [],
   "source": []
  }
 ],
 "metadata": {
  "colab": {
   "name": "DatosMLBolsa.ipynb",
   "provenance": []
  },
  "kernelspec": {
   "display_name": "Python 3",
   "language": "python",
   "name": "python3"
  },
  "language_info": {
   "codemirror_mode": {
    "name": "ipython",
    "version": 3
   },
   "file_extension": ".py",
   "mimetype": "text/x-python",
   "name": "python",
   "nbconvert_exporter": "python",
   "pygments_lexer": "ipython3",
   "version": "3.8.8"
  }
 },
 "nbformat": 4,
 "nbformat_minor": 4
}
