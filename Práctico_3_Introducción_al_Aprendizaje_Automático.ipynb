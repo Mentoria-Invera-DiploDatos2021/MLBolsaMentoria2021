{
  "nbformat": 4,
  "nbformat_minor": 5,
  "metadata": {
    "colab": {
      "name": "Práctico 3 - Introducción al Aprendizaje Automático.ipynb",
      "provenance": [],
      "collapsed_sections": [],
      "toc_visible": true
    },
    "kernelspec": {
      "display_name": "Python 3",
      "language": "python",
      "name": "python3"
    },
    "language_info": {
      "codemirror_mode": {
        "name": "ipython",
        "version": 3
      },
      "file_extension": ".py",
      "mimetype": "text/x-python",
      "name": "python",
      "nbconvert_exporter": "python",
      "pygments_lexer": "ipython3",
      "version": "3.9.2"
    }
  },
  "cells": [
    {
      "cell_type": "markdown",
      "metadata": {
        "id": "UIK3w949TUF-"
      },
      "source": [
        "```\n",
        "<Integrantes del Grupo>\n",
        "<Sofia Oliverio\n",
        "Ramiro Jimenez\n",
        "Pablo Carrazana>\n",
        "```"
      ],
      "id": "UIK3w949TUF-"
    },
    {
      "cell_type": "markdown",
      "metadata": {
        "id": "conventional-registrar"
      },
      "source": [
        "# Práctico 3 - Introducción al Aprendizaje Automático\n",
        "\n",
        "## Modelos de Precios de Mercado\n",
        "Queremos crear un modelo que prediga si el precio de una acción va a subir o bajar de acuerdo a información del pasado. Para ello implementaremos algunos modelos derivados de la teoria económica respecto de como valuar una activo con flujo de fondos inciertos, lo que estaría indicando que esas acciones tuvieron un rendimiento inferior al dado por  su índice de mercado(NASDAQ).\n",
        "\n",
        "\n",
        "### Capital Asset Pricing Model (CAPM)\n",
        "\n",
        "El modelo de CAPM propuesto por William Sharpe a partir del desarrollo de Markowitz sobre carteras eficientes, busca predecir el retorno de un activo en función del comportamiento global del mercado, y de la relación del activo puntual con el mercado. \n",
        "\n",
        "Según este modelo, que se puede expresar de la siguiente manera: \n",
        "\n",
        "$$\n",
        "E(r_i) = r_f + \\beta  [ E(r_m) - r_f ] \n",
        "$$\n",
        "\n",
        "El retorno esperado del activo i, es igual al retorno libre de riesgo (o tasa libre de riesgo), más el exceso de retorno esperado de mercado (es decir lo que se espera que rinda el mercado por sobre la tasa libre de riesgo) escalado por un coeficiente beta. Este coeficiente beta es el conciente entre la covarianza del activo con el mercado sobre la varianza del mercado, y se interpreta como un multiplicador de riesgo de mercado.\n",
        "\n",
        "Pueden ver una explicación completa en: https://economipedia.com/definiciones/modelo-valoracion-activos-financieros-capm.html\n",
        "\n",
        "Adicionalmente, se puede agregar un término independiente como ordenada al origen alfa, que represanta una ganancia extraordinaria no explicada por la relacion con de la acción con el mercado sino por factores extraordinarios o arbitrages en caso de estrategias. De allí el famoso \"buscar alfa\" siendo una directriz de todos los portafolios managers. \n",
        "\n",
        "$$\n",
        "E(r_i) = \\alpha + r_f + \\beta  [ E(r_m) - r_f ]\n",
        "$$\n",
        "\n",
        "Para realizar este ejercicio, deberán descargar el precio de una acción y del mercado asociado (por ejemplo GOOG y NASDAQ). En ambos casos tomar los retornos y tomar una tasa libre de riesgo. A continuación, deberán probar varias regresiones para comprobar el beta, y examinar si el agregado de una ordenada al origen aporta a los resultados. La idea es que seleccionen varias acciones para modelarlo con diferentes activos. \n",
        "\n",
        "Una vez que lo hayan hecho, adionalmente responder las siguientes preguntas:\n",
        "\n",
        "1. ¿Es fácil encontrar $\\alpha$ distinto de cero?\n",
        "\n",
        "En nuestro caso los valores correspondientes al alpha de las acciones analizdas son distintos a cero por lo que no resulta dificil encontrar valores con estas características. Es importante aclarar que son valores cercanos a cero y para el caso de Alphabet Inc, Google, Microsoft y Facebook son valores negativas.\n",
        "\n",
        "2. ¿Qué interpretación le podemos dar a $\\beta$?\n",
        "\n",
        "Beta es un parámetro que mide la sensibilidad del rendimiento de nuestras acciones respecto a las variaciones en la rentabilidad de mercado. Nos indica que tan volatil es nuestra acción en relación al mercado, es decir como se comporta entorno al riesgo sistémico.\n",
        "3. ¿En qué momento nos gustaría buscar activos con $\\beta$ > 1 y $\\beta$ < 1? ¿Qué implica tener un $\\beta$ < 0?\n",
        "\n",
        "Un beta mayor a 1 indica que el precio de  nuestra acción reacciona más que proporcionalmente y en la misma dirección que los cambios ocurridos en los rendimientos de mercado. En un escenario de aumentos en los rendimientos de mercado uno desearía tener activos con esta característica.\n",
        "Un beta menor a uno indica que el rendimiento de nuestra acción variará en menor porporción ante cambios en el rendimiento de mercado pero en igual dirección. Es decir en situaciones de caída de los mercados uno desearía que el rendimiento de su acción varíe menos que la variación en el mercado.\n",
        "\n",
        "Un beta menor a cero indica que el rendimiento de nuestro activo tiene una relación inversa con el rendimiento del mercado. Esto puede darse por ejemplo con el índice VIX que mide la volatilidad del mercado y cuyo precio aumenta mientras mayor incertidumbre exista en el mercado.\n",
        "$$\n",
        "\\alpha + \\beta * SPY = KO\n",
        "$$\n"
      ],
      "id": "conventional-registrar"
    },
    {
      "cell_type": "code",
      "metadata": {
        "colab": {
          "base_uri": "https://localhost:8080/"
        },
        "id": "EA_QnFGtTXo0",
        "outputId": "9dcc08a7-b0e5-404d-b536-90b3402e0798"
      },
      "source": [
        "! pip install yfinance\n",
        "! pip install -U statsmodels==0.12.0"
      ],
      "id": "EA_QnFGtTXo0",
      "execution_count": 1,
      "outputs": [
        {
          "output_type": "stream",
          "text": [
            "Collecting yfinance\n",
            "  Downloading yfinance-0.1.63.tar.gz (26 kB)\n",
            "Requirement already satisfied: pandas>=0.24 in /usr/local/lib/python3.7/dist-packages (from yfinance) (1.1.5)\n",
            "Requirement already satisfied: numpy>=1.15 in /usr/local/lib/python3.7/dist-packages (from yfinance) (1.19.5)\n",
            "Requirement already satisfied: requests>=2.20 in /usr/local/lib/python3.7/dist-packages (from yfinance) (2.23.0)\n",
            "Requirement already satisfied: multitasking>=0.0.7 in /usr/local/lib/python3.7/dist-packages (from yfinance) (0.0.9)\n",
            "Collecting lxml>=4.5.1\n",
            "  Downloading lxml-4.6.3-cp37-cp37m-manylinux2014_x86_64.whl (6.3 MB)\n",
            "\u001b[K     |████████████████████████████████| 6.3 MB 43.6 MB/s \n",
            "\u001b[?25hRequirement already satisfied: python-dateutil>=2.7.3 in /usr/local/lib/python3.7/dist-packages (from pandas>=0.24->yfinance) (2.8.2)\n",
            "Requirement already satisfied: pytz>=2017.2 in /usr/local/lib/python3.7/dist-packages (from pandas>=0.24->yfinance) (2018.9)\n",
            "Requirement already satisfied: six>=1.5 in /usr/local/lib/python3.7/dist-packages (from python-dateutil>=2.7.3->pandas>=0.24->yfinance) (1.15.0)\n",
            "Requirement already satisfied: idna<3,>=2.5 in /usr/local/lib/python3.7/dist-packages (from requests>=2.20->yfinance) (2.10)\n",
            "Requirement already satisfied: urllib3!=1.25.0,!=1.25.1,<1.26,>=1.21.1 in /usr/local/lib/python3.7/dist-packages (from requests>=2.20->yfinance) (1.24.3)\n",
            "Requirement already satisfied: certifi>=2017.4.17 in /usr/local/lib/python3.7/dist-packages (from requests>=2.20->yfinance) (2021.5.30)\n",
            "Requirement already satisfied: chardet<4,>=3.0.2 in /usr/local/lib/python3.7/dist-packages (from requests>=2.20->yfinance) (3.0.4)\n",
            "Building wheels for collected packages: yfinance\n",
            "  Building wheel for yfinance (setup.py) ... \u001b[?25l\u001b[?25hdone\n",
            "  Created wheel for yfinance: filename=yfinance-0.1.63-py2.py3-none-any.whl size=23918 sha256=d17035146a30141eee3eb75f83570d6080a171b9035a05d99f3918ff1825f922\n",
            "  Stored in directory: /root/.cache/pip/wheels/fe/87/8b/7ec24486e001d3926537f5f7801f57a74d181be25b11157983\n",
            "Successfully built yfinance\n",
            "Installing collected packages: lxml, yfinance\n",
            "  Attempting uninstall: lxml\n",
            "    Found existing installation: lxml 4.2.6\n",
            "    Uninstalling lxml-4.2.6:\n",
            "      Successfully uninstalled lxml-4.2.6\n",
            "Successfully installed lxml-4.6.3 yfinance-0.1.63\n",
            "Collecting statsmodels==0.12.0\n",
            "  Downloading statsmodels-0.12.0-cp37-cp37m-manylinux1_x86_64.whl (9.5 MB)\n",
            "\u001b[K     |████████████████████████████████| 9.5 MB 36.9 MB/s \n",
            "\u001b[?25hRequirement already satisfied: numpy>=1.15 in /usr/local/lib/python3.7/dist-packages (from statsmodels==0.12.0) (1.19.5)\n",
            "Requirement already satisfied: patsy>=0.5 in /usr/local/lib/python3.7/dist-packages (from statsmodels==0.12.0) (0.5.1)\n",
            "Requirement already satisfied: pandas>=0.21 in /usr/local/lib/python3.7/dist-packages (from statsmodels==0.12.0) (1.1.5)\n",
            "Requirement already satisfied: scipy>=1.1 in /usr/local/lib/python3.7/dist-packages (from statsmodels==0.12.0) (1.4.1)\n",
            "Requirement already satisfied: pytz>=2017.2 in /usr/local/lib/python3.7/dist-packages (from pandas>=0.21->statsmodels==0.12.0) (2018.9)\n",
            "Requirement already satisfied: python-dateutil>=2.7.3 in /usr/local/lib/python3.7/dist-packages (from pandas>=0.21->statsmodels==0.12.0) (2.8.2)\n",
            "Requirement already satisfied: six in /usr/local/lib/python3.7/dist-packages (from patsy>=0.5->statsmodels==0.12.0) (1.15.0)\n",
            "Installing collected packages: statsmodels\n",
            "  Attempting uninstall: statsmodels\n",
            "    Found existing installation: statsmodels 0.10.2\n",
            "    Uninstalling statsmodels-0.10.2:\n",
            "      Successfully uninstalled statsmodels-0.10.2\n",
            "Successfully installed statsmodels-0.12.0\n"
          ],
          "name": "stdout"
        }
      ]
    },
    {
      "cell_type": "code",
      "metadata": {
        "id": "chinese-thirty"
      },
      "source": [
        "#Importamos librerías\n",
        "import pandas as pd\n",
        "from sklearn.metrics import mean_squared_error\n",
        "import numpy as np\n",
        "from pandas_datareader import data ##as pdr \n",
        "import yfinance as yf #importe esta librería porque me permitía trabajar con los datos de yahoo.\n",
        "import datetime\n",
        "import matplotlib.pyplot as plt\n",
        "import pandas_datareader as pdr\n",
        "import seaborn as sns\n",
        "from statsmodels.tsa.ar_model import AutoReg, ar_select_order\n",
        "from statsmodels.tsa.api import acf, pacf, graphics\n",
        "from sklearn.tree import DecisionTreeClassifier\n",
        "from sklearn.metrics import classification_report\n",
        "from sklearn.model_selection import train_test_split\n",
        "from sklearn.model_selection import ParameterGrid\n",
        "from sklearn.model_selection import GridSearchCV\n",
        "from sklearn.metrics import accuracy_score\n",
        "from sklearn.metrics import explained_variance_score\n",
        "from sklearn.metrics import confusion_matrix\n",
        "from sklearn.metrics import recall_score\n",
        "from sklearn.model_selection import TimeSeriesSplit\n",
        "yf.pdr_override()\n"
      ],
      "id": "chinese-thirty",
      "execution_count": 2,
      "outputs": []
    },
    {
      "cell_type": "code",
      "metadata": {
        "colab": {
          "base_uri": "https://localhost:8080/"
        },
        "id": "U3TI8B_SMVEA",
        "outputId": "2665de7d-dded-46af-fca2-551b14d54238"
      },
      "source": [
        "# Definimos tickers en los cuales estamos interesados\n",
        "# Algunas empresas del S&P500\n",
        "tickers = ['MELI']\n",
        "\n",
        "# Definimos el rango de fechas deseado\n",
        "start_date = '2020-01-01'\n",
        "end_date = '2020-12-31'\n",
        "\n",
        "# Obtenemos un DataFrame\n",
        "data_meli = data.get_data_yahoo(\n",
        "    tickers,\n",
        "    start=start_date, \n",
        "    end=end_date, \n",
        "    data_source='yahoo',\n",
        ")[\"Adj Close\"]"
      ],
      "id": "U3TI8B_SMVEA",
      "execution_count": 3,
      "outputs": [
        {
          "output_type": "stream",
          "text": [
            "\r[*********************100%***********************]  1 of 1 completed\n"
          ],
          "name": "stdout"
        }
      ]
    },
    {
      "cell_type": "code",
      "metadata": {
        "colab": {
          "base_uri": "https://localhost:8080/",
          "height": 237
        },
        "id": "BCH4ldoaMX3o",
        "outputId": "ed65b43a-fd14-40a8-e2a6-8d2c7baf5951"
      },
      "source": [
        "#La info la tengo organizada en una tupla \n",
        "data_meli\n",
        "#La transformo a df\n",
        "df=pd.DataFrame(data_meli)\n",
        "df.head()"
      ],
      "id": "BCH4ldoaMX3o",
      "execution_count": 4,
      "outputs": [
        {
          "output_type": "execute_result",
          "data": {
            "text/html": [
              "<div>\n",
              "<style scoped>\n",
              "    .dataframe tbody tr th:only-of-type {\n",
              "        vertical-align: middle;\n",
              "    }\n",
              "\n",
              "    .dataframe tbody tr th {\n",
              "        vertical-align: top;\n",
              "    }\n",
              "\n",
              "    .dataframe thead th {\n",
              "        text-align: right;\n",
              "    }\n",
              "</style>\n",
              "<table border=\"1\" class=\"dataframe\">\n",
              "  <thead>\n",
              "    <tr style=\"text-align: right;\">\n",
              "      <th></th>\n",
              "      <th>Adj Close</th>\n",
              "    </tr>\n",
              "    <tr>\n",
              "      <th>Date</th>\n",
              "      <th></th>\n",
              "    </tr>\n",
              "  </thead>\n",
              "  <tbody>\n",
              "    <tr>\n",
              "      <th>2020-01-02</th>\n",
              "      <td>610.190002</td>\n",
              "    </tr>\n",
              "    <tr>\n",
              "      <th>2020-01-03</th>\n",
              "      <td>607.799988</td>\n",
              "    </tr>\n",
              "    <tr>\n",
              "      <th>2020-01-06</th>\n",
              "      <td>606.549988</td>\n",
              "    </tr>\n",
              "    <tr>\n",
              "      <th>2020-01-07</th>\n",
              "      <td>625.000000</td>\n",
              "    </tr>\n",
              "    <tr>\n",
              "      <th>2020-01-08</th>\n",
              "      <td>633.440002</td>\n",
              "    </tr>\n",
              "  </tbody>\n",
              "</table>\n",
              "</div>"
            ],
            "text/plain": [
              "             Adj Close\n",
              "Date                  \n",
              "2020-01-02  610.190002\n",
              "2020-01-03  607.799988\n",
              "2020-01-06  606.549988\n",
              "2020-01-07  625.000000\n",
              "2020-01-08  633.440002"
            ]
          },
          "metadata": {},
          "execution_count": 4
        }
      ]
    },
    {
      "cell_type": "code",
      "metadata": {
        "colab": {
          "base_uri": "https://localhost:8080/",
          "height": 237
        },
        "id": "sZhTfrT4Oge7",
        "outputId": "a4fd9f36-d112-4860-feed-120c5655f01c"
      },
      "source": [
        "#Renombro mi df\n",
        "df_meli=df.copy()\n",
        "df_meli.head()"
      ],
      "id": "sZhTfrT4Oge7",
      "execution_count": 5,
      "outputs": [
        {
          "output_type": "execute_result",
          "data": {
            "text/html": [
              "<div>\n",
              "<style scoped>\n",
              "    .dataframe tbody tr th:only-of-type {\n",
              "        vertical-align: middle;\n",
              "    }\n",
              "\n",
              "    .dataframe tbody tr th {\n",
              "        vertical-align: top;\n",
              "    }\n",
              "\n",
              "    .dataframe thead th {\n",
              "        text-align: right;\n",
              "    }\n",
              "</style>\n",
              "<table border=\"1\" class=\"dataframe\">\n",
              "  <thead>\n",
              "    <tr style=\"text-align: right;\">\n",
              "      <th></th>\n",
              "      <th>Adj Close</th>\n",
              "    </tr>\n",
              "    <tr>\n",
              "      <th>Date</th>\n",
              "      <th></th>\n",
              "    </tr>\n",
              "  </thead>\n",
              "  <tbody>\n",
              "    <tr>\n",
              "      <th>2020-01-02</th>\n",
              "      <td>610.190002</td>\n",
              "    </tr>\n",
              "    <tr>\n",
              "      <th>2020-01-03</th>\n",
              "      <td>607.799988</td>\n",
              "    </tr>\n",
              "    <tr>\n",
              "      <th>2020-01-06</th>\n",
              "      <td>606.549988</td>\n",
              "    </tr>\n",
              "    <tr>\n",
              "      <th>2020-01-07</th>\n",
              "      <td>625.000000</td>\n",
              "    </tr>\n",
              "    <tr>\n",
              "      <th>2020-01-08</th>\n",
              "      <td>633.440002</td>\n",
              "    </tr>\n",
              "  </tbody>\n",
              "</table>\n",
              "</div>"
            ],
            "text/plain": [
              "             Adj Close\n",
              "Date                  \n",
              "2020-01-02  610.190002\n",
              "2020-01-03  607.799988\n",
              "2020-01-06  606.549988\n",
              "2020-01-07  625.000000\n",
              "2020-01-08  633.440002"
            ]
          },
          "metadata": {},
          "execution_count": 5
        }
      ]
    },
    {
      "cell_type": "markdown",
      "metadata": {
        "id": "kNgdekkTR8-M"
      },
      "source": [
        "##### CAPM aplicado a la acción MELI"
      ],
      "id": "kNgdekkTR8-M"
    },
    {
      "cell_type": "markdown",
      "metadata": {
        "id": "8DtHEaB8R-1p"
      },
      "source": [
        "Como vimos anteriormente el CAPM es un modelo que describe la relación entre el rendimiento  esperado de nuestros activos y el riesgo inherente al mercado, denominado riesgo sistémico. Su objetivo es estimar el rendimiento esperado de estos activos dado este  riesgo sistémico. \n",
        "En este modelo el inversor diversifica su portfolio entre activos riesgosos y activos libre de riesgo."
      ],
      "id": "8DtHEaB8R-1p"
    },
    {
      "cell_type": "markdown",
      "metadata": {
        "id": "RNyUqxSnSF-8"
      },
      "source": [
        "Para aplicar CAPM a nuestra acción de Meli es necesario definir los retorno diarios de nuestra acción y un estimador de los retornos de mercado que en este caso es el SP500."
      ],
      "id": "RNyUqxSnSF-8"
    },
    {
      "cell_type": "code",
      "metadata": {
        "colab": {
          "base_uri": "https://localhost:8080/",
          "height": 237
        },
        "id": "XQt-HpGlSGm1",
        "outputId": "54572d21-8af4-44f0-a69c-5ad46514491d"
      },
      "source": [
        "##Calculamos retornos diarios.\n",
        "df_meli[\"ret_meli\"]=df_meli['Adj Close'].pct_change(1)\n",
        "df_meli.head()"
      ],
      "id": "XQt-HpGlSGm1",
      "execution_count": 6,
      "outputs": [
        {
          "output_type": "execute_result",
          "data": {
            "text/html": [
              "<div>\n",
              "<style scoped>\n",
              "    .dataframe tbody tr th:only-of-type {\n",
              "        vertical-align: middle;\n",
              "    }\n",
              "\n",
              "    .dataframe tbody tr th {\n",
              "        vertical-align: top;\n",
              "    }\n",
              "\n",
              "    .dataframe thead th {\n",
              "        text-align: right;\n",
              "    }\n",
              "</style>\n",
              "<table border=\"1\" class=\"dataframe\">\n",
              "  <thead>\n",
              "    <tr style=\"text-align: right;\">\n",
              "      <th></th>\n",
              "      <th>Adj Close</th>\n",
              "      <th>ret_meli</th>\n",
              "    </tr>\n",
              "    <tr>\n",
              "      <th>Date</th>\n",
              "      <th></th>\n",
              "      <th></th>\n",
              "    </tr>\n",
              "  </thead>\n",
              "  <tbody>\n",
              "    <tr>\n",
              "      <th>2020-01-02</th>\n",
              "      <td>610.190002</td>\n",
              "      <td>NaN</td>\n",
              "    </tr>\n",
              "    <tr>\n",
              "      <th>2020-01-03</th>\n",
              "      <td>607.799988</td>\n",
              "      <td>-0.003917</td>\n",
              "    </tr>\n",
              "    <tr>\n",
              "      <th>2020-01-06</th>\n",
              "      <td>606.549988</td>\n",
              "      <td>-0.002057</td>\n",
              "    </tr>\n",
              "    <tr>\n",
              "      <th>2020-01-07</th>\n",
              "      <td>625.000000</td>\n",
              "      <td>0.030418</td>\n",
              "    </tr>\n",
              "    <tr>\n",
              "      <th>2020-01-08</th>\n",
              "      <td>633.440002</td>\n",
              "      <td>0.013504</td>\n",
              "    </tr>\n",
              "  </tbody>\n",
              "</table>\n",
              "</div>"
            ],
            "text/plain": [
              "             Adj Close  ret_meli\n",
              "Date                            \n",
              "2020-01-02  610.190002       NaN\n",
              "2020-01-03  607.799988 -0.003917\n",
              "2020-01-06  606.549988 -0.002057\n",
              "2020-01-07  625.000000  0.030418\n",
              "2020-01-08  633.440002  0.013504"
            ]
          },
          "metadata": {},
          "execution_count": 6
        }
      ]
    },
    {
      "cell_type": "code",
      "metadata": {
        "colab": {
          "base_uri": "https://localhost:8080/"
        },
        "id": "_iKxpIMASJK1",
        "outputId": "c8a749f3-cfca-4b1b-9d41-5549faef5d35"
      },
      "source": [
        "#Obtenemos valores del sp500 para agregarloa nuestro df.\n",
        "tickers = ['SPY']\n",
        "data_spy = data.get_data_yahoo(\n",
        "    tickers,\n",
        "    start=start_date, \n",
        "    end=end_date, \n",
        "    data_source='yahoo',\n",
        ")[\"Adj Close\"]\n",
        "\n",
        "df=pd.DataFrame(data_spy)\n",
        "df[\"ret_spy\"]=df['Adj Close'].pct_change(1)\n",
        "\n",
        "df=pd.concat([df_meli,df],axis=1)"
      ],
      "id": "_iKxpIMASJK1",
      "execution_count": 7,
      "outputs": [
        {
          "output_type": "stream",
          "text": [
            "\r[*********************100%***********************]  1 of 1 completed\n"
          ],
          "name": "stdout"
        }
      ]
    },
    {
      "cell_type": "code",
      "metadata": {
        "colab": {
          "base_uri": "https://localhost:8080/",
          "height": 237
        },
        "id": "_YZXeY4bSK6L",
        "outputId": "7487d86c-1988-4a29-c94e-42d58fbde54d"
      },
      "source": [
        "#Limpio los nulos pq despues me generan lío en la estimación.\n",
        "df_fil=df.dropna(axis=0) \n",
        "df_fil.head()"
      ],
      "id": "_YZXeY4bSK6L",
      "execution_count": 8,
      "outputs": [
        {
          "output_type": "execute_result",
          "data": {
            "text/html": [
              "<div>\n",
              "<style scoped>\n",
              "    .dataframe tbody tr th:only-of-type {\n",
              "        vertical-align: middle;\n",
              "    }\n",
              "\n",
              "    .dataframe tbody tr th {\n",
              "        vertical-align: top;\n",
              "    }\n",
              "\n",
              "    .dataframe thead th {\n",
              "        text-align: right;\n",
              "    }\n",
              "</style>\n",
              "<table border=\"1\" class=\"dataframe\">\n",
              "  <thead>\n",
              "    <tr style=\"text-align: right;\">\n",
              "      <th></th>\n",
              "      <th>Adj Close</th>\n",
              "      <th>ret_meli</th>\n",
              "      <th>Adj Close</th>\n",
              "      <th>ret_spy</th>\n",
              "    </tr>\n",
              "    <tr>\n",
              "      <th>Date</th>\n",
              "      <th></th>\n",
              "      <th></th>\n",
              "      <th></th>\n",
              "      <th></th>\n",
              "    </tr>\n",
              "  </thead>\n",
              "  <tbody>\n",
              "    <tr>\n",
              "      <th>2020-01-03</th>\n",
              "      <td>607.799988</td>\n",
              "      <td>-0.003917</td>\n",
              "      <td>314.437500</td>\n",
              "      <td>-0.007572</td>\n",
              "    </tr>\n",
              "    <tr>\n",
              "      <th>2020-01-06</th>\n",
              "      <td>606.549988</td>\n",
              "      <td>-0.002057</td>\n",
              "      <td>315.637115</td>\n",
              "      <td>0.003815</td>\n",
              "    </tr>\n",
              "    <tr>\n",
              "      <th>2020-01-07</th>\n",
              "      <td>625.000000</td>\n",
              "      <td>0.030418</td>\n",
              "      <td>314.749573</td>\n",
              "      <td>-0.002812</td>\n",
              "    </tr>\n",
              "    <tr>\n",
              "      <th>2020-01-08</th>\n",
              "      <td>633.440002</td>\n",
              "      <td>0.013504</td>\n",
              "      <td>316.427063</td>\n",
              "      <td>0.005330</td>\n",
              "    </tr>\n",
              "    <tr>\n",
              "      <th>2020-01-09</th>\n",
              "      <td>646.429993</td>\n",
              "      <td>0.020507</td>\n",
              "      <td>318.572632</td>\n",
              "      <td>0.006781</td>\n",
              "    </tr>\n",
              "  </tbody>\n",
              "</table>\n",
              "</div>"
            ],
            "text/plain": [
              "             Adj Close  ret_meli   Adj Close   ret_spy\n",
              "Date                                                  \n",
              "2020-01-03  607.799988 -0.003917  314.437500 -0.007572\n",
              "2020-01-06  606.549988 -0.002057  315.637115  0.003815\n",
              "2020-01-07  625.000000  0.030418  314.749573 -0.002812\n",
              "2020-01-08  633.440002  0.013504  316.427063  0.005330\n",
              "2020-01-09  646.429993  0.020507  318.572632  0.006781"
            ]
          },
          "metadata": {},
          "execution_count": 8
        }
      ]
    },
    {
      "cell_type": "code",
      "metadata": {
        "colab": {
          "base_uri": "https://localhost:8080/",
          "height": 542
        },
        "id": "1FWGi8CESK-o",
        "outputId": "2c9cd771-f922-432a-8991-13fe1ecad213"
      },
      "source": [
        "#Visualizamos la relación entre el rendimiento de nuestra acción y el rendimiento del mercado\n",
        "import plotly.express as px\n",
        "fig = px.scatter(df, x=\"ret_spy\", y=\"ret_meli\")\n",
        "fig.show()"
      ],
      "id": "1FWGi8CESK-o",
      "execution_count": 9,
      "outputs": [
        {
          "output_type": "display_data",
          "data": {
            "text/html": [
              "<html>\n",
              "<head><meta charset=\"utf-8\" /></head>\n",
              "<body>\n",
              "    <div>\n",
              "            <script src=\"https://cdnjs.cloudflare.com/ajax/libs/mathjax/2.7.5/MathJax.js?config=TeX-AMS-MML_SVG\"></script><script type=\"text/javascript\">if (window.MathJax) {MathJax.Hub.Config({SVG: {font: \"STIX-Web\"}});}</script>\n",
              "                <script type=\"text/javascript\">window.PlotlyConfig = {MathJaxConfig: 'local'};</script>\n",
              "        <script src=\"https://cdn.plot.ly/plotly-latest.min.js\"></script>    \n",
              "            <div id=\"f862f070-2bd9-48e5-9b0e-1845894114d0\" class=\"plotly-graph-div\" style=\"height:525px; width:100%;\"></div>\n",
              "            <script type=\"text/javascript\">\n",
              "                \n",
              "                    window.PLOTLYENV=window.PLOTLYENV || {};\n",
              "                    \n",
              "                if (document.getElementById(\"f862f070-2bd9-48e5-9b0e-1845894114d0\")) {\n",
              "                    Plotly.newPlot(\n",
              "                        'f862f070-2bd9-48e5-9b0e-1845894114d0',\n",
              "                        [{\"hoverlabel\": {\"namelength\": 0}, \"hovertemplate\": \"ret_spy=%{x}<br>ret_meli=%{y}\", \"legendgroup\": \"\", \"marker\": {\"color\": \"#636efa\", \"symbol\": \"circle\"}, \"mode\": \"markers\", \"name\": \"\", \"showlegend\": false, \"type\": \"scatter\", \"x\": [null, -0.007572260882765192, 0.0038151158132080365, -0.002811908616208947, 0.005329602895717267, 0.006780611074773013, -0.0028776735829182387, 0.006877352062859776, -0.0015246360538498926, 0.00225991454008323, 0.008318297393910434, 0.00311268137293097, -0.0019581715035096314, 0.00012061287206632798, 0.0011468645851728798, -0.00889311154574457, -0.016029237618754744, 0.010479068994071916, -0.0008259099871068543, 0.0032453438775952304, -0.018157917001928814, 0.007428496177404709, 0.01524125576261981, 0.011548109467785617, 0.003364811124323408, -0.005329778024292575, 0.0074653689957964176, 0.001733047646001351, 0.006442697947433018, -0.0010669401297743741, 0.0016022588145123695, -0.0025770866741428033, 0.004781192446178695, -0.0041080874914706245, -0.010298328729480555, -0.03316536960106353, -0.03030228918257316, -0.0036780969576383216, -0.04491176644905037, -0.004201418612475916, 0.04330638760133687, -0.028632355893426165, 0.04203289092865803, -0.03324168100328351, -0.01653105117344622, -0.07809444903153673, 0.051744763609617106, -0.048748297349153646, -0.09567725298588492, 0.08548643941859457, -0.1094238382572773, 0.05399201754350491, -0.05063287613887568, 0.0021250082710195795, -0.04309419630189415, -0.025568182397571193, 0.0906032137737105, 0.01497023110427409, 0.05838982834529105, -0.029785771163547636, 0.03247571994688414, -0.014905290821226602, -0.0450049176040328, 0.02307533166200093, -0.014454118446948327, 0.06716611768292124, 0.001019603614853537, 0.03356841328891269, 0.015217388836479495, -0.00913024138206342, 0.029492847918926257, -0.021248083470839618, 0.004824403084275897, 0.027015278567439127, -0.01761786611268268, -0.030363379320409445, 0.022194713596660476, -7.1891535401436e-05, 0.013938820251997441, 0.014418356043786051, -0.004598475952881653, 0.026178411194023088, -0.0093104594479122, -0.02647342494366367, 0.0027580544275727092, 0.009239498535357882, -0.006778763056996762, 0.012066892566133136, 0.01654613524851367, 0.00020519811830443935, -0.019931614659775, -0.017685905804882385, 0.011967351184439812, 0.004596998234711602, 0.03045958263779114, -0.010271156810376714, 0.016988007750628142, -0.006903925865300864, 0.0018991242423072041, 0.01232048745786618, 0.01487905753591301, -0.0018450029445025162, 0.004456029285470509, 0.004041681514515227, 0.008280103032956232, 0.013308220143570582, -0.002626547984723837, 0.02562927452228103, 0.012087610530416404, -0.007456683790733942, -0.005579906904577214, -0.05764906196913344, 0.011975722579243175, 0.009335491012652186, 0.019247811392481218, -0.004153753283078321, 0.0003848875346845748, -0.005714917444152645, 0.006415295797629561, 0.004603540984417398, -0.025508705147735178, 0.010720619079925386, -0.023751541804051812, 0.014697541006197135, 0.012809699648905992, 0.007004786034622068, 0.005506797968040322, 0.015437456601527622, -0.010313946246931938, 0.007648766736304102, -0.005692981412122267, 0.01021061398653722, -0.008659106734308142, 0.01295912582342873, 0.009187140101555746, -0.0032934286744238372, 0.002899092801286196, 0.008081614224149325, 0.002127614466594263, 0.005691928751830444, -0.011931650204295097, -0.0064403145508087345, 0.007292366957086571, -0.006342376403768668, 0.012298681691027546, -0.0035678150162410383, 0.007902021170911766, 0.006952318745422126, 0.0038625896268875692, 0.006210846154712346, 0.006684592842567172, 0.0007180478658432854, 0.0029888090457805827, -0.008254679322192593, 0.013942295432747054, -0.0018077169274081095, 2.97004311526905e-05, 0.0031766564118935747, 0.002160376765308225, -0.00416382225090417, 0.0031136522566035385, 0.003547401227605107, 0.01013317884374576, 0.0034992209552602294, 0.010025618695455485, 0.0021865924934951764, 0.0064593944906734535, -0.0036226023174230626, 0.009418607888524111, 0.014464051826569069, -0.034414295283371144, -0.008164806581846817, -0.027322952272622714, 0.01974748435708218, -0.017363675359594377, 0.0005090748529266165, 0.01317135782250567, 0.005052301029329298, -0.003968732697854138, -0.008795180480595355, -0.011512732425805083, -0.01112958079903803, 0.010184475748150401, -0.023190927754788926, 0.002665408397322544, 0.016166879015269586, 0.016609448149738526, -0.005446027210012749, 0.007581894559420599, 0.006420005915672267, -0.009494395000953726, 0.017732976327940353, -0.014215832971362419, 0.017406688240049872, 0.008862419037724667, 0.008930114527072153, 0.016087718461903044, -0.0065261545108527, -0.0062833845553639245, -0.0012359670307124926, -0.0006041894850433716, -0.015203494941139817, 0.004005786025127467, -0.0018928906011648206, 0.005485211863056616, 0.003395221285122707, -0.01847983075626447, -0.0034474408877687157, -0.03417903336198502, 0.010163543304156919, -0.010424853541895263, 0.011208444821195762, 0.017655845634250156, 0.022349312572828683, 0.019502777894762513, -0.0002284758004139631, 0.012565692994021882, -0.001466476206021139, 0.007428540110413495, -0.009700968816819477, 0.013844550321333804, 0.012482455430785633, -0.005378283161009967, -0.012034835642590003, 0.004210214061569406, -0.006847780192291375, 0.005994357424522034, 0.01611376697997713, -0.001541667487666265, 0.0027850194009719775, -0.004427148256068714, 0.01093726649025073, 0.0021037453848615773, -0.0002725822309354031, 0.008617663248378538, -0.0020550187523171726, 0.002926228631974004, -0.008968830351917978, -0.0003271124230739275, -0.0011726064989990848, -0.004477137057728786, 0.013519394051777933, 0.0015693500476932076, 0.005591955970378315, -0.003992820216432769, -0.0035755772423449184, -0.0016854402644865818, 0.0008986792660206078, 0.003890418120709116, 0.008590799391872794, -0.0019077541365968287, 0.0014268108627162324], \"xaxis\": \"x\", \"y\": [null, -0.0039168367866974085, -0.0020565976062930647, 0.03041795825297866, 0.01350400390624995, 0.02050705699720412, 0.03565736128294028, 0.03229371414818094, -0.056475140559262615, 0.012130558154315407, 0.00981854252503811, 0.009828028054228222, -0.02161927398083685, 0.007122683663247642, 0.0002714207481788744, -0.004145749369318108, -0.01017292616250498, 0.03190283213362055, -0.009055586935118098, 0.0036942788657015058, -0.012040318418186535, 0.022594239017722506, 0.047022044604873026, -0.04792488546772378, -0.007161497785190818, -0.03722798877608047, 0.018900282604801477, -0.010042060598417724, 0.07396951070901836, 0.026735477375381844, 0.02293568785827449, -0.008925045198616477, 0.019616964497053857, -0.0002019056209143777, -0.009413069145475794, -0.08447519803651982, -0.06453244521531643, 0.003253948877728119, -0.050707995272467055, 0.0267167154947916, 0.04233552718924227, -0.02706702166186803, 0.04626002483885627, -0.039395376294906526, -0.02129386986878623, -0.1218369008272836, 0.11012895831028846, -0.08070849154517357, -0.08846595964355963, 0.0671115586482196, -0.1276297761869577, 0.05000854821303169, -0.0785016789052505, 0.025123261194272217, -0.022975846060731886, 0.010532567042579322, 0.07068722065979727, -0.015000012456154344, 0.01431680047548367, -0.037033264509407915, 0.003945476312577023, 0.03230572746369842, -0.0844078582172445, 0.0347163207100456, -0.01814763105212236, 0.11373688538862248, 0.0385450827937619, 0.03486981887070506, -0.01970582849839153, 0.018226766743807632, 0.03502766027854509, 0.04736485212642383, 0.04089087850847939, -0.024824176898048278, 0.0069288948091004166, -0.046971626018157187, 0.04825766973825929, -0.023858191683803653, -0.02631624118076825, 0.03185875426616791, 0.015386716499569797, 0.006482449001318447, -0.03139001640214756, 0.03772002090326709, 0.0031047774180412713, 0.02229169819412724, 0.19637968557664776, 0.0392257355924317, 0.01619128997145647, -0.004346650301830346, -0.024349910835582578, 0.008463502925617261, 0.011359254890440651, -0.0028561911337068313, 0.025172582508105945, 0.014347594201936653, 0.027730873711619086, -0.01641894414654277, 0.03264962363115531, -0.008486782124492942, -0.015991903441278876, 0.007711652745265862, 0.02963152299602667, -0.008911862543725668, 0.018588287986607055, -0.007269385833443609, -0.015852035086775906, 0.03207181365802869, -0.009308718572892616, 0.00881401794626635, 0.023487225503640685, -0.03583755638032726, 0.04845613178453956, 0.030755337895293167, 0.02841992398877169, -0.01529058273267625, -0.010376883438784179, 0.029092246250835174, 0.0331388046996095, -0.007160692252532352, -0.024266203173535894, 0.018526460832602565, 0.0017808412916930916, 0.007871219123283035, 0.00503655307783446, -0.00875458241965632, 0.011543860749349433, 0.007597994673796071, 0.011356217446777617, 0.00770423120692354, 0.00241380513008016, 0.018064714361530898, -0.05199693737059574, -0.00951145768095607, -0.0010281401920357869, -0.015448277317697046, 0.008467286516361527, 0.06228759610607937, -0.0057669556715683745, 0.000480901190140548, -0.03638453028035615, 0.0068105492462005035, 0.08235669923471378, -0.028847842478609942, 0.04554809045856323, 0.018943578744170964, 0.015458234868792387, 0.042681083573477, 0.001117206425956585, 0.04388668413256536, -0.0044799791530654165, -0.021303969856848903, -0.05834310227111705, -0.021613298433457717, 0.010572635502917427, 0.04084958582032394, -0.0005272956191418876, 0.028907730106836338, 0.015774849024074555, 0.0031522508582058073, 0.0048250219735632704, -0.013149486078293693, 0.008159443960135127, 0.009826031495629994, -0.006593093373417069, -0.01194972461822974, -0.018728150110512543, -0.008745490185967486, 0.03480266400949583, -0.010998502158938273, -0.0910063625666816, -0.0034402736139278467, -0.05616678848759027, 0.03404294790968043, -0.015463309923457569, -0.007694607864405678, 0.0036690343802985304, -0.0065395692093223046, -0.026204128671418858, -0.02278163069385597, 0.018272685505709152, 0.01395706942453967, 0.04839966891115832, -0.03771072682099885, 0.013389342007479987, 0.02645389655047503, 0.029595154153425174, -0.009657735817586777, -0.00036016756415468976, 0.03035620606797096, -0.03228612877611736, 0.01042313329384692, 0.0007427778121655848, 0.04912083181266014, 0.01342357652156112, 0.03401498734818542, 0.013260130211457, 0.043939990907104765, -0.02400788839824719, 0.015492099970140227, 0.010724300278466936, 0.009965583772477471, 0.03863555427363474, -0.02589117797033924, -0.0037025229004574722, 0.013783367815488168, -0.02341184914433292, 0.0008038061430679644, -0.006924142541867018, 0.021506148276533965, -0.06681880808750318, 0.0014908252960283974, 0.01489479509955749, 0.06622525073001606, 0.09281070226269272, 0.0334260223197298, -0.10441092443291722, -0.07867165422559486, 0.06399513801672252, -0.006508283158883854, 0.0043673103238328626, -0.011792614955418168, 0.011272554313889183, 0.013283958801212803, 0.039610409275302905, 0.03407278679306702, 0.024545007047736656, -0.008603284312488912, 0.02854201768835507, 0.02233920714326887, 0.026363889263276707, -0.020388406050855234, 0.0007885803299827465, 0.024611573505950002, -0.0018969974507727638, 0.011699116879631433, 0.02556488316896277, -0.04910015940575141, 0.03448005201418325, 0.010764246528085941, 0.007114303651867271, 0.03147592165700441, 0.00032956987839560803, 0.006259179730569997, 0.026006145114273682, -0.014962196149439833, 0.02031933735539604, -0.036008060745762016, 0.01225739401765491, -0.0158298294418161, 0.005872394214947674, 0.023573461091541903], \"yaxis\": \"y\"}],\n",
              "                        {\"legend\": {\"tracegroupgap\": 0}, \"margin\": {\"t\": 60}, \"template\": {\"data\": {\"bar\": [{\"error_x\": {\"color\": \"#2a3f5f\"}, \"error_y\": {\"color\": \"#2a3f5f\"}, \"marker\": {\"line\": {\"color\": \"#E5ECF6\", \"width\": 0.5}}, \"type\": \"bar\"}], \"barpolar\": [{\"marker\": {\"line\": {\"color\": \"#E5ECF6\", \"width\": 0.5}}, \"type\": \"barpolar\"}], \"carpet\": [{\"aaxis\": {\"endlinecolor\": \"#2a3f5f\", \"gridcolor\": \"white\", \"linecolor\": \"white\", \"minorgridcolor\": \"white\", \"startlinecolor\": \"#2a3f5f\"}, \"baxis\": {\"endlinecolor\": \"#2a3f5f\", \"gridcolor\": \"white\", \"linecolor\": \"white\", \"minorgridcolor\": \"white\", \"startlinecolor\": \"#2a3f5f\"}, \"type\": \"carpet\"}], \"choropleth\": [{\"colorbar\": {\"outlinewidth\": 0, \"ticks\": \"\"}, \"type\": \"choropleth\"}], \"contour\": [{\"colorbar\": {\"outlinewidth\": 0, \"ticks\": \"\"}, \"colorscale\": [[0.0, \"#0d0887\"], [0.1111111111111111, \"#46039f\"], [0.2222222222222222, \"#7201a8\"], [0.3333333333333333, \"#9c179e\"], [0.4444444444444444, \"#bd3786\"], [0.5555555555555556, \"#d8576b\"], [0.6666666666666666, \"#ed7953\"], [0.7777777777777778, \"#fb9f3a\"], [0.8888888888888888, \"#fdca26\"], [1.0, \"#f0f921\"]], \"type\": \"contour\"}], \"contourcarpet\": [{\"colorbar\": {\"outlinewidth\": 0, \"ticks\": \"\"}, \"type\": \"contourcarpet\"}], \"heatmap\": [{\"colorbar\": {\"outlinewidth\": 0, \"ticks\": \"\"}, \"colorscale\": [[0.0, \"#0d0887\"], [0.1111111111111111, \"#46039f\"], [0.2222222222222222, \"#7201a8\"], [0.3333333333333333, \"#9c179e\"], [0.4444444444444444, \"#bd3786\"], [0.5555555555555556, \"#d8576b\"], [0.6666666666666666, \"#ed7953\"], [0.7777777777777778, \"#fb9f3a\"], [0.8888888888888888, \"#fdca26\"], [1.0, \"#f0f921\"]], \"type\": \"heatmap\"}], \"heatmapgl\": [{\"colorbar\": {\"outlinewidth\": 0, \"ticks\": \"\"}, \"colorscale\": [[0.0, \"#0d0887\"], [0.1111111111111111, \"#46039f\"], [0.2222222222222222, \"#7201a8\"], [0.3333333333333333, \"#9c179e\"], [0.4444444444444444, \"#bd3786\"], [0.5555555555555556, \"#d8576b\"], [0.6666666666666666, \"#ed7953\"], [0.7777777777777778, \"#fb9f3a\"], [0.8888888888888888, \"#fdca26\"], [1.0, \"#f0f921\"]], \"type\": \"heatmapgl\"}], \"histogram\": [{\"marker\": {\"colorbar\": {\"outlinewidth\": 0, \"ticks\": \"\"}}, \"type\": \"histogram\"}], \"histogram2d\": [{\"colorbar\": {\"outlinewidth\": 0, \"ticks\": \"\"}, \"colorscale\": [[0.0, \"#0d0887\"], [0.1111111111111111, \"#46039f\"], [0.2222222222222222, \"#7201a8\"], [0.3333333333333333, \"#9c179e\"], [0.4444444444444444, \"#bd3786\"], [0.5555555555555556, \"#d8576b\"], [0.6666666666666666, \"#ed7953\"], [0.7777777777777778, \"#fb9f3a\"], [0.8888888888888888, \"#fdca26\"], [1.0, \"#f0f921\"]], \"type\": \"histogram2d\"}], \"histogram2dcontour\": [{\"colorbar\": {\"outlinewidth\": 0, \"ticks\": \"\"}, \"colorscale\": [[0.0, \"#0d0887\"], [0.1111111111111111, \"#46039f\"], [0.2222222222222222, \"#7201a8\"], [0.3333333333333333, \"#9c179e\"], [0.4444444444444444, \"#bd3786\"], [0.5555555555555556, \"#d8576b\"], [0.6666666666666666, \"#ed7953\"], [0.7777777777777778, \"#fb9f3a\"], [0.8888888888888888, \"#fdca26\"], [1.0, \"#f0f921\"]], \"type\": \"histogram2dcontour\"}], \"mesh3d\": [{\"colorbar\": {\"outlinewidth\": 0, \"ticks\": \"\"}, \"type\": \"mesh3d\"}], \"parcoords\": [{\"line\": {\"colorbar\": {\"outlinewidth\": 0, \"ticks\": \"\"}}, \"type\": \"parcoords\"}], \"pie\": [{\"automargin\": true, \"type\": \"pie\"}], \"scatter\": [{\"marker\": {\"colorbar\": {\"outlinewidth\": 0, \"ticks\": \"\"}}, \"type\": \"scatter\"}], \"scatter3d\": [{\"line\": {\"colorbar\": {\"outlinewidth\": 0, \"ticks\": \"\"}}, \"marker\": {\"colorbar\": {\"outlinewidth\": 0, \"ticks\": \"\"}}, \"type\": \"scatter3d\"}], \"scattercarpet\": [{\"marker\": {\"colorbar\": {\"outlinewidth\": 0, \"ticks\": \"\"}}, \"type\": \"scattercarpet\"}], \"scattergeo\": [{\"marker\": {\"colorbar\": {\"outlinewidth\": 0, \"ticks\": \"\"}}, \"type\": \"scattergeo\"}], \"scattergl\": [{\"marker\": {\"colorbar\": {\"outlinewidth\": 0, \"ticks\": \"\"}}, \"type\": \"scattergl\"}], \"scattermapbox\": [{\"marker\": {\"colorbar\": {\"outlinewidth\": 0, \"ticks\": \"\"}}, \"type\": \"scattermapbox\"}], \"scatterpolar\": [{\"marker\": {\"colorbar\": {\"outlinewidth\": 0, \"ticks\": \"\"}}, \"type\": \"scatterpolar\"}], \"scatterpolargl\": [{\"marker\": {\"colorbar\": {\"outlinewidth\": 0, \"ticks\": \"\"}}, \"type\": \"scatterpolargl\"}], \"scatterternary\": [{\"marker\": {\"colorbar\": {\"outlinewidth\": 0, \"ticks\": \"\"}}, \"type\": \"scatterternary\"}], \"surface\": [{\"colorbar\": {\"outlinewidth\": 0, \"ticks\": \"\"}, \"colorscale\": [[0.0, \"#0d0887\"], [0.1111111111111111, \"#46039f\"], [0.2222222222222222, \"#7201a8\"], [0.3333333333333333, \"#9c179e\"], [0.4444444444444444, \"#bd3786\"], [0.5555555555555556, \"#d8576b\"], [0.6666666666666666, \"#ed7953\"], [0.7777777777777778, \"#fb9f3a\"], [0.8888888888888888, \"#fdca26\"], [1.0, \"#f0f921\"]], \"type\": \"surface\"}], \"table\": [{\"cells\": {\"fill\": {\"color\": \"#EBF0F8\"}, \"line\": {\"color\": \"white\"}}, \"header\": {\"fill\": {\"color\": \"#C8D4E3\"}, \"line\": {\"color\": \"white\"}}, \"type\": \"table\"}]}, \"layout\": {\"annotationdefaults\": {\"arrowcolor\": \"#2a3f5f\", \"arrowhead\": 0, \"arrowwidth\": 1}, \"coloraxis\": {\"colorbar\": {\"outlinewidth\": 0, \"ticks\": \"\"}}, \"colorscale\": {\"diverging\": [[0, \"#8e0152\"], [0.1, \"#c51b7d\"], [0.2, \"#de77ae\"], [0.3, \"#f1b6da\"], [0.4, \"#fde0ef\"], [0.5, \"#f7f7f7\"], [0.6, \"#e6f5d0\"], [0.7, \"#b8e186\"], [0.8, \"#7fbc41\"], [0.9, \"#4d9221\"], [1, \"#276419\"]], \"sequential\": [[0.0, \"#0d0887\"], [0.1111111111111111, \"#46039f\"], [0.2222222222222222, \"#7201a8\"], [0.3333333333333333, \"#9c179e\"], [0.4444444444444444, \"#bd3786\"], [0.5555555555555556, \"#d8576b\"], [0.6666666666666666, \"#ed7953\"], [0.7777777777777778, \"#fb9f3a\"], [0.8888888888888888, \"#fdca26\"], [1.0, \"#f0f921\"]], \"sequentialminus\": [[0.0, \"#0d0887\"], [0.1111111111111111, \"#46039f\"], [0.2222222222222222, \"#7201a8\"], [0.3333333333333333, \"#9c179e\"], [0.4444444444444444, \"#bd3786\"], [0.5555555555555556, \"#d8576b\"], [0.6666666666666666, \"#ed7953\"], [0.7777777777777778, \"#fb9f3a\"], [0.8888888888888888, \"#fdca26\"], [1.0, \"#f0f921\"]]}, \"colorway\": [\"#636efa\", \"#EF553B\", \"#00cc96\", \"#ab63fa\", \"#FFA15A\", \"#19d3f3\", \"#FF6692\", \"#B6E880\", \"#FF97FF\", \"#FECB52\"], \"font\": {\"color\": \"#2a3f5f\"}, \"geo\": {\"bgcolor\": \"white\", \"lakecolor\": \"white\", \"landcolor\": \"#E5ECF6\", \"showlakes\": true, \"showland\": true, \"subunitcolor\": \"white\"}, \"hoverlabel\": {\"align\": \"left\"}, \"hovermode\": \"closest\", \"mapbox\": {\"style\": \"light\"}, \"paper_bgcolor\": \"white\", \"plot_bgcolor\": \"#E5ECF6\", \"polar\": {\"angularaxis\": {\"gridcolor\": \"white\", \"linecolor\": \"white\", \"ticks\": \"\"}, \"bgcolor\": \"#E5ECF6\", \"radialaxis\": {\"gridcolor\": \"white\", \"linecolor\": \"white\", \"ticks\": \"\"}}, \"scene\": {\"xaxis\": {\"backgroundcolor\": \"#E5ECF6\", \"gridcolor\": \"white\", \"gridwidth\": 2, \"linecolor\": \"white\", \"showbackground\": true, \"ticks\": \"\", \"zerolinecolor\": \"white\"}, \"yaxis\": {\"backgroundcolor\": \"#E5ECF6\", \"gridcolor\": \"white\", \"gridwidth\": 2, \"linecolor\": \"white\", \"showbackground\": true, \"ticks\": \"\", \"zerolinecolor\": \"white\"}, \"zaxis\": {\"backgroundcolor\": \"#E5ECF6\", \"gridcolor\": \"white\", \"gridwidth\": 2, \"linecolor\": \"white\", \"showbackground\": true, \"ticks\": \"\", \"zerolinecolor\": \"white\"}}, \"shapedefaults\": {\"line\": {\"color\": \"#2a3f5f\"}}, \"ternary\": {\"aaxis\": {\"gridcolor\": \"white\", \"linecolor\": \"white\", \"ticks\": \"\"}, \"baxis\": {\"gridcolor\": \"white\", \"linecolor\": \"white\", \"ticks\": \"\"}, \"bgcolor\": \"#E5ECF6\", \"caxis\": {\"gridcolor\": \"white\", \"linecolor\": \"white\", \"ticks\": \"\"}}, \"title\": {\"x\": 0.05}, \"xaxis\": {\"automargin\": true, \"gridcolor\": \"white\", \"linecolor\": \"white\", \"ticks\": \"\", \"title\": {\"standoff\": 15}, \"zerolinecolor\": \"white\", \"zerolinewidth\": 2}, \"yaxis\": {\"automargin\": true, \"gridcolor\": \"white\", \"linecolor\": \"white\", \"ticks\": \"\", \"title\": {\"standoff\": 15}, \"zerolinecolor\": \"white\", \"zerolinewidth\": 2}}}, \"xaxis\": {\"anchor\": \"y\", \"domain\": [0.0, 1.0], \"title\": {\"text\": \"ret_spy\"}}, \"yaxis\": {\"anchor\": \"x\", \"domain\": [0.0, 1.0], \"title\": {\"text\": \"ret_meli\"}}},\n",
              "                        {\"responsive\": true}\n",
              "                    ).then(function(){\n",
              "                            \n",
              "var gd = document.getElementById('f862f070-2bd9-48e5-9b0e-1845894114d0');\n",
              "var x = new MutationObserver(function (mutations, observer) {{\n",
              "        var display = window.getComputedStyle(gd).display;\n",
              "        if (!display || display === 'none') {{\n",
              "            console.log([gd, 'removed!']);\n",
              "            Plotly.purge(gd);\n",
              "            observer.disconnect();\n",
              "        }}\n",
              "}});\n",
              "\n",
              "// Listen for the removal of the full notebook cells\n",
              "var notebookContainer = gd.closest('#notebook-container');\n",
              "if (notebookContainer) {{\n",
              "    x.observe(notebookContainer, {childList: true});\n",
              "}}\n",
              "\n",
              "// Listen for the clearing of the current output cell\n",
              "var outputEl = gd.closest('.output');\n",
              "if (outputEl) {{\n",
              "    x.observe(outputEl, {childList: true});\n",
              "}}\n",
              "\n",
              "                        })\n",
              "                };\n",
              "                \n",
              "            </script>\n",
              "        </div>\n",
              "</body>\n",
              "</html>"
            ]
          },
          "metadata": {}
        }
      ]
    },
    {
      "cell_type": "markdown",
      "metadata": {
        "id": "VopBBMtfSOeG"
      },
      "source": [
        "A primera vista podemos observar que hay una relación directa entre los rendimientos diarios analizados."
      ],
      "id": "VopBBMtfSOeG"
    },
    {
      "cell_type": "markdown",
      "metadata": {
        "id": "SGRGDCihSQXB"
      },
      "source": [
        "Calculamos alfa y beta para Meli:"
      ],
      "id": "SGRGDCihSQXB"
    },
    {
      "cell_type": "code",
      "metadata": {
        "colab": {
          "base_uri": "https://localhost:8080/"
        },
        "id": "KhnkmFpNST0J",
        "outputId": "29ca20fe-effb-4b39-f967-476d32cee5c9"
      },
      "source": [
        "beta, alpha = np.polyfit(df_fil[\"ret_spy\"], df_fil[\"ret_meli\"],1)\n",
        "print(' El parametro beta para {} es = {} '.format('MELI',beta))\n",
        "print(' El parametro alfa para {} es = {} '.format('MELI',alpha))"
      ],
      "id": "KhnkmFpNST0J",
      "execution_count": 10,
      "outputs": [
        {
          "output_type": "stream",
          "text": [
            " El parametro beta para MELI es = 1.0442354184300864 \n",
            " El parametro alfa para MELI es = 0.003918557738519662 \n"
          ],
          "name": "stdout"
        }
      ]
    },
    {
      "cell_type": "markdown",
      "metadata": {
        "id": "2lRmfuD9SWLA"
      },
      "source": [
        "Ahora trabajamos sobre los retornos del sp500."
      ],
      "id": "2lRmfuD9SWLA"
    },
    {
      "cell_type": "code",
      "metadata": {
        "colab": {
          "base_uri": "https://localhost:8080/"
        },
        "id": "Q3KfjTqjSX3F",
        "outputId": "2fa3fd09-a589-404d-cdf4-909893a1a986"
      },
      "source": [
        "#Promediamos sus rendimientos diarios:\n",
        "spy_mean=df['ret_spy'].mean()\n",
        "#Anualizamos este resultado:\n",
        "rm=spy_mean*252\n",
        "rm"
      ],
      "id": "Q3KfjTqjSX3F",
      "execution_count": 11,
      "outputs": [
        {
          "output_type": "execute_result",
          "data": {
            "text/plain": [
              "0.21109683921507685"
            ]
          },
          "metadata": {},
          "execution_count": 11
        }
      ]
    },
    {
      "cell_type": "code",
      "metadata": {
        "colab": {
          "base_uri": "https://localhost:8080/"
        },
        "id": "ZjfW-rvoSZeW",
        "outputId": "560fba95-7c6c-44de-e71e-73dd0461031b"
      },
      "source": [
        "#Aplicamos formula\n",
        "ER_meli=alpha + beta*rm\n",
        "ER_meli"
      ],
      "id": "ZjfW-rvoSZeW",
      "execution_count": 12,
      "outputs": [
        {
          "output_type": "execute_result",
          "data": {
            "text/plain": [
              "0.2243533539655441"
            ]
          },
          "metadata": {},
          "execution_count": 12
        }
      ]
    },
    {
      "cell_type": "markdown",
      "metadata": {
        "id": "D2T-xyxgSccl"
      },
      "source": [
        "Esto quiere decir que el modelo CAPM aplicado a nuestra acción de Meli, durante el período de tiempo analizado, indica que su rentabilidad esperada es del 22%."
      ],
      "id": "D2T-xyxgSccl"
    },
    {
      "cell_type": "markdown",
      "metadata": {
        "id": "5515Ns09mKWe"
      },
      "source": [
        "Utilizamos este método para las acciones principales del Nasdaq.\n",
        "Nuestro criterio será analizar las diez acciones con mayor capitalización de mercado."
      ],
      "id": "5515Ns09mKWe"
    },
    {
      "cell_type": "code",
      "metadata": {
        "colab": {
          "base_uri": "https://localhost:8080/",
          "height": 486
        },
        "id": "jlhOaCSb_cnD",
        "outputId": "3dad818f-eb1f-4e2f-fd65-32d2cf4df549"
      },
      "source": [
        "#Descargo info de acciones que componen el nasdaq y los transformo en df.\n",
        "df_nasdaq=pd.read_csv('https://docs.google.com/spreadsheets/d/e/2PACX-1vQ4GS94-nvAEEpweAwIhzj_t7Q_j2MicJ9-oDROQehHiFQaxgN1Xqj0nrtkZWM7-U1RuwhrJlSChj3x/pub?output=csv')\n",
        "df_nasdaq.head()\n"
      ],
      "id": "jlhOaCSb_cnD",
      "execution_count": 13,
      "outputs": [
        {
          "output_type": "execute_result",
          "data": {
            "text/html": [
              "<div>\n",
              "<style scoped>\n",
              "    .dataframe tbody tr th:only-of-type {\n",
              "        vertical-align: middle;\n",
              "    }\n",
              "\n",
              "    .dataframe tbody tr th {\n",
              "        vertical-align: top;\n",
              "    }\n",
              "\n",
              "    .dataframe thead th {\n",
              "        text-align: right;\n",
              "    }\n",
              "</style>\n",
              "<table border=\"1\" class=\"dataframe\">\n",
              "  <thead>\n",
              "    <tr style=\"text-align: right;\">\n",
              "      <th></th>\n",
              "      <th>Symbol</th>\n",
              "      <th>Name</th>\n",
              "      <th>Last Sale</th>\n",
              "      <th>Net Change</th>\n",
              "      <th>% Change</th>\n",
              "      <th>Market Cap</th>\n",
              "      <th>Country</th>\n",
              "      <th>IPO Year</th>\n",
              "      <th>Volume</th>\n",
              "      <th>Sector</th>\n",
              "      <th>Industry</th>\n",
              "    </tr>\n",
              "  </thead>\n",
              "  <tbody>\n",
              "    <tr>\n",
              "      <th>0</th>\n",
              "      <td>AACG</td>\n",
              "      <td>ATA Creativity Global American Depositary Shares</td>\n",
              "      <td>$2.88</td>\n",
              "      <td>-0.19</td>\n",
              "      <td>-6189%</td>\n",
              "      <td>9.129942e+07</td>\n",
              "      <td>China</td>\n",
              "      <td>NaN</td>\n",
              "      <td>123541</td>\n",
              "      <td>Miscellaneous</td>\n",
              "      <td>Service to the Health Industry</td>\n",
              "    </tr>\n",
              "    <tr>\n",
              "      <th>1</th>\n",
              "      <td>AAL</td>\n",
              "      <td>American Airlines Group Inc. Common Stock</td>\n",
              "      <td>$19.95</td>\n",
              "      <td>-0.11</td>\n",
              "      <td>-548%</td>\n",
              "      <td>1.291678e+10</td>\n",
              "      <td>United States</td>\n",
              "      <td>NaN</td>\n",
              "      <td>36473865</td>\n",
              "      <td>Transportation</td>\n",
              "      <td>Air Freight/Delivery Services</td>\n",
              "    </tr>\n",
              "    <tr>\n",
              "      <th>2</th>\n",
              "      <td>AAME</td>\n",
              "      <td>Atlantic American Corporation Common Stock</td>\n",
              "      <td>$4.25</td>\n",
              "      <td>0.04</td>\n",
              "      <td>0.95%</td>\n",
              "      <td>8.676707e+07</td>\n",
              "      <td>United States</td>\n",
              "      <td>NaN</td>\n",
              "      <td>30376</td>\n",
              "      <td>Finance</td>\n",
              "      <td>Life Insurance</td>\n",
              "    </tr>\n",
              "    <tr>\n",
              "      <th>3</th>\n",
              "      <td>AAOI</td>\n",
              "      <td>Applied Optoelectronics Inc. Common Stock</td>\n",
              "      <td>$7.62</td>\n",
              "      <td>-0.02</td>\n",
              "      <td>-262%</td>\n",
              "      <td>2.046891e+08</td>\n",
              "      <td>United States</td>\n",
              "      <td>2013.0</td>\n",
              "      <td>671346</td>\n",
              "      <td>Technology</td>\n",
              "      <td>Semiconductors</td>\n",
              "    </tr>\n",
              "    <tr>\n",
              "      <th>4</th>\n",
              "      <td>AAON</td>\n",
              "      <td>AAON Inc. Common Stock</td>\n",
              "      <td>$62.98</td>\n",
              "      <td>1.14</td>\n",
              "      <td>1843%</td>\n",
              "      <td>3.302367e+09</td>\n",
              "      <td>United States</td>\n",
              "      <td>NaN</td>\n",
              "      <td>193697</td>\n",
              "      <td>Capital Goods</td>\n",
              "      <td>Industrial Machinery/Components</td>\n",
              "    </tr>\n",
              "  </tbody>\n",
              "</table>\n",
              "</div>"
            ],
            "text/plain": [
              "  Symbol  ...                         Industry\n",
              "0   AACG  ...   Service to the Health Industry\n",
              "1    AAL  ...    Air Freight/Delivery Services\n",
              "2   AAME  ...                   Life Insurance\n",
              "3   AAOI  ...                   Semiconductors\n",
              "4   AAON  ...  Industrial Machinery/Components\n",
              "\n",
              "[5 rows x 11 columns]"
            ]
          },
          "metadata": {},
          "execution_count": 13
        }
      ]
    },
    {
      "cell_type": "code",
      "metadata": {
        "id": "wbgJHyCE_Pg7"
      },
      "source": [
        "#Ordeno y me quedo con diez acciones con valores de mark cap mas altos.\n",
        "df_nasd_mc = df_nasdaq.sort_values('Market Cap',ascending=False)\n",
        "df_nasdaq= df_nasd_mc[:10]\n"
      ],
      "id": "wbgJHyCE_Pg7",
      "execution_count": 14,
      "outputs": []
    },
    {
      "cell_type": "code",
      "metadata": {
        "colab": {
          "base_uri": "https://localhost:8080/"
        },
        "id": "xRusrWx8GV61",
        "outputId": "dd0c8ce9-57c8-4bbb-a010-3d1c84368218"
      },
      "source": [
        "#Obtengo la lista de tickers a analizar\n",
        "nasd_tickers=df_nasdaq['Symbol'].tolist()\n",
        "nasd_tickers\n"
      ],
      "id": "xRusrWx8GV61",
      "execution_count": 15,
      "outputs": [
        {
          "output_type": "execute_result",
          "data": {
            "text/plain": [
              "['AAPL', 'MSFT', 'GOOG', 'GOOGL', 'AMZN', 'FB', 'TSLA', 'NVDA', 'PYPL', 'ASML']"
            ]
          },
          "metadata": {},
          "execution_count": 15
        }
      ]
    },
    {
      "cell_type": "code",
      "metadata": {
        "id": "SyoW11epmpri"
      },
      "source": [
        "#Agrego a mi  lista el ticker deñ indice nasdq\n",
        "nasd_tickers.append('^IXIC')"
      ],
      "id": "SyoW11epmpri",
      "execution_count": 16,
      "outputs": []
    },
    {
      "cell_type": "code",
      "metadata": {
        "colab": {
          "base_uri": "https://localhost:8080/",
          "height": 361
        },
        "id": "GZueVemYW1Ay",
        "outputId": "e5473187-72c1-4874-8d06-98d381d862b9"
      },
      "source": [
        "#Creamos un data frame con el cierre ajustado de nuestras compañías.\n",
        "df_tickers = data.DataReader(\n",
        "    nasd_tickers,\n",
        "    start=start_date, \n",
        "    end=end_date, \n",
        "    data_source='yahoo',\n",
        ")['Adj Close']\n",
        "\n",
        "df_tickers.head()"
      ],
      "id": "GZueVemYW1Ay",
      "execution_count": 17,
      "outputs": [
        {
          "output_type": "stream",
          "text": [
            "[*********************100%***********************]  11 of 11 completed\n"
          ],
          "name": "stdout"
        },
        {
          "output_type": "execute_result",
          "data": {
            "text/html": [
              "<div>\n",
              "<style scoped>\n",
              "    .dataframe tbody tr th:only-of-type {\n",
              "        vertical-align: middle;\n",
              "    }\n",
              "\n",
              "    .dataframe tbody tr th {\n",
              "        vertical-align: top;\n",
              "    }\n",
              "\n",
              "    .dataframe thead th {\n",
              "        text-align: right;\n",
              "    }\n",
              "</style>\n",
              "<table border=\"1\" class=\"dataframe\">\n",
              "  <thead>\n",
              "    <tr style=\"text-align: right;\">\n",
              "      <th></th>\n",
              "      <th>AAPL</th>\n",
              "      <th>AMZN</th>\n",
              "      <th>ASML</th>\n",
              "      <th>FB</th>\n",
              "      <th>GOOG</th>\n",
              "      <th>GOOGL</th>\n",
              "      <th>MSFT</th>\n",
              "      <th>NVDA</th>\n",
              "      <th>PYPL</th>\n",
              "      <th>TSLA</th>\n",
              "      <th>^IXIC</th>\n",
              "    </tr>\n",
              "    <tr>\n",
              "      <th>Date</th>\n",
              "      <th></th>\n",
              "      <th></th>\n",
              "      <th></th>\n",
              "      <th></th>\n",
              "      <th></th>\n",
              "      <th></th>\n",
              "      <th></th>\n",
              "      <th></th>\n",
              "      <th></th>\n",
              "      <th></th>\n",
              "      <th></th>\n",
              "    </tr>\n",
              "  </thead>\n",
              "  <tbody>\n",
              "    <tr>\n",
              "      <th>2020-01-02</th>\n",
              "      <td>74.096443</td>\n",
              "      <td>1898.010010</td>\n",
              "      <td>299.266418</td>\n",
              "      <td>209.779999</td>\n",
              "      <td>1367.369995</td>\n",
              "      <td>1368.680054</td>\n",
              "      <td>157.903488</td>\n",
              "      <td>59.844322</td>\n",
              "      <td>110.750000</td>\n",
              "      <td>86.052002</td>\n",
              "      <td>9092.190430</td>\n",
              "    </tr>\n",
              "    <tr>\n",
              "      <th>2020-01-03</th>\n",
              "      <td>73.376083</td>\n",
              "      <td>1874.969971</td>\n",
              "      <td>294.443878</td>\n",
              "      <td>208.669998</td>\n",
              "      <td>1360.660034</td>\n",
              "      <td>1361.520020</td>\n",
              "      <td>155.937286</td>\n",
              "      <td>58.886452</td>\n",
              "      <td>108.760002</td>\n",
              "      <td>88.601997</td>\n",
              "      <td>9020.769531</td>\n",
              "    </tr>\n",
              "    <tr>\n",
              "      <th>2020-01-06</th>\n",
              "      <td>73.960770</td>\n",
              "      <td>1902.880005</td>\n",
              "      <td>292.101746</td>\n",
              "      <td>212.600006</td>\n",
              "      <td>1394.209961</td>\n",
              "      <td>1397.810059</td>\n",
              "      <td>156.340347</td>\n",
              "      <td>59.133400</td>\n",
              "      <td>110.169998</td>\n",
              "      <td>90.307999</td>\n",
              "      <td>9071.469727</td>\n",
              "    </tr>\n",
              "    <tr>\n",
              "      <th>2020-01-07</th>\n",
              "      <td>73.612930</td>\n",
              "      <td>1906.859985</td>\n",
              "      <td>295.274017</td>\n",
              "      <td>213.059998</td>\n",
              "      <td>1393.339966</td>\n",
              "      <td>1395.109985</td>\n",
              "      <td>154.914871</td>\n",
              "      <td>59.849308</td>\n",
              "      <td>109.669998</td>\n",
              "      <td>93.811996</td>\n",
              "      <td>9068.580078</td>\n",
              "    </tr>\n",
              "    <tr>\n",
              "      <th>2020-01-08</th>\n",
              "      <td>74.797081</td>\n",
              "      <td>1891.969971</td>\n",
              "      <td>298.337524</td>\n",
              "      <td>215.220001</td>\n",
              "      <td>1404.319946</td>\n",
              "      <td>1405.040039</td>\n",
              "      <td>157.382431</td>\n",
              "      <td>59.961559</td>\n",
              "      <td>111.820000</td>\n",
              "      <td>98.428001</td>\n",
              "      <td>9129.240234</td>\n",
              "    </tr>\n",
              "  </tbody>\n",
              "</table>\n",
              "</div>"
            ],
            "text/plain": [
              "                 AAPL         AMZN  ...       TSLA        ^IXIC\n",
              "Date                                ...                        \n",
              "2020-01-02  74.096443  1898.010010  ...  86.052002  9092.190430\n",
              "2020-01-03  73.376083  1874.969971  ...  88.601997  9020.769531\n",
              "2020-01-06  73.960770  1902.880005  ...  90.307999  9071.469727\n",
              "2020-01-07  73.612930  1906.859985  ...  93.811996  9068.580078\n",
              "2020-01-08  74.797081  1891.969971  ...  98.428001  9129.240234\n",
              "\n",
              "[5 rows x 11 columns]"
            ]
          },
          "metadata": {},
          "execution_count": 17
        }
      ]
    },
    {
      "cell_type": "code",
      "metadata": {
        "id": "FOAnn9Y5n_Tp"
      },
      "source": [
        "#Obtengo rendimiento diario para cada ticker\n",
        "#Defino una función que me permita recorrer las filas de cada columna  y calcular el rednimiento diario.\n",
        "\n",
        "def retorno_diario(df): #Defino la fucion retorno diario que aplico sobre mi df\n",
        "  df_retorno_diario = df.copy()\n",
        "  for i in df.columns:\n",
        "     for j in range(1, len(df)): #Para cada fila \"j\" en el rango definido opero:\n",
        "         df_retorno_diario[i][j] = ((df[i][j]- df[i][j-1])/df[i][j-1]) * 100 \n",
        "     df_retorno_diario[i][0] = 0 #La primer fila de cada columna le asigno el valor cero ya que tendrá el valor \"NA\".\n",
        "  return df_retorno_diario"
      ],
      "id": "FOAnn9Y5n_Tp",
      "execution_count": 18,
      "outputs": []
    },
    {
      "cell_type": "code",
      "metadata": {
        "colab": {
          "base_uri": "https://localhost:8080/",
          "height": 648
        },
        "id": "KveiLAiPtoBx",
        "outputId": "2ddd81fc-83da-4835-8fe3-9c36d1ded377"
      },
      "source": [
        "nasd_rd=retorno_diario(df_tickers)\n",
        "nasd_rd"
      ],
      "id": "KveiLAiPtoBx",
      "execution_count": 19,
      "outputs": [
        {
          "output_type": "execute_result",
          "data": {
            "text/html": [
              "<div>\n",
              "<style scoped>\n",
              "    .dataframe tbody tr th:only-of-type {\n",
              "        vertical-align: middle;\n",
              "    }\n",
              "\n",
              "    .dataframe tbody tr th {\n",
              "        vertical-align: top;\n",
              "    }\n",
              "\n",
              "    .dataframe thead th {\n",
              "        text-align: right;\n",
              "    }\n",
              "</style>\n",
              "<table border=\"1\" class=\"dataframe\">\n",
              "  <thead>\n",
              "    <tr style=\"text-align: right;\">\n",
              "      <th></th>\n",
              "      <th>AAPL</th>\n",
              "      <th>AMZN</th>\n",
              "      <th>ASML</th>\n",
              "      <th>FB</th>\n",
              "      <th>GOOG</th>\n",
              "      <th>GOOGL</th>\n",
              "      <th>MSFT</th>\n",
              "      <th>NVDA</th>\n",
              "      <th>PYPL</th>\n",
              "      <th>TSLA</th>\n",
              "      <th>^IXIC</th>\n",
              "    </tr>\n",
              "    <tr>\n",
              "      <th>Date</th>\n",
              "      <th></th>\n",
              "      <th></th>\n",
              "      <th></th>\n",
              "      <th></th>\n",
              "      <th></th>\n",
              "      <th></th>\n",
              "      <th></th>\n",
              "      <th></th>\n",
              "      <th></th>\n",
              "      <th></th>\n",
              "      <th></th>\n",
              "    </tr>\n",
              "  </thead>\n",
              "  <tbody>\n",
              "    <tr>\n",
              "      <th>2020-01-02</th>\n",
              "      <td>0.000000</td>\n",
              "      <td>0.000000</td>\n",
              "      <td>0.000000</td>\n",
              "      <td>0.000000</td>\n",
              "      <td>0.000000</td>\n",
              "      <td>0.000000</td>\n",
              "      <td>0.000000</td>\n",
              "      <td>0.000000</td>\n",
              "      <td>0.000000</td>\n",
              "      <td>0.000000</td>\n",
              "      <td>0.000000</td>\n",
              "    </tr>\n",
              "    <tr>\n",
              "      <th>2020-01-03</th>\n",
              "      <td>-0.972192</td>\n",
              "      <td>-1.213905</td>\n",
              "      <td>-1.611454</td>\n",
              "      <td>-0.529126</td>\n",
              "      <td>-0.490720</td>\n",
              "      <td>-0.523134</td>\n",
              "      <td>-1.245192</td>\n",
              "      <td>-1.600604</td>\n",
              "      <td>-1.796838</td>\n",
              "      <td>2.963319</td>\n",
              "      <td>-0.785519</td>\n",
              "    </tr>\n",
              "    <tr>\n",
              "      <th>2020-01-06</th>\n",
              "      <td>0.796835</td>\n",
              "      <td>1.488559</td>\n",
              "      <td>-0.795443</td>\n",
              "      <td>1.883360</td>\n",
              "      <td>2.465710</td>\n",
              "      <td>2.665406</td>\n",
              "      <td>0.258476</td>\n",
              "      <td>0.419363</td>\n",
              "      <td>1.296429</td>\n",
              "      <td>1.925466</td>\n",
              "      <td>0.562038</td>\n",
              "    </tr>\n",
              "    <tr>\n",
              "      <th>2020-01-07</th>\n",
              "      <td>-0.470303</td>\n",
              "      <td>0.209156</td>\n",
              "      <td>1.086016</td>\n",
              "      <td>0.216365</td>\n",
              "      <td>-0.062401</td>\n",
              "      <td>-0.193165</td>\n",
              "      <td>-0.911777</td>\n",
              "      <td>1.210666</td>\n",
              "      <td>-0.453844</td>\n",
              "      <td>3.880053</td>\n",
              "      <td>-0.031854</td>\n",
              "    </tr>\n",
              "    <tr>\n",
              "      <th>2020-01-08</th>\n",
              "      <td>1.608618</td>\n",
              "      <td>-0.780866</td>\n",
              "      <td>1.037513</td>\n",
              "      <td>1.013801</td>\n",
              "      <td>0.788033</td>\n",
              "      <td>0.711776</td>\n",
              "      <td>1.592849</td>\n",
              "      <td>0.187557</td>\n",
              "      <td>1.960428</td>\n",
              "      <td>4.920485</td>\n",
              "      <td>0.668905</td>\n",
              "    </tr>\n",
              "    <tr>\n",
              "      <th>...</th>\n",
              "      <td>...</td>\n",
              "      <td>...</td>\n",
              "      <td>...</td>\n",
              "      <td>...</td>\n",
              "      <td>...</td>\n",
              "      <td>...</td>\n",
              "      <td>...</td>\n",
              "      <td>...</td>\n",
              "      <td>...</td>\n",
              "      <td>...</td>\n",
              "      <td>...</td>\n",
              "    </tr>\n",
              "    <tr>\n",
              "      <th>2020-12-23</th>\n",
              "      <td>-0.697602</td>\n",
              "      <td>-0.662712</td>\n",
              "      <td>-0.327612</td>\n",
              "      <td>0.381890</td>\n",
              "      <td>0.515231</td>\n",
              "      <td>0.465639</td>\n",
              "      <td>-1.303924</td>\n",
              "      <td>-2.025874</td>\n",
              "      <td>-1.663314</td>\n",
              "      <td>0.880775</td>\n",
              "      <td>-0.287397</td>\n",
              "    </tr>\n",
              "    <tr>\n",
              "      <th>2020-12-24</th>\n",
              "      <td>0.771218</td>\n",
              "      <td>-0.394945</td>\n",
              "      <td>1.784590</td>\n",
              "      <td>-0.264814</td>\n",
              "      <td>0.373473</td>\n",
              "      <td>0.343129</td>\n",
              "      <td>0.782731</td>\n",
              "      <td>-0.119131</td>\n",
              "      <td>-0.334114</td>\n",
              "      <td>2.444354</td>\n",
              "      <td>0.263251</td>\n",
              "    </tr>\n",
              "    <tr>\n",
              "      <th>2020-12-28</th>\n",
              "      <td>3.576578</td>\n",
              "      <td>3.507119</td>\n",
              "      <td>-0.589958</td>\n",
              "      <td>3.590130</td>\n",
              "      <td>2.141645</td>\n",
              "      <td>2.295055</td>\n",
              "      <td>0.992148</td>\n",
              "      <td>-0.721504</td>\n",
              "      <td>-1.219412</td>\n",
              "      <td>0.290128</td>\n",
              "      <td>0.739488</td>\n",
              "    </tr>\n",
              "    <tr>\n",
              "      <th>2020-12-29</th>\n",
              "      <td>-1.331483</td>\n",
              "      <td>1.158359</td>\n",
              "      <td>0.785031</td>\n",
              "      <td>-0.079423</td>\n",
              "      <td>-0.977991</td>\n",
              "      <td>-0.913208</td>\n",
              "      <td>-0.360069</td>\n",
              "      <td>0.335259</td>\n",
              "      <td>-1.993805</td>\n",
              "      <td>0.346545</td>\n",
              "      <td>-0.381414</td>\n",
              "    </tr>\n",
              "    <tr>\n",
              "      <th>2020-12-30</th>\n",
              "      <td>-0.852674</td>\n",
              "      <td>-1.088197</td>\n",
              "      <td>1.218979</td>\n",
              "      <td>-1.773973</td>\n",
              "      <td>-1.091700</td>\n",
              "      <td>-1.223717</td>\n",
              "      <td>-1.101934</td>\n",
              "      <td>1.564531</td>\n",
              "      <td>0.207763</td>\n",
              "      <td>4.322894</td>\n",
              "      <td>0.153929</td>\n",
              "    </tr>\n",
              "  </tbody>\n",
              "</table>\n",
              "<p>252 rows × 11 columns</p>\n",
              "</div>"
            ],
            "text/plain": [
              "                AAPL      AMZN      ASML  ...      PYPL      TSLA     ^IXIC\n",
              "Date                                      ...                              \n",
              "2020-01-02  0.000000  0.000000  0.000000  ...  0.000000  0.000000  0.000000\n",
              "2020-01-03 -0.972192 -1.213905 -1.611454  ... -1.796838  2.963319 -0.785519\n",
              "2020-01-06  0.796835  1.488559 -0.795443  ...  1.296429  1.925466  0.562038\n",
              "2020-01-07 -0.470303  0.209156  1.086016  ... -0.453844  3.880053 -0.031854\n",
              "2020-01-08  1.608618 -0.780866  1.037513  ...  1.960428  4.920485  0.668905\n",
              "...              ...       ...       ...  ...       ...       ...       ...\n",
              "2020-12-23 -0.697602 -0.662712 -0.327612  ... -1.663314  0.880775 -0.287397\n",
              "2020-12-24  0.771218 -0.394945  1.784590  ... -0.334114  2.444354  0.263251\n",
              "2020-12-28  3.576578  3.507119 -0.589958  ... -1.219412  0.290128  0.739488\n",
              "2020-12-29 -1.331483  1.158359  0.785031  ... -1.993805  0.346545 -0.381414\n",
              "2020-12-30 -0.852674 -1.088197  1.218979  ...  0.207763  4.322894  0.153929\n",
              "\n",
              "[252 rows x 11 columns]"
            ]
          },
          "metadata": {},
          "execution_count": 19
        }
      ]
    },
    {
      "cell_type": "code",
      "metadata": {
        "colab": {
          "base_uri": "https://localhost:8080/"
        },
        "id": "_knSjjOJlAZg",
        "outputId": "60b55844-8a7a-4dfa-c432-a36668493042"
      },
      "source": [
        "nasd_rd.info()"
      ],
      "id": "_knSjjOJlAZg",
      "execution_count": 20,
      "outputs": [
        {
          "output_type": "stream",
          "text": [
            "<class 'pandas.core.frame.DataFrame'>\n",
            "DatetimeIndex: 252 entries, 2020-01-02 to 2020-12-30\n",
            "Data columns (total 11 columns):\n",
            " #   Column  Non-Null Count  Dtype  \n",
            "---  ------  --------------  -----  \n",
            " 0   AAPL    252 non-null    float64\n",
            " 1   AMZN    252 non-null    float64\n",
            " 2   ASML    252 non-null    float64\n",
            " 3   FB      252 non-null    float64\n",
            " 4   GOOG    252 non-null    float64\n",
            " 5   GOOGL   252 non-null    float64\n",
            " 6   MSFT    252 non-null    float64\n",
            " 7   NVDA    252 non-null    float64\n",
            " 8   PYPL    252 non-null    float64\n",
            " 9   TSLA    252 non-null    float64\n",
            " 10  ^IXIC   252 non-null    float64\n",
            "dtypes: float64(11)\n",
            "memory usage: 23.6 KB\n"
          ],
          "name": "stdout"
        }
      ]
    },
    {
      "cell_type": "code",
      "metadata": {
        "colab": {
          "base_uri": "https://localhost:8080/",
          "height": 1000
        },
        "id": "9--z8XaiwjHO",
        "outputId": "b717ebbd-3c2b-4179-af11-325db21bc38e"
      },
      "source": [
        "#Visualizar  relación entre rendimientos de  nasdaq y estas acciones\n",
        "#Sacamos fila 1.\n",
        "nasd_rdf=nasd_rd.iloc[1:]\n",
        "#Definimos una lista con las columnas del df anterior.\n",
        "col_nasd=list(nasd_rdf.select_dtypes(include=['float64']).drop(['^IXIC'], axis = 1).columns)\n",
        "#Aplicamos una función que nos permita graficar la relación entre rendimientos nasdaq y sus componentes.\n",
        "\n",
        "for i in nasd_rd.columns:\n",
        "  if i!= 'Date' and i != '^IXIC':\n",
        " # Use plotly express to plot the scatter plot for every stock vs. the S&P500\n",
        "   fig = px.scatter(nasd_rd, x = '^IXIC', y = i, title = i)\n",
        "    \n",
        "   fig.show()"
      ],
      "id": "9--z8XaiwjHO",
      "execution_count": null,
      "outputs": [
        {
          "output_type": "display_data",
          "data": {
            "text/html": [
              "<html>\n",
              "<head><meta charset=\"utf-8\" /></head>\n",
              "<body>\n",
              "    <div>\n",
              "            <script src=\"https://cdnjs.cloudflare.com/ajax/libs/mathjax/2.7.5/MathJax.js?config=TeX-AMS-MML_SVG\"></script><script type=\"text/javascript\">if (window.MathJax) {MathJax.Hub.Config({SVG: {font: \"STIX-Web\"}});}</script>\n",
              "                <script type=\"text/javascript\">window.PlotlyConfig = {MathJaxConfig: 'local'};</script>\n",
              "        <script src=\"https://cdn.plot.ly/plotly-latest.min.js\"></script>    \n",
              "            <div id=\"82d2b0a2-8f37-4a39-b06c-8f1b6568ba53\" class=\"plotly-graph-div\" style=\"height:525px; width:100%;\"></div>\n",
              "            <script type=\"text/javascript\">\n",
              "                \n",
              "                    window.PLOTLYENV=window.PLOTLYENV || {};\n",
              "                    \n",
              "                if (document.getElementById(\"82d2b0a2-8f37-4a39-b06c-8f1b6568ba53\")) {\n",
              "                    Plotly.newPlot(\n",
              "                        '82d2b0a2-8f37-4a39-b06c-8f1b6568ba53',\n",
              "                        [{\"hoverlabel\": {\"namelength\": 0}, \"hovertemplate\": \"^IXIC=%{x}<br>AAPL=%{y}\", \"legendgroup\": \"\", \"marker\": {\"color\": \"#636efa\", \"symbol\": \"circle\"}, \"mode\": \"markers\", \"name\": \"\", \"showlegend\": false, \"type\": \"scatter\", \"x\": [0.0, -0.7855191660339514, 0.5620384728471665, -0.031854247708491115, 0.6689046766684335, 0.8126574744484102, -0.2669584793033168, 1.0357422631592443, -0.24368967780143092, 0.0796654872895177, 1.063104814105905, 0.33996051431786484, -0.19310868474221926, 0.13830140117838088, 0.19939681423002234, -0.9313533039610973, -1.8851559810233676, 1.4264766521421406, 0.05912252564012881, 0.256270844379793, -1.591465499641676, 1.3382226873668104, 2.0981444534002978, 0.42997561370826654, 0.6675027996624794, -0.5394882329740349, 1.1331313707803117, 0.10957991559587729, 0.9027914622439598, -0.1438442521991573, 0.19779675470939986, 0.01603656416913738, 0.8675814939226352, -0.6744295515116596, -1.7883337524623202, -3.7101888679547743, -2.7726076455074673, 0.16920121754294432, -4.613182731047064, 0.010385226940578262, 4.491457698501092, -2.9945821009265603, 3.846114054662644, -3.0993259641753057, -1.8649430797928905, -7.287402343694397, 4.950140308971453, -4.700245022770171, -9.434674309481181, 9.345998172386109, -12.321331290147407, 6.230492341201929, -4.702798877538514, 2.2996268579562185, -3.7907422283539605, -0.274003093278801, 8.121509236724387, -0.4524223861369213, 5.59620065957612, -3.7852983732224246, 3.6224507926325984, -0.952513208745505, -4.409293583528775, 1.7217390358319775, -1.52564779039222, 7.3261127035984215, -0.32831644156512807, 2.581887027561507, 0.7746996815903381, 0.47635325069293516, 3.946578856836743, -1.4392236435332642, 1.6582590775434294, 1.3803835283800632, -1.0336154480887512, -3.475170735558033, 2.8094268330097516, -0.007414416084845749, 1.6453636805085496, 1.1076542783169119, -1.4023761913732073, 3.5663232405100977, -0.2822319106313816, -3.2015075636893258, 1.2290572661607275, 1.1297604522629348, 0.5138939036791482, 1.4147842232649654, 1.5775670101657695, 0.7786102101104126, -2.0646542913830683, -1.5482267339407207, 0.9088148528970065, 0.7920624294565988, 2.443497168047047, -0.5385098407798431, 2.07597818392603, -0.9695234740358589, 0.4276841643477609, 0.16762005701490723, 0.7723653951613199, -0.4607783336758918, 1.2902124966358643, 0.6552216914685036, 0.5897171735574182, 0.7756799205120937, -0.6929795366756427, 2.061922153956055, 1.1276647530284236, 0.2921987959394443, 0.6690906379505211, -5.265476367524758, 1.012133462324583, 1.4309384280850652, 1.7463525072283153, 0.14814418617457112, 0.32813109241147087, 0.030878981402190583, 1.1095819300612568, 0.7446904378745204, -2.193189990518118, 1.088184772035845, -2.59339396463512, 1.1984014641401854, 1.8697217818384297, 0.9530027630585096, 0.5219294116244121, 2.2142310252948234, -0.8603004588705903, 1.4366969932335696, 0.5265665951870384, 0.660713703751985, -2.1342298780777758, 0.940638445445677, 0.5902625120736783, -0.7266027885626613, 0.2803210606196508, 2.512564309189163, -0.8055054192553627, 0.2412796048237268, -2.285699534902473, -0.9390717044975707, 1.6702387584650282, -1.273502800037816, 1.3540604633609157, 0.4255846926598821, 1.487181648780377, 1.4660430152948845, 0.3519290262580381, 0.5230744898274311, 0.997144293532742, -0.8740477960491844, -0.387069228834427, -1.6915932109767786, 2.1276430027220674, 0.27478301400057853, -0.21009911987774507, 1.002156815948722, 0.7287631558350716, -0.5742645841862735, 1.0630301888693465, 0.41588829566680874, 0.6004342637575202, 0.7623210596084231, 1.731917917944346, -0.34050170359683757, 0.6046278217001049, 0.68256330719148, 1.3945099510527015, 0.9780044890400321, -4.9628314741983, -1.265216148443028, -4.114152829024972, 2.709047999938783, -1.9922680048667027, -0.6047849782590421, 1.8712825719911805, 1.2089549470456218, -1.2497460486567282, -1.2686289053217388, -1.0723830833645196, -0.1341618894641025, 1.714846245401242, -3.015872690686464, 0.3694096957600452, 2.26090653310401, 1.868965865910965, -0.29035471587269224, 0.7420650470219435, 1.423773100153644, -2.220368318034313, 2.3247878019402477, -1.5697399364210516, 1.882631446703863, 0.4961095094673616, 1.3918241202884905, 2.5589020749867237, -0.10406790726970577, -0.802180722540493, -0.4661535218957812, -0.361200409870677, -1.6508478266271756, 0.32764827183891476, -0.2761240971887628, 0.1856326565180225, 0.3673776458871612, -1.6395501257923704, 0.6374642083539132, -3.7307886361706455, 1.64217954994535, -2.449580253052983, 0.421758043250314, 1.852228309145515, 3.8547309760295905, 2.5895531360416695, 0.03616858700729745, -1.5254029401884093, -1.3652289708527225, 2.0129145485651314, -0.6519348588783579, 1.0222407181613629, 0.8017374114323119, -0.20789809660017614, -0.821392074337107, 0.8736981000490036, -0.4178197918152635, 0.2164506265461421, 1.314409739132722, 0.4786188956984337, 0.9214943705385352, -0.05824563817777561, 1.281854635668546, -0.04646040554606666, 0.22519019228191595, 0.703316776906088, 0.44703703692096414, 0.5017538804668705, -1.9377239274069296, 0.541856267686367, -0.2252126551407012, 0.5022667170232535, 1.2461337002391393, 0.5012350995449372, 0.8418230939438529, -0.07137117109618285, -0.10285738347200132, 0.5132453630116934, -0.28739694296208024, 0.26325132476352536, 0.7394880615104708, -0.38141401404466013, 0.1539294569151412], \"xaxis\": \"x\", \"y\": [0.0, -0.9721921476479177, 0.7968349527686365, -0.47030250915342453, 1.6086177944682927, 2.1240838886705493, 0.22606772403317446, 2.136441249036591, -1.3503380748074238, -0.4285276558438386, 1.2526348819683135, 1.1071035251474328, -0.6776924168115458, 0.3569595835588753, 0.48157338372565817, -0.28818697859474457, -2.9405355262366584, 2.828933091065756, 2.093243936239349, -0.14491261191681684, -4.433887909498608, -0.2746058392534174, 3.30135822408894, 0.8154175417727996, 1.1697141371156299, -1.3592647733436594, 0.4749494210583854, -0.6033394229219279, 2.3747888245890474, -0.7121163117651662, 0.02463492073139693, -1.8310517621783224, 1.4482699323536543, -1.0258976497182402, -2.2635047011822023, -4.750038313118954, -3.3872288646758792, 1.5863866719786834, -6.5368249421271285, -0.0584970851283738, 9.31006963376614, -3.175938722398983, 4.638458473846795, -3.243694461055936, -1.3280006724107367, -7.9092227101420844, 7.202165623508708, -3.4730559899797933, -9.87546522993611, 11.980820048689404, -12.864691602865511, 4.397004727617601, -2.4479909523965526, -0.7662039266403423, -6.348546630012009, -2.1244220618718064, 10.03254524645929, -0.5508853324585452, 5.262309345632794, -4.140230496227418, 2.853790527959467, -0.20406914158922201, -5.261703872848602, 1.6686696285914362, -1.4371499835049244, 8.723741528605496, -1.1582130662072307, 2.5594529292301758, 0.7215969335551039, 1.9627780199254954, 5.050296681091989, -0.9127213377995439, 0.7945858863896104, -1.3568698882910084, -2.0756727035293308, -3.091024044875598, 2.880343306075305, -0.3875395112963728, 2.8869433100053823, 0.07069577332170043, -1.6209317361245337, 3.284501771212857, 2.1096127515647956, -1.6099183436999454, 1.414870155658664, 1.5008878153344105, 1.031707931596885, 1.0345035669811888, 2.380167105862052, 1.573534147774501, -1.142821197711779, -1.2074216896611758, 0.6143547195158212, -0.5912099027758119, 2.3561252296368647, -0.5778512686057851, 1.9448173969504712, -0.7455537474651741, 0.6438476766771979, -0.6773496869862888, 0.4356829885552584, 0.04400995069821545, -0.09738839949759846, 1.2297823449576544, 0.4629391511877204, 0.5505138389269076, -0.8612112529938067, 2.848101809592342, 0.5912334314854961, 3.157810428767073, 2.572749898208105, -4.80104422166793, 0.8633432651686441, 1.236727358723952, 2.6502237518179497, -0.13917295173464556, 0.03981911793740119, -0.5714699618291028, 2.6163885363723196, 2.1344696411092876, -1.7651955919891011, 1.3275568587005222, -3.072580538380712, 2.3046693231306925, 0.8347616702275511, -0.18915321925267017, 0.0, 2.6750251466780397, -0.31029318059522365, 2.3290141582760375, 0.4300367880291623, 0.17493020064072254, -0.4613220459330001, 1.6548405455591946, 0.68772888895652, -1.2304941198399337, -0.20202549888543292, 2.107394719502888, -1.3801618914241467, 0.28091997167009636, -4.55163968048197, -0.24772476403387714, 2.3700104327701776, -1.6427517556374918, 1.916831074219441, 1.2100335122189492, 10.468866218829612, 2.5197633930772256, 0.6678142550645847, 0.3624535622374916, 3.4889349544174912, -2.2735712962527117, 1.4534783678926733, -2.9739948126128244, 3.3234365660791743, 1.7697499997452064, -0.08911586685042641, -0.2610908655952043, 0.8332868255996164, 0.12547334893976217, 2.2189591781641522, 5.153241779497852, 1.196024237946115, -0.820366335854437, 1.359898782665695, -1.1954367559888663, -0.16198423190500938, 3.3912228974312835, 3.9832573281916654, -2.0718465845135348, -8.006091816450311, 0.06618929069980756, -6.72949939910423, 3.9886504086288475, -3.264571839141771, -1.3128897206869388, 2.9999969834600373, 0.15603872113877715, -2.951364359720077, -1.5963579982384655, -3.1720189875351243, 3.0325771342994132, 1.5715742765271519, -4.194601628321035, 1.0268871716518986, 3.7515991776053337, 2.386889654942257, -0.7567791051674688, 1.5075879111645456, 0.8462091779440742, -3.228012757337737, 3.079097229332227, -2.866947942375521, 1.696712835169488, -0.09558715104784896, 1.7395794736193924, 6.352061166197263, -2.6527431317546886, 0.07433084957250725, -0.39608183486364085, -1.4000494129100005, -2.554189892811144, 1.3192025200303483, -0.5446345492373156, -0.9583397117964008, -0.6133817183922174, 0.008690335125887379, 1.34723861900283, -4.6312209563364, 3.705039200224278, -5.601804053180364, -0.0826743461666076, 1.5353471662424816, 4.083665795689686, 3.5493681915406756, -0.11359974764212788, -1.9968051272960121, -0.300896290186831, 3.035262290113875, -0.2343258353086079, 0.04194309910312627, 0.8720481253227728, -0.7564439475595575, -1.1391219738942655, 0.5168176476016719, -1.0957534216571871, -2.974262454089557, 1.1594207191901411, 0.7467237201436968, 0.48262676434150836, 2.1099630452395197, 3.0827403690480337, 0.29334911686706516, -0.11374549967587141, -0.5612447692712005, 1.2269902491243914, 0.5090896747689448, -2.0903712052189207, 1.1988819750515223, -0.6734763995906895, -0.5146688448198602, 5.009025446863161, -0.05473203093357764, 0.6963428625576273, -1.5850730413521605, 1.2395286040383944, 2.8464509208750775, -0.6976020489001472, 0.7712183074239288, 3.5765784781477588, -1.331483073045616, -0.8526735705180049], \"yaxis\": \"y\"}],\n",
              "                        {\"legend\": {\"tracegroupgap\": 0}, \"template\": {\"data\": {\"bar\": [{\"error_x\": {\"color\": \"#2a3f5f\"}, \"error_y\": {\"color\": \"#2a3f5f\"}, \"marker\": {\"line\": {\"color\": \"#E5ECF6\", \"width\": 0.5}}, \"type\": \"bar\"}], \"barpolar\": [{\"marker\": {\"line\": {\"color\": \"#E5ECF6\", \"width\": 0.5}}, \"type\": \"barpolar\"}], \"carpet\": [{\"aaxis\": {\"endlinecolor\": \"#2a3f5f\", \"gridcolor\": \"white\", \"linecolor\": \"white\", \"minorgridcolor\": \"white\", \"startlinecolor\": \"#2a3f5f\"}, \"baxis\": {\"endlinecolor\": \"#2a3f5f\", \"gridcolor\": \"white\", \"linecolor\": \"white\", \"minorgridcolor\": \"white\", \"startlinecolor\": \"#2a3f5f\"}, \"type\": \"carpet\"}], \"choropleth\": [{\"colorbar\": {\"outlinewidth\": 0, \"ticks\": \"\"}, \"type\": \"choropleth\"}], \"contour\": [{\"colorbar\": {\"outlinewidth\": 0, \"ticks\": \"\"}, \"colorscale\": [[0.0, \"#0d0887\"], [0.1111111111111111, \"#46039f\"], [0.2222222222222222, \"#7201a8\"], [0.3333333333333333, \"#9c179e\"], [0.4444444444444444, \"#bd3786\"], [0.5555555555555556, \"#d8576b\"], [0.6666666666666666, \"#ed7953\"], [0.7777777777777778, \"#fb9f3a\"], [0.8888888888888888, \"#fdca26\"], [1.0, \"#f0f921\"]], \"type\": \"contour\"}], \"contourcarpet\": [{\"colorbar\": {\"outlinewidth\": 0, \"ticks\": \"\"}, \"type\": \"contourcarpet\"}], \"heatmap\": [{\"colorbar\": {\"outlinewidth\": 0, \"ticks\": \"\"}, \"colorscale\": [[0.0, \"#0d0887\"], [0.1111111111111111, \"#46039f\"], [0.2222222222222222, \"#7201a8\"], [0.3333333333333333, \"#9c179e\"], [0.4444444444444444, \"#bd3786\"], [0.5555555555555556, \"#d8576b\"], [0.6666666666666666, \"#ed7953\"], [0.7777777777777778, \"#fb9f3a\"], [0.8888888888888888, \"#fdca26\"], [1.0, \"#f0f921\"]], \"type\": \"heatmap\"}], \"heatmapgl\": [{\"colorbar\": {\"outlinewidth\": 0, \"ticks\": \"\"}, \"colorscale\": [[0.0, \"#0d0887\"], [0.1111111111111111, \"#46039f\"], [0.2222222222222222, \"#7201a8\"], [0.3333333333333333, \"#9c179e\"], [0.4444444444444444, \"#bd3786\"], [0.5555555555555556, \"#d8576b\"], [0.6666666666666666, \"#ed7953\"], [0.7777777777777778, \"#fb9f3a\"], [0.8888888888888888, \"#fdca26\"], [1.0, \"#f0f921\"]], \"type\": \"heatmapgl\"}], \"histogram\": [{\"marker\": {\"colorbar\": {\"outlinewidth\": 0, \"ticks\": \"\"}}, \"type\": \"histogram\"}], \"histogram2d\": [{\"colorbar\": {\"outlinewidth\": 0, \"ticks\": \"\"}, \"colorscale\": [[0.0, \"#0d0887\"], [0.1111111111111111, \"#46039f\"], [0.2222222222222222, \"#7201a8\"], [0.3333333333333333, \"#9c179e\"], [0.4444444444444444, \"#bd3786\"], [0.5555555555555556, \"#d8576b\"], [0.6666666666666666, \"#ed7953\"], [0.7777777777777778, \"#fb9f3a\"], [0.8888888888888888, \"#fdca26\"], [1.0, \"#f0f921\"]], \"type\": \"histogram2d\"}], \"histogram2dcontour\": [{\"colorbar\": {\"outlinewidth\": 0, \"ticks\": \"\"}, \"colorscale\": [[0.0, \"#0d0887\"], [0.1111111111111111, \"#46039f\"], [0.2222222222222222, \"#7201a8\"], [0.3333333333333333, \"#9c179e\"], [0.4444444444444444, \"#bd3786\"], [0.5555555555555556, \"#d8576b\"], [0.6666666666666666, \"#ed7953\"], [0.7777777777777778, \"#fb9f3a\"], [0.8888888888888888, \"#fdca26\"], [1.0, \"#f0f921\"]], \"type\": \"histogram2dcontour\"}], \"mesh3d\": [{\"colorbar\": {\"outlinewidth\": 0, \"ticks\": \"\"}, \"type\": \"mesh3d\"}], \"parcoords\": [{\"line\": {\"colorbar\": {\"outlinewidth\": 0, \"ticks\": \"\"}}, \"type\": \"parcoords\"}], \"pie\": [{\"automargin\": true, \"type\": \"pie\"}], \"scatter\": [{\"marker\": {\"colorbar\": {\"outlinewidth\": 0, \"ticks\": \"\"}}, \"type\": \"scatter\"}], \"scatter3d\": [{\"line\": {\"colorbar\": {\"outlinewidth\": 0, \"ticks\": \"\"}}, \"marker\": {\"colorbar\": {\"outlinewidth\": 0, \"ticks\": \"\"}}, \"type\": \"scatter3d\"}], \"scattercarpet\": [{\"marker\": {\"colorbar\": {\"outlinewidth\": 0, \"ticks\": \"\"}}, \"type\": \"scattercarpet\"}], \"scattergeo\": [{\"marker\": {\"colorbar\": {\"outlinewidth\": 0, \"ticks\": \"\"}}, \"type\": \"scattergeo\"}], \"scattergl\": [{\"marker\": {\"colorbar\": {\"outlinewidth\": 0, \"ticks\": \"\"}}, \"type\": \"scattergl\"}], \"scattermapbox\": [{\"marker\": {\"colorbar\": {\"outlinewidth\": 0, \"ticks\": \"\"}}, \"type\": \"scattermapbox\"}], \"scatterpolar\": [{\"marker\": {\"colorbar\": {\"outlinewidth\": 0, \"ticks\": \"\"}}, \"type\": \"scatterpolar\"}], \"scatterpolargl\": [{\"marker\": {\"colorbar\": {\"outlinewidth\": 0, \"ticks\": \"\"}}, \"type\": \"scatterpolargl\"}], \"scatterternary\": [{\"marker\": {\"colorbar\": {\"outlinewidth\": 0, \"ticks\": \"\"}}, \"type\": \"scatterternary\"}], \"surface\": [{\"colorbar\": {\"outlinewidth\": 0, \"ticks\": \"\"}, \"colorscale\": [[0.0, \"#0d0887\"], [0.1111111111111111, \"#46039f\"], [0.2222222222222222, \"#7201a8\"], [0.3333333333333333, \"#9c179e\"], [0.4444444444444444, \"#bd3786\"], [0.5555555555555556, \"#d8576b\"], [0.6666666666666666, \"#ed7953\"], [0.7777777777777778, \"#fb9f3a\"], [0.8888888888888888, \"#fdca26\"], [1.0, \"#f0f921\"]], \"type\": \"surface\"}], \"table\": [{\"cells\": {\"fill\": {\"color\": \"#EBF0F8\"}, \"line\": {\"color\": \"white\"}}, \"header\": {\"fill\": {\"color\": \"#C8D4E3\"}, \"line\": {\"color\": \"white\"}}, \"type\": \"table\"}]}, \"layout\": {\"annotationdefaults\": {\"arrowcolor\": \"#2a3f5f\", \"arrowhead\": 0, \"arrowwidth\": 1}, \"coloraxis\": {\"colorbar\": {\"outlinewidth\": 0, \"ticks\": \"\"}}, \"colorscale\": {\"diverging\": [[0, \"#8e0152\"], [0.1, \"#c51b7d\"], [0.2, \"#de77ae\"], [0.3, \"#f1b6da\"], [0.4, \"#fde0ef\"], [0.5, \"#f7f7f7\"], [0.6, \"#e6f5d0\"], [0.7, \"#b8e186\"], [0.8, \"#7fbc41\"], [0.9, \"#4d9221\"], [1, \"#276419\"]], \"sequential\": [[0.0, \"#0d0887\"], [0.1111111111111111, \"#46039f\"], [0.2222222222222222, \"#7201a8\"], [0.3333333333333333, \"#9c179e\"], [0.4444444444444444, \"#bd3786\"], [0.5555555555555556, \"#d8576b\"], [0.6666666666666666, \"#ed7953\"], [0.7777777777777778, \"#fb9f3a\"], [0.8888888888888888, \"#fdca26\"], [1.0, \"#f0f921\"]], \"sequentialminus\": [[0.0, \"#0d0887\"], [0.1111111111111111, \"#46039f\"], [0.2222222222222222, \"#7201a8\"], [0.3333333333333333, \"#9c179e\"], [0.4444444444444444, \"#bd3786\"], [0.5555555555555556, \"#d8576b\"], [0.6666666666666666, \"#ed7953\"], [0.7777777777777778, \"#fb9f3a\"], [0.8888888888888888, \"#fdca26\"], [1.0, \"#f0f921\"]]}, \"colorway\": [\"#636efa\", \"#EF553B\", \"#00cc96\", \"#ab63fa\", \"#FFA15A\", \"#19d3f3\", \"#FF6692\", \"#B6E880\", \"#FF97FF\", \"#FECB52\"], \"font\": {\"color\": \"#2a3f5f\"}, \"geo\": {\"bgcolor\": \"white\", \"lakecolor\": \"white\", \"landcolor\": \"#E5ECF6\", \"showlakes\": true, \"showland\": true, \"subunitcolor\": \"white\"}, \"hoverlabel\": {\"align\": \"left\"}, \"hovermode\": \"closest\", \"mapbox\": {\"style\": \"light\"}, \"paper_bgcolor\": \"white\", \"plot_bgcolor\": \"#E5ECF6\", \"polar\": {\"angularaxis\": {\"gridcolor\": \"white\", \"linecolor\": \"white\", \"ticks\": \"\"}, \"bgcolor\": \"#E5ECF6\", \"radialaxis\": {\"gridcolor\": \"white\", \"linecolor\": \"white\", \"ticks\": \"\"}}, \"scene\": {\"xaxis\": {\"backgroundcolor\": \"#E5ECF6\", \"gridcolor\": \"white\", \"gridwidth\": 2, \"linecolor\": \"white\", \"showbackground\": true, \"ticks\": \"\", \"zerolinecolor\": \"white\"}, \"yaxis\": {\"backgroundcolor\": \"#E5ECF6\", \"gridcolor\": \"white\", \"gridwidth\": 2, \"linecolor\": \"white\", \"showbackground\": true, \"ticks\": \"\", \"zerolinecolor\": \"white\"}, \"zaxis\": {\"backgroundcolor\": \"#E5ECF6\", \"gridcolor\": \"white\", \"gridwidth\": 2, \"linecolor\": \"white\", \"showbackground\": true, \"ticks\": \"\", \"zerolinecolor\": \"white\"}}, \"shapedefaults\": {\"line\": {\"color\": \"#2a3f5f\"}}, \"ternary\": {\"aaxis\": {\"gridcolor\": \"white\", \"linecolor\": \"white\", \"ticks\": \"\"}, \"baxis\": {\"gridcolor\": \"white\", \"linecolor\": \"white\", \"ticks\": \"\"}, \"bgcolor\": \"#E5ECF6\", \"caxis\": {\"gridcolor\": \"white\", \"linecolor\": \"white\", \"ticks\": \"\"}}, \"title\": {\"x\": 0.05}, \"xaxis\": {\"automargin\": true, \"gridcolor\": \"white\", \"linecolor\": \"white\", \"ticks\": \"\", \"title\": {\"standoff\": 15}, \"zerolinecolor\": \"white\", \"zerolinewidth\": 2}, \"yaxis\": {\"automargin\": true, \"gridcolor\": \"white\", \"linecolor\": \"white\", \"ticks\": \"\", \"title\": {\"standoff\": 15}, \"zerolinecolor\": \"white\", \"zerolinewidth\": 2}}}, \"title\": {\"text\": \"AAPL\"}, \"xaxis\": {\"anchor\": \"y\", \"domain\": [0.0, 1.0], \"title\": {\"text\": \"^IXIC\"}}, \"yaxis\": {\"anchor\": \"x\", \"domain\": [0.0, 1.0], \"title\": {\"text\": \"AAPL\"}}},\n",
              "                        {\"responsive\": true}\n",
              "                    ).then(function(){\n",
              "                            \n",
              "var gd = document.getElementById('82d2b0a2-8f37-4a39-b06c-8f1b6568ba53');\n",
              "var x = new MutationObserver(function (mutations, observer) {{\n",
              "        var display = window.getComputedStyle(gd).display;\n",
              "        if (!display || display === 'none') {{\n",
              "            console.log([gd, 'removed!']);\n",
              "            Plotly.purge(gd);\n",
              "            observer.disconnect();\n",
              "        }}\n",
              "}});\n",
              "\n",
              "// Listen for the removal of the full notebook cells\n",
              "var notebookContainer = gd.closest('#notebook-container');\n",
              "if (notebookContainer) {{\n",
              "    x.observe(notebookContainer, {childList: true});\n",
              "}}\n",
              "\n",
              "// Listen for the clearing of the current output cell\n",
              "var outputEl = gd.closest('.output');\n",
              "if (outputEl) {{\n",
              "    x.observe(outputEl, {childList: true});\n",
              "}}\n",
              "\n",
              "                        })\n",
              "                };\n",
              "                \n",
              "            </script>\n",
              "        </div>\n",
              "</body>\n",
              "</html>"
            ]
          },
          "metadata": {}
        },
        {
          "output_type": "display_data",
          "data": {
            "text/html": [
              "<html>\n",
              "<head><meta charset=\"utf-8\" /></head>\n",
              "<body>\n",
              "    <div>\n",
              "            <script src=\"https://cdnjs.cloudflare.com/ajax/libs/mathjax/2.7.5/MathJax.js?config=TeX-AMS-MML_SVG\"></script><script type=\"text/javascript\">if (window.MathJax) {MathJax.Hub.Config({SVG: {font: \"STIX-Web\"}});}</script>\n",
              "                <script type=\"text/javascript\">window.PlotlyConfig = {MathJaxConfig: 'local'};</script>\n",
              "        <script src=\"https://cdn.plot.ly/plotly-latest.min.js\"></script>    \n",
              "            <div id=\"1d50ad77-860c-451a-b7a5-6b671b6e9701\" class=\"plotly-graph-div\" style=\"height:525px; width:100%;\"></div>\n",
              "            <script type=\"text/javascript\">\n",
              "                \n",
              "                    window.PLOTLYENV=window.PLOTLYENV || {};\n",
              "                    \n",
              "                if (document.getElementById(\"1d50ad77-860c-451a-b7a5-6b671b6e9701\")) {\n",
              "                    Plotly.newPlot(\n",
              "                        '1d50ad77-860c-451a-b7a5-6b671b6e9701',\n",
              "                        [{\"hoverlabel\": {\"namelength\": 0}, \"hovertemplate\": \"^IXIC=%{x}<br>AMZN=%{y}\", \"legendgroup\": \"\", \"marker\": {\"color\": \"#636efa\", \"symbol\": \"circle\"}, \"mode\": \"markers\", \"name\": \"\", \"showlegend\": false, \"type\": \"scatter\", \"x\": [0.0, -0.7855191660339514, 0.5620384728471665, -0.031854247708491115, 0.6689046766684335, 0.8126574744484102, -0.2669584793033168, 1.0357422631592443, -0.24368967780143092, 0.0796654872895177, 1.063104814105905, 0.33996051431786484, -0.19310868474221926, 0.13830140117838088, 0.19939681423002234, -0.9313533039610973, -1.8851559810233676, 1.4264766521421406, 0.05912252564012881, 0.256270844379793, -1.591465499641676, 1.3382226873668104, 2.0981444534002978, 0.42997561370826654, 0.6675027996624794, -0.5394882329740349, 1.1331313707803117, 0.10957991559587729, 0.9027914622439598, -0.1438442521991573, 0.19779675470939986, 0.01603656416913738, 0.8675814939226352, -0.6744295515116596, -1.7883337524623202, -3.7101888679547743, -2.7726076455074673, 0.16920121754294432, -4.613182731047064, 0.010385226940578262, 4.491457698501092, -2.9945821009265603, 3.846114054662644, -3.0993259641753057, -1.8649430797928905, -7.287402343694397, 4.950140308971453, -4.700245022770171, -9.434674309481181, 9.345998172386109, -12.321331290147407, 6.230492341201929, -4.702798877538514, 2.2996268579562185, -3.7907422283539605, -0.274003093278801, 8.121509236724387, -0.4524223861369213, 5.59620065957612, -3.7852983732224246, 3.6224507926325984, -0.952513208745505, -4.409293583528775, 1.7217390358319775, -1.52564779039222, 7.3261127035984215, -0.32831644156512807, 2.581887027561507, 0.7746996815903381, 0.47635325069293516, 3.946578856836743, -1.4392236435332642, 1.6582590775434294, 1.3803835283800632, -1.0336154480887512, -3.475170735558033, 2.8094268330097516, -0.007414416084845749, 1.6453636805085496, 1.1076542783169119, -1.4023761913732073, 3.5663232405100977, -0.2822319106313816, -3.2015075636893258, 1.2290572661607275, 1.1297604522629348, 0.5138939036791482, 1.4147842232649654, 1.5775670101657695, 0.7786102101104126, -2.0646542913830683, -1.5482267339407207, 0.9088148528970065, 0.7920624294565988, 2.443497168047047, -0.5385098407798431, 2.07597818392603, -0.9695234740358589, 0.4276841643477609, 0.16762005701490723, 0.7723653951613199, -0.4607783336758918, 1.2902124966358643, 0.6552216914685036, 0.5897171735574182, 0.7756799205120937, -0.6929795366756427, 2.061922153956055, 1.1276647530284236, 0.2921987959394443, 0.6690906379505211, -5.265476367524758, 1.012133462324583, 1.4309384280850652, 1.7463525072283153, 0.14814418617457112, 0.32813109241147087, 0.030878981402190583, 1.1095819300612568, 0.7446904378745204, -2.193189990518118, 1.088184772035845, -2.59339396463512, 1.1984014641401854, 1.8697217818384297, 0.9530027630585096, 0.5219294116244121, 2.2142310252948234, -0.8603004588705903, 1.4366969932335696, 0.5265665951870384, 0.660713703751985, -2.1342298780777758, 0.940638445445677, 0.5902625120736783, -0.7266027885626613, 0.2803210606196508, 2.512564309189163, -0.8055054192553627, 0.2412796048237268, -2.285699534902473, -0.9390717044975707, 1.6702387584650282, -1.273502800037816, 1.3540604633609157, 0.4255846926598821, 1.487181648780377, 1.4660430152948845, 0.3519290262580381, 0.5230744898274311, 0.997144293532742, -0.8740477960491844, -0.387069228834427, -1.6915932109767786, 2.1276430027220674, 0.27478301400057853, -0.21009911987774507, 1.002156815948722, 0.7287631558350716, -0.5742645841862735, 1.0630301888693465, 0.41588829566680874, 0.6004342637575202, 0.7623210596084231, 1.731917917944346, -0.34050170359683757, 0.6046278217001049, 0.68256330719148, 1.3945099510527015, 0.9780044890400321, -4.9628314741983, -1.265216148443028, -4.114152829024972, 2.709047999938783, -1.9922680048667027, -0.6047849782590421, 1.8712825719911805, 1.2089549470456218, -1.2497460486567282, -1.2686289053217388, -1.0723830833645196, -0.1341618894641025, 1.714846245401242, -3.015872690686464, 0.3694096957600452, 2.26090653310401, 1.868965865910965, -0.29035471587269224, 0.7420650470219435, 1.423773100153644, -2.220368318034313, 2.3247878019402477, -1.5697399364210516, 1.882631446703863, 0.4961095094673616, 1.3918241202884905, 2.5589020749867237, -0.10406790726970577, -0.802180722540493, -0.4661535218957812, -0.361200409870677, -1.6508478266271756, 0.32764827183891476, -0.2761240971887628, 0.1856326565180225, 0.3673776458871612, -1.6395501257923704, 0.6374642083539132, -3.7307886361706455, 1.64217954994535, -2.449580253052983, 0.421758043250314, 1.852228309145515, 3.8547309760295905, 2.5895531360416695, 0.03616858700729745, -1.5254029401884093, -1.3652289708527225, 2.0129145485651314, -0.6519348588783579, 1.0222407181613629, 0.8017374114323119, -0.20789809660017614, -0.821392074337107, 0.8736981000490036, -0.4178197918152635, 0.2164506265461421, 1.314409739132722, 0.4786188956984337, 0.9214943705385352, -0.05824563817777561, 1.281854635668546, -0.04646040554606666, 0.22519019228191595, 0.703316776906088, 0.44703703692096414, 0.5017538804668705, -1.9377239274069296, 0.541856267686367, -0.2252126551407012, 0.5022667170232535, 1.2461337002391393, 0.5012350995449372, 0.8418230939438529, -0.07137117109618285, -0.10285738347200132, 0.5132453630116934, -0.28739694296208024, 0.26325132476352536, 0.7394880615104708, -0.38141401404466013, 0.1539294569151412], \"xaxis\": \"x\", \"y\": [0.0, -1.213905034428406, 1.4885589964526775, 0.20915561982559716, -0.7808656515329976, 0.47992717990262346, -0.941059634882603, 0.4322529419005712, -1.1558243989587913, -0.39690613807141123, 0.854981241233256, -0.703961314823814, 1.4629558177890158, -0.23995978131606766, -0.15258627692329982, -1.2172442635054916, -1.7887480160558091, 1.362439953475022, 0.25630648860110616, 0.6824571426769376, 7.379130210874521, -0.22501989312466628, 2.268734248623161, -0.47812219193067484, 0.5078747849794876, 1.4169165949608835, 2.6273461026302227, 0.7915112359197047, 0.42774553482494304, -0.46897605613425924, -0.697716568088461, 0.97428899866292, 0.6749664538376718, -0.7888542764320968, -2.6533892695148644, -4.135552171653819, -1.8190529051335276, 0.34723154697764685, -4.813618912879304, -0.029191148642546804, 3.726606565195753, -2.3009781243647214, 3.5013261547854566, -2.6216793909353386, -1.1922923825126475, -5.285387976123124, 5.065503450470513, -3.75088343246898, -7.9220808387498804, 6.464831749508493, -5.36974653142507, 7.026607446986334, 1.225774106041091, 2.7830630443135247, -1.8522798241161629, 3.073522487251184, 1.9586626441663428, -2.796763592001887, 3.6933157466394966, -2.832538899460116, 3.360348213585338, -0.7245592210870279, -2.1551822909264438, 0.5834253377201946, -0.6378882191073191, 4.772919276371369, 0.7013456217413354, 1.560947742849138, -0.011746952245472344, 6.1735155778942525, 5.276938912335097, 1.0668615240943071, 4.355457114634103, -1.378211113483387, 0.7835834703947369, -2.7360341615917294, 1.5192460554657203, 1.521477183575211, 0.4488536852369017, -1.4197862070299803, -2.6060573179713806, 2.533615122775063, 4.268959996378087, -7.597411517279709, 1.3101236487597745, 0.07815485392347593, 1.4436086043926564, 0.6953759936520074, 0.5068402082920221, 1.2350717660199677, -2.1606495985107927, 0.4654307868383346, 0.8839055572739458, 0.8761509004336347, 0.683879037438887, 0.9508489719369999, 1.9846187214775723, -2.0496870370330553, -0.4029895886456858, -0.616352717939059, -0.47361178329826426, -0.3854063174791504, 1.7187962955619505, 1.1738565614295478, 0.055437104426471484, 0.24227334654489174, -0.7181974414487043, 0.9103430648924287, 1.6536471443314538, 3.0427187564987355, 1.7913244782774027, -3.3802335033666226, -0.5058695837251288, 1.0868249324997252, 1.655475574976202, 0.9830709924976752, 0.4922415200471386, 0.7923959280642594, 1.4508378829262922, 1.864156151685613, -1.0855846534975686, 0.7380111359700117, -2.2402674522900425, -0.4638260974890652, 2.9264577774911658, 4.3453316940597215, 0.40296306850346725, 5.768950884596909, -1.8619292239448582, 2.6995582533642044, 3.294909037690051, 0.5457787373048221, -3.0, -0.6443298969072164, -2.436118119730869, -0.29812569151820967, -1.2643732416202038, 7.929523915184918, -1.8314975794350148, -1.222963030038813, -3.6568760543145196, 0.748685369931224, 1.5387648743417073, -1.796272057049066, 1.106543290484315, 0.6049010010913988, 3.696084156633735, -1.6681004146644534, 0.8657178266855615, 2.109064508882875, 0.6230821714798737, -1.7841872577519382, -0.609322582325953, -2.1437916789034515, 2.6478029268948324, -0.03857932057315421, -0.4112596541520094, 1.0924292845903107, 4.087470870111132, -1.5701182469669905, 1.1314327013118606, -0.3836435108826962, 0.6922961603179614, 1.1800605225108132, 2.8495560333409617, -1.215918662022733, 0.05294261259191176, 1.4451146864528366, 1.3955582445215227, 0.9239418168462552, -4.628409107642481, -2.178737613197743, -4.394437724142489, 3.7706682313128956, -2.8605430726562973, -1.8547431341386644, -0.42519463082095427, 1.7131945397888946, -2.4723249059292787, -2.2536667095498393, -1.7887968913378534, 0.18816338768788143, 5.692340108122283, -4.1268870535066045, 0.664362034460103, 2.4948702649999275, 2.549817584518016, -0.9190203546536632, 0.12242431506817412, 2.3034693272135547, -2.9882719641941837, 2.3743984375, -3.1020252484694852, 3.088103771501585, -0.16083827506316872, 3.012015233891161, 4.754994719255915, 0.02033010214475841, -2.3208046333285783, -0.7450124679229332, -1.9750480983333953, -2.001399475718798, 0.3055630578442188, -0.9968905369278432, -0.26813815078501313, 0.8815010974953065, 0.08239098736768034, 2.472374466696041, -3.759514287701006, 1.5249236438195204, -5.445641928554381, -1.0430948040659147, 1.4621475904715857, 6.322968549417453, 2.494171533733847, -0.3199844314419025, -5.06225885421413, -3.4583003378412225, 3.37295544635932, -0.8640897118136849, 0.5957672338932127, 0.0719123231472628, 0.14691042105691604, -0.9631130932040183, 0.3722494812092235, -0.5652872640243672, -0.03258726842125909, 0.6348512194266727, 2.1490929778898042, 0.32244249924900625, -0.85437067971525, 1.6426572398339987, -0.5139638899217011, -0.5244230169371114, -0.7578270669860044, -0.14482093771093987, 0.6108308759499683, -2.300390804491716, -0.08729981895905112, 0.48137932695687236, 1.3011740986345635, 0.25816357329999523, 2.396112657404948, -0.15056905581420435, -1.0639469651566535, 0.1414904638248803, 0.010607261534787743, -0.6627122198072684, -0.3949454221419918, 3.507119245378612, 1.1583587959349049, -1.0881969399081879], \"yaxis\": \"y\"}],\n",
              "                        {\"legend\": {\"tracegroupgap\": 0}, \"template\": {\"data\": {\"bar\": [{\"error_x\": {\"color\": \"#2a3f5f\"}, \"error_y\": {\"color\": \"#2a3f5f\"}, \"marker\": {\"line\": {\"color\": \"#E5ECF6\", \"width\": 0.5}}, \"type\": \"bar\"}], \"barpolar\": [{\"marker\": {\"line\": {\"color\": \"#E5ECF6\", \"width\": 0.5}}, \"type\": \"barpolar\"}], \"carpet\": [{\"aaxis\": {\"endlinecolor\": \"#2a3f5f\", \"gridcolor\": \"white\", \"linecolor\": \"white\", \"minorgridcolor\": \"white\", \"startlinecolor\": \"#2a3f5f\"}, \"baxis\": {\"endlinecolor\": \"#2a3f5f\", \"gridcolor\": \"white\", \"linecolor\": \"white\", \"minorgridcolor\": \"white\", \"startlinecolor\": \"#2a3f5f\"}, \"type\": \"carpet\"}], \"choropleth\": [{\"colorbar\": {\"outlinewidth\": 0, \"ticks\": \"\"}, \"type\": \"choropleth\"}], \"contour\": [{\"colorbar\": {\"outlinewidth\": 0, \"ticks\": \"\"}, \"colorscale\": [[0.0, \"#0d0887\"], [0.1111111111111111, \"#46039f\"], [0.2222222222222222, \"#7201a8\"], [0.3333333333333333, \"#9c179e\"], [0.4444444444444444, \"#bd3786\"], [0.5555555555555556, \"#d8576b\"], [0.6666666666666666, \"#ed7953\"], [0.7777777777777778, \"#fb9f3a\"], [0.8888888888888888, \"#fdca26\"], [1.0, \"#f0f921\"]], \"type\": \"contour\"}], \"contourcarpet\": [{\"colorbar\": {\"outlinewidth\": 0, \"ticks\": \"\"}, \"type\": \"contourcarpet\"}], \"heatmap\": [{\"colorbar\": {\"outlinewidth\": 0, \"ticks\": \"\"}, \"colorscale\": [[0.0, \"#0d0887\"], [0.1111111111111111, \"#46039f\"], [0.2222222222222222, \"#7201a8\"], [0.3333333333333333, \"#9c179e\"], [0.4444444444444444, \"#bd3786\"], [0.5555555555555556, \"#d8576b\"], [0.6666666666666666, \"#ed7953\"], [0.7777777777777778, \"#fb9f3a\"], [0.8888888888888888, \"#fdca26\"], [1.0, \"#f0f921\"]], \"type\": \"heatmap\"}], \"heatmapgl\": [{\"colorbar\": {\"outlinewidth\": 0, \"ticks\": \"\"}, \"colorscale\": [[0.0, \"#0d0887\"], [0.1111111111111111, \"#46039f\"], [0.2222222222222222, \"#7201a8\"], [0.3333333333333333, \"#9c179e\"], [0.4444444444444444, \"#bd3786\"], [0.5555555555555556, \"#d8576b\"], [0.6666666666666666, \"#ed7953\"], [0.7777777777777778, \"#fb9f3a\"], [0.8888888888888888, \"#fdca26\"], [1.0, \"#f0f921\"]], \"type\": \"heatmapgl\"}], \"histogram\": [{\"marker\": {\"colorbar\": {\"outlinewidth\": 0, \"ticks\": \"\"}}, \"type\": \"histogram\"}], \"histogram2d\": [{\"colorbar\": {\"outlinewidth\": 0, \"ticks\": \"\"}, \"colorscale\": [[0.0, \"#0d0887\"], [0.1111111111111111, \"#46039f\"], [0.2222222222222222, \"#7201a8\"], [0.3333333333333333, \"#9c179e\"], [0.4444444444444444, \"#bd3786\"], [0.5555555555555556, \"#d8576b\"], [0.6666666666666666, \"#ed7953\"], [0.7777777777777778, \"#fb9f3a\"], [0.8888888888888888, \"#fdca26\"], [1.0, \"#f0f921\"]], \"type\": \"histogram2d\"}], \"histogram2dcontour\": [{\"colorbar\": {\"outlinewidth\": 0, \"ticks\": \"\"}, \"colorscale\": [[0.0, \"#0d0887\"], [0.1111111111111111, \"#46039f\"], [0.2222222222222222, \"#7201a8\"], [0.3333333333333333, \"#9c179e\"], [0.4444444444444444, \"#bd3786\"], [0.5555555555555556, \"#d8576b\"], [0.6666666666666666, \"#ed7953\"], [0.7777777777777778, \"#fb9f3a\"], [0.8888888888888888, \"#fdca26\"], [1.0, \"#f0f921\"]], \"type\": \"histogram2dcontour\"}], \"mesh3d\": [{\"colorbar\": {\"outlinewidth\": 0, \"ticks\": \"\"}, \"type\": \"mesh3d\"}], \"parcoords\": [{\"line\": {\"colorbar\": {\"outlinewidth\": 0, \"ticks\": \"\"}}, \"type\": \"parcoords\"}], \"pie\": [{\"automargin\": true, \"type\": \"pie\"}], \"scatter\": [{\"marker\": {\"colorbar\": {\"outlinewidth\": 0, \"ticks\": \"\"}}, \"type\": \"scatter\"}], \"scatter3d\": [{\"line\": {\"colorbar\": {\"outlinewidth\": 0, \"ticks\": \"\"}}, \"marker\": {\"colorbar\": {\"outlinewidth\": 0, \"ticks\": \"\"}}, \"type\": \"scatter3d\"}], \"scattercarpet\": [{\"marker\": {\"colorbar\": {\"outlinewidth\": 0, \"ticks\": \"\"}}, \"type\": \"scattercarpet\"}], \"scattergeo\": [{\"marker\": {\"colorbar\": {\"outlinewidth\": 0, \"ticks\": \"\"}}, \"type\": \"scattergeo\"}], \"scattergl\": [{\"marker\": {\"colorbar\": {\"outlinewidth\": 0, \"ticks\": \"\"}}, \"type\": \"scattergl\"}], \"scattermapbox\": [{\"marker\": {\"colorbar\": {\"outlinewidth\": 0, \"ticks\": \"\"}}, \"type\": \"scattermapbox\"}], \"scatterpolar\": [{\"marker\": {\"colorbar\": {\"outlinewidth\": 0, \"ticks\": \"\"}}, \"type\": \"scatterpolar\"}], \"scatterpolargl\": [{\"marker\": {\"colorbar\": {\"outlinewidth\": 0, \"ticks\": \"\"}}, \"type\": \"scatterpolargl\"}], \"scatterternary\": [{\"marker\": {\"colorbar\": {\"outlinewidth\": 0, \"ticks\": \"\"}}, \"type\": \"scatterternary\"}], \"surface\": [{\"colorbar\": {\"outlinewidth\": 0, \"ticks\": \"\"}, \"colorscale\": [[0.0, \"#0d0887\"], [0.1111111111111111, \"#46039f\"], [0.2222222222222222, \"#7201a8\"], [0.3333333333333333, \"#9c179e\"], [0.4444444444444444, \"#bd3786\"], [0.5555555555555556, \"#d8576b\"], [0.6666666666666666, \"#ed7953\"], [0.7777777777777778, \"#fb9f3a\"], [0.8888888888888888, \"#fdca26\"], [1.0, \"#f0f921\"]], \"type\": \"surface\"}], \"table\": [{\"cells\": {\"fill\": {\"color\": \"#EBF0F8\"}, \"line\": {\"color\": \"white\"}}, \"header\": {\"fill\": {\"color\": \"#C8D4E3\"}, \"line\": {\"color\": \"white\"}}, \"type\": \"table\"}]}, \"layout\": {\"annotationdefaults\": {\"arrowcolor\": \"#2a3f5f\", \"arrowhead\": 0, \"arrowwidth\": 1}, \"coloraxis\": {\"colorbar\": {\"outlinewidth\": 0, \"ticks\": \"\"}}, \"colorscale\": {\"diverging\": [[0, \"#8e0152\"], [0.1, \"#c51b7d\"], [0.2, \"#de77ae\"], [0.3, \"#f1b6da\"], [0.4, \"#fde0ef\"], [0.5, \"#f7f7f7\"], [0.6, \"#e6f5d0\"], [0.7, \"#b8e186\"], [0.8, \"#7fbc41\"], [0.9, \"#4d9221\"], [1, \"#276419\"]], \"sequential\": [[0.0, \"#0d0887\"], [0.1111111111111111, \"#46039f\"], [0.2222222222222222, \"#7201a8\"], [0.3333333333333333, \"#9c179e\"], [0.4444444444444444, \"#bd3786\"], [0.5555555555555556, \"#d8576b\"], [0.6666666666666666, \"#ed7953\"], [0.7777777777777778, \"#fb9f3a\"], [0.8888888888888888, \"#fdca26\"], [1.0, \"#f0f921\"]], \"sequentialminus\": [[0.0, \"#0d0887\"], [0.1111111111111111, \"#46039f\"], [0.2222222222222222, \"#7201a8\"], [0.3333333333333333, \"#9c179e\"], [0.4444444444444444, \"#bd3786\"], [0.5555555555555556, \"#d8576b\"], [0.6666666666666666, \"#ed7953\"], [0.7777777777777778, \"#fb9f3a\"], [0.8888888888888888, \"#fdca26\"], [1.0, \"#f0f921\"]]}, \"colorway\": [\"#636efa\", \"#EF553B\", \"#00cc96\", \"#ab63fa\", \"#FFA15A\", \"#19d3f3\", \"#FF6692\", \"#B6E880\", \"#FF97FF\", \"#FECB52\"], \"font\": {\"color\": \"#2a3f5f\"}, \"geo\": {\"bgcolor\": \"white\", \"lakecolor\": \"white\", \"landcolor\": \"#E5ECF6\", \"showlakes\": true, \"showland\": true, \"subunitcolor\": \"white\"}, \"hoverlabel\": {\"align\": \"left\"}, \"hovermode\": \"closest\", \"mapbox\": {\"style\": \"light\"}, \"paper_bgcolor\": \"white\", \"plot_bgcolor\": \"#E5ECF6\", \"polar\": {\"angularaxis\": {\"gridcolor\": \"white\", \"linecolor\": \"white\", \"ticks\": \"\"}, \"bgcolor\": \"#E5ECF6\", \"radialaxis\": {\"gridcolor\": \"white\", \"linecolor\": \"white\", \"ticks\": \"\"}}, \"scene\": {\"xaxis\": {\"backgroundcolor\": \"#E5ECF6\", \"gridcolor\": \"white\", \"gridwidth\": 2, \"linecolor\": \"white\", \"showbackground\": true, \"ticks\": \"\", \"zerolinecolor\": \"white\"}, \"yaxis\": {\"backgroundcolor\": \"#E5ECF6\", \"gridcolor\": \"white\", \"gridwidth\": 2, \"linecolor\": \"white\", \"showbackground\": true, \"ticks\": \"\", \"zerolinecolor\": \"white\"}, \"zaxis\": {\"backgroundcolor\": \"#E5ECF6\", \"gridcolor\": \"white\", \"gridwidth\": 2, \"linecolor\": \"white\", \"showbackground\": true, \"ticks\": \"\", \"zerolinecolor\": \"white\"}}, \"shapedefaults\": {\"line\": {\"color\": \"#2a3f5f\"}}, \"ternary\": {\"aaxis\": {\"gridcolor\": \"white\", \"linecolor\": \"white\", \"ticks\": \"\"}, \"baxis\": {\"gridcolor\": \"white\", \"linecolor\": \"white\", \"ticks\": \"\"}, \"bgcolor\": \"#E5ECF6\", \"caxis\": {\"gridcolor\": \"white\", \"linecolor\": \"white\", \"ticks\": \"\"}}, \"title\": {\"x\": 0.05}, \"xaxis\": {\"automargin\": true, \"gridcolor\": \"white\", \"linecolor\": \"white\", \"ticks\": \"\", \"title\": {\"standoff\": 15}, \"zerolinecolor\": \"white\", \"zerolinewidth\": 2}, \"yaxis\": {\"automargin\": true, \"gridcolor\": \"white\", \"linecolor\": \"white\", \"ticks\": \"\", \"title\": {\"standoff\": 15}, \"zerolinecolor\": \"white\", \"zerolinewidth\": 2}}}, \"title\": {\"text\": \"AMZN\"}, \"xaxis\": {\"anchor\": \"y\", \"domain\": [0.0, 1.0], \"title\": {\"text\": \"^IXIC\"}}, \"yaxis\": {\"anchor\": \"x\", \"domain\": [0.0, 1.0], \"title\": {\"text\": \"AMZN\"}}},\n",
              "                        {\"responsive\": true}\n",
              "                    ).then(function(){\n",
              "                            \n",
              "var gd = document.getElementById('1d50ad77-860c-451a-b7a5-6b671b6e9701');\n",
              "var x = new MutationObserver(function (mutations, observer) {{\n",
              "        var display = window.getComputedStyle(gd).display;\n",
              "        if (!display || display === 'none') {{\n",
              "            console.log([gd, 'removed!']);\n",
              "            Plotly.purge(gd);\n",
              "            observer.disconnect();\n",
              "        }}\n",
              "}});\n",
              "\n",
              "// Listen for the removal of the full notebook cells\n",
              "var notebookContainer = gd.closest('#notebook-container');\n",
              "if (notebookContainer) {{\n",
              "    x.observe(notebookContainer, {childList: true});\n",
              "}}\n",
              "\n",
              "// Listen for the clearing of the current output cell\n",
              "var outputEl = gd.closest('.output');\n",
              "if (outputEl) {{\n",
              "    x.observe(outputEl, {childList: true});\n",
              "}}\n",
              "\n",
              "                        })\n",
              "                };\n",
              "                \n",
              "            </script>\n",
              "        </div>\n",
              "</body>\n",
              "</html>"
            ]
          },
          "metadata": {}
        },
        {
          "output_type": "display_data",
          "data": {
            "text/html": [
              "<html>\n",
              "<head><meta charset=\"utf-8\" /></head>\n",
              "<body>\n",
              "    <div>\n",
              "            <script src=\"https://cdnjs.cloudflare.com/ajax/libs/mathjax/2.7.5/MathJax.js?config=TeX-AMS-MML_SVG\"></script><script type=\"text/javascript\">if (window.MathJax) {MathJax.Hub.Config({SVG: {font: \"STIX-Web\"}});}</script>\n",
              "                <script type=\"text/javascript\">window.PlotlyConfig = {MathJaxConfig: 'local'};</script>\n",
              "        <script src=\"https://cdn.plot.ly/plotly-latest.min.js\"></script>    \n",
              "            <div id=\"2e5436c9-5bca-4d6d-a83a-5ac2fdb2b7ce\" class=\"plotly-graph-div\" style=\"height:525px; width:100%;\"></div>\n",
              "            <script type=\"text/javascript\">\n",
              "                \n",
              "                    window.PLOTLYENV=window.PLOTLYENV || {};\n",
              "                    \n",
              "                if (document.getElementById(\"2e5436c9-5bca-4d6d-a83a-5ac2fdb2b7ce\")) {\n",
              "                    Plotly.newPlot(\n",
              "                        '2e5436c9-5bca-4d6d-a83a-5ac2fdb2b7ce',\n",
              "                        [{\"hoverlabel\": {\"namelength\": 0}, \"hovertemplate\": \"^IXIC=%{x}<br>ASML=%{y}\", \"legendgroup\": \"\", \"marker\": {\"color\": \"#636efa\", \"symbol\": \"circle\"}, \"mode\": \"markers\", \"name\": \"\", \"showlegend\": false, \"type\": \"scatter\", \"x\": [0.0, -0.7855191660339514, 0.5620384728471665, -0.031854247708491115, 0.6689046766684335, 0.8126574744484102, -0.2669584793033168, 1.0357422631592443, -0.24368967780143092, 0.0796654872895177, 1.063104814105905, 0.33996051431786484, -0.19310868474221926, 0.13830140117838088, 0.19939681423002234, -0.9313533039610973, -1.8851559810233676, 1.4264766521421406, 0.05912252564012881, 0.256270844379793, -1.591465499641676, 1.3382226873668104, 2.0981444534002978, 0.42997561370826654, 0.6675027996624794, -0.5394882329740349, 1.1331313707803117, 0.10957991559587729, 0.9027914622439598, -0.1438442521991573, 0.19779675470939986, 0.01603656416913738, 0.8675814939226352, -0.6744295515116596, -1.7883337524623202, -3.7101888679547743, -2.7726076455074673, 0.16920121754294432, -4.613182731047064, 0.010385226940578262, 4.491457698501092, -2.9945821009265603, 3.846114054662644, -3.0993259641753057, -1.8649430797928905, -7.287402343694397, 4.950140308971453, -4.700245022770171, -9.434674309481181, 9.345998172386109, -12.321331290147407, 6.230492341201929, -4.702798877538514, 2.2996268579562185, -3.7907422283539605, -0.274003093278801, 8.121509236724387, -0.4524223861369213, 5.59620065957612, -3.7852983732224246, 3.6224507926325984, -0.952513208745505, -4.409293583528775, 1.7217390358319775, -1.52564779039222, 7.3261127035984215, -0.32831644156512807, 2.581887027561507, 0.7746996815903381, 0.47635325069293516, 3.946578856836743, -1.4392236435332642, 1.6582590775434294, 1.3803835283800632, -1.0336154480887512, -3.475170735558033, 2.8094268330097516, -0.007414416084845749, 1.6453636805085496, 1.1076542783169119, -1.4023761913732073, 3.5663232405100977, -0.2822319106313816, -3.2015075636893258, 1.2290572661607275, 1.1297604522629348, 0.5138939036791482, 1.4147842232649654, 1.5775670101657695, 0.7786102101104126, -2.0646542913830683, -1.5482267339407207, 0.9088148528970065, 0.7920624294565988, 2.443497168047047, -0.5385098407798431, 2.07597818392603, -0.9695234740358589, 0.4276841643477609, 0.16762005701490723, 0.7723653951613199, -0.4607783336758918, 1.2902124966358643, 0.6552216914685036, 0.5897171735574182, 0.7756799205120937, -0.6929795366756427, 2.061922153956055, 1.1276647530284236, 0.2921987959394443, 0.6690906379505211, -5.265476367524758, 1.012133462324583, 1.4309384280850652, 1.7463525072283153, 0.14814418617457112, 0.32813109241147087, 0.030878981402190583, 1.1095819300612568, 0.7446904378745204, -2.193189990518118, 1.088184772035845, -2.59339396463512, 1.1984014641401854, 1.8697217818384297, 0.9530027630585096, 0.5219294116244121, 2.2142310252948234, -0.8603004588705903, 1.4366969932335696, 0.5265665951870384, 0.660713703751985, -2.1342298780777758, 0.940638445445677, 0.5902625120736783, -0.7266027885626613, 0.2803210606196508, 2.512564309189163, -0.8055054192553627, 0.2412796048237268, -2.285699534902473, -0.9390717044975707, 1.6702387584650282, -1.273502800037816, 1.3540604633609157, 0.4255846926598821, 1.487181648780377, 1.4660430152948845, 0.3519290262580381, 0.5230744898274311, 0.997144293532742, -0.8740477960491844, -0.387069228834427, -1.6915932109767786, 2.1276430027220674, 0.27478301400057853, -0.21009911987774507, 1.002156815948722, 0.7287631558350716, -0.5742645841862735, 1.0630301888693465, 0.41588829566680874, 0.6004342637575202, 0.7623210596084231, 1.731917917944346, -0.34050170359683757, 0.6046278217001049, 0.68256330719148, 1.3945099510527015, 0.9780044890400321, -4.9628314741983, -1.265216148443028, -4.114152829024972, 2.709047999938783, -1.9922680048667027, -0.6047849782590421, 1.8712825719911805, 1.2089549470456218, -1.2497460486567282, -1.2686289053217388, -1.0723830833645196, -0.1341618894641025, 1.714846245401242, -3.015872690686464, 0.3694096957600452, 2.26090653310401, 1.868965865910965, -0.29035471587269224, 0.7420650470219435, 1.423773100153644, -2.220368318034313, 2.3247878019402477, -1.5697399364210516, 1.882631446703863, 0.4961095094673616, 1.3918241202884905, 2.5589020749867237, -0.10406790726970577, -0.802180722540493, -0.4661535218957812, -0.361200409870677, -1.6508478266271756, 0.32764827183891476, -0.2761240971887628, 0.1856326565180225, 0.3673776458871612, -1.6395501257923704, 0.6374642083539132, -3.7307886361706455, 1.64217954994535, -2.449580253052983, 0.421758043250314, 1.852228309145515, 3.8547309760295905, 2.5895531360416695, 0.03616858700729745, -1.5254029401884093, -1.3652289708527225, 2.0129145485651314, -0.6519348588783579, 1.0222407181613629, 0.8017374114323119, -0.20789809660017614, -0.821392074337107, 0.8736981000490036, -0.4178197918152635, 0.2164506265461421, 1.314409739132722, 0.4786188956984337, 0.9214943705385352, -0.05824563817777561, 1.281854635668546, -0.04646040554606666, 0.22519019228191595, 0.703316776906088, 0.44703703692096414, 0.5017538804668705, -1.9377239274069296, 0.541856267686367, -0.2252126551407012, 0.5022667170232535, 1.2461337002391393, 0.5012350995449372, 0.8418230939438529, -0.07137117109618285, -0.10285738347200132, 0.5132453630116934, -0.28739694296208024, 0.26325132476352536, 0.7394880615104708, -0.38141401404466013, 0.1539294569151412], \"xaxis\": \"x\", \"y\": [0.0, -1.6114538704567503, -0.7954427794136959, 1.0860160119687534, 1.0375132589512586, -0.16893543771412298, -1.7253913633499733, 1.7793100442591043, 0.3648963932931592, -0.8163886052221557, 0.3332403377848049, -0.3454057476476439, -0.546602584165919, -0.7205076649278183, -0.6514763917727052, 0.5130425193549034, -3.9042615801812293, 2.0754165639220177, 2.0538962187468273, -0.5943027563355571, -4.660657127394631, 2.6722723194121767, 3.8416137150259564, 2.369412492701077, 1.054451302738065, -1.4795631911182514, 1.544423203672139, 2.0440392840856614, 0.45251893280699235, -0.0598571716246071, -0.2994456415586125, -2.2510303582485385, 2.6554258788286966, -1.2350829725899926, -2.3830075563653788, -5.098034466594308, -2.000691206261265, 0.6078860137495675, -3.1747692366763522, -0.1875604366667175, 3.8957718484443173, -1.1096160024628294, 6.088646099047653, -4.4295523554355665, -0.048573915271836084, -8.399568088728312, 6.005834281140738, -5.583344675267993, -8.855164249349007, 6.7289728976681635, -10.737503528116195, 3.915249667523985, -17.349160186379358, 8.650174556866974, 0.9671603105872759, 7.889858831388982, 11.606264777402044, 0.7148040789321434, 5.277220550015224, -8.437841555666612, 6.100079549486473, -2.384054945379065, -4.827257680790384, -0.6947443195558478, -1.0797474024732499, 10.841743403029392, 0.5384835556817031, 2.197432707092767, -0.6353556649313625, -0.9790073889644461, 5.4104335311660625, -2.228927664166234, 3.508093396987922, 1.1115037533476388, -1.3766446086833541, -3.5976259417965992, 4.937922760775491, -1.888338139738132, 1.353747497590292, -0.32209862509558257, 0.17876496172951115, 4.217281708661477, -5.031119434671444, -3.2486164892115457, 1.4763843573790205, 1.8256966161274986, 1.231136012510513, 2.6344680570669134, 1.6055269805820542, -0.0032804703205251656, -2.5493623515424924, -0.8090856744571371, 2.827711014481857, -3.308531970197742, 4.2216370201101405, 0.44605174369529416, 6.331437338359355, -2.0421382433067023, 0.11598958077982718, 0.15656134221165288, -0.4158004557417369, 0.452078885725431, 2.9815352861853475, -0.8436776996213107, 2.448504905595579, 3.4565029178700537, 1.9665049746211627, 1.163946866329361, -2.2311130492597977, 0.022899982325753174, -0.4036264282165921, -4.3199499378904145, 3.058057035748202, 2.0229213006565474, 0.5828263862437769, 2.942768994453633, -0.9740375075105143, 0.49878247385627794, 1.0036801121369756, 0.6450906596803493, -1.380103348735695, 1.3745274626348463, -1.3067783705660572, 0.8430966735451134, 0.8826485638884477, -0.11955210372046648, 1.531597067500989, 3.279562115845146, -0.8924360981031658, 2.5941086745221424, 0.7118588261118384, 0.28627576380680986, -1.8264473708619586, 2.112597940049988, -5.392734985028698, 2.6076767730997363, -0.4231301694363148, 2.056892635269935, -1.9566832309690056, 2.287529351904975, -2.1319398020270617, -4.30732010837331, 3.8348577087154716, -1.4196630588865495, -3.1193585385046623, -0.5183424569088648, -2.4839427164148105, 3.644118817928958, 1.0146980868391884, -0.4914420159734212, 0.19537815966830488, -0.8558306552738985, -0.18029668839442783, -1.1220346479415646, 3.7364121711366356, -0.013337480221262812, -0.9766272728085142, 1.9967612077504155, -0.34080337023881646, -0.6044240097227832, -0.7387811639116059, -0.013448601081303852, 1.5774548339939503, 0.7513369759871463, 1.336570325513444, -2.513483558549611, 0.8638586360872993, -1.3940470780961092, 3.3994344978018924, 2.9956023542207744, -5.603649944130047, -2.32347685679662, -5.462424117899458, 3.460492020243818, -0.6594882607071192, 0.6246549310593675, 2.4246311507869645, 0.627810359701825, -2.1255829940746676, 1.2031468129764278, -0.10907287968488083, -1.0154375936265232, 0.5570597305567564, -1.9416551297596587, 0.7271630484099377, 0.0888507684162519, 2.934970134202818, 0.7923219149140361, -1.264711321394739, 3.450060482270599, -3.1438972286745637, 3.2729681839417815, -3.1404612981970352, 1.537382063048529, 1.3544518215546395, 2.1265932206507148, 2.5836137196111943, 1.5311799893187994, -1.7573800657552923, -2.879169075108812, 0.08536375610700576, -0.4109610145715694, -0.09084208588165506, -0.509136725518956, -1.9582341677402502, 0.8149225090052812, -2.924244496380295, -0.30476237297108655, -0.958058170842623, 2.2047073543139177, -2.6020561307165524, 1.499658687104327, 1.8756365035764881, 2.9403882007709, 3.9660536361052268, 2.021649633510429, 0.022150338263541562, -1.7301157174197557, 4.695716840483737, -1.2749656832932383, 1.664566254351057, 1.649231186695859, -0.00703254561646362, -0.6260625811401133, -0.1061818981204078, 0.05432939881971821, 0.8404381420113939, -0.674234672674067, -0.18619937364120662, 3.3744134594063753, -0.009130885794502075, 2.6294737647304043, 0.39177375937457903, 0.4212858549870811, 2.536985955882507, 1.1498960313981883, -0.24695513653782722, -3.3463512434598277, 1.0841438404813264, -1.1293103356060783, 0.0795341336469619, 3.600522175746692, 0.4751758137467333, 1.2236750924891464, -0.012568410467356985, -1.0435015939837973, 0.8300527615616945, -0.32761154025630446, 1.784590145539879, -0.5899582788155066, 0.7850313975594476, 1.218979242737728], \"yaxis\": \"y\"}],\n",
              "                        {\"legend\": {\"tracegroupgap\": 0}, \"template\": {\"data\": {\"bar\": [{\"error_x\": {\"color\": \"#2a3f5f\"}, \"error_y\": {\"color\": \"#2a3f5f\"}, \"marker\": {\"line\": {\"color\": \"#E5ECF6\", \"width\": 0.5}}, \"type\": \"bar\"}], \"barpolar\": [{\"marker\": {\"line\": {\"color\": \"#E5ECF6\", \"width\": 0.5}}, \"type\": \"barpolar\"}], \"carpet\": [{\"aaxis\": {\"endlinecolor\": \"#2a3f5f\", \"gridcolor\": \"white\", \"linecolor\": \"white\", \"minorgridcolor\": \"white\", \"startlinecolor\": \"#2a3f5f\"}, \"baxis\": {\"endlinecolor\": \"#2a3f5f\", \"gridcolor\": \"white\", \"linecolor\": \"white\", \"minorgridcolor\": \"white\", \"startlinecolor\": \"#2a3f5f\"}, \"type\": \"carpet\"}], \"choropleth\": [{\"colorbar\": {\"outlinewidth\": 0, \"ticks\": \"\"}, \"type\": \"choropleth\"}], \"contour\": [{\"colorbar\": {\"outlinewidth\": 0, \"ticks\": \"\"}, \"colorscale\": [[0.0, \"#0d0887\"], [0.1111111111111111, \"#46039f\"], [0.2222222222222222, \"#7201a8\"], [0.3333333333333333, \"#9c179e\"], [0.4444444444444444, \"#bd3786\"], [0.5555555555555556, \"#d8576b\"], [0.6666666666666666, \"#ed7953\"], [0.7777777777777778, \"#fb9f3a\"], [0.8888888888888888, \"#fdca26\"], [1.0, \"#f0f921\"]], \"type\": \"contour\"}], \"contourcarpet\": [{\"colorbar\": {\"outlinewidth\": 0, \"ticks\": \"\"}, \"type\": \"contourcarpet\"}], \"heatmap\": [{\"colorbar\": {\"outlinewidth\": 0, \"ticks\": \"\"}, \"colorscale\": [[0.0, \"#0d0887\"], [0.1111111111111111, \"#46039f\"], [0.2222222222222222, \"#7201a8\"], [0.3333333333333333, \"#9c179e\"], [0.4444444444444444, \"#bd3786\"], [0.5555555555555556, \"#d8576b\"], [0.6666666666666666, \"#ed7953\"], [0.7777777777777778, \"#fb9f3a\"], [0.8888888888888888, \"#fdca26\"], [1.0, \"#f0f921\"]], \"type\": \"heatmap\"}], \"heatmapgl\": [{\"colorbar\": {\"outlinewidth\": 0, \"ticks\": \"\"}, \"colorscale\": [[0.0, \"#0d0887\"], [0.1111111111111111, \"#46039f\"], [0.2222222222222222, \"#7201a8\"], [0.3333333333333333, \"#9c179e\"], [0.4444444444444444, \"#bd3786\"], [0.5555555555555556, \"#d8576b\"], [0.6666666666666666, \"#ed7953\"], [0.7777777777777778, \"#fb9f3a\"], [0.8888888888888888, \"#fdca26\"], [1.0, \"#f0f921\"]], \"type\": \"heatmapgl\"}], \"histogram\": [{\"marker\": {\"colorbar\": {\"outlinewidth\": 0, \"ticks\": \"\"}}, \"type\": \"histogram\"}], \"histogram2d\": [{\"colorbar\": {\"outlinewidth\": 0, \"ticks\": \"\"}, \"colorscale\": [[0.0, \"#0d0887\"], [0.1111111111111111, \"#46039f\"], [0.2222222222222222, \"#7201a8\"], [0.3333333333333333, \"#9c179e\"], [0.4444444444444444, \"#bd3786\"], [0.5555555555555556, \"#d8576b\"], [0.6666666666666666, \"#ed7953\"], [0.7777777777777778, \"#fb9f3a\"], [0.8888888888888888, \"#fdca26\"], [1.0, \"#f0f921\"]], \"type\": \"histogram2d\"}], \"histogram2dcontour\": [{\"colorbar\": {\"outlinewidth\": 0, \"ticks\": \"\"}, \"colorscale\": [[0.0, \"#0d0887\"], [0.1111111111111111, \"#46039f\"], [0.2222222222222222, \"#7201a8\"], [0.3333333333333333, \"#9c179e\"], [0.4444444444444444, \"#bd3786\"], [0.5555555555555556, \"#d8576b\"], [0.6666666666666666, \"#ed7953\"], [0.7777777777777778, \"#fb9f3a\"], [0.8888888888888888, \"#fdca26\"], [1.0, \"#f0f921\"]], \"type\": \"histogram2dcontour\"}], \"mesh3d\": [{\"colorbar\": {\"outlinewidth\": 0, \"ticks\": \"\"}, \"type\": \"mesh3d\"}], \"parcoords\": [{\"line\": {\"colorbar\": {\"outlinewidth\": 0, \"ticks\": \"\"}}, \"type\": \"parcoords\"}], \"pie\": [{\"automargin\": true, \"type\": \"pie\"}], \"scatter\": [{\"marker\": {\"colorbar\": {\"outlinewidth\": 0, \"ticks\": \"\"}}, \"type\": \"scatter\"}], \"scatter3d\": [{\"line\": {\"colorbar\": {\"outlinewidth\": 0, \"ticks\": \"\"}}, \"marker\": {\"colorbar\": {\"outlinewidth\": 0, \"ticks\": \"\"}}, \"type\": \"scatter3d\"}], \"scattercarpet\": [{\"marker\": {\"colorbar\": {\"outlinewidth\": 0, \"ticks\": \"\"}}, \"type\": \"scattercarpet\"}], \"scattergeo\": [{\"marker\": {\"colorbar\": {\"outlinewidth\": 0, \"ticks\": \"\"}}, \"type\": \"scattergeo\"}], \"scattergl\": [{\"marker\": {\"colorbar\": {\"outlinewidth\": 0, \"ticks\": \"\"}}, \"type\": \"scattergl\"}], \"scattermapbox\": [{\"marker\": {\"colorbar\": {\"outlinewidth\": 0, \"ticks\": \"\"}}, \"type\": \"scattermapbox\"}], \"scatterpolar\": [{\"marker\": {\"colorbar\": {\"outlinewidth\": 0, \"ticks\": \"\"}}, \"type\": \"scatterpolar\"}], \"scatterpolargl\": [{\"marker\": {\"colorbar\": {\"outlinewidth\": 0, \"ticks\": \"\"}}, \"type\": \"scatterpolargl\"}], \"scatterternary\": [{\"marker\": {\"colorbar\": {\"outlinewidth\": 0, \"ticks\": \"\"}}, \"type\": \"scatterternary\"}], \"surface\": [{\"colorbar\": {\"outlinewidth\": 0, \"ticks\": \"\"}, \"colorscale\": [[0.0, \"#0d0887\"], [0.1111111111111111, \"#46039f\"], [0.2222222222222222, \"#7201a8\"], [0.3333333333333333, \"#9c179e\"], [0.4444444444444444, \"#bd3786\"], [0.5555555555555556, \"#d8576b\"], [0.6666666666666666, \"#ed7953\"], [0.7777777777777778, \"#fb9f3a\"], [0.8888888888888888, \"#fdca26\"], [1.0, \"#f0f921\"]], \"type\": \"surface\"}], \"table\": [{\"cells\": {\"fill\": {\"color\": \"#EBF0F8\"}, \"line\": {\"color\": \"white\"}}, \"header\": {\"fill\": {\"color\": \"#C8D4E3\"}, \"line\": {\"color\": \"white\"}}, \"type\": \"table\"}]}, \"layout\": {\"annotationdefaults\": {\"arrowcolor\": \"#2a3f5f\", \"arrowhead\": 0, \"arrowwidth\": 1}, \"coloraxis\": {\"colorbar\": {\"outlinewidth\": 0, \"ticks\": \"\"}}, \"colorscale\": {\"diverging\": [[0, \"#8e0152\"], [0.1, \"#c51b7d\"], [0.2, \"#de77ae\"], [0.3, \"#f1b6da\"], [0.4, \"#fde0ef\"], [0.5, \"#f7f7f7\"], [0.6, \"#e6f5d0\"], [0.7, \"#b8e186\"], [0.8, \"#7fbc41\"], [0.9, \"#4d9221\"], [1, \"#276419\"]], \"sequential\": [[0.0, \"#0d0887\"], [0.1111111111111111, \"#46039f\"], [0.2222222222222222, \"#7201a8\"], [0.3333333333333333, \"#9c179e\"], [0.4444444444444444, \"#bd3786\"], [0.5555555555555556, \"#d8576b\"], [0.6666666666666666, \"#ed7953\"], [0.7777777777777778, \"#fb9f3a\"], [0.8888888888888888, \"#fdca26\"], [1.0, \"#f0f921\"]], \"sequentialminus\": [[0.0, \"#0d0887\"], [0.1111111111111111, \"#46039f\"], [0.2222222222222222, \"#7201a8\"], [0.3333333333333333, \"#9c179e\"], [0.4444444444444444, \"#bd3786\"], [0.5555555555555556, \"#d8576b\"], [0.6666666666666666, \"#ed7953\"], [0.7777777777777778, \"#fb9f3a\"], [0.8888888888888888, \"#fdca26\"], [1.0, \"#f0f921\"]]}, \"colorway\": [\"#636efa\", \"#EF553B\", \"#00cc96\", \"#ab63fa\", \"#FFA15A\", \"#19d3f3\", \"#FF6692\", \"#B6E880\", \"#FF97FF\", \"#FECB52\"], \"font\": {\"color\": \"#2a3f5f\"}, \"geo\": {\"bgcolor\": \"white\", \"lakecolor\": \"white\", \"landcolor\": \"#E5ECF6\", \"showlakes\": true, \"showland\": true, \"subunitcolor\": \"white\"}, \"hoverlabel\": {\"align\": \"left\"}, \"hovermode\": \"closest\", \"mapbox\": {\"style\": \"light\"}, \"paper_bgcolor\": \"white\", \"plot_bgcolor\": \"#E5ECF6\", \"polar\": {\"angularaxis\": {\"gridcolor\": \"white\", \"linecolor\": \"white\", \"ticks\": \"\"}, \"bgcolor\": \"#E5ECF6\", \"radialaxis\": {\"gridcolor\": \"white\", \"linecolor\": \"white\", \"ticks\": \"\"}}, \"scene\": {\"xaxis\": {\"backgroundcolor\": \"#E5ECF6\", \"gridcolor\": \"white\", \"gridwidth\": 2, \"linecolor\": \"white\", \"showbackground\": true, \"ticks\": \"\", \"zerolinecolor\": \"white\"}, \"yaxis\": {\"backgroundcolor\": \"#E5ECF6\", \"gridcolor\": \"white\", \"gridwidth\": 2, \"linecolor\": \"white\", \"showbackground\": true, \"ticks\": \"\", \"zerolinecolor\": \"white\"}, \"zaxis\": {\"backgroundcolor\": \"#E5ECF6\", \"gridcolor\": \"white\", \"gridwidth\": 2, \"linecolor\": \"white\", \"showbackground\": true, \"ticks\": \"\", \"zerolinecolor\": \"white\"}}, \"shapedefaults\": {\"line\": {\"color\": \"#2a3f5f\"}}, \"ternary\": {\"aaxis\": {\"gridcolor\": \"white\", \"linecolor\": \"white\", \"ticks\": \"\"}, \"baxis\": {\"gridcolor\": \"white\", \"linecolor\": \"white\", \"ticks\": \"\"}, \"bgcolor\": \"#E5ECF6\", \"caxis\": {\"gridcolor\": \"white\", \"linecolor\": \"white\", \"ticks\": \"\"}}, \"title\": {\"x\": 0.05}, \"xaxis\": {\"automargin\": true, \"gridcolor\": \"white\", \"linecolor\": \"white\", \"ticks\": \"\", \"title\": {\"standoff\": 15}, \"zerolinecolor\": \"white\", \"zerolinewidth\": 2}, \"yaxis\": {\"automargin\": true, \"gridcolor\": \"white\", \"linecolor\": \"white\", \"ticks\": \"\", \"title\": {\"standoff\": 15}, \"zerolinecolor\": \"white\", \"zerolinewidth\": 2}}}, \"title\": {\"text\": \"ASML\"}, \"xaxis\": {\"anchor\": \"y\", \"domain\": [0.0, 1.0], \"title\": {\"text\": \"^IXIC\"}}, \"yaxis\": {\"anchor\": \"x\", \"domain\": [0.0, 1.0], \"title\": {\"text\": \"ASML\"}}},\n",
              "                        {\"responsive\": true}\n",
              "                    ).then(function(){\n",
              "                            \n",
              "var gd = document.getElementById('2e5436c9-5bca-4d6d-a83a-5ac2fdb2b7ce');\n",
              "var x = new MutationObserver(function (mutations, observer) {{\n",
              "        var display = window.getComputedStyle(gd).display;\n",
              "        if (!display || display === 'none') {{\n",
              "            console.log([gd, 'removed!']);\n",
              "            Plotly.purge(gd);\n",
              "            observer.disconnect();\n",
              "        }}\n",
              "}});\n",
              "\n",
              "// Listen for the removal of the full notebook cells\n",
              "var notebookContainer = gd.closest('#notebook-container');\n",
              "if (notebookContainer) {{\n",
              "    x.observe(notebookContainer, {childList: true});\n",
              "}}\n",
              "\n",
              "// Listen for the clearing of the current output cell\n",
              "var outputEl = gd.closest('.output');\n",
              "if (outputEl) {{\n",
              "    x.observe(outputEl, {childList: true});\n",
              "}}\n",
              "\n",
              "                        })\n",
              "                };\n",
              "                \n",
              "            </script>\n",
              "        </div>\n",
              "</body>\n",
              "</html>"
            ]
          },
          "metadata": {}
        },
        {
          "output_type": "display_data",
          "data": {
            "text/html": [
              "<html>\n",
              "<head><meta charset=\"utf-8\" /></head>\n",
              "<body>\n",
              "    <div>\n",
              "            <script src=\"https://cdnjs.cloudflare.com/ajax/libs/mathjax/2.7.5/MathJax.js?config=TeX-AMS-MML_SVG\"></script><script type=\"text/javascript\">if (window.MathJax) {MathJax.Hub.Config({SVG: {font: \"STIX-Web\"}});}</script>\n",
              "                <script type=\"text/javascript\">window.PlotlyConfig = {MathJaxConfig: 'local'};</script>\n",
              "        <script src=\"https://cdn.plot.ly/plotly-latest.min.js\"></script>    \n",
              "            <div id=\"ced8663e-2bed-4dc3-b303-c569e7c78e24\" class=\"plotly-graph-div\" style=\"height:525px; width:100%;\"></div>\n",
              "            <script type=\"text/javascript\">\n",
              "                \n",
              "                    window.PLOTLYENV=window.PLOTLYENV || {};\n",
              "                    \n",
              "                if (document.getElementById(\"ced8663e-2bed-4dc3-b303-c569e7c78e24\")) {\n",
              "                    Plotly.newPlot(\n",
              "                        'ced8663e-2bed-4dc3-b303-c569e7c78e24',\n",
              "                        [{\"hoverlabel\": {\"namelength\": 0}, \"hovertemplate\": \"^IXIC=%{x}<br>FB=%{y}\", \"legendgroup\": \"\", \"marker\": {\"color\": \"#636efa\", \"symbol\": \"circle\"}, \"mode\": \"markers\", \"name\": \"\", \"showlegend\": false, \"type\": \"scatter\", \"x\": [0.0, -0.7855191660339514, 0.5620384728471665, -0.031854247708491115, 0.6689046766684335, 0.8126574744484102, -0.2669584793033168, 1.0357422631592443, -0.24368967780143092, 0.0796654872895177, 1.063104814105905, 0.33996051431786484, -0.19310868474221926, 0.13830140117838088, 0.19939681423002234, -0.9313533039610973, -1.8851559810233676, 1.4264766521421406, 0.05912252564012881, 0.256270844379793, -1.591465499641676, 1.3382226873668104, 2.0981444534002978, 0.42997561370826654, 0.6675027996624794, -0.5394882329740349, 1.1331313707803117, 0.10957991559587729, 0.9027914622439598, -0.1438442521991573, 0.19779675470939986, 0.01603656416913738, 0.8675814939226352, -0.6744295515116596, -1.7883337524623202, -3.7101888679547743, -2.7726076455074673, 0.16920121754294432, -4.613182731047064, 0.010385226940578262, 4.491457698501092, -2.9945821009265603, 3.846114054662644, -3.0993259641753057, -1.8649430797928905, -7.287402343694397, 4.950140308971453, -4.700245022770171, -9.434674309481181, 9.345998172386109, -12.321331290147407, 6.230492341201929, -4.702798877538514, 2.2996268579562185, -3.7907422283539605, -0.274003093278801, 8.121509236724387, -0.4524223861369213, 5.59620065957612, -3.7852983732224246, 3.6224507926325984, -0.952513208745505, -4.409293583528775, 1.7217390358319775, -1.52564779039222, 7.3261127035984215, -0.32831644156512807, 2.581887027561507, 0.7746996815903381, 0.47635325069293516, 3.946578856836743, -1.4392236435332642, 1.6582590775434294, 1.3803835283800632, -1.0336154480887512, -3.475170735558033, 2.8094268330097516, -0.007414416084845749, 1.6453636805085496, 1.1076542783169119, -1.4023761913732073, 3.5663232405100977, -0.2822319106313816, -3.2015075636893258, 1.2290572661607275, 1.1297604522629348, 0.5138939036791482, 1.4147842232649654, 1.5775670101657695, 0.7786102101104126, -2.0646542913830683, -1.5482267339407207, 0.9088148528970065, 0.7920624294565988, 2.443497168047047, -0.5385098407798431, 2.07597818392603, -0.9695234740358589, 0.4276841643477609, 0.16762005701490723, 0.7723653951613199, -0.4607783336758918, 1.2902124966358643, 0.6552216914685036, 0.5897171735574182, 0.7756799205120937, -0.6929795366756427, 2.061922153956055, 1.1276647530284236, 0.2921987959394443, 0.6690906379505211, -5.265476367524758, 1.012133462324583, 1.4309384280850652, 1.7463525072283153, 0.14814418617457112, 0.32813109241147087, 0.030878981402190583, 1.1095819300612568, 0.7446904378745204, -2.193189990518118, 1.088184772035845, -2.59339396463512, 1.1984014641401854, 1.8697217818384297, 0.9530027630585096, 0.5219294116244121, 2.2142310252948234, -0.8603004588705903, 1.4366969932335696, 0.5265665951870384, 0.660713703751985, -2.1342298780777758, 0.940638445445677, 0.5902625120736783, -0.7266027885626613, 0.2803210606196508, 2.512564309189163, -0.8055054192553627, 0.2412796048237268, -2.285699534902473, -0.9390717044975707, 1.6702387584650282, -1.273502800037816, 1.3540604633609157, 0.4255846926598821, 1.487181648780377, 1.4660430152948845, 0.3519290262580381, 0.5230744898274311, 0.997144293532742, -0.8740477960491844, -0.387069228834427, -1.6915932109767786, 2.1276430027220674, 0.27478301400057853, -0.21009911987774507, 1.002156815948722, 0.7287631558350716, -0.5742645841862735, 1.0630301888693465, 0.41588829566680874, 0.6004342637575202, 0.7623210596084231, 1.731917917944346, -0.34050170359683757, 0.6046278217001049, 0.68256330719148, 1.3945099510527015, 0.9780044890400321, -4.9628314741983, -1.265216148443028, -4.114152829024972, 2.709047999938783, -1.9922680048667027, -0.6047849782590421, 1.8712825719911805, 1.2089549470456218, -1.2497460486567282, -1.2686289053217388, -1.0723830833645196, -0.1341618894641025, 1.714846245401242, -3.015872690686464, 0.3694096957600452, 2.26090653310401, 1.868965865910965, -0.29035471587269224, 0.7420650470219435, 1.423773100153644, -2.220368318034313, 2.3247878019402477, -1.5697399364210516, 1.882631446703863, 0.4961095094673616, 1.3918241202884905, 2.5589020749867237, -0.10406790726970577, -0.802180722540493, -0.4661535218957812, -0.361200409870677, -1.6508478266271756, 0.32764827183891476, -0.2761240971887628, 0.1856326565180225, 0.3673776458871612, -1.6395501257923704, 0.6374642083539132, -3.7307886361706455, 1.64217954994535, -2.449580253052983, 0.421758043250314, 1.852228309145515, 3.8547309760295905, 2.5895531360416695, 0.03616858700729745, -1.5254029401884093, -1.3652289708527225, 2.0129145485651314, -0.6519348588783579, 1.0222407181613629, 0.8017374114323119, -0.20789809660017614, -0.821392074337107, 0.8736981000490036, -0.4178197918152635, 0.2164506265461421, 1.314409739132722, 0.4786188956984337, 0.9214943705385352, -0.05824563817777561, 1.281854635668546, -0.04646040554606666, 0.22519019228191595, 0.703316776906088, 0.44703703692096414, 0.5017538804668705, -1.9377239274069296, 0.541856267686367, -0.2252126551407012, 0.5022667170232535, 1.2461337002391393, 0.5012350995449372, 0.8418230939438529, -0.07137117109618285, -0.10285738347200132, 0.5132453630116934, -0.28739694296208024, 0.26325132476352536, 0.7394880615104708, -0.38141401404466013, 0.1539294569151412], \"xaxis\": \"x\", \"y\": [0.0, -0.5291260448139101, 1.8833603148778788, 0.21636474217886603, 1.013800660311822, 1.4310946071857964, -0.10994296372371486, 1.7655719281942623, -1.2843071770009875, 0.9540748476141093, 0.2803574013512188, 0.1668373134596388, -0.31511522020595034, -0.05418854582032942, -0.7048675066676191, -0.8281726023491842, -1.4086479259557363, 1.3589604110861457, 2.497820197945994, -6.137166693746467, -3.6367084243692616, 1.1292153622622818, 2.7621329752747688, 0.13344077436663082, 0.35219908191633426, 0.7019187501528774, 0.3438024401845485, -2.7550902020325, 1.7230522821386078, 1.1292488825412763, 0.48793904903394775, 1.690172051437324, -0.14233129212586945, -1.3379942013937, -2.0505215386929194, -4.50090007837753, -1.9679139718113792, 0.21852552037649667, -3.7778889774514246, 1.4334657289608037, 2.062659736854665, -5.370598106617641, 3.1577788673199483, -3.4365855896265693, -2.203381687854302, -6.40013063795373, 5.126845098174779, -4.46152805394139, -9.263395067908512, 10.234995425425545, -14.252997678205148, 2.335459071570422, -1.6463602497817438, 4.198419901380632, -2.22034157046844, -1.0886192950873383, 8.696819104126757, -2.9630942603235932, 4.564361639829882, -4.010042364766714, 5.842211910420131, 0.5122061579674098, -4.316544854023797, -0.883460907385464, -2.53493248861306, 7.374504420872616, 1.981273765528963, 3.2280974288538515, 0.5221503720927708, -0.22832875717735315, 1.9337519381211952, -0.6735123536928591, -0.40684930538323033, 1.6964570173980495, -0.5579111634417677, -4.174148458322166, 6.721308853876461, 1.5635319961606917, 2.668396430137447, -1.3521372258564013, -2.447998046875, 6.166966570146966, 5.417376868119244, -1.1919312009093705, 1.4782173190382866, 0.8818147061396966, 0.6760968981337515, 1.3383188323480177, 0.5159574103105531, 0.3908578047607995, -1.4447821925530693, -2.379819064610839, 0.8337354481672119, 1.9679935072121593, 1.0954085285977833, 1.7308515404799156, 6.035593896709651, 0.6174710446614011, 1.5212430449655856, -1.1536361464474778, -1.3178284232604143, -1.6060018702904373, -0.16411353009766613, 3.0299024546524023, 0.3492723667815161, -1.100033321229636, -1.681443480361602, 1.9797653980498229, 0.27299458870730614, 3.1417478237761483, -0.8128388386851191, -5.195794058102515, 1.849133044026194, 1.7149348751176468, 1.3548360845094085, -0.050920908251841965, 0.17407704506191948, 1.2079303277257252, 0.18007787037166614, 1.2624380307040872, -3.393329356960855, 0.7093361135861055, -8.316357541511703, 2.1103283598447256, 2.9142530603505716, 4.615314832211789, -1.7385833844475462, 2.9389086899856856, 0.24138581405081225, 1.1292872265259914, 0.37769856393359275, 0.233131829946319, -2.476846265478888, 0.30543754290337344, 0.2294260466190926, 0.2705151905221252, 0.45656669445713216, 1.4006525665191287, -1.4953949133431712, -0.777664894648397, -3.0308038361030323, -0.8125534566010792, 1.2093074443853828, -1.4475395643736617, 1.3775413854545784, 0.5186706454155968, 8.174839304454292, -0.6741007874093424, -0.8453741967197965, -0.28419593670231935, 6.486835251625473, 1.191195595842256, -2.0265245089891795, -2.6121654437975286, 1.4680083137254154, 0.5425268633112246, -0.022961179256268015, -0.030618042893763686, 0.4518274847736381, 0.09529618185936205, 2.444881190170455, -0.7434667586319558, 1.6403897691540343, 3.47470141375577, 8.2223473170244, -3.5174894911624945, 0.15005880894020784, -0.1566408259013031, 0.7639802664105355, 2.389655260036744, -3.761985085227273, -2.881967666797353, -4.092245914699956, 0.944091135868159, -2.0568481870906363, -0.5520575204390598, -0.1725334684938983, 2.3558217828434906, -3.2670229701840294, -3.3014503840927816, -0.8986769009892525, -1.7344493343305658, 2.659684169191966, -2.2492623071792197, 0.20480061765557428, 2.1199890076546497, 0.7848677272249317, 1.9352079584784132, 0.04201281484110844, 1.8060370739060254, -2.5090958702665875, 1.811953301085244, -2.2633630729339576, -0.20877156780191441, 2.1850359348863737, 0.26160237179979656, 4.273014661130843, 0.14143776915231188, -1.5644264123468983, -1.8762438253606881, -0.29619396419699534, -1.7034553845228722, 2.3565431545299753, 4.174769595476701, -0.21885546769147388, 2.3982502318554713, -2.696731964930558, 2.230169795404137, -5.513782571230571, 4.916491382806384, -6.309867915812209, -0.6651210890615511, 1.507500253379049, 8.322660424347346, 2.540186397430653, -0.4309722564263696, -4.989609919809321, -2.274275061071832, 1.4866271774146391, -0.5063745509369684, 0.6798115915547912, 0.7257552480425005, -1.4195553399691783, -1.1018177379261365, 0.35665743146280715, -1.1870704936593341, -0.4709008059944351, 3.1628435657738354, -0.48028926236883707, 0.8055449218778117, -0.3023636101193438, 3.4588534967842337, 0.3385102990839934, -1.9720308593524039, -0.7628149192569974, 2.1022431564579533, -0.763356249836368, -1.933655817491526, -0.2878591939744916, -1.288253243043353, 0.2339662500449034, 0.4960010720497096, 0.043558570162523416, -0.4316764187042069, 0.6994982633733152, -1.306072876728966, -2.089523819965201, 0.381889635574934, -0.2648135070937921, 3.5901295148241363, -0.07942282335852888, -1.7739734387471364], \"yaxis\": \"y\"}],\n",
              "                        {\"legend\": {\"tracegroupgap\": 0}, \"template\": {\"data\": {\"bar\": [{\"error_x\": {\"color\": \"#2a3f5f\"}, \"error_y\": {\"color\": \"#2a3f5f\"}, \"marker\": {\"line\": {\"color\": \"#E5ECF6\", \"width\": 0.5}}, \"type\": \"bar\"}], \"barpolar\": [{\"marker\": {\"line\": {\"color\": \"#E5ECF6\", \"width\": 0.5}}, \"type\": \"barpolar\"}], \"carpet\": [{\"aaxis\": {\"endlinecolor\": \"#2a3f5f\", \"gridcolor\": \"white\", \"linecolor\": \"white\", \"minorgridcolor\": \"white\", \"startlinecolor\": \"#2a3f5f\"}, \"baxis\": {\"endlinecolor\": \"#2a3f5f\", \"gridcolor\": \"white\", \"linecolor\": \"white\", \"minorgridcolor\": \"white\", \"startlinecolor\": \"#2a3f5f\"}, \"type\": \"carpet\"}], \"choropleth\": [{\"colorbar\": {\"outlinewidth\": 0, \"ticks\": \"\"}, \"type\": \"choropleth\"}], \"contour\": [{\"colorbar\": {\"outlinewidth\": 0, \"ticks\": \"\"}, \"colorscale\": [[0.0, \"#0d0887\"], [0.1111111111111111, \"#46039f\"], [0.2222222222222222, \"#7201a8\"], [0.3333333333333333, \"#9c179e\"], [0.4444444444444444, \"#bd3786\"], [0.5555555555555556, \"#d8576b\"], [0.6666666666666666, \"#ed7953\"], [0.7777777777777778, \"#fb9f3a\"], [0.8888888888888888, \"#fdca26\"], [1.0, \"#f0f921\"]], \"type\": \"contour\"}], \"contourcarpet\": [{\"colorbar\": {\"outlinewidth\": 0, \"ticks\": \"\"}, \"type\": \"contourcarpet\"}], \"heatmap\": [{\"colorbar\": {\"outlinewidth\": 0, \"ticks\": \"\"}, \"colorscale\": [[0.0, \"#0d0887\"], [0.1111111111111111, \"#46039f\"], [0.2222222222222222, \"#7201a8\"], [0.3333333333333333, \"#9c179e\"], [0.4444444444444444, \"#bd3786\"], [0.5555555555555556, \"#d8576b\"], [0.6666666666666666, \"#ed7953\"], [0.7777777777777778, \"#fb9f3a\"], [0.8888888888888888, \"#fdca26\"], [1.0, \"#f0f921\"]], \"type\": \"heatmap\"}], \"heatmapgl\": [{\"colorbar\": {\"outlinewidth\": 0, \"ticks\": \"\"}, \"colorscale\": [[0.0, \"#0d0887\"], [0.1111111111111111, \"#46039f\"], [0.2222222222222222, \"#7201a8\"], [0.3333333333333333, \"#9c179e\"], [0.4444444444444444, \"#bd3786\"], [0.5555555555555556, \"#d8576b\"], [0.6666666666666666, \"#ed7953\"], [0.7777777777777778, \"#fb9f3a\"], [0.8888888888888888, \"#fdca26\"], [1.0, \"#f0f921\"]], \"type\": \"heatmapgl\"}], \"histogram\": [{\"marker\": {\"colorbar\": {\"outlinewidth\": 0, \"ticks\": \"\"}}, \"type\": \"histogram\"}], \"histogram2d\": [{\"colorbar\": {\"outlinewidth\": 0, \"ticks\": \"\"}, \"colorscale\": [[0.0, \"#0d0887\"], [0.1111111111111111, \"#46039f\"], [0.2222222222222222, \"#7201a8\"], [0.3333333333333333, \"#9c179e\"], [0.4444444444444444, \"#bd3786\"], [0.5555555555555556, \"#d8576b\"], [0.6666666666666666, \"#ed7953\"], [0.7777777777777778, \"#fb9f3a\"], [0.8888888888888888, \"#fdca26\"], [1.0, \"#f0f921\"]], \"type\": \"histogram2d\"}], \"histogram2dcontour\": [{\"colorbar\": {\"outlinewidth\": 0, \"ticks\": \"\"}, \"colorscale\": [[0.0, \"#0d0887\"], [0.1111111111111111, \"#46039f\"], [0.2222222222222222, \"#7201a8\"], [0.3333333333333333, \"#9c179e\"], [0.4444444444444444, \"#bd3786\"], [0.5555555555555556, \"#d8576b\"], [0.6666666666666666, \"#ed7953\"], [0.7777777777777778, \"#fb9f3a\"], [0.8888888888888888, \"#fdca26\"], [1.0, \"#f0f921\"]], \"type\": \"histogram2dcontour\"}], \"mesh3d\": [{\"colorbar\": {\"outlinewidth\": 0, \"ticks\": \"\"}, \"type\": \"mesh3d\"}], \"parcoords\": [{\"line\": {\"colorbar\": {\"outlinewidth\": 0, \"ticks\": \"\"}}, \"type\": \"parcoords\"}], \"pie\": [{\"automargin\": true, \"type\": \"pie\"}], \"scatter\": [{\"marker\": {\"colorbar\": {\"outlinewidth\": 0, \"ticks\": \"\"}}, \"type\": \"scatter\"}], \"scatter3d\": [{\"line\": {\"colorbar\": {\"outlinewidth\": 0, \"ticks\": \"\"}}, \"marker\": {\"colorbar\": {\"outlinewidth\": 0, \"ticks\": \"\"}}, \"type\": \"scatter3d\"}], \"scattercarpet\": [{\"marker\": {\"colorbar\": {\"outlinewidth\": 0, \"ticks\": \"\"}}, \"type\": \"scattercarpet\"}], \"scattergeo\": [{\"marker\": {\"colorbar\": {\"outlinewidth\": 0, \"ticks\": \"\"}}, \"type\": \"scattergeo\"}], \"scattergl\": [{\"marker\": {\"colorbar\": {\"outlinewidth\": 0, \"ticks\": \"\"}}, \"type\": \"scattergl\"}], \"scattermapbox\": [{\"marker\": {\"colorbar\": {\"outlinewidth\": 0, \"ticks\": \"\"}}, \"type\": \"scattermapbox\"}], \"scatterpolar\": [{\"marker\": {\"colorbar\": {\"outlinewidth\": 0, \"ticks\": \"\"}}, \"type\": \"scatterpolar\"}], \"scatterpolargl\": [{\"marker\": {\"colorbar\": {\"outlinewidth\": 0, \"ticks\": \"\"}}, \"type\": \"scatterpolargl\"}], \"scatterternary\": [{\"marker\": {\"colorbar\": {\"outlinewidth\": 0, \"ticks\": \"\"}}, \"type\": \"scatterternary\"}], \"surface\": [{\"colorbar\": {\"outlinewidth\": 0, \"ticks\": \"\"}, \"colorscale\": [[0.0, \"#0d0887\"], [0.1111111111111111, \"#46039f\"], [0.2222222222222222, \"#7201a8\"], [0.3333333333333333, \"#9c179e\"], [0.4444444444444444, \"#bd3786\"], [0.5555555555555556, \"#d8576b\"], [0.6666666666666666, \"#ed7953\"], [0.7777777777777778, \"#fb9f3a\"], [0.8888888888888888, \"#fdca26\"], [1.0, \"#f0f921\"]], \"type\": \"surface\"}], \"table\": [{\"cells\": {\"fill\": {\"color\": \"#EBF0F8\"}, \"line\": {\"color\": \"white\"}}, \"header\": {\"fill\": {\"color\": \"#C8D4E3\"}, \"line\": {\"color\": \"white\"}}, \"type\": \"table\"}]}, \"layout\": {\"annotationdefaults\": {\"arrowcolor\": \"#2a3f5f\", \"arrowhead\": 0, \"arrowwidth\": 1}, \"coloraxis\": {\"colorbar\": {\"outlinewidth\": 0, \"ticks\": \"\"}}, \"colorscale\": {\"diverging\": [[0, \"#8e0152\"], [0.1, \"#c51b7d\"], [0.2, \"#de77ae\"], [0.3, \"#f1b6da\"], [0.4, \"#fde0ef\"], [0.5, \"#f7f7f7\"], [0.6, \"#e6f5d0\"], [0.7, \"#b8e186\"], [0.8, \"#7fbc41\"], [0.9, \"#4d9221\"], [1, \"#276419\"]], \"sequential\": [[0.0, \"#0d0887\"], [0.1111111111111111, \"#46039f\"], [0.2222222222222222, \"#7201a8\"], [0.3333333333333333, \"#9c179e\"], [0.4444444444444444, \"#bd3786\"], [0.5555555555555556, \"#d8576b\"], [0.6666666666666666, \"#ed7953\"], [0.7777777777777778, \"#fb9f3a\"], [0.8888888888888888, \"#fdca26\"], [1.0, \"#f0f921\"]], \"sequentialminus\": [[0.0, \"#0d0887\"], [0.1111111111111111, \"#46039f\"], [0.2222222222222222, \"#7201a8\"], [0.3333333333333333, \"#9c179e\"], [0.4444444444444444, \"#bd3786\"], [0.5555555555555556, \"#d8576b\"], [0.6666666666666666, \"#ed7953\"], [0.7777777777777778, \"#fb9f3a\"], [0.8888888888888888, \"#fdca26\"], [1.0, \"#f0f921\"]]}, \"colorway\": [\"#636efa\", \"#EF553B\", \"#00cc96\", \"#ab63fa\", \"#FFA15A\", \"#19d3f3\", \"#FF6692\", \"#B6E880\", \"#FF97FF\", \"#FECB52\"], \"font\": {\"color\": \"#2a3f5f\"}, \"geo\": {\"bgcolor\": \"white\", \"lakecolor\": \"white\", \"landcolor\": \"#E5ECF6\", \"showlakes\": true, \"showland\": true, \"subunitcolor\": \"white\"}, \"hoverlabel\": {\"align\": \"left\"}, \"hovermode\": \"closest\", \"mapbox\": {\"style\": \"light\"}, \"paper_bgcolor\": \"white\", \"plot_bgcolor\": \"#E5ECF6\", \"polar\": {\"angularaxis\": {\"gridcolor\": \"white\", \"linecolor\": \"white\", \"ticks\": \"\"}, \"bgcolor\": \"#E5ECF6\", \"radialaxis\": {\"gridcolor\": \"white\", \"linecolor\": \"white\", \"ticks\": \"\"}}, \"scene\": {\"xaxis\": {\"backgroundcolor\": \"#E5ECF6\", \"gridcolor\": \"white\", \"gridwidth\": 2, \"linecolor\": \"white\", \"showbackground\": true, \"ticks\": \"\", \"zerolinecolor\": \"white\"}, \"yaxis\": {\"backgroundcolor\": \"#E5ECF6\", \"gridcolor\": \"white\", \"gridwidth\": 2, \"linecolor\": \"white\", \"showbackground\": true, \"ticks\": \"\", \"zerolinecolor\": \"white\"}, \"zaxis\": {\"backgroundcolor\": \"#E5ECF6\", \"gridcolor\": \"white\", \"gridwidth\": 2, \"linecolor\": \"white\", \"showbackground\": true, \"ticks\": \"\", \"zerolinecolor\": \"white\"}}, \"shapedefaults\": {\"line\": {\"color\": \"#2a3f5f\"}}, \"ternary\": {\"aaxis\": {\"gridcolor\": \"white\", \"linecolor\": \"white\", \"ticks\": \"\"}, \"baxis\": {\"gridcolor\": \"white\", \"linecolor\": \"white\", \"ticks\": \"\"}, \"bgcolor\": \"#E5ECF6\", \"caxis\": {\"gridcolor\": \"white\", \"linecolor\": \"white\", \"ticks\": \"\"}}, \"title\": {\"x\": 0.05}, \"xaxis\": {\"automargin\": true, \"gridcolor\": \"white\", \"linecolor\": \"white\", \"ticks\": \"\", \"title\": {\"standoff\": 15}, \"zerolinecolor\": \"white\", \"zerolinewidth\": 2}, \"yaxis\": {\"automargin\": true, \"gridcolor\": \"white\", \"linecolor\": \"white\", \"ticks\": \"\", \"title\": {\"standoff\": 15}, \"zerolinecolor\": \"white\", \"zerolinewidth\": 2}}}, \"title\": {\"text\": \"FB\"}, \"xaxis\": {\"anchor\": \"y\", \"domain\": [0.0, 1.0], \"title\": {\"text\": \"^IXIC\"}}, \"yaxis\": {\"anchor\": \"x\", \"domain\": [0.0, 1.0], \"title\": {\"text\": \"FB\"}}},\n",
              "                        {\"responsive\": true}\n",
              "                    ).then(function(){\n",
              "                            \n",
              "var gd = document.getElementById('ced8663e-2bed-4dc3-b303-c569e7c78e24');\n",
              "var x = new MutationObserver(function (mutations, observer) {{\n",
              "        var display = window.getComputedStyle(gd).display;\n",
              "        if (!display || display === 'none') {{\n",
              "            console.log([gd, 'removed!']);\n",
              "            Plotly.purge(gd);\n",
              "            observer.disconnect();\n",
              "        }}\n",
              "}});\n",
              "\n",
              "// Listen for the removal of the full notebook cells\n",
              "var notebookContainer = gd.closest('#notebook-container');\n",
              "if (notebookContainer) {{\n",
              "    x.observe(notebookContainer, {childList: true});\n",
              "}}\n",
              "\n",
              "// Listen for the clearing of the current output cell\n",
              "var outputEl = gd.closest('.output');\n",
              "if (outputEl) {{\n",
              "    x.observe(outputEl, {childList: true});\n",
              "}}\n",
              "\n",
              "                        })\n",
              "                };\n",
              "                \n",
              "            </script>\n",
              "        </div>\n",
              "</body>\n",
              "</html>"
            ]
          },
          "metadata": {}
        },
        {
          "output_type": "display_data",
          "data": {
            "text/html": [
              "<html>\n",
              "<head><meta charset=\"utf-8\" /></head>\n",
              "<body>\n",
              "    <div>\n",
              "            <script src=\"https://cdnjs.cloudflare.com/ajax/libs/mathjax/2.7.5/MathJax.js?config=TeX-AMS-MML_SVG\"></script><script type=\"text/javascript\">if (window.MathJax) {MathJax.Hub.Config({SVG: {font: \"STIX-Web\"}});}</script>\n",
              "                <script type=\"text/javascript\">window.PlotlyConfig = {MathJaxConfig: 'local'};</script>\n",
              "        <script src=\"https://cdn.plot.ly/plotly-latest.min.js\"></script>    \n",
              "            <div id=\"6776d01f-f327-4932-a469-339c17555c6c\" class=\"plotly-graph-div\" style=\"height:525px; width:100%;\"></div>\n",
              "            <script type=\"text/javascript\">\n",
              "                \n",
              "                    window.PLOTLYENV=window.PLOTLYENV || {};\n",
              "                    \n",
              "                if (document.getElementById(\"6776d01f-f327-4932-a469-339c17555c6c\")) {\n",
              "                    Plotly.newPlot(\n",
              "                        '6776d01f-f327-4932-a469-339c17555c6c',\n",
              "                        [{\"hoverlabel\": {\"namelength\": 0}, \"hovertemplate\": \"^IXIC=%{x}<br>GOOG=%{y}\", \"legendgroup\": \"\", \"marker\": {\"color\": \"#636efa\", \"symbol\": \"circle\"}, \"mode\": \"markers\", \"name\": \"\", \"showlegend\": false, \"type\": \"scatter\", \"x\": [0.0, -0.7855191660339514, 0.5620384728471665, -0.031854247708491115, 0.6689046766684335, 0.8126574744484102, -0.2669584793033168, 1.0357422631592443, -0.24368967780143092, 0.0796654872895177, 1.063104814105905, 0.33996051431786484, -0.19310868474221926, 0.13830140117838088, 0.19939681423002234, -0.9313533039610973, -1.8851559810233676, 1.4264766521421406, 0.05912252564012881, 0.256270844379793, -1.591465499641676, 1.3382226873668104, 2.0981444534002978, 0.42997561370826654, 0.6675027996624794, -0.5394882329740349, 1.1331313707803117, 0.10957991559587729, 0.9027914622439598, -0.1438442521991573, 0.19779675470939986, 0.01603656416913738, 0.8675814939226352, -0.6744295515116596, -1.7883337524623202, -3.7101888679547743, -2.7726076455074673, 0.16920121754294432, -4.613182731047064, 0.010385226940578262, 4.491457698501092, -2.9945821009265603, 3.846114054662644, -3.0993259641753057, -1.8649430797928905, -7.287402343694397, 4.950140308971453, -4.700245022770171, -9.434674309481181, 9.345998172386109, -12.321331290147407, 6.230492341201929, -4.702798877538514, 2.2996268579562185, -3.7907422283539605, -0.274003093278801, 8.121509236724387, -0.4524223861369213, 5.59620065957612, -3.7852983732224246, 3.6224507926325984, -0.952513208745505, -4.409293583528775, 1.7217390358319775, -1.52564779039222, 7.3261127035984215, -0.32831644156512807, 2.581887027561507, 0.7746996815903381, 0.47635325069293516, 3.946578856836743, -1.4392236435332642, 1.6582590775434294, 1.3803835283800632, -1.0336154480887512, -3.475170735558033, 2.8094268330097516, -0.007414416084845749, 1.6453636805085496, 1.1076542783169119, -1.4023761913732073, 3.5663232405100977, -0.2822319106313816, -3.2015075636893258, 1.2290572661607275, 1.1297604522629348, 0.5138939036791482, 1.4147842232649654, 1.5775670101657695, 0.7786102101104126, -2.0646542913830683, -1.5482267339407207, 0.9088148528970065, 0.7920624294565988, 2.443497168047047, -0.5385098407798431, 2.07597818392603, -0.9695234740358589, 0.4276841643477609, 0.16762005701490723, 0.7723653951613199, -0.4607783336758918, 1.2902124966358643, 0.6552216914685036, 0.5897171735574182, 0.7756799205120937, -0.6929795366756427, 2.061922153956055, 1.1276647530284236, 0.2921987959394443, 0.6690906379505211, -5.265476367524758, 1.012133462324583, 1.4309384280850652, 1.7463525072283153, 0.14814418617457112, 0.32813109241147087, 0.030878981402190583, 1.1095819300612568, 0.7446904378745204, -2.193189990518118, 1.088184772035845, -2.59339396463512, 1.1984014641401854, 1.8697217818384297, 0.9530027630585096, 0.5219294116244121, 2.2142310252948234, -0.8603004588705903, 1.4366969932335696, 0.5265665951870384, 0.660713703751985, -2.1342298780777758, 0.940638445445677, 0.5902625120736783, -0.7266027885626613, 0.2803210606196508, 2.512564309189163, -0.8055054192553627, 0.2412796048237268, -2.285699534902473, -0.9390717044975707, 1.6702387584650282, -1.273502800037816, 1.3540604633609157, 0.4255846926598821, 1.487181648780377, 1.4660430152948845, 0.3519290262580381, 0.5230744898274311, 0.997144293532742, -0.8740477960491844, -0.387069228834427, -1.6915932109767786, 2.1276430027220674, 0.27478301400057853, -0.21009911987774507, 1.002156815948722, 0.7287631558350716, -0.5742645841862735, 1.0630301888693465, 0.41588829566680874, 0.6004342637575202, 0.7623210596084231, 1.731917917944346, -0.34050170359683757, 0.6046278217001049, 0.68256330719148, 1.3945099510527015, 0.9780044890400321, -4.9628314741983, -1.265216148443028, -4.114152829024972, 2.709047999938783, -1.9922680048667027, -0.6047849782590421, 1.8712825719911805, 1.2089549470456218, -1.2497460486567282, -1.2686289053217388, -1.0723830833645196, -0.1341618894641025, 1.714846245401242, -3.015872690686464, 0.3694096957600452, 2.26090653310401, 1.868965865910965, -0.29035471587269224, 0.7420650470219435, 1.423773100153644, -2.220368318034313, 2.3247878019402477, -1.5697399364210516, 1.882631446703863, 0.4961095094673616, 1.3918241202884905, 2.5589020749867237, -0.10406790726970577, -0.802180722540493, -0.4661535218957812, -0.361200409870677, -1.6508478266271756, 0.32764827183891476, -0.2761240971887628, 0.1856326565180225, 0.3673776458871612, -1.6395501257923704, 0.6374642083539132, -3.7307886361706455, 1.64217954994535, -2.449580253052983, 0.421758043250314, 1.852228309145515, 3.8547309760295905, 2.5895531360416695, 0.03616858700729745, -1.5254029401884093, -1.3652289708527225, 2.0129145485651314, -0.6519348588783579, 1.0222407181613629, 0.8017374114323119, -0.20789809660017614, -0.821392074337107, 0.8736981000490036, -0.4178197918152635, 0.2164506265461421, 1.314409739132722, 0.4786188956984337, 0.9214943705385352, -0.05824563817777561, 1.281854635668546, -0.04646040554606666, 0.22519019228191595, 0.703316776906088, 0.44703703692096414, 0.5017538804668705, -1.9377239274069296, 0.541856267686367, -0.2252126551407012, 0.5022667170232535, 1.2461337002391393, 0.5012350995449372, 0.8418230939438529, -0.07137117109618285, -0.10285738347200132, 0.5132453630116934, -0.28739694296208024, 0.26325132476352536, 0.7394880615104708, -0.38141401404466013, 0.1539294569151412], \"xaxis\": \"x\", \"y\": [0.0, -0.49072021190028653, 2.4657097228580707, -0.062400581086258664, 0.7880331245853316, 1.104449866044447, 0.6972683152545897, 0.6644611311071017, -0.5801696531653652, 0.5814566043743056, 0.8685381061764086, 1.9763080830444775, 0.27087522382250706, 0.10441435814610033, 0.047112841292897945, -1.3412748897926754, -2.2369750937305874, 1.3013483410262574, 0.41787919564158515, -0.19127805222436475, -1.4843654425564603, 3.6054162611075533, -2.6158523661731627, 0.08016434745689723, 1.933394583568641, 0.20322036807892255, 1.9909056489549468, 0.007290170721881444, 0.6283167454260548, -0.23776965263906386, 0.40140730708460887, -0.07035695095369991, 0.46193563457450904, -0.5593746811694649, -2.1763355749542583, -4.277125610748165, -2.3311936244087392, 0.3406750481045582, -5.389833689522876, 1.611421889639855, 3.7167860743975165, -3.4352910285248437, 3.364420816464818, -4.86685944077197, -1.564016578107451, -6.380879183383749, 5.333340429899251, -5.07501462252436, -8.268814406146491, 9.401650633289476, -11.100819573363886, 3.271153081714602, -2.053938113689992, 1.6858123095572992, -3.8528177665387977, -1.4641107093276808, 7.366883664895953, -2.818078363621182, 5.375106376523845, -4.393375430385195, 3.2510724330844836, 1.394300156395876, -4.918263567974771, 1.3766005291458026, -2.0484602296186165, 8.110179497440079, -0.03454606582635084, 2.0033560050576704, 0.09666538707407066, 0.5043631737295045, 4.243726747629798, -0.5326071610070543, 0.07920980484336242, 1.565532205396805, -1.2967087199249951, -3.968863352778398, 3.8533630756412647, 1.037048318280175, 0.23505260181882665, -0.26811746596504543, -3.3083017819827747, 8.738960393222989, 0.5352337578998825, -2.0798457815342792, 0.4687275990052907, 1.8322230651791778, -0.2819856684314374, 1.8748614896582267, 1.151857539817638, 1.072481737635124, -1.9611489916146363, -1.9196966263362172, 0.5039574492222566, 1.2579868052481962, 0.7828487287775491, -0.7554486825536665, 2.4197560006857697, -0.27865687248619164, 0.5431989486707754, 0.46794397273847926, 0.05786412878864888, -0.07828706894436435, 0.8604366142184133, 0.20294363957154937, 0.5168264650343507, -0.19732673796383232, -1.6847875276465827, 1.8559928578955116, 0.5714702284786144, 0.660167489843788, 0.665444812301055, -4.230310795675937, 0.6653242618838866, 0.4719796219515788, 1.6107332119895, 0.5822352628811714, -1.0447126516551946, -0.2952721767817832, 1.4067006859271953, 0.864411785898628, -2.2152308929468867, 0.6536439690119036, -5.649638467483246, 2.5788620971731375, 1.3362305311161737, 1.7282032501250182, 1.8539061072844236, 2.1164744339069284, -0.7033427695638554, 0.7285275789980681, 1.002004694811163, 2.035089590185191, -1.9717996942818543, 0.6113773501225315, -0.4564009527165177, 0.28804638549246886, -0.16139335783102768, 3.3103441165663314, -0.4662345051736351, 0.6461638072601606, -3.366928501440182, -0.25137617826543185, 1.2124029257731725, -1.9513780096970197, 1.445009411522535, 0.6195668598057744, -3.1662797858506675, -0.573852969047467, -0.6429503057201383, 0.5897741811247265, 1.7976255927755012, -0.3739740979177902, 0.10772807861429787, -1.0547443054863266, 1.7766462509713006, 0.7851983972751766, -0.7059811681545238, 0.6798299518335039, 2.675924296751536, -0.7102493559901977, 2.2112637593645244, -0.08408130581239134, 0.4922683217267339, 1.2605477991910248, 2.745895150175285, -1.0923666937863434, 0.6167713005355147, -0.6221064245605396, 1.6234384434149536, 4.068745894751574, -5.0015079738975725, -3.0940851614871816, -3.6862695453359726, 1.6033742098417003, -1.6018357589126948, -0.7375914599068006, -0.09468813680300549, 1.4585798326876342, -1.3325149063835084, -1.6680909139285123, -2.3764176155800216, -1.9746680626255095, 2.396652082132278, -3.428957551856519, 0.9242500043127986, 1.1671244228477424, 1.353674781483862, 0.3284309165658944, 0.01837705207991758, 1.3942562993174745, -2.1253697831301968, 1.8924572314073624, -2.192438708549637, 0.4713024226940062, 1.755816581813999, 1.9711504534846265, 3.559222736875076, 0.16123565353922995, -0.22906046607575817, -0.5707585979475951, 0.8902403801699493, -2.4411811861123516, 1.3892825253897199, 2.402421933663414, 1.3820221206895653, 1.5891517302142717, -3.0804417323659354, 0.8683114224106503, -5.462955762466541, 3.3376848043781826, 3.430873373975666, 0.3096846719642295, 1.4870532035057706, 5.9943913978749155, 0.8141184585835886, -0.09186926859781577, 0.07095217823187172, -1.2824722264074022, 0.7078842205119842, -0.16374615202462703, 1.5532879715771999, 0.24535375536807938, -0.6304090333319285, -1.320226805347937, 0.9812348642053578, -1.2319210620487857, -0.4207323139961967, 1.9609662922945321, 0.14416177587433013, 1.2283797291193121, -1.8096215254490664, 2.121834317319586, 1.6600843107297436, -0.06454945004750054, 0.06678293874332605, -0.46553918845769454, -0.051109748423031454, -1.8927190905464935, -0.49324033585226407, 0.3627530451226228, -1.2184491095664232, 0.43805101421709963, -0.26983258447356406, -0.8564932266555587, -0.9663032446091666, 0.4829541888492271, -0.9123990388323493, 0.5152309186430228, 0.37347294963512717, 2.14164480876657, -0.9779907240884006, -1.0917002986097317], \"yaxis\": \"y\"}],\n",
              "                        {\"legend\": {\"tracegroupgap\": 0}, \"template\": {\"data\": {\"bar\": [{\"error_x\": {\"color\": \"#2a3f5f\"}, \"error_y\": {\"color\": \"#2a3f5f\"}, \"marker\": {\"line\": {\"color\": \"#E5ECF6\", \"width\": 0.5}}, \"type\": \"bar\"}], \"barpolar\": [{\"marker\": {\"line\": {\"color\": \"#E5ECF6\", \"width\": 0.5}}, \"type\": \"barpolar\"}], \"carpet\": [{\"aaxis\": {\"endlinecolor\": \"#2a3f5f\", \"gridcolor\": \"white\", \"linecolor\": \"white\", \"minorgridcolor\": \"white\", \"startlinecolor\": \"#2a3f5f\"}, \"baxis\": {\"endlinecolor\": \"#2a3f5f\", \"gridcolor\": \"white\", \"linecolor\": \"white\", \"minorgridcolor\": \"white\", \"startlinecolor\": \"#2a3f5f\"}, \"type\": \"carpet\"}], \"choropleth\": [{\"colorbar\": {\"outlinewidth\": 0, \"ticks\": \"\"}, \"type\": \"choropleth\"}], \"contour\": [{\"colorbar\": {\"outlinewidth\": 0, \"ticks\": \"\"}, \"colorscale\": [[0.0, \"#0d0887\"], [0.1111111111111111, \"#46039f\"], [0.2222222222222222, \"#7201a8\"], [0.3333333333333333, \"#9c179e\"], [0.4444444444444444, \"#bd3786\"], [0.5555555555555556, \"#d8576b\"], [0.6666666666666666, \"#ed7953\"], [0.7777777777777778, \"#fb9f3a\"], [0.8888888888888888, \"#fdca26\"], [1.0, \"#f0f921\"]], \"type\": \"contour\"}], \"contourcarpet\": [{\"colorbar\": {\"outlinewidth\": 0, \"ticks\": \"\"}, \"type\": \"contourcarpet\"}], \"heatmap\": [{\"colorbar\": {\"outlinewidth\": 0, \"ticks\": \"\"}, \"colorscale\": [[0.0, \"#0d0887\"], [0.1111111111111111, \"#46039f\"], [0.2222222222222222, \"#7201a8\"], [0.3333333333333333, \"#9c179e\"], [0.4444444444444444, \"#bd3786\"], [0.5555555555555556, \"#d8576b\"], [0.6666666666666666, \"#ed7953\"], [0.7777777777777778, \"#fb9f3a\"], [0.8888888888888888, \"#fdca26\"], [1.0, \"#f0f921\"]], \"type\": \"heatmap\"}], \"heatmapgl\": [{\"colorbar\": {\"outlinewidth\": 0, \"ticks\": \"\"}, \"colorscale\": [[0.0, \"#0d0887\"], [0.1111111111111111, \"#46039f\"], [0.2222222222222222, \"#7201a8\"], [0.3333333333333333, \"#9c179e\"], [0.4444444444444444, \"#bd3786\"], [0.5555555555555556, \"#d8576b\"], [0.6666666666666666, \"#ed7953\"], [0.7777777777777778, \"#fb9f3a\"], [0.8888888888888888, \"#fdca26\"], [1.0, \"#f0f921\"]], \"type\": \"heatmapgl\"}], \"histogram\": [{\"marker\": {\"colorbar\": {\"outlinewidth\": 0, \"ticks\": \"\"}}, \"type\": \"histogram\"}], \"histogram2d\": [{\"colorbar\": {\"outlinewidth\": 0, \"ticks\": \"\"}, \"colorscale\": [[0.0, \"#0d0887\"], [0.1111111111111111, \"#46039f\"], [0.2222222222222222, \"#7201a8\"], [0.3333333333333333, \"#9c179e\"], [0.4444444444444444, \"#bd3786\"], [0.5555555555555556, \"#d8576b\"], [0.6666666666666666, \"#ed7953\"], [0.7777777777777778, \"#fb9f3a\"], [0.8888888888888888, \"#fdca26\"], [1.0, \"#f0f921\"]], \"type\": \"histogram2d\"}], \"histogram2dcontour\": [{\"colorbar\": {\"outlinewidth\": 0, \"ticks\": \"\"}, \"colorscale\": [[0.0, \"#0d0887\"], [0.1111111111111111, \"#46039f\"], [0.2222222222222222, \"#7201a8\"], [0.3333333333333333, \"#9c179e\"], [0.4444444444444444, \"#bd3786\"], [0.5555555555555556, \"#d8576b\"], [0.6666666666666666, \"#ed7953\"], [0.7777777777777778, \"#fb9f3a\"], [0.8888888888888888, \"#fdca26\"], [1.0, \"#f0f921\"]], \"type\": \"histogram2dcontour\"}], \"mesh3d\": [{\"colorbar\": {\"outlinewidth\": 0, \"ticks\": \"\"}, \"type\": \"mesh3d\"}], \"parcoords\": [{\"line\": {\"colorbar\": {\"outlinewidth\": 0, \"ticks\": \"\"}}, \"type\": \"parcoords\"}], \"pie\": [{\"automargin\": true, \"type\": \"pie\"}], \"scatter\": [{\"marker\": {\"colorbar\": {\"outlinewidth\": 0, \"ticks\": \"\"}}, \"type\": \"scatter\"}], \"scatter3d\": [{\"line\": {\"colorbar\": {\"outlinewidth\": 0, \"ticks\": \"\"}}, \"marker\": {\"colorbar\": {\"outlinewidth\": 0, \"ticks\": \"\"}}, \"type\": \"scatter3d\"}], \"scattercarpet\": [{\"marker\": {\"colorbar\": {\"outlinewidth\": 0, \"ticks\": \"\"}}, \"type\": \"scattercarpet\"}], \"scattergeo\": [{\"marker\": {\"colorbar\": {\"outlinewidth\": 0, \"ticks\": \"\"}}, \"type\": \"scattergeo\"}], \"scattergl\": [{\"marker\": {\"colorbar\": {\"outlinewidth\": 0, \"ticks\": \"\"}}, \"type\": \"scattergl\"}], \"scattermapbox\": [{\"marker\": {\"colorbar\": {\"outlinewidth\": 0, \"ticks\": \"\"}}, \"type\": \"scattermapbox\"}], \"scatterpolar\": [{\"marker\": {\"colorbar\": {\"outlinewidth\": 0, \"ticks\": \"\"}}, \"type\": \"scatterpolar\"}], \"scatterpolargl\": [{\"marker\": {\"colorbar\": {\"outlinewidth\": 0, \"ticks\": \"\"}}, \"type\": \"scatterpolargl\"}], \"scatterternary\": [{\"marker\": {\"colorbar\": {\"outlinewidth\": 0, \"ticks\": \"\"}}, \"type\": \"scatterternary\"}], \"surface\": [{\"colorbar\": {\"outlinewidth\": 0, \"ticks\": \"\"}, \"colorscale\": [[0.0, \"#0d0887\"], [0.1111111111111111, \"#46039f\"], [0.2222222222222222, \"#7201a8\"], [0.3333333333333333, \"#9c179e\"], [0.4444444444444444, \"#bd3786\"], [0.5555555555555556, \"#d8576b\"], [0.6666666666666666, \"#ed7953\"], [0.7777777777777778, \"#fb9f3a\"], [0.8888888888888888, \"#fdca26\"], [1.0, \"#f0f921\"]], \"type\": \"surface\"}], \"table\": [{\"cells\": {\"fill\": {\"color\": \"#EBF0F8\"}, \"line\": {\"color\": \"white\"}}, \"header\": {\"fill\": {\"color\": \"#C8D4E3\"}, \"line\": {\"color\": \"white\"}}, \"type\": \"table\"}]}, \"layout\": {\"annotationdefaults\": {\"arrowcolor\": \"#2a3f5f\", \"arrowhead\": 0, \"arrowwidth\": 1}, \"coloraxis\": {\"colorbar\": {\"outlinewidth\": 0, \"ticks\": \"\"}}, \"colorscale\": {\"diverging\": [[0, \"#8e0152\"], [0.1, \"#c51b7d\"], [0.2, \"#de77ae\"], [0.3, \"#f1b6da\"], [0.4, \"#fde0ef\"], [0.5, \"#f7f7f7\"], [0.6, \"#e6f5d0\"], [0.7, \"#b8e186\"], [0.8, \"#7fbc41\"], [0.9, \"#4d9221\"], [1, \"#276419\"]], \"sequential\": [[0.0, \"#0d0887\"], [0.1111111111111111, \"#46039f\"], [0.2222222222222222, \"#7201a8\"], [0.3333333333333333, \"#9c179e\"], [0.4444444444444444, \"#bd3786\"], [0.5555555555555556, \"#d8576b\"], [0.6666666666666666, \"#ed7953\"], [0.7777777777777778, \"#fb9f3a\"], [0.8888888888888888, \"#fdca26\"], [1.0, \"#f0f921\"]], \"sequentialminus\": [[0.0, \"#0d0887\"], [0.1111111111111111, \"#46039f\"], [0.2222222222222222, \"#7201a8\"], [0.3333333333333333, \"#9c179e\"], [0.4444444444444444, \"#bd3786\"], [0.5555555555555556, \"#d8576b\"], [0.6666666666666666, \"#ed7953\"], [0.7777777777777778, \"#fb9f3a\"], [0.8888888888888888, \"#fdca26\"], [1.0, \"#f0f921\"]]}, \"colorway\": [\"#636efa\", \"#EF553B\", \"#00cc96\", \"#ab63fa\", \"#FFA15A\", \"#19d3f3\", \"#FF6692\", \"#B6E880\", \"#FF97FF\", \"#FECB52\"], \"font\": {\"color\": \"#2a3f5f\"}, \"geo\": {\"bgcolor\": \"white\", \"lakecolor\": \"white\", \"landcolor\": \"#E5ECF6\", \"showlakes\": true, \"showland\": true, \"subunitcolor\": \"white\"}, \"hoverlabel\": {\"align\": \"left\"}, \"hovermode\": \"closest\", \"mapbox\": {\"style\": \"light\"}, \"paper_bgcolor\": \"white\", \"plot_bgcolor\": \"#E5ECF6\", \"polar\": {\"angularaxis\": {\"gridcolor\": \"white\", \"linecolor\": \"white\", \"ticks\": \"\"}, \"bgcolor\": \"#E5ECF6\", \"radialaxis\": {\"gridcolor\": \"white\", \"linecolor\": \"white\", \"ticks\": \"\"}}, \"scene\": {\"xaxis\": {\"backgroundcolor\": \"#E5ECF6\", \"gridcolor\": \"white\", \"gridwidth\": 2, \"linecolor\": \"white\", \"showbackground\": true, \"ticks\": \"\", \"zerolinecolor\": \"white\"}, \"yaxis\": {\"backgroundcolor\": \"#E5ECF6\", \"gridcolor\": \"white\", \"gridwidth\": 2, \"linecolor\": \"white\", \"showbackground\": true, \"ticks\": \"\", \"zerolinecolor\": \"white\"}, \"zaxis\": {\"backgroundcolor\": \"#E5ECF6\", \"gridcolor\": \"white\", \"gridwidth\": 2, \"linecolor\": \"white\", \"showbackground\": true, \"ticks\": \"\", \"zerolinecolor\": \"white\"}}, \"shapedefaults\": {\"line\": {\"color\": \"#2a3f5f\"}}, \"ternary\": {\"aaxis\": {\"gridcolor\": \"white\", \"linecolor\": \"white\", \"ticks\": \"\"}, \"baxis\": {\"gridcolor\": \"white\", \"linecolor\": \"white\", \"ticks\": \"\"}, \"bgcolor\": \"#E5ECF6\", \"caxis\": {\"gridcolor\": \"white\", \"linecolor\": \"white\", \"ticks\": \"\"}}, \"title\": {\"x\": 0.05}, \"xaxis\": {\"automargin\": true, \"gridcolor\": \"white\", \"linecolor\": \"white\", \"ticks\": \"\", \"title\": {\"standoff\": 15}, \"zerolinecolor\": \"white\", \"zerolinewidth\": 2}, \"yaxis\": {\"automargin\": true, \"gridcolor\": \"white\", \"linecolor\": \"white\", \"ticks\": \"\", \"title\": {\"standoff\": 15}, \"zerolinecolor\": \"white\", \"zerolinewidth\": 2}}}, \"title\": {\"text\": \"GOOG\"}, \"xaxis\": {\"anchor\": \"y\", \"domain\": [0.0, 1.0], \"title\": {\"text\": \"^IXIC\"}}, \"yaxis\": {\"anchor\": \"x\", \"domain\": [0.0, 1.0], \"title\": {\"text\": \"GOOG\"}}},\n",
              "                        {\"responsive\": true}\n",
              "                    ).then(function(){\n",
              "                            \n",
              "var gd = document.getElementById('6776d01f-f327-4932-a469-339c17555c6c');\n",
              "var x = new MutationObserver(function (mutations, observer) {{\n",
              "        var display = window.getComputedStyle(gd).display;\n",
              "        if (!display || display === 'none') {{\n",
              "            console.log([gd, 'removed!']);\n",
              "            Plotly.purge(gd);\n",
              "            observer.disconnect();\n",
              "        }}\n",
              "}});\n",
              "\n",
              "// Listen for the removal of the full notebook cells\n",
              "var notebookContainer = gd.closest('#notebook-container');\n",
              "if (notebookContainer) {{\n",
              "    x.observe(notebookContainer, {childList: true});\n",
              "}}\n",
              "\n",
              "// Listen for the clearing of the current output cell\n",
              "var outputEl = gd.closest('.output');\n",
              "if (outputEl) {{\n",
              "    x.observe(outputEl, {childList: true});\n",
              "}}\n",
              "\n",
              "                        })\n",
              "                };\n",
              "                \n",
              "            </script>\n",
              "        </div>\n",
              "</body>\n",
              "</html>"
            ]
          },
          "metadata": {}
        },
        {
          "output_type": "display_data",
          "data": {
            "text/html": [
              "<html>\n",
              "<head><meta charset=\"utf-8\" /></head>\n",
              "<body>\n",
              "    <div>\n",
              "            <script src=\"https://cdnjs.cloudflare.com/ajax/libs/mathjax/2.7.5/MathJax.js?config=TeX-AMS-MML_SVG\"></script><script type=\"text/javascript\">if (window.MathJax) {MathJax.Hub.Config({SVG: {font: \"STIX-Web\"}});}</script>\n",
              "                <script type=\"text/javascript\">window.PlotlyConfig = {MathJaxConfig: 'local'};</script>\n",
              "        <script src=\"https://cdn.plot.ly/plotly-latest.min.js\"></script>    \n",
              "            <div id=\"7d942bed-7777-4997-922e-31ee1291d2f7\" class=\"plotly-graph-div\" style=\"height:525px; width:100%;\"></div>\n",
              "            <script type=\"text/javascript\">\n",
              "                \n",
              "                    window.PLOTLYENV=window.PLOTLYENV || {};\n",
              "                    \n",
              "                if (document.getElementById(\"7d942bed-7777-4997-922e-31ee1291d2f7\")) {\n",
              "                    Plotly.newPlot(\n",
              "                        '7d942bed-7777-4997-922e-31ee1291d2f7',\n",
              "                        [{\"hoverlabel\": {\"namelength\": 0}, \"hovertemplate\": \"^IXIC=%{x}<br>GOOGL=%{y}\", \"legendgroup\": \"\", \"marker\": {\"color\": \"#636efa\", \"symbol\": \"circle\"}, \"mode\": \"markers\", \"name\": \"\", \"showlegend\": false, \"type\": \"scatter\", \"x\": [0.0, -0.7855191660339514, 0.5620384728471665, -0.031854247708491115, 0.6689046766684335, 0.8126574744484102, -0.2669584793033168, 1.0357422631592443, -0.24368967780143092, 0.0796654872895177, 1.063104814105905, 0.33996051431786484, -0.19310868474221926, 0.13830140117838088, 0.19939681423002234, -0.9313533039610973, -1.8851559810233676, 1.4264766521421406, 0.05912252564012881, 0.256270844379793, -1.591465499641676, 1.3382226873668104, 2.0981444534002978, 0.42997561370826654, 0.6675027996624794, -0.5394882329740349, 1.1331313707803117, 0.10957991559587729, 0.9027914622439598, -0.1438442521991573, 0.19779675470939986, 0.01603656416913738, 0.8675814939226352, -0.6744295515116596, -1.7883337524623202, -3.7101888679547743, -2.7726076455074673, 0.16920121754294432, -4.613182731047064, 0.010385226940578262, 4.491457698501092, -2.9945821009265603, 3.846114054662644, -3.0993259641753057, -1.8649430797928905, -7.287402343694397, 4.950140308971453, -4.700245022770171, -9.434674309481181, 9.345998172386109, -12.321331290147407, 6.230492341201929, -4.702798877538514, 2.2996268579562185, -3.7907422283539605, -0.274003093278801, 8.121509236724387, -0.4524223861369213, 5.59620065957612, -3.7852983732224246, 3.6224507926325984, -0.952513208745505, -4.409293583528775, 1.7217390358319775, -1.52564779039222, 7.3261127035984215, -0.32831644156512807, 2.581887027561507, 0.7746996815903381, 0.47635325069293516, 3.946578856836743, -1.4392236435332642, 1.6582590775434294, 1.3803835283800632, -1.0336154480887512, -3.475170735558033, 2.8094268330097516, -0.007414416084845749, 1.6453636805085496, 1.1076542783169119, -1.4023761913732073, 3.5663232405100977, -0.2822319106313816, -3.2015075636893258, 1.2290572661607275, 1.1297604522629348, 0.5138939036791482, 1.4147842232649654, 1.5775670101657695, 0.7786102101104126, -2.0646542913830683, -1.5482267339407207, 0.9088148528970065, 0.7920624294565988, 2.443497168047047, -0.5385098407798431, 2.07597818392603, -0.9695234740358589, 0.4276841643477609, 0.16762005701490723, 0.7723653951613199, -0.4607783336758918, 1.2902124966358643, 0.6552216914685036, 0.5897171735574182, 0.7756799205120937, -0.6929795366756427, 2.061922153956055, 1.1276647530284236, 0.2921987959394443, 0.6690906379505211, -5.265476367524758, 1.012133462324583, 1.4309384280850652, 1.7463525072283153, 0.14814418617457112, 0.32813109241147087, 0.030878981402190583, 1.1095819300612568, 0.7446904378745204, -2.193189990518118, 1.088184772035845, -2.59339396463512, 1.1984014641401854, 1.8697217818384297, 0.9530027630585096, 0.5219294116244121, 2.2142310252948234, -0.8603004588705903, 1.4366969932335696, 0.5265665951870384, 0.660713703751985, -2.1342298780777758, 0.940638445445677, 0.5902625120736783, -0.7266027885626613, 0.2803210606196508, 2.512564309189163, -0.8055054192553627, 0.2412796048237268, -2.285699534902473, -0.9390717044975707, 1.6702387584650282, -1.273502800037816, 1.3540604633609157, 0.4255846926598821, 1.487181648780377, 1.4660430152948845, 0.3519290262580381, 0.5230744898274311, 0.997144293532742, -0.8740477960491844, -0.387069228834427, -1.6915932109767786, 2.1276430027220674, 0.27478301400057853, -0.21009911987774507, 1.002156815948722, 0.7287631558350716, -0.5742645841862735, 1.0630301888693465, 0.41588829566680874, 0.6004342637575202, 0.7623210596084231, 1.731917917944346, -0.34050170359683757, 0.6046278217001049, 0.68256330719148, 1.3945099510527015, 0.9780044890400321, -4.9628314741983, -1.265216148443028, -4.114152829024972, 2.709047999938783, -1.9922680048667027, -0.6047849782590421, 1.8712825719911805, 1.2089549470456218, -1.2497460486567282, -1.2686289053217388, -1.0723830833645196, -0.1341618894641025, 1.714846245401242, -3.015872690686464, 0.3694096957600452, 2.26090653310401, 1.868965865910965, -0.29035471587269224, 0.7420650470219435, 1.423773100153644, -2.220368318034313, 2.3247878019402477, -1.5697399364210516, 1.882631446703863, 0.4961095094673616, 1.3918241202884905, 2.5589020749867237, -0.10406790726970577, -0.802180722540493, -0.4661535218957812, -0.361200409870677, -1.6508478266271756, 0.32764827183891476, -0.2761240971887628, 0.1856326565180225, 0.3673776458871612, -1.6395501257923704, 0.6374642083539132, -3.7307886361706455, 1.64217954994535, -2.449580253052983, 0.421758043250314, 1.852228309145515, 3.8547309760295905, 2.5895531360416695, 0.03616858700729745, -1.5254029401884093, -1.3652289708527225, 2.0129145485651314, -0.6519348588783579, 1.0222407181613629, 0.8017374114323119, -0.20789809660017614, -0.821392074337107, 0.8736981000490036, -0.4178197918152635, 0.2164506265461421, 1.314409739132722, 0.4786188956984337, 0.9214943705385352, -0.05824563817777561, 1.281854635668546, -0.04646040554606666, 0.22519019228191595, 0.703316776906088, 0.44703703692096414, 0.5017538804668705, -1.9377239274069296, 0.541856267686367, -0.2252126551407012, 0.5022667170232535, 1.2461337002391393, 0.5012350995449372, 0.8418230939438529, -0.07137117109618285, -0.10285738347200132, 0.5132453630116934, -0.28739694296208024, 0.26325132476352536, 0.7394880615104708, -0.38141401404466013, 0.1539294569151412], \"xaxis\": \"x\", \"y\": [0.0, -0.5231342533468151, 2.665406203501443, -0.19316453087366364, 0.7117756890282141, 1.0497921475491758, 0.6458646435535624, 0.7746940895469347, -0.6555462930986106, 0.6018485769698141, 0.7615399791313364, 2.024603123762859, 0.1845179810148786, 0.10929297467954124, 0.05525728613427117, -1.247391589613388, -2.3489815263097205, 1.3110027580133983, 0.42743544790589455, -0.16818502464451116, -1.4763603715403129, 3.4771524777262024, -2.508427223705584, 0.04427910650286353, 2.069079275592641, 0.21274244806902504, 1.9978263361599438, 0.09279919811912718, 0.5675235392321615, -0.3450471950064856, 0.3528479617696553, 0.0467470153766816, 0.3573720528836405, -0.5167656854712336, -2.2102999698564005, -4.287272812253343, -2.362207499931436, 0.2993554572428532, -5.431258576052633, 1.847982792536625, 3.5146497135756953, -3.5056824880887842, 3.2802085521492614, -4.837866748800834, -1.446653335207586, -6.170215612270604, 4.884067394449179, -5.040113656716853, -8.204638994372104, 9.241146704227999, -11.634151980939551, 4.199446280871388, -2.4032803051113487, 1.8768595422231589, -3.90944086732542, -1.3180888186373414, 7.198353574163566, -2.512368421791756, 5.5645366914027425, -4.528259225890847, 3.24699156152937, 1.3643684325086907, -5.150822161107396, 1.3546914110945203, -2.178104212678579, 8.281320973550724, -0.05323598438906343, 2.0666976893598905, -0.03562996776615576, 0.31826483847336073, 4.52903931238597, -0.6267581201077034, 0.010340004594263074, 1.7153992960010065, -1.39561967051896, -3.8845489661022707, 3.815502796320046, 1.013978704798138, 0.42716013223315097, -0.449631078188016, -3.011348218715316, 8.891041703206684, 0.33675790728975774, -2.181629609271652, 0.42359323114474046, 1.9744496662744064, -0.26611657116548365, 1.7726655889806375, 1.0998434360552805, 1.3905543779192353, -2.02408914292652, -1.9524787015194653, 0.6326366375359999, 1.1939384621170077, 0.88269956156182, -0.7782402921551599, 2.5291042744592476, -0.17102629376587805, 0.4613463823973698, 0.575274188318447, -0.07668417259804586, -0.14363639707797224, 1.0773937698900915, 0.0941720776511326, 0.5185182979559665, -0.21216371441890605, -1.7335383826211568, 1.8185653549567729, 0.556938057976489, 0.2789920777883359, 0.8690978113544192, -4.287562562391542, 0.7860774191694534, 0.5534599302043147, 1.8110266935264776, 0.41964703604765174, -1.268126416480828, -0.661031189930195, 1.826427677427763, 0.9181990249420914, -2.1366432406308924, 0.5863073009245036, -5.451386985937306, 2.5415770465460805, 1.4944497968086823, 1.688935534515669, 1.9368969286364426, 2.021862919810023, -0.6488167445969042, 0.9181654878875583, 1.0016000823544342, 1.3399954649448356, -1.7400815541773713, 0.5706807161789925, -0.26169275982561846, -0.1292100186693026, 0.1273949505347405, 3.097866696818414, -0.5064406875447517, 0.5739325536279851, -3.0737755271349316, -0.5630485618922038, 1.4069720611211942, -1.6855971434799222, 1.3207850915509063, 0.9753782552336853, -3.2774978779712667, -0.34879811664112237, -0.6379967678650375, 0.3929896694697626, 1.748371360035587, -0.43722092216846264, -0.10344900346217695, -1.0876329692775595, 1.8033927126200389, 0.6243222207914113, -0.7925374567473978, 0.7716172955401577, 2.607769173558603, -0.7179706471975175, 2.048414483170393, -0.0431437723037272, 0.6080388971345857, 1.3058670064700384, 2.3837861493199264, -0.9494374109835141, 0.6699355272788002, -0.6038698870777235, 1.5679322441720833, 3.764776340007294, -5.11706741818935, -2.964084205599453, -3.6434114870744625, 1.5509323484811035, -1.3688935651446148, -0.6742923713676274, -0.4571999304829966, 1.7424123213488956, -1.5002103659731785, -1.656642615455943, -2.4175591979925515, -1.4437389593574805, 2.075316496050985, -3.4545309350526745, 0.9557305332892535, 1.1385570898730955, 1.3619984425869343, 0.5045716739405672, -0.0286519924500626, 1.5215644923308342, -2.170848060900114, 1.8707049275532475, -2.1452180941955787, 0.559606001839358, 1.6646818549728004, 1.8214473539446452, 3.5843633618203135, 0.15850673485878772, -0.23164281156744918, -0.5097714656027234, 0.7862562890379449, -2.4079862968536427, 1.3810912485488718, 2.250692109289088, 1.3032896848395565, 1.638177693422285, -2.9816618690128376, 0.9209150761905994, -5.508853434010089, 3.0500367067389305, 3.804402412709275, 0.5080075621037659, 1.313785990215707, 6.08813116472089, 0.9536915913106717, -0.15716422872340427, 0.09604106853440705, -1.3455094554904092, 0.5472694062310288, -0.2524014714138758, 1.689220021795619, 0.0998735807103202, -0.6972821718294286, -1.1931938696127553, 1.0300769538637984, -1.2618173904924996, -0.5079502334892272, 2.1035428342730715, 0.013038180484542802, 1.297524251902174, -1.8253849850962494, 2.334699063355284, 1.6492506011692332, -0.17150993896116387, 0.10539037354183685, -0.3690167803172131, -0.31370275396016556, -1.8478119125256975, -0.5742837468430357, 0.4044932150204664, -1.270004419787055, 0.5033468914377736, -0.22088802016418507, -0.9492389665784409, -0.8210259626386336, 0.48314166399244646, -0.8267276661639988, 0.4656386916814469, 0.3431287373760918, 2.2950550106893175, -0.913208388497882, -1.2237170971077609], \"yaxis\": \"y\"}],\n",
              "                        {\"legend\": {\"tracegroupgap\": 0}, \"template\": {\"data\": {\"bar\": [{\"error_x\": {\"color\": \"#2a3f5f\"}, \"error_y\": {\"color\": \"#2a3f5f\"}, \"marker\": {\"line\": {\"color\": \"#E5ECF6\", \"width\": 0.5}}, \"type\": \"bar\"}], \"barpolar\": [{\"marker\": {\"line\": {\"color\": \"#E5ECF6\", \"width\": 0.5}}, \"type\": \"barpolar\"}], \"carpet\": [{\"aaxis\": {\"endlinecolor\": \"#2a3f5f\", \"gridcolor\": \"white\", \"linecolor\": \"white\", \"minorgridcolor\": \"white\", \"startlinecolor\": \"#2a3f5f\"}, \"baxis\": {\"endlinecolor\": \"#2a3f5f\", \"gridcolor\": \"white\", \"linecolor\": \"white\", \"minorgridcolor\": \"white\", \"startlinecolor\": \"#2a3f5f\"}, \"type\": \"carpet\"}], \"choropleth\": [{\"colorbar\": {\"outlinewidth\": 0, \"ticks\": \"\"}, \"type\": \"choropleth\"}], \"contour\": [{\"colorbar\": {\"outlinewidth\": 0, \"ticks\": \"\"}, \"colorscale\": [[0.0, \"#0d0887\"], [0.1111111111111111, \"#46039f\"], [0.2222222222222222, \"#7201a8\"], [0.3333333333333333, \"#9c179e\"], [0.4444444444444444, \"#bd3786\"], [0.5555555555555556, \"#d8576b\"], [0.6666666666666666, \"#ed7953\"], [0.7777777777777778, \"#fb9f3a\"], [0.8888888888888888, \"#fdca26\"], [1.0, \"#f0f921\"]], \"type\": \"contour\"}], \"contourcarpet\": [{\"colorbar\": {\"outlinewidth\": 0, \"ticks\": \"\"}, \"type\": \"contourcarpet\"}], \"heatmap\": [{\"colorbar\": {\"outlinewidth\": 0, \"ticks\": \"\"}, \"colorscale\": [[0.0, \"#0d0887\"], [0.1111111111111111, \"#46039f\"], [0.2222222222222222, \"#7201a8\"], [0.3333333333333333, \"#9c179e\"], [0.4444444444444444, \"#bd3786\"], [0.5555555555555556, \"#d8576b\"], [0.6666666666666666, \"#ed7953\"], [0.7777777777777778, \"#fb9f3a\"], [0.8888888888888888, \"#fdca26\"], [1.0, \"#f0f921\"]], \"type\": \"heatmap\"}], \"heatmapgl\": [{\"colorbar\": {\"outlinewidth\": 0, \"ticks\": \"\"}, \"colorscale\": [[0.0, \"#0d0887\"], [0.1111111111111111, \"#46039f\"], [0.2222222222222222, \"#7201a8\"], [0.3333333333333333, \"#9c179e\"], [0.4444444444444444, \"#bd3786\"], [0.5555555555555556, \"#d8576b\"], [0.6666666666666666, \"#ed7953\"], [0.7777777777777778, \"#fb9f3a\"], [0.8888888888888888, \"#fdca26\"], [1.0, \"#f0f921\"]], \"type\": \"heatmapgl\"}], \"histogram\": [{\"marker\": {\"colorbar\": {\"outlinewidth\": 0, \"ticks\": \"\"}}, \"type\": \"histogram\"}], \"histogram2d\": [{\"colorbar\": {\"outlinewidth\": 0, \"ticks\": \"\"}, \"colorscale\": [[0.0, \"#0d0887\"], [0.1111111111111111, \"#46039f\"], [0.2222222222222222, \"#7201a8\"], [0.3333333333333333, \"#9c179e\"], [0.4444444444444444, \"#bd3786\"], [0.5555555555555556, \"#d8576b\"], [0.6666666666666666, \"#ed7953\"], [0.7777777777777778, \"#fb9f3a\"], [0.8888888888888888, \"#fdca26\"], [1.0, \"#f0f921\"]], \"type\": \"histogram2d\"}], \"histogram2dcontour\": [{\"colorbar\": {\"outlinewidth\": 0, \"ticks\": \"\"}, \"colorscale\": [[0.0, \"#0d0887\"], [0.1111111111111111, \"#46039f\"], [0.2222222222222222, \"#7201a8\"], [0.3333333333333333, \"#9c179e\"], [0.4444444444444444, \"#bd3786\"], [0.5555555555555556, \"#d8576b\"], [0.6666666666666666, \"#ed7953\"], [0.7777777777777778, \"#fb9f3a\"], [0.8888888888888888, \"#fdca26\"], [1.0, \"#f0f921\"]], \"type\": \"histogram2dcontour\"}], \"mesh3d\": [{\"colorbar\": {\"outlinewidth\": 0, \"ticks\": \"\"}, \"type\": \"mesh3d\"}], \"parcoords\": [{\"line\": {\"colorbar\": {\"outlinewidth\": 0, \"ticks\": \"\"}}, \"type\": \"parcoords\"}], \"pie\": [{\"automargin\": true, \"type\": \"pie\"}], \"scatter\": [{\"marker\": {\"colorbar\": {\"outlinewidth\": 0, \"ticks\": \"\"}}, \"type\": \"scatter\"}], \"scatter3d\": [{\"line\": {\"colorbar\": {\"outlinewidth\": 0, \"ticks\": \"\"}}, \"marker\": {\"colorbar\": {\"outlinewidth\": 0, \"ticks\": \"\"}}, \"type\": \"scatter3d\"}], \"scattercarpet\": [{\"marker\": {\"colorbar\": {\"outlinewidth\": 0, \"ticks\": \"\"}}, \"type\": \"scattercarpet\"}], \"scattergeo\": [{\"marker\": {\"colorbar\": {\"outlinewidth\": 0, \"ticks\": \"\"}}, \"type\": \"scattergeo\"}], \"scattergl\": [{\"marker\": {\"colorbar\": {\"outlinewidth\": 0, \"ticks\": \"\"}}, \"type\": \"scattergl\"}], \"scattermapbox\": [{\"marker\": {\"colorbar\": {\"outlinewidth\": 0, \"ticks\": \"\"}}, \"type\": \"scattermapbox\"}], \"scatterpolar\": [{\"marker\": {\"colorbar\": {\"outlinewidth\": 0, \"ticks\": \"\"}}, \"type\": \"scatterpolar\"}], \"scatterpolargl\": [{\"marker\": {\"colorbar\": {\"outlinewidth\": 0, \"ticks\": \"\"}}, \"type\": \"scatterpolargl\"}], \"scatterternary\": [{\"marker\": {\"colorbar\": {\"outlinewidth\": 0, \"ticks\": \"\"}}, \"type\": \"scatterternary\"}], \"surface\": [{\"colorbar\": {\"outlinewidth\": 0, \"ticks\": \"\"}, \"colorscale\": [[0.0, \"#0d0887\"], [0.1111111111111111, \"#46039f\"], [0.2222222222222222, \"#7201a8\"], [0.3333333333333333, \"#9c179e\"], [0.4444444444444444, \"#bd3786\"], [0.5555555555555556, \"#d8576b\"], [0.6666666666666666, \"#ed7953\"], [0.7777777777777778, \"#fb9f3a\"], [0.8888888888888888, \"#fdca26\"], [1.0, \"#f0f921\"]], \"type\": \"surface\"}], \"table\": [{\"cells\": {\"fill\": {\"color\": \"#EBF0F8\"}, \"line\": {\"color\": \"white\"}}, \"header\": {\"fill\": {\"color\": \"#C8D4E3\"}, \"line\": {\"color\": \"white\"}}, \"type\": \"table\"}]}, \"layout\": {\"annotationdefaults\": {\"arrowcolor\": \"#2a3f5f\", \"arrowhead\": 0, \"arrowwidth\": 1}, \"coloraxis\": {\"colorbar\": {\"outlinewidth\": 0, \"ticks\": \"\"}}, \"colorscale\": {\"diverging\": [[0, \"#8e0152\"], [0.1, \"#c51b7d\"], [0.2, \"#de77ae\"], [0.3, \"#f1b6da\"], [0.4, \"#fde0ef\"], [0.5, \"#f7f7f7\"], [0.6, \"#e6f5d0\"], [0.7, \"#b8e186\"], [0.8, \"#7fbc41\"], [0.9, \"#4d9221\"], [1, \"#276419\"]], \"sequential\": [[0.0, \"#0d0887\"], [0.1111111111111111, \"#46039f\"], [0.2222222222222222, \"#7201a8\"], [0.3333333333333333, \"#9c179e\"], [0.4444444444444444, \"#bd3786\"], [0.5555555555555556, \"#d8576b\"], [0.6666666666666666, \"#ed7953\"], [0.7777777777777778, \"#fb9f3a\"], [0.8888888888888888, \"#fdca26\"], [1.0, \"#f0f921\"]], \"sequentialminus\": [[0.0, \"#0d0887\"], [0.1111111111111111, \"#46039f\"], [0.2222222222222222, \"#7201a8\"], [0.3333333333333333, \"#9c179e\"], [0.4444444444444444, \"#bd3786\"], [0.5555555555555556, \"#d8576b\"], [0.6666666666666666, \"#ed7953\"], [0.7777777777777778, \"#fb9f3a\"], [0.8888888888888888, \"#fdca26\"], [1.0, \"#f0f921\"]]}, \"colorway\": [\"#636efa\", \"#EF553B\", \"#00cc96\", \"#ab63fa\", \"#FFA15A\", \"#19d3f3\", \"#FF6692\", \"#B6E880\", \"#FF97FF\", \"#FECB52\"], \"font\": {\"color\": \"#2a3f5f\"}, \"geo\": {\"bgcolor\": \"white\", \"lakecolor\": \"white\", \"landcolor\": \"#E5ECF6\", \"showlakes\": true, \"showland\": true, \"subunitcolor\": \"white\"}, \"hoverlabel\": {\"align\": \"left\"}, \"hovermode\": \"closest\", \"mapbox\": {\"style\": \"light\"}, \"paper_bgcolor\": \"white\", \"plot_bgcolor\": \"#E5ECF6\", \"polar\": {\"angularaxis\": {\"gridcolor\": \"white\", \"linecolor\": \"white\", \"ticks\": \"\"}, \"bgcolor\": \"#E5ECF6\", \"radialaxis\": {\"gridcolor\": \"white\", \"linecolor\": \"white\", \"ticks\": \"\"}}, \"scene\": {\"xaxis\": {\"backgroundcolor\": \"#E5ECF6\", \"gridcolor\": \"white\", \"gridwidth\": 2, \"linecolor\": \"white\", \"showbackground\": true, \"ticks\": \"\", \"zerolinecolor\": \"white\"}, \"yaxis\": {\"backgroundcolor\": \"#E5ECF6\", \"gridcolor\": \"white\", \"gridwidth\": 2, \"linecolor\": \"white\", \"showbackground\": true, \"ticks\": \"\", \"zerolinecolor\": \"white\"}, \"zaxis\": {\"backgroundcolor\": \"#E5ECF6\", \"gridcolor\": \"white\", \"gridwidth\": 2, \"linecolor\": \"white\", \"showbackground\": true, \"ticks\": \"\", \"zerolinecolor\": \"white\"}}, \"shapedefaults\": {\"line\": {\"color\": \"#2a3f5f\"}}, \"ternary\": {\"aaxis\": {\"gridcolor\": \"white\", \"linecolor\": \"white\", \"ticks\": \"\"}, \"baxis\": {\"gridcolor\": \"white\", \"linecolor\": \"white\", \"ticks\": \"\"}, \"bgcolor\": \"#E5ECF6\", \"caxis\": {\"gridcolor\": \"white\", \"linecolor\": \"white\", \"ticks\": \"\"}}, \"title\": {\"x\": 0.05}, \"xaxis\": {\"automargin\": true, \"gridcolor\": \"white\", \"linecolor\": \"white\", \"ticks\": \"\", \"title\": {\"standoff\": 15}, \"zerolinecolor\": \"white\", \"zerolinewidth\": 2}, \"yaxis\": {\"automargin\": true, \"gridcolor\": \"white\", \"linecolor\": \"white\", \"ticks\": \"\", \"title\": {\"standoff\": 15}, \"zerolinecolor\": \"white\", \"zerolinewidth\": 2}}}, \"title\": {\"text\": \"GOOGL\"}, \"xaxis\": {\"anchor\": \"y\", \"domain\": [0.0, 1.0], \"title\": {\"text\": \"^IXIC\"}}, \"yaxis\": {\"anchor\": \"x\", \"domain\": [0.0, 1.0], \"title\": {\"text\": \"GOOGL\"}}},\n",
              "                        {\"responsive\": true}\n",
              "                    ).then(function(){\n",
              "                            \n",
              "var gd = document.getElementById('7d942bed-7777-4997-922e-31ee1291d2f7');\n",
              "var x = new MutationObserver(function (mutations, observer) {{\n",
              "        var display = window.getComputedStyle(gd).display;\n",
              "        if (!display || display === 'none') {{\n",
              "            console.log([gd, 'removed!']);\n",
              "            Plotly.purge(gd);\n",
              "            observer.disconnect();\n",
              "        }}\n",
              "}});\n",
              "\n",
              "// Listen for the removal of the full notebook cells\n",
              "var notebookContainer = gd.closest('#notebook-container');\n",
              "if (notebookContainer) {{\n",
              "    x.observe(notebookContainer, {childList: true});\n",
              "}}\n",
              "\n",
              "// Listen for the clearing of the current output cell\n",
              "var outputEl = gd.closest('.output');\n",
              "if (outputEl) {{\n",
              "    x.observe(outputEl, {childList: true});\n",
              "}}\n",
              "\n",
              "                        })\n",
              "                };\n",
              "                \n",
              "            </script>\n",
              "        </div>\n",
              "</body>\n",
              "</html>"
            ]
          },
          "metadata": {}
        },
        {
          "output_type": "display_data",
          "data": {
            "text/html": [
              "<html>\n",
              "<head><meta charset=\"utf-8\" /></head>\n",
              "<body>\n",
              "    <div>\n",
              "            <script src=\"https://cdnjs.cloudflare.com/ajax/libs/mathjax/2.7.5/MathJax.js?config=TeX-AMS-MML_SVG\"></script><script type=\"text/javascript\">if (window.MathJax) {MathJax.Hub.Config({SVG: {font: \"STIX-Web\"}});}</script>\n",
              "                <script type=\"text/javascript\">window.PlotlyConfig = {MathJaxConfig: 'local'};</script>\n",
              "        <script src=\"https://cdn.plot.ly/plotly-latest.min.js\"></script>    \n",
              "            <div id=\"dfd4b146-719a-4fc4-941a-f3d9d80fbf68\" class=\"plotly-graph-div\" style=\"height:525px; width:100%;\"></div>\n",
              "            <script type=\"text/javascript\">\n",
              "                \n",
              "                    window.PLOTLYENV=window.PLOTLYENV || {};\n",
              "                    \n",
              "                if (document.getElementById(\"dfd4b146-719a-4fc4-941a-f3d9d80fbf68\")) {\n",
              "                    Plotly.newPlot(\n",
              "                        'dfd4b146-719a-4fc4-941a-f3d9d80fbf68',\n",
              "                        [{\"hoverlabel\": {\"namelength\": 0}, \"hovertemplate\": \"^IXIC=%{x}<br>MSFT=%{y}\", \"legendgroup\": \"\", \"marker\": {\"color\": \"#636efa\", \"symbol\": \"circle\"}, \"mode\": \"markers\", \"name\": \"\", \"showlegend\": false, \"type\": \"scatter\", \"x\": [0.0, -0.7855191660339514, 0.5620384728471665, -0.031854247708491115, 0.6689046766684335, 0.8126574744484102, -0.2669584793033168, 1.0357422631592443, -0.24368967780143092, 0.0796654872895177, 1.063104814105905, 0.33996051431786484, -0.19310868474221926, 0.13830140117838088, 0.19939681423002234, -0.9313533039610973, -1.8851559810233676, 1.4264766521421406, 0.05912252564012881, 0.256270844379793, -1.591465499641676, 1.3382226873668104, 2.0981444534002978, 0.42997561370826654, 0.6675027996624794, -0.5394882329740349, 1.1331313707803117, 0.10957991559587729, 0.9027914622439598, -0.1438442521991573, 0.19779675470939986, 0.01603656416913738, 0.8675814939226352, -0.6744295515116596, -1.7883337524623202, -3.7101888679547743, -2.7726076455074673, 0.16920121754294432, -4.613182731047064, 0.010385226940578262, 4.491457698501092, -2.9945821009265603, 3.846114054662644, -3.0993259641753057, -1.8649430797928905, -7.287402343694397, 4.950140308971453, -4.700245022770171, -9.434674309481181, 9.345998172386109, -12.321331290147407, 6.230492341201929, -4.702798877538514, 2.2996268579562185, -3.7907422283539605, -0.274003093278801, 8.121509236724387, -0.4524223861369213, 5.59620065957612, -3.7852983732224246, 3.6224507926325984, -0.952513208745505, -4.409293583528775, 1.7217390358319775, -1.52564779039222, 7.3261127035984215, -0.32831644156512807, 2.581887027561507, 0.7746996815903381, 0.47635325069293516, 3.946578856836743, -1.4392236435332642, 1.6582590775434294, 1.3803835283800632, -1.0336154480887512, -3.475170735558033, 2.8094268330097516, -0.007414416084845749, 1.6453636805085496, 1.1076542783169119, -1.4023761913732073, 3.5663232405100977, -0.2822319106313816, -3.2015075636893258, 1.2290572661607275, 1.1297604522629348, 0.5138939036791482, 1.4147842232649654, 1.5775670101657695, 0.7786102101104126, -2.0646542913830683, -1.5482267339407207, 0.9088148528970065, 0.7920624294565988, 2.443497168047047, -0.5385098407798431, 2.07597818392603, -0.9695234740358589, 0.4276841643477609, 0.16762005701490723, 0.7723653951613199, -0.4607783336758918, 1.2902124966358643, 0.6552216914685036, 0.5897171735574182, 0.7756799205120937, -0.6929795366756427, 2.061922153956055, 1.1276647530284236, 0.2921987959394443, 0.6690906379505211, -5.265476367524758, 1.012133462324583, 1.4309384280850652, 1.7463525072283153, 0.14814418617457112, 0.32813109241147087, 0.030878981402190583, 1.1095819300612568, 0.7446904378745204, -2.193189990518118, 1.088184772035845, -2.59339396463512, 1.1984014641401854, 1.8697217818384297, 0.9530027630585096, 0.5219294116244121, 2.2142310252948234, -0.8603004588705903, 1.4366969932335696, 0.5265665951870384, 0.660713703751985, -2.1342298780777758, 0.940638445445677, 0.5902625120736783, -0.7266027885626613, 0.2803210606196508, 2.512564309189163, -0.8055054192553627, 0.2412796048237268, -2.285699534902473, -0.9390717044975707, 1.6702387584650282, -1.273502800037816, 1.3540604633609157, 0.4255846926598821, 1.487181648780377, 1.4660430152948845, 0.3519290262580381, 0.5230744898274311, 0.997144293532742, -0.8740477960491844, -0.387069228834427, -1.6915932109767786, 2.1276430027220674, 0.27478301400057853, -0.21009911987774507, 1.002156815948722, 0.7287631558350716, -0.5742645841862735, 1.0630301888693465, 0.41588829566680874, 0.6004342637575202, 0.7623210596084231, 1.731917917944346, -0.34050170359683757, 0.6046278217001049, 0.68256330719148, 1.3945099510527015, 0.9780044890400321, -4.9628314741983, -1.265216148443028, -4.114152829024972, 2.709047999938783, -1.9922680048667027, -0.6047849782590421, 1.8712825719911805, 1.2089549470456218, -1.2497460486567282, -1.2686289053217388, -1.0723830833645196, -0.1341618894641025, 1.714846245401242, -3.015872690686464, 0.3694096957600452, 2.26090653310401, 1.868965865910965, -0.29035471587269224, 0.7420650470219435, 1.423773100153644, -2.220368318034313, 2.3247878019402477, -1.5697399364210516, 1.882631446703863, 0.4961095094673616, 1.3918241202884905, 2.5589020749867237, -0.10406790726970577, -0.802180722540493, -0.4661535218957812, -0.361200409870677, -1.6508478266271756, 0.32764827183891476, -0.2761240971887628, 0.1856326565180225, 0.3673776458871612, -1.6395501257923704, 0.6374642083539132, -3.7307886361706455, 1.64217954994535, -2.449580253052983, 0.421758043250314, 1.852228309145515, 3.8547309760295905, 2.5895531360416695, 0.03616858700729745, -1.5254029401884093, -1.3652289708527225, 2.0129145485651314, -0.6519348588783579, 1.0222407181613629, 0.8017374114323119, -0.20789809660017614, -0.821392074337107, 0.8736981000490036, -0.4178197918152635, 0.2164506265461421, 1.314409739132722, 0.4786188956984337, 0.9214943705385352, -0.05824563817777561, 1.281854635668546, -0.04646040554606666, 0.22519019228191595, 0.703316776906088, 0.44703703692096414, 0.5017538804668705, -1.9377239274069296, 0.541856267686367, -0.2252126551407012, 0.5022667170232535, 1.2461337002391393, 0.5012350995449372, 0.8418230939438529, -0.07137117109618285, -0.10285738347200132, 0.5132453630116934, -0.28739694296208024, 0.26325132476352536, 0.7394880615104708, -0.38141401404466013, 0.1539294569151412], \"xaxis\": \"x\", \"y\": [0.0, -1.2451921139604398, 0.25847629034123565, -0.9117774771052793, 1.5928488950653636, 1.2492952687141, -0.46269918711643226, 1.2024146804877462, -0.7042951069693941, 0.6476189892671091, 1.8323273690762631, 0.5596896076512334, -0.3590797348728675, -0.48047970783791033, 0.6155688447752241, -1.0076740676468643, -1.672329469811905, 1.9595878114003495, 1.559287112277152, 2.820749066057416, -1.475870795749942, 2.4378824363962286, 3.291666981905022, -0.12214016734598912, 2.073383037146028, 0.14159600812858458, 2.6156787614430406, -2.2575467680867325, 0.14638524793512225, -0.5413841171864227, 0.8927005382563494, 1.014298184439411, 0.2999142817824747, -1.5271149796536199, -3.1612799960517677, -4.31153853087726, -1.650183431209809, 1.249483787140157, -7.0459045596744, 2.421285304600433, 6.6539147798794716, -4.79193847593787, 3.6715128573895117, -2.509534049346437, -2.8267199869070234, -6.77725553005791, 6.838402723945544, -4.530190819399139, -9.4838423467733, 14.216899736892282, -14.739030465587765, 8.233667104183438, -4.2096224195525815, 1.645307310352796, -3.7558664567799585, -0.9974640781977218, 9.089570000161643, -0.9572595811001937, 6.255117047708822, -4.106079513032132, 7.034071211342264, -1.572738921532789, -3.5508401472189934, 2.0708774501368645, -0.9210146285010365, 7.436770286084584, -1.0770219519765507, 1.0031111414082885, 0.006064873145257274, 0.22404925990538996, 4.94833827587629, -1.0477700144060913, 3.0020717638090195, 0.8811779792587784, -1.9820940890178633, -4.13572550447177, 3.3964924371687175, -1.2102305322928708, 1.8259227226601011, -0.28644386516981474, -2.4360886902768293, 4.48737476908178, 1.0032179396427376, -2.5891529071330703, 2.4460076466722773, 1.0735864446587866, 0.9847365197196067, 0.5806963573684076, 0.5882279543298168, 1.1154398013442137, -2.2651804465357963, -1.5122469647731251, 0.4339378288538043, 1.4568180563229471, 0.9554550570528965, -0.6922237751560207, 1.3870676572069018, -1.2011267984102705, 0.04361605818212174, -1.0571631001291089, 0.13218007605540238, -0.22550813619872973, 1.0198585263375737, -0.2292112953129487, 1.1376715076735204, 0.2433651626104693, -1.3163676935672088, 2.339825883078072, 0.6196592331856137, 0.7644996923201991, 3.709152067638751, -5.369823236917487, 0.7891789537362568, 0.639180060410491, 2.4505161150592594, 0.34612039972424563, 1.07083462701977, -0.5959681083113479, 2.7773539428630456, 0.6680890048568421, -2.015743052009654, 1.2636492083145137, -2.0016060125460675, 1.074735365236661, 2.5549175303602154, 0.5847426265489217, 0.7620812741909018, 2.1526322859669165, -1.1627936792141473, 2.199276341220347, 0.7001007334488794, -0.3032827773209102, -3.088881300229666, 0.6181418159945331, -0.1487815317089065, -1.9803879945340257, -0.509997499745092, 4.298097909965999, -1.3468809521898952, 1.437129299636183, -4.349475153208492, -0.6122129665837502, 1.266766357989593, -0.897720215909004, 1.009790591297923, -0.07841314666072403, 0.5443868724561591, 5.6241174598867305, -1.5008746654956937, -0.1641014254642279, 1.6013991737150544, -1.788766938605208, -1.990781100165635, -2.338537850511798, 2.8567278063831143, -0.23423741715467358, 0.09582614846780971, 0.6606088075952649, 0.5754229198433553, -0.6066901081551039, 2.327135945147655, -0.7270046485613156, 0.31452537607505004, 1.3009535454648435, 2.161950138523072, 2.4553556507730665, 1.0283312706901462, -1.4765590524061178, 0.7715242371215019, 1.9272115748149934, -6.194686618216549, -1.4035871204492567, -5.409568992351916, 4.258354929725579, -2.801840510247103, -0.6524678540474894, 0.6763684485368042, 1.640619916355732, -1.7865724909125076, -1.0436416606256742, -1.2419293074188824, 1.0728982985087083, 2.4094027743850077, -3.292828880323109, 1.2961740510782118, 2.278657640240024, 0.7795060616393745, -1.0408604332531557, 1.4812303024624935, 1.012698504039834, -2.9511473942203823, 2.0321133657869033, -2.1247390866163265, 1.903757731653073, 0.35743158272950476, 2.483610892770058, 2.5902399083820766, 0.659436044886053, -0.8974229285892357, -0.5433227504610019, 0.0, -2.4765532086272835, 0.20071205985333976, 0.06989543949295353, 0.04188789900679153, 0.6235838835730243, -2.844195983478137, 1.5089479160084964, -4.956616893206603, 1.0064988297426347, -1.0990528591516306, -0.06914136629606711, 2.026381400029971, 4.8248841937980185, 3.1886888991836977, 0.19257297535798304, -2.382436993582432, -3.3792754348016616, 2.6254663846556956, -0.5125870907041786, 0.49665860106898174, 0.3325490144758429, -1.2751383361664541, -1.3183833454548222, 0.6348335515585793, -0.9556571026484356, -0.13308737973791182, 1.7847869869406257, 0.004675228870766332, 0.6358947578341072, -0.5389530152454193, 0.9996753508811265, -0.3885217653950524, -0.5246682056401565, 0.056010404615492476, -0.03266459635651111, 0.8026548459453137, -1.9489794046516469, -0.6043512390027066, 1.3015409736774313, 0.4407799999783945, -0.032681826359119065, 2.4050800059187933, 0.063849392758375, -0.3782741481727039, 1.8299063926013437, 0.606505464552136, -1.3039236220987627, 0.782730997370513, 0.9921479830769315, -0.3600694577670751, -1.101933792019615], \"yaxis\": \"y\"}],\n",
              "                        {\"legend\": {\"tracegroupgap\": 0}, \"template\": {\"data\": {\"bar\": [{\"error_x\": {\"color\": \"#2a3f5f\"}, \"error_y\": {\"color\": \"#2a3f5f\"}, \"marker\": {\"line\": {\"color\": \"#E5ECF6\", \"width\": 0.5}}, \"type\": \"bar\"}], \"barpolar\": [{\"marker\": {\"line\": {\"color\": \"#E5ECF6\", \"width\": 0.5}}, \"type\": \"barpolar\"}], \"carpet\": [{\"aaxis\": {\"endlinecolor\": \"#2a3f5f\", \"gridcolor\": \"white\", \"linecolor\": \"white\", \"minorgridcolor\": \"white\", \"startlinecolor\": \"#2a3f5f\"}, \"baxis\": {\"endlinecolor\": \"#2a3f5f\", \"gridcolor\": \"white\", \"linecolor\": \"white\", \"minorgridcolor\": \"white\", \"startlinecolor\": \"#2a3f5f\"}, \"type\": \"carpet\"}], \"choropleth\": [{\"colorbar\": {\"outlinewidth\": 0, \"ticks\": \"\"}, \"type\": \"choropleth\"}], \"contour\": [{\"colorbar\": {\"outlinewidth\": 0, \"ticks\": \"\"}, \"colorscale\": [[0.0, \"#0d0887\"], [0.1111111111111111, \"#46039f\"], [0.2222222222222222, \"#7201a8\"], [0.3333333333333333, \"#9c179e\"], [0.4444444444444444, \"#bd3786\"], [0.5555555555555556, \"#d8576b\"], [0.6666666666666666, \"#ed7953\"], [0.7777777777777778, \"#fb9f3a\"], [0.8888888888888888, \"#fdca26\"], [1.0, \"#f0f921\"]], \"type\": \"contour\"}], \"contourcarpet\": [{\"colorbar\": {\"outlinewidth\": 0, \"ticks\": \"\"}, \"type\": \"contourcarpet\"}], \"heatmap\": [{\"colorbar\": {\"outlinewidth\": 0, \"ticks\": \"\"}, \"colorscale\": [[0.0, \"#0d0887\"], [0.1111111111111111, \"#46039f\"], [0.2222222222222222, \"#7201a8\"], [0.3333333333333333, \"#9c179e\"], [0.4444444444444444, \"#bd3786\"], [0.5555555555555556, \"#d8576b\"], [0.6666666666666666, \"#ed7953\"], [0.7777777777777778, \"#fb9f3a\"], [0.8888888888888888, \"#fdca26\"], [1.0, \"#f0f921\"]], \"type\": \"heatmap\"}], \"heatmapgl\": [{\"colorbar\": {\"outlinewidth\": 0, \"ticks\": \"\"}, \"colorscale\": [[0.0, \"#0d0887\"], [0.1111111111111111, \"#46039f\"], [0.2222222222222222, \"#7201a8\"], [0.3333333333333333, \"#9c179e\"], [0.4444444444444444, \"#bd3786\"], [0.5555555555555556, \"#d8576b\"], [0.6666666666666666, \"#ed7953\"], [0.7777777777777778, \"#fb9f3a\"], [0.8888888888888888, \"#fdca26\"], [1.0, \"#f0f921\"]], \"type\": \"heatmapgl\"}], \"histogram\": [{\"marker\": {\"colorbar\": {\"outlinewidth\": 0, \"ticks\": \"\"}}, \"type\": \"histogram\"}], \"histogram2d\": [{\"colorbar\": {\"outlinewidth\": 0, \"ticks\": \"\"}, \"colorscale\": [[0.0, \"#0d0887\"], [0.1111111111111111, \"#46039f\"], [0.2222222222222222, \"#7201a8\"], [0.3333333333333333, \"#9c179e\"], [0.4444444444444444, \"#bd3786\"], [0.5555555555555556, \"#d8576b\"], [0.6666666666666666, \"#ed7953\"], [0.7777777777777778, \"#fb9f3a\"], [0.8888888888888888, \"#fdca26\"], [1.0, \"#f0f921\"]], \"type\": \"histogram2d\"}], \"histogram2dcontour\": [{\"colorbar\": {\"outlinewidth\": 0, \"ticks\": \"\"}, \"colorscale\": [[0.0, \"#0d0887\"], [0.1111111111111111, \"#46039f\"], [0.2222222222222222, \"#7201a8\"], [0.3333333333333333, \"#9c179e\"], [0.4444444444444444, \"#bd3786\"], [0.5555555555555556, \"#d8576b\"], [0.6666666666666666, \"#ed7953\"], [0.7777777777777778, \"#fb9f3a\"], [0.8888888888888888, \"#fdca26\"], [1.0, \"#f0f921\"]], \"type\": \"histogram2dcontour\"}], \"mesh3d\": [{\"colorbar\": {\"outlinewidth\": 0, \"ticks\": \"\"}, \"type\": \"mesh3d\"}], \"parcoords\": [{\"line\": {\"colorbar\": {\"outlinewidth\": 0, \"ticks\": \"\"}}, \"type\": \"parcoords\"}], \"pie\": [{\"automargin\": true, \"type\": \"pie\"}], \"scatter\": [{\"marker\": {\"colorbar\": {\"outlinewidth\": 0, \"ticks\": \"\"}}, \"type\": \"scatter\"}], \"scatter3d\": [{\"line\": {\"colorbar\": {\"outlinewidth\": 0, \"ticks\": \"\"}}, \"marker\": {\"colorbar\": {\"outlinewidth\": 0, \"ticks\": \"\"}}, \"type\": \"scatter3d\"}], \"scattercarpet\": [{\"marker\": {\"colorbar\": {\"outlinewidth\": 0, \"ticks\": \"\"}}, \"type\": \"scattercarpet\"}], \"scattergeo\": [{\"marker\": {\"colorbar\": {\"outlinewidth\": 0, \"ticks\": \"\"}}, \"type\": \"scattergeo\"}], \"scattergl\": [{\"marker\": {\"colorbar\": {\"outlinewidth\": 0, \"ticks\": \"\"}}, \"type\": \"scattergl\"}], \"scattermapbox\": [{\"marker\": {\"colorbar\": {\"outlinewidth\": 0, \"ticks\": \"\"}}, \"type\": \"scattermapbox\"}], \"scatterpolar\": [{\"marker\": {\"colorbar\": {\"outlinewidth\": 0, \"ticks\": \"\"}}, \"type\": \"scatterpolar\"}], \"scatterpolargl\": [{\"marker\": {\"colorbar\": {\"outlinewidth\": 0, \"ticks\": \"\"}}, \"type\": \"scatterpolargl\"}], \"scatterternary\": [{\"marker\": {\"colorbar\": {\"outlinewidth\": 0, \"ticks\": \"\"}}, \"type\": \"scatterternary\"}], \"surface\": [{\"colorbar\": {\"outlinewidth\": 0, \"ticks\": \"\"}, \"colorscale\": [[0.0, \"#0d0887\"], [0.1111111111111111, \"#46039f\"], [0.2222222222222222, \"#7201a8\"], [0.3333333333333333, \"#9c179e\"], [0.4444444444444444, \"#bd3786\"], [0.5555555555555556, \"#d8576b\"], [0.6666666666666666, \"#ed7953\"], [0.7777777777777778, \"#fb9f3a\"], [0.8888888888888888, \"#fdca26\"], [1.0, \"#f0f921\"]], \"type\": \"surface\"}], \"table\": [{\"cells\": {\"fill\": {\"color\": \"#EBF0F8\"}, \"line\": {\"color\": \"white\"}}, \"header\": {\"fill\": {\"color\": \"#C8D4E3\"}, \"line\": {\"color\": \"white\"}}, \"type\": \"table\"}]}, \"layout\": {\"annotationdefaults\": {\"arrowcolor\": \"#2a3f5f\", \"arrowhead\": 0, \"arrowwidth\": 1}, \"coloraxis\": {\"colorbar\": {\"outlinewidth\": 0, \"ticks\": \"\"}}, \"colorscale\": {\"diverging\": [[0, \"#8e0152\"], [0.1, \"#c51b7d\"], [0.2, \"#de77ae\"], [0.3, \"#f1b6da\"], [0.4, \"#fde0ef\"], [0.5, \"#f7f7f7\"], [0.6, \"#e6f5d0\"], [0.7, \"#b8e186\"], [0.8, \"#7fbc41\"], [0.9, \"#4d9221\"], [1, \"#276419\"]], \"sequential\": [[0.0, \"#0d0887\"], [0.1111111111111111, \"#46039f\"], [0.2222222222222222, \"#7201a8\"], [0.3333333333333333, \"#9c179e\"], [0.4444444444444444, \"#bd3786\"], [0.5555555555555556, \"#d8576b\"], [0.6666666666666666, \"#ed7953\"], [0.7777777777777778, \"#fb9f3a\"], [0.8888888888888888, \"#fdca26\"], [1.0, \"#f0f921\"]], \"sequentialminus\": [[0.0, \"#0d0887\"], [0.1111111111111111, \"#46039f\"], [0.2222222222222222, \"#7201a8\"], [0.3333333333333333, \"#9c179e\"], [0.4444444444444444, \"#bd3786\"], [0.5555555555555556, \"#d8576b\"], [0.6666666666666666, \"#ed7953\"], [0.7777777777777778, \"#fb9f3a\"], [0.8888888888888888, \"#fdca26\"], [1.0, \"#f0f921\"]]}, \"colorway\": [\"#636efa\", \"#EF553B\", \"#00cc96\", \"#ab63fa\", \"#FFA15A\", \"#19d3f3\", \"#FF6692\", \"#B6E880\", \"#FF97FF\", \"#FECB52\"], \"font\": {\"color\": \"#2a3f5f\"}, \"geo\": {\"bgcolor\": \"white\", \"lakecolor\": \"white\", \"landcolor\": \"#E5ECF6\", \"showlakes\": true, \"showland\": true, \"subunitcolor\": \"white\"}, \"hoverlabel\": {\"align\": \"left\"}, \"hovermode\": \"closest\", \"mapbox\": {\"style\": \"light\"}, \"paper_bgcolor\": \"white\", \"plot_bgcolor\": \"#E5ECF6\", \"polar\": {\"angularaxis\": {\"gridcolor\": \"white\", \"linecolor\": \"white\", \"ticks\": \"\"}, \"bgcolor\": \"#E5ECF6\", \"radialaxis\": {\"gridcolor\": \"white\", \"linecolor\": \"white\", \"ticks\": \"\"}}, \"scene\": {\"xaxis\": {\"backgroundcolor\": \"#E5ECF6\", \"gridcolor\": \"white\", \"gridwidth\": 2, \"linecolor\": \"white\", \"showbackground\": true, \"ticks\": \"\", \"zerolinecolor\": \"white\"}, \"yaxis\": {\"backgroundcolor\": \"#E5ECF6\", \"gridcolor\": \"white\", \"gridwidth\": 2, \"linecolor\": \"white\", \"showbackground\": true, \"ticks\": \"\", \"zerolinecolor\": \"white\"}, \"zaxis\": {\"backgroundcolor\": \"#E5ECF6\", \"gridcolor\": \"white\", \"gridwidth\": 2, \"linecolor\": \"white\", \"showbackground\": true, \"ticks\": \"\", \"zerolinecolor\": \"white\"}}, \"shapedefaults\": {\"line\": {\"color\": \"#2a3f5f\"}}, \"ternary\": {\"aaxis\": {\"gridcolor\": \"white\", \"linecolor\": \"white\", \"ticks\": \"\"}, \"baxis\": {\"gridcolor\": \"white\", \"linecolor\": \"white\", \"ticks\": \"\"}, \"bgcolor\": \"#E5ECF6\", \"caxis\": {\"gridcolor\": \"white\", \"linecolor\": \"white\", \"ticks\": \"\"}}, \"title\": {\"x\": 0.05}, \"xaxis\": {\"automargin\": true, \"gridcolor\": \"white\", \"linecolor\": \"white\", \"ticks\": \"\", \"title\": {\"standoff\": 15}, \"zerolinecolor\": \"white\", \"zerolinewidth\": 2}, \"yaxis\": {\"automargin\": true, \"gridcolor\": \"white\", \"linecolor\": \"white\", \"ticks\": \"\", \"title\": {\"standoff\": 15}, \"zerolinecolor\": \"white\", \"zerolinewidth\": 2}}}, \"title\": {\"text\": \"MSFT\"}, \"xaxis\": {\"anchor\": \"y\", \"domain\": [0.0, 1.0], \"title\": {\"text\": \"^IXIC\"}}, \"yaxis\": {\"anchor\": \"x\", \"domain\": [0.0, 1.0], \"title\": {\"text\": \"MSFT\"}}},\n",
              "                        {\"responsive\": true}\n",
              "                    ).then(function(){\n",
              "                            \n",
              "var gd = document.getElementById('dfd4b146-719a-4fc4-941a-f3d9d80fbf68');\n",
              "var x = new MutationObserver(function (mutations, observer) {{\n",
              "        var display = window.getComputedStyle(gd).display;\n",
              "        if (!display || display === 'none') {{\n",
              "            console.log([gd, 'removed!']);\n",
              "            Plotly.purge(gd);\n",
              "            observer.disconnect();\n",
              "        }}\n",
              "}});\n",
              "\n",
              "// Listen for the removal of the full notebook cells\n",
              "var notebookContainer = gd.closest('#notebook-container');\n",
              "if (notebookContainer) {{\n",
              "    x.observe(notebookContainer, {childList: true});\n",
              "}}\n",
              "\n",
              "// Listen for the clearing of the current output cell\n",
              "var outputEl = gd.closest('.output');\n",
              "if (outputEl) {{\n",
              "    x.observe(outputEl, {childList: true});\n",
              "}}\n",
              "\n",
              "                        })\n",
              "                };\n",
              "                \n",
              "            </script>\n",
              "        </div>\n",
              "</body>\n",
              "</html>"
            ]
          },
          "metadata": {}
        },
        {
          "output_type": "display_data",
          "data": {
            "text/html": [
              "<html>\n",
              "<head><meta charset=\"utf-8\" /></head>\n",
              "<body>\n",
              "    <div>\n",
              "            <script src=\"https://cdnjs.cloudflare.com/ajax/libs/mathjax/2.7.5/MathJax.js?config=TeX-AMS-MML_SVG\"></script><script type=\"text/javascript\">if (window.MathJax) {MathJax.Hub.Config({SVG: {font: \"STIX-Web\"}});}</script>\n",
              "                <script type=\"text/javascript\">window.PlotlyConfig = {MathJaxConfig: 'local'};</script>\n",
              "        <script src=\"https://cdn.plot.ly/plotly-latest.min.js\"></script>    \n",
              "            <div id=\"0008b0a7-d421-46c6-9f57-dca9d1ec5ccb\" class=\"plotly-graph-div\" style=\"height:525px; width:100%;\"></div>\n",
              "            <script type=\"text/javascript\">\n",
              "                \n",
              "                    window.PLOTLYENV=window.PLOTLYENV || {};\n",
              "                    \n",
              "                if (document.getElementById(\"0008b0a7-d421-46c6-9f57-dca9d1ec5ccb\")) {\n",
              "                    Plotly.newPlot(\n",
              "                        '0008b0a7-d421-46c6-9f57-dca9d1ec5ccb',\n",
              "                        [{\"hoverlabel\": {\"namelength\": 0}, \"hovertemplate\": \"^IXIC=%{x}<br>NVDA=%{y}\", \"legendgroup\": \"\", \"marker\": {\"color\": \"#636efa\", \"symbol\": \"circle\"}, \"mode\": \"markers\", \"name\": \"\", \"showlegend\": false, \"type\": \"scatter\", \"x\": [0.0, -0.7855191660339514, 0.5620384728471665, -0.031854247708491115, 0.6689046766684335, 0.8126574744484102, -0.2669584793033168, 1.0357422631592443, -0.24368967780143092, 0.0796654872895177, 1.063104814105905, 0.33996051431786484, -0.19310868474221926, 0.13830140117838088, 0.19939681423002234, -0.9313533039610973, -1.8851559810233676, 1.4264766521421406, 0.05912252564012881, 0.256270844379793, -1.591465499641676, 1.3382226873668104, 2.0981444534002978, 0.42997561370826654, 0.6675027996624794, -0.5394882329740349, 1.1331313707803117, 0.10957991559587729, 0.9027914622439598, -0.1438442521991573, 0.19779675470939986, 0.01603656416913738, 0.8675814939226352, -0.6744295515116596, -1.7883337524623202, -3.7101888679547743, -2.7726076455074673, 0.16920121754294432, -4.613182731047064, 0.010385226940578262, 4.491457698501092, -2.9945821009265603, 3.846114054662644, -3.0993259641753057, -1.8649430797928905, -7.287402343694397, 4.950140308971453, -4.700245022770171, -9.434674309481181, 9.345998172386109, -12.321331290147407, 6.230492341201929, -4.702798877538514, 2.2996268579562185, -3.7907422283539605, -0.274003093278801, 8.121509236724387, -0.4524223861369213, 5.59620065957612, -3.7852983732224246, 3.6224507926325984, -0.952513208745505, -4.409293583528775, 1.7217390358319775, -1.52564779039222, 7.3261127035984215, -0.32831644156512807, 2.581887027561507, 0.7746996815903381, 0.47635325069293516, 3.946578856836743, -1.4392236435332642, 1.6582590775434294, 1.3803835283800632, -1.0336154480887512, -3.475170735558033, 2.8094268330097516, -0.007414416084845749, 1.6453636805085496, 1.1076542783169119, -1.4023761913732073, 3.5663232405100977, -0.2822319106313816, -3.2015075636893258, 1.2290572661607275, 1.1297604522629348, 0.5138939036791482, 1.4147842232649654, 1.5775670101657695, 0.7786102101104126, -2.0646542913830683, -1.5482267339407207, 0.9088148528970065, 0.7920624294565988, 2.443497168047047, -0.5385098407798431, 2.07597818392603, -0.9695234740358589, 0.4276841643477609, 0.16762005701490723, 0.7723653951613199, -0.4607783336758918, 1.2902124966358643, 0.6552216914685036, 0.5897171735574182, 0.7756799205120937, -0.6929795366756427, 2.061922153956055, 1.1276647530284236, 0.2921987959394443, 0.6690906379505211, -5.265476367524758, 1.012133462324583, 1.4309384280850652, 1.7463525072283153, 0.14814418617457112, 0.32813109241147087, 0.030878981402190583, 1.1095819300612568, 0.7446904378745204, -2.193189990518118, 1.088184772035845, -2.59339396463512, 1.1984014641401854, 1.8697217818384297, 0.9530027630585096, 0.5219294116244121, 2.2142310252948234, -0.8603004588705903, 1.4366969932335696, 0.5265665951870384, 0.660713703751985, -2.1342298780777758, 0.940638445445677, 0.5902625120736783, -0.7266027885626613, 0.2803210606196508, 2.512564309189163, -0.8055054192553627, 0.2412796048237268, -2.285699534902473, -0.9390717044975707, 1.6702387584650282, -1.273502800037816, 1.3540604633609157, 0.4255846926598821, 1.487181648780377, 1.4660430152948845, 0.3519290262580381, 0.5230744898274311, 0.997144293532742, -0.8740477960491844, -0.387069228834427, -1.6915932109767786, 2.1276430027220674, 0.27478301400057853, -0.21009911987774507, 1.002156815948722, 0.7287631558350716, -0.5742645841862735, 1.0630301888693465, 0.41588829566680874, 0.6004342637575202, 0.7623210596084231, 1.731917917944346, -0.34050170359683757, 0.6046278217001049, 0.68256330719148, 1.3945099510527015, 0.9780044890400321, -4.9628314741983, -1.265216148443028, -4.114152829024972, 2.709047999938783, -1.9922680048667027, -0.6047849782590421, 1.8712825719911805, 1.2089549470456218, -1.2497460486567282, -1.2686289053217388, -1.0723830833645196, -0.1341618894641025, 1.714846245401242, -3.015872690686464, 0.3694096957600452, 2.26090653310401, 1.868965865910965, -0.29035471587269224, 0.7420650470219435, 1.423773100153644, -2.220368318034313, 2.3247878019402477, -1.5697399364210516, 1.882631446703863, 0.4961095094673616, 1.3918241202884905, 2.5589020749867237, -0.10406790726970577, -0.802180722540493, -0.4661535218957812, -0.361200409870677, -1.6508478266271756, 0.32764827183891476, -0.2761240971887628, 0.1856326565180225, 0.3673776458871612, -1.6395501257923704, 0.6374642083539132, -3.7307886361706455, 1.64217954994535, -2.449580253052983, 0.421758043250314, 1.852228309145515, 3.8547309760295905, 2.5895531360416695, 0.03616858700729745, -1.5254029401884093, -1.3652289708527225, 2.0129145485651314, -0.6519348588783579, 1.0222407181613629, 0.8017374114323119, -0.20789809660017614, -0.821392074337107, 0.8736981000490036, -0.4178197918152635, 0.2164506265461421, 1.314409739132722, 0.4786188956984337, 0.9214943705385352, -0.05824563817777561, 1.281854635668546, -0.04646040554606666, 0.22519019228191595, 0.703316776906088, 0.44703703692096414, 0.5017538804668705, -1.9377239274069296, 0.541856267686367, -0.2252126551407012, 0.5022667170232535, 1.2461337002391393, 0.5012350995449372, 0.8418230939438529, -0.07137117109618285, -0.10285738347200132, 0.5132453630116934, -0.28739694296208024, 0.26325132476352536, 0.7394880615104708, -0.38141401404466013, 0.1539294569151412], \"xaxis\": \"x\", \"y\": [0.0, -1.6006037801276531, 0.41936342735799614, 1.2106661395767342, 0.18755652398216677, 1.0982619721662852, 0.534937777488589, 3.1352257564094397, -1.8652259755544243, -0.6915193592581509, 1.368226559571153, 0.14061612951600075, -0.5375528096066523, 0.8752097247909907, 1.0995174447445464, -0.9412303325715989, -4.104125732660456, 3.234817347477279, -0.9799642636820495, 0.10995905138628437, -3.815951491237326, 1.6495378153162914, 2.8294477233100266, 1.468859833654178, 1.3917643594841984, -1.0462103820101232, 4.523222375466444, 1.8709409986152379, 1.7357887738709061, -0.6457586109377876, 7.020441606656472, 2.3396282731592053, 6.113220880227325, -1.9065736071961343, -4.739215814493581, -7.069765119832256, -4.1093440436290996, 2.137004822482728, -5.566565876803247, 6.916085922909272, 2.3549325233990754, -3.8128901347398916, 7.002890256143074, -3.943611763439377, -2.652867634451141, -7.7431933841362115, 6.372230617286625, -5.595989733969983, -12.236786924521613, 11.340207788074872, -18.4520850343145, 10.626276860022173, -6.650700023150156, 5.004419223460037, -3.3901444461133594, 3.3730154898129854, 17.156421378279646, -1.4286780649081625, 4.730867725127817, -1.7532123858304245, 5.088449644379339, -0.7492815687644778, -7.788318594743275, 5.101411785862272, -4.5249928852595325, 10.040591064652137, -3.4910509482725143, 3.0575467830619223, -1.4983945200472586, 2.6240718240444827, 5.225117828458439, -1.095263121293746, 4.935193792779699, -0.8075987573967566, -1.8028295791288866, -6.110428940894266, 6.174166073491963, -0.7478524971537188, 1.9647135517427055, 2.586406811065839, -1.9254010995060147, 2.436847590513505, -2.0706351878117877, -3.25029212354601, 3.0094075400844655, 0.841073077025189, 1.3787817091644299, 2.377506623545404, 2.502717380678639, 3.238392726315207, -3.2607961364531937, -0.2883855969586754, 3.219802132298868, 5.731280699720973, 3.0562709174734852, 0.6314131445370188, 1.8681300370760385, -2.171107048545557, 2.860295033945615, -3.4178048413963302, -2.2081307155739736, -0.44866150021261963, 4.577580859532115, -0.7802379217671571, 0.21576242391172484, -0.6317188589142454, 0.011406716543093904, 1.7509883241305833, -1.2892314714079038, 2.737076475728414, 3.5457715970964263, -6.090690529751414, 1.5489381079500664, 2.700830462354873, -1.1472940481373584, 1.8470431499797724, -0.19488624771319824, 0.46918720620902843, 2.8667781853379615, -0.8056242966923142, -2.269841135126681, 2.755682856706642, -3.5300289660408026, 0.49152209488265364, 3.236421355472497, 0.3395513235512914, 0.8630576462074395, 2.361570823722445, 0.33030476335831166, 3.4872371021786237, 2.8680397841442877, -0.28308073124912686, -4.07472849053222, 3.2306193159514525, -1.4430876909294081, -0.9044540671454881, 0.6586223316291715, 3.031427054686055, -1.733941312554331, 1.0674341689273106, -2.9601217476922788, 0.6392064037970233, 2.2266841403759945, -1.9766761420938819, 2.4472596870649217, 1.4189511854955257, 0.007059721646905683, 3.7259530365202185, 1.9754208575283025, 0.5254963775350366, 0.43192263060595787, -1.199772619335766, -0.30805615122687074, -2.8213063417393363, 5.440086348878445, 0.02404281263117638, 1.0574025185150573, 6.6845382860419065, -0.6180554665543301, -0.9970820423435913, 0.020595799413400423, 4.468330428516433, 0.28974234298406426, 0.23388283700259588, 0.18039008614763374, -1.133243273789982, 4.113770194291748, 1.7246497769171305, 3.3693574573431895, 3.802192675530674, -9.277535009234667, -3.0194699324358814, -5.620918148390622, 6.732143523307493, -3.1714486504912105, -1.1960196561110894, 5.818167825489303, 0.9225229500659954, -3.667928817202051, -0.4075235530528083, -2.20042227776839, 2.690892816714054, 0.9626747797203915, -4.067182943867649, 1.8496786678212067, 4.257786705858534, 1.2525256215947407, 1.4633884584422305, 2.304201316983395, 0.6208152927206975, -4.05633787649577, 4.442201445709207, 0.6890312154615421, 1.6561625023569886, -0.8969439684531906, -0.5491818113597338, 3.365962708989054, 0.15640286087660105, -1.073816971673861, -0.8885919644251169, -1.134571153989742, -2.2716634911374705, 1.094623834999812, -0.8848967217578716, -1.2107554351483691, 1.7158184237047691, -3.3038408480099033, 1.9442604055451613, -5.745798422309373, 3.144071561363356, -3.762299205322708, 0.3729922287802641, 3.487473860440228, 5.950691392407053, 2.6514717888228767, 2.8389642952978438, -6.395064696001786, -6.3147689546650785, 5.074391820200553, 0.28880115311036586, -1.1871393146339664, 1.641347796140166, -0.6881059205132856, 0.04841411075054956, 0.08564752818003836, -2.622734998487594, 0.3992424032913052, -1.3869916648700102, 2.1377178370859515, 0.2002311104587522, 1.0575886830617443, -0.08581028383261319, 1.1538564188638178, -1.0671670871666181, 1.2111810551046294, 0.3577190033730333, -1.8869412842012878, -3.1404501789963515, 0.3209542648142479, 0.3160553133283447, 2.270742378571727, 0.3888602220898119, -0.8832109022706323, 0.7457092319679137, -0.5190596525503468, 0.45395432733095636, -0.40503151078505617, -2.0258736365185483, -0.11913134926609995, -0.7215038582038414, 0.3352588992378177, 1.5645314521130815], \"yaxis\": \"y\"}],\n",
              "                        {\"legend\": {\"tracegroupgap\": 0}, \"template\": {\"data\": {\"bar\": [{\"error_x\": {\"color\": \"#2a3f5f\"}, \"error_y\": {\"color\": \"#2a3f5f\"}, \"marker\": {\"line\": {\"color\": \"#E5ECF6\", \"width\": 0.5}}, \"type\": \"bar\"}], \"barpolar\": [{\"marker\": {\"line\": {\"color\": \"#E5ECF6\", \"width\": 0.5}}, \"type\": \"barpolar\"}], \"carpet\": [{\"aaxis\": {\"endlinecolor\": \"#2a3f5f\", \"gridcolor\": \"white\", \"linecolor\": \"white\", \"minorgridcolor\": \"white\", \"startlinecolor\": \"#2a3f5f\"}, \"baxis\": {\"endlinecolor\": \"#2a3f5f\", \"gridcolor\": \"white\", \"linecolor\": \"white\", \"minorgridcolor\": \"white\", \"startlinecolor\": \"#2a3f5f\"}, \"type\": \"carpet\"}], \"choropleth\": [{\"colorbar\": {\"outlinewidth\": 0, \"ticks\": \"\"}, \"type\": \"choropleth\"}], \"contour\": [{\"colorbar\": {\"outlinewidth\": 0, \"ticks\": \"\"}, \"colorscale\": [[0.0, \"#0d0887\"], [0.1111111111111111, \"#46039f\"], [0.2222222222222222, \"#7201a8\"], [0.3333333333333333, \"#9c179e\"], [0.4444444444444444, \"#bd3786\"], [0.5555555555555556, \"#d8576b\"], [0.6666666666666666, \"#ed7953\"], [0.7777777777777778, \"#fb9f3a\"], [0.8888888888888888, \"#fdca26\"], [1.0, \"#f0f921\"]], \"type\": \"contour\"}], \"contourcarpet\": [{\"colorbar\": {\"outlinewidth\": 0, \"ticks\": \"\"}, \"type\": \"contourcarpet\"}], \"heatmap\": [{\"colorbar\": {\"outlinewidth\": 0, \"ticks\": \"\"}, \"colorscale\": [[0.0, \"#0d0887\"], [0.1111111111111111, \"#46039f\"], [0.2222222222222222, \"#7201a8\"], [0.3333333333333333, \"#9c179e\"], [0.4444444444444444, \"#bd3786\"], [0.5555555555555556, \"#d8576b\"], [0.6666666666666666, \"#ed7953\"], [0.7777777777777778, \"#fb9f3a\"], [0.8888888888888888, \"#fdca26\"], [1.0, \"#f0f921\"]], \"type\": \"heatmap\"}], \"heatmapgl\": [{\"colorbar\": {\"outlinewidth\": 0, \"ticks\": \"\"}, \"colorscale\": [[0.0, \"#0d0887\"], [0.1111111111111111, \"#46039f\"], [0.2222222222222222, \"#7201a8\"], [0.3333333333333333, \"#9c179e\"], [0.4444444444444444, \"#bd3786\"], [0.5555555555555556, \"#d8576b\"], [0.6666666666666666, \"#ed7953\"], [0.7777777777777778, \"#fb9f3a\"], [0.8888888888888888, \"#fdca26\"], [1.0, \"#f0f921\"]], \"type\": \"heatmapgl\"}], \"histogram\": [{\"marker\": {\"colorbar\": {\"outlinewidth\": 0, \"ticks\": \"\"}}, \"type\": \"histogram\"}], \"histogram2d\": [{\"colorbar\": {\"outlinewidth\": 0, \"ticks\": \"\"}, \"colorscale\": [[0.0, \"#0d0887\"], [0.1111111111111111, \"#46039f\"], [0.2222222222222222, \"#7201a8\"], [0.3333333333333333, \"#9c179e\"], [0.4444444444444444, \"#bd3786\"], [0.5555555555555556, \"#d8576b\"], [0.6666666666666666, \"#ed7953\"], [0.7777777777777778, \"#fb9f3a\"], [0.8888888888888888, \"#fdca26\"], [1.0, \"#f0f921\"]], \"type\": \"histogram2d\"}], \"histogram2dcontour\": [{\"colorbar\": {\"outlinewidth\": 0, \"ticks\": \"\"}, \"colorscale\": [[0.0, \"#0d0887\"], [0.1111111111111111, \"#46039f\"], [0.2222222222222222, \"#7201a8\"], [0.3333333333333333, \"#9c179e\"], [0.4444444444444444, \"#bd3786\"], [0.5555555555555556, \"#d8576b\"], [0.6666666666666666, \"#ed7953\"], [0.7777777777777778, \"#fb9f3a\"], [0.8888888888888888, \"#fdca26\"], [1.0, \"#f0f921\"]], \"type\": \"histogram2dcontour\"}], \"mesh3d\": [{\"colorbar\": {\"outlinewidth\": 0, \"ticks\": \"\"}, \"type\": \"mesh3d\"}], \"parcoords\": [{\"line\": {\"colorbar\": {\"outlinewidth\": 0, \"ticks\": \"\"}}, \"type\": \"parcoords\"}], \"pie\": [{\"automargin\": true, \"type\": \"pie\"}], \"scatter\": [{\"marker\": {\"colorbar\": {\"outlinewidth\": 0, \"ticks\": \"\"}}, \"type\": \"scatter\"}], \"scatter3d\": [{\"line\": {\"colorbar\": {\"outlinewidth\": 0, \"ticks\": \"\"}}, \"marker\": {\"colorbar\": {\"outlinewidth\": 0, \"ticks\": \"\"}}, \"type\": \"scatter3d\"}], \"scattercarpet\": [{\"marker\": {\"colorbar\": {\"outlinewidth\": 0, \"ticks\": \"\"}}, \"type\": \"scattercarpet\"}], \"scattergeo\": [{\"marker\": {\"colorbar\": {\"outlinewidth\": 0, \"ticks\": \"\"}}, \"type\": \"scattergeo\"}], \"scattergl\": [{\"marker\": {\"colorbar\": {\"outlinewidth\": 0, \"ticks\": \"\"}}, \"type\": \"scattergl\"}], \"scattermapbox\": [{\"marker\": {\"colorbar\": {\"outlinewidth\": 0, \"ticks\": \"\"}}, \"type\": \"scattermapbox\"}], \"scatterpolar\": [{\"marker\": {\"colorbar\": {\"outlinewidth\": 0, \"ticks\": \"\"}}, \"type\": \"scatterpolar\"}], \"scatterpolargl\": [{\"marker\": {\"colorbar\": {\"outlinewidth\": 0, \"ticks\": \"\"}}, \"type\": \"scatterpolargl\"}], \"scatterternary\": [{\"marker\": {\"colorbar\": {\"outlinewidth\": 0, \"ticks\": \"\"}}, \"type\": \"scatterternary\"}], \"surface\": [{\"colorbar\": {\"outlinewidth\": 0, \"ticks\": \"\"}, \"colorscale\": [[0.0, \"#0d0887\"], [0.1111111111111111, \"#46039f\"], [0.2222222222222222, \"#7201a8\"], [0.3333333333333333, \"#9c179e\"], [0.4444444444444444, \"#bd3786\"], [0.5555555555555556, \"#d8576b\"], [0.6666666666666666, \"#ed7953\"], [0.7777777777777778, \"#fb9f3a\"], [0.8888888888888888, \"#fdca26\"], [1.0, \"#f0f921\"]], \"type\": \"surface\"}], \"table\": [{\"cells\": {\"fill\": {\"color\": \"#EBF0F8\"}, \"line\": {\"color\": \"white\"}}, \"header\": {\"fill\": {\"color\": \"#C8D4E3\"}, \"line\": {\"color\": \"white\"}}, \"type\": \"table\"}]}, \"layout\": {\"annotationdefaults\": {\"arrowcolor\": \"#2a3f5f\", \"arrowhead\": 0, \"arrowwidth\": 1}, \"coloraxis\": {\"colorbar\": {\"outlinewidth\": 0, \"ticks\": \"\"}}, \"colorscale\": {\"diverging\": [[0, \"#8e0152\"], [0.1, \"#c51b7d\"], [0.2, \"#de77ae\"], [0.3, \"#f1b6da\"], [0.4, \"#fde0ef\"], [0.5, \"#f7f7f7\"], [0.6, \"#e6f5d0\"], [0.7, \"#b8e186\"], [0.8, \"#7fbc41\"], [0.9, \"#4d9221\"], [1, \"#276419\"]], \"sequential\": [[0.0, \"#0d0887\"], [0.1111111111111111, \"#46039f\"], [0.2222222222222222, \"#7201a8\"], [0.3333333333333333, \"#9c179e\"], [0.4444444444444444, \"#bd3786\"], [0.5555555555555556, \"#d8576b\"], [0.6666666666666666, \"#ed7953\"], [0.7777777777777778, \"#fb9f3a\"], [0.8888888888888888, \"#fdca26\"], [1.0, \"#f0f921\"]], \"sequentialminus\": [[0.0, \"#0d0887\"], [0.1111111111111111, \"#46039f\"], [0.2222222222222222, \"#7201a8\"], [0.3333333333333333, \"#9c179e\"], [0.4444444444444444, \"#bd3786\"], [0.5555555555555556, \"#d8576b\"], [0.6666666666666666, \"#ed7953\"], [0.7777777777777778, \"#fb9f3a\"], [0.8888888888888888, \"#fdca26\"], [1.0, \"#f0f921\"]]}, \"colorway\": [\"#636efa\", \"#EF553B\", \"#00cc96\", \"#ab63fa\", \"#FFA15A\", \"#19d3f3\", \"#FF6692\", \"#B6E880\", \"#FF97FF\", \"#FECB52\"], \"font\": {\"color\": \"#2a3f5f\"}, \"geo\": {\"bgcolor\": \"white\", \"lakecolor\": \"white\", \"landcolor\": \"#E5ECF6\", \"showlakes\": true, \"showland\": true, \"subunitcolor\": \"white\"}, \"hoverlabel\": {\"align\": \"left\"}, \"hovermode\": \"closest\", \"mapbox\": {\"style\": \"light\"}, \"paper_bgcolor\": \"white\", \"plot_bgcolor\": \"#E5ECF6\", \"polar\": {\"angularaxis\": {\"gridcolor\": \"white\", \"linecolor\": \"white\", \"ticks\": \"\"}, \"bgcolor\": \"#E5ECF6\", \"radialaxis\": {\"gridcolor\": \"white\", \"linecolor\": \"white\", \"ticks\": \"\"}}, \"scene\": {\"xaxis\": {\"backgroundcolor\": \"#E5ECF6\", \"gridcolor\": \"white\", \"gridwidth\": 2, \"linecolor\": \"white\", \"showbackground\": true, \"ticks\": \"\", \"zerolinecolor\": \"white\"}, \"yaxis\": {\"backgroundcolor\": \"#E5ECF6\", \"gridcolor\": \"white\", \"gridwidth\": 2, \"linecolor\": \"white\", \"showbackground\": true, \"ticks\": \"\", \"zerolinecolor\": \"white\"}, \"zaxis\": {\"backgroundcolor\": \"#E5ECF6\", \"gridcolor\": \"white\", \"gridwidth\": 2, \"linecolor\": \"white\", \"showbackground\": true, \"ticks\": \"\", \"zerolinecolor\": \"white\"}}, \"shapedefaults\": {\"line\": {\"color\": \"#2a3f5f\"}}, \"ternary\": {\"aaxis\": {\"gridcolor\": \"white\", \"linecolor\": \"white\", \"ticks\": \"\"}, \"baxis\": {\"gridcolor\": \"white\", \"linecolor\": \"white\", \"ticks\": \"\"}, \"bgcolor\": \"#E5ECF6\", \"caxis\": {\"gridcolor\": \"white\", \"linecolor\": \"white\", \"ticks\": \"\"}}, \"title\": {\"x\": 0.05}, \"xaxis\": {\"automargin\": true, \"gridcolor\": \"white\", \"linecolor\": \"white\", \"ticks\": \"\", \"title\": {\"standoff\": 15}, \"zerolinecolor\": \"white\", \"zerolinewidth\": 2}, \"yaxis\": {\"automargin\": true, \"gridcolor\": \"white\", \"linecolor\": \"white\", \"ticks\": \"\", \"title\": {\"standoff\": 15}, \"zerolinecolor\": \"white\", \"zerolinewidth\": 2}}}, \"title\": {\"text\": \"NVDA\"}, \"xaxis\": {\"anchor\": \"y\", \"domain\": [0.0, 1.0], \"title\": {\"text\": \"^IXIC\"}}, \"yaxis\": {\"anchor\": \"x\", \"domain\": [0.0, 1.0], \"title\": {\"text\": \"NVDA\"}}},\n",
              "                        {\"responsive\": true}\n",
              "                    ).then(function(){\n",
              "                            \n",
              "var gd = document.getElementById('0008b0a7-d421-46c6-9f57-dca9d1ec5ccb');\n",
              "var x = new MutationObserver(function (mutations, observer) {{\n",
              "        var display = window.getComputedStyle(gd).display;\n",
              "        if (!display || display === 'none') {{\n",
              "            console.log([gd, 'removed!']);\n",
              "            Plotly.purge(gd);\n",
              "            observer.disconnect();\n",
              "        }}\n",
              "}});\n",
              "\n",
              "// Listen for the removal of the full notebook cells\n",
              "var notebookContainer = gd.closest('#notebook-container');\n",
              "if (notebookContainer) {{\n",
              "    x.observe(notebookContainer, {childList: true});\n",
              "}}\n",
              "\n",
              "// Listen for the clearing of the current output cell\n",
              "var outputEl = gd.closest('.output');\n",
              "if (outputEl) {{\n",
              "    x.observe(outputEl, {childList: true});\n",
              "}}\n",
              "\n",
              "                        })\n",
              "                };\n",
              "                \n",
              "            </script>\n",
              "        </div>\n",
              "</body>\n",
              "</html>"
            ]
          },
          "metadata": {}
        },
        {
          "output_type": "display_data",
          "data": {
            "text/html": [
              "<html>\n",
              "<head><meta charset=\"utf-8\" /></head>\n",
              "<body>\n",
              "    <div>\n",
              "            <script src=\"https://cdnjs.cloudflare.com/ajax/libs/mathjax/2.7.5/MathJax.js?config=TeX-AMS-MML_SVG\"></script><script type=\"text/javascript\">if (window.MathJax) {MathJax.Hub.Config({SVG: {font: \"STIX-Web\"}});}</script>\n",
              "                <script type=\"text/javascript\">window.PlotlyConfig = {MathJaxConfig: 'local'};</script>\n",
              "        <script src=\"https://cdn.plot.ly/plotly-latest.min.js\"></script>    \n",
              "            <div id=\"6ee5418d-2791-4907-a12a-5eb5d5acd6bc\" class=\"plotly-graph-div\" style=\"height:525px; width:100%;\"></div>\n",
              "            <script type=\"text/javascript\">\n",
              "                \n",
              "                    window.PLOTLYENV=window.PLOTLYENV || {};\n",
              "                    \n",
              "                if (document.getElementById(\"6ee5418d-2791-4907-a12a-5eb5d5acd6bc\")) {\n",
              "                    Plotly.newPlot(\n",
              "                        '6ee5418d-2791-4907-a12a-5eb5d5acd6bc',\n",
              "                        [{\"hoverlabel\": {\"namelength\": 0}, \"hovertemplate\": \"^IXIC=%{x}<br>PYPL=%{y}\", \"legendgroup\": \"\", \"marker\": {\"color\": \"#636efa\", \"symbol\": \"circle\"}, \"mode\": \"markers\", \"name\": \"\", \"showlegend\": false, \"type\": \"scatter\", \"x\": [0.0, -0.7855191660339514, 0.5620384728471665, -0.031854247708491115, 0.6689046766684335, 0.8126574744484102, -0.2669584793033168, 1.0357422631592443, -0.24368967780143092, 0.0796654872895177, 1.063104814105905, 0.33996051431786484, -0.19310868474221926, 0.13830140117838088, 0.19939681423002234, -0.9313533039610973, -1.8851559810233676, 1.4264766521421406, 0.05912252564012881, 0.256270844379793, -1.591465499641676, 1.3382226873668104, 2.0981444534002978, 0.42997561370826654, 0.6675027996624794, -0.5394882329740349, 1.1331313707803117, 0.10957991559587729, 0.9027914622439598, -0.1438442521991573, 0.19779675470939986, 0.01603656416913738, 0.8675814939226352, -0.6744295515116596, -1.7883337524623202, -3.7101888679547743, -2.7726076455074673, 0.16920121754294432, -4.613182731047064, 0.010385226940578262, 4.491457698501092, -2.9945821009265603, 3.846114054662644, -3.0993259641753057, -1.8649430797928905, -7.287402343694397, 4.950140308971453, -4.700245022770171, -9.434674309481181, 9.345998172386109, -12.321331290147407, 6.230492341201929, -4.702798877538514, 2.2996268579562185, -3.7907422283539605, -0.274003093278801, 8.121509236724387, -0.4524223861369213, 5.59620065957612, -3.7852983732224246, 3.6224507926325984, -0.952513208745505, -4.409293583528775, 1.7217390358319775, -1.52564779039222, 7.3261127035984215, -0.32831644156512807, 2.581887027561507, 0.7746996815903381, 0.47635325069293516, 3.946578856836743, -1.4392236435332642, 1.6582590775434294, 1.3803835283800632, -1.0336154480887512, -3.475170735558033, 2.8094268330097516, -0.007414416084845749, 1.6453636805085496, 1.1076542783169119, -1.4023761913732073, 3.5663232405100977, -0.2822319106313816, -3.2015075636893258, 1.2290572661607275, 1.1297604522629348, 0.5138939036791482, 1.4147842232649654, 1.5775670101657695, 0.7786102101104126, -2.0646542913830683, -1.5482267339407207, 0.9088148528970065, 0.7920624294565988, 2.443497168047047, -0.5385098407798431, 2.07597818392603, -0.9695234740358589, 0.4276841643477609, 0.16762005701490723, 0.7723653951613199, -0.4607783336758918, 1.2902124966358643, 0.6552216914685036, 0.5897171735574182, 0.7756799205120937, -0.6929795366756427, 2.061922153956055, 1.1276647530284236, 0.2921987959394443, 0.6690906379505211, -5.265476367524758, 1.012133462324583, 1.4309384280850652, 1.7463525072283153, 0.14814418617457112, 0.32813109241147087, 0.030878981402190583, 1.1095819300612568, 0.7446904378745204, -2.193189990518118, 1.088184772035845, -2.59339396463512, 1.1984014641401854, 1.8697217818384297, 0.9530027630585096, 0.5219294116244121, 2.2142310252948234, -0.8603004588705903, 1.4366969932335696, 0.5265665951870384, 0.660713703751985, -2.1342298780777758, 0.940638445445677, 0.5902625120736783, -0.7266027885626613, 0.2803210606196508, 2.512564309189163, -0.8055054192553627, 0.2412796048237268, -2.285699534902473, -0.9390717044975707, 1.6702387584650282, -1.273502800037816, 1.3540604633609157, 0.4255846926598821, 1.487181648780377, 1.4660430152948845, 0.3519290262580381, 0.5230744898274311, 0.997144293532742, -0.8740477960491844, -0.387069228834427, -1.6915932109767786, 2.1276430027220674, 0.27478301400057853, -0.21009911987774507, 1.002156815948722, 0.7287631558350716, -0.5742645841862735, 1.0630301888693465, 0.41588829566680874, 0.6004342637575202, 0.7623210596084231, 1.731917917944346, -0.34050170359683757, 0.6046278217001049, 0.68256330719148, 1.3945099510527015, 0.9780044890400321, -4.9628314741983, -1.265216148443028, -4.114152829024972, 2.709047999938783, -1.9922680048667027, -0.6047849782590421, 1.8712825719911805, 1.2089549470456218, -1.2497460486567282, -1.2686289053217388, -1.0723830833645196, -0.1341618894641025, 1.714846245401242, -3.015872690686464, 0.3694096957600452, 2.26090653310401, 1.868965865910965, -0.29035471587269224, 0.7420650470219435, 1.423773100153644, -2.220368318034313, 2.3247878019402477, -1.5697399364210516, 1.882631446703863, 0.4961095094673616, 1.3918241202884905, 2.5589020749867237, -0.10406790726970577, -0.802180722540493, -0.4661535218957812, -0.361200409870677, -1.6508478266271756, 0.32764827183891476, -0.2761240971887628, 0.1856326565180225, 0.3673776458871612, -1.6395501257923704, 0.6374642083539132, -3.7307886361706455, 1.64217954994535, -2.449580253052983, 0.421758043250314, 1.852228309145515, 3.8547309760295905, 2.5895531360416695, 0.03616858700729745, -1.5254029401884093, -1.3652289708527225, 2.0129145485651314, -0.6519348588783579, 1.0222407181613629, 0.8017374114323119, -0.20789809660017614, -0.821392074337107, 0.8736981000490036, -0.4178197918152635, 0.2164506265461421, 1.314409739132722, 0.4786188956984337, 0.9214943705385352, -0.05824563817777561, 1.281854635668546, -0.04646040554606666, 0.22519019228191595, 0.703316776906088, 0.44703703692096414, 0.5017538804668705, -1.9377239274069296, 0.541856267686367, -0.2252126551407012, 0.5022667170232535, 1.2461337002391393, 0.5012350995449372, 0.8418230939438529, -0.07137117109618285, -0.10285738347200132, 0.5132453630116934, -0.28739694296208024, 0.26325132476352536, 0.7394880615104708, -0.38141401404466013, 0.1539294569151412], \"xaxis\": \"x\", \"y\": [0.0, -1.7968378002433691, 1.2964288387459875, -0.4538440667242743, 1.9604281588177421, 0.670720803118295, 0.31980155576753966, 2.080933735739474, -0.5551694972461909, 0.18318133774485904, 0.47888816636052767, 0.5545921847365964, 0.09479542354678083, -0.5596224858714979, 2.069263540821158, -0.7719026528341366, -1.4874384024890948, 1.110724403874096, 0.12015707438771193, 0.3943074490251039, -2.757857992816566, 2.3004677852515343, 3.064114350156789, -0.2998006369604005, 0.1419964644269606, -0.8424406884413368, 0.9925978570308678, -1.016159624780701, -0.23560988549744757, 1.6447407370036453, 2.0579169227260925, -0.5854144509382282, 1.3412996352903468, -1.194417975298766, -2.4013742008313628, -2.5525110694541806, -5.822740155565212, -0.5015530123932087, -1.1639668823725116, 0.13909637516020737, 4.509679454504285, -2.7467645377956527, 5.04737682917615, -2.7059866990475894, -1.149938413280451, -8.3506197016851, 7.97992800307668, -5.321666166916055, -6.679501770438057, 13.603550501186545, -15.823876589852553, 5.554358777045594, -6.549508002678824, 2.438228055167547, -7.482123976477134, -1.6382073880317265, 14.10978005850276, -1.6240125564666548, 5.140526816433226, -7.105231135481841, 3.7975987322212386, -1.3294866863407495, -4.554001156920329, 2.341868520430923, -1.2082947968131124, 10.04437584219383, -1.3671677138605547, 4.76665221129193, 0.7424317508306207, 0.13228176860097485, 3.5903002308471286, -1.671454800434198, 0.3334883006288261, 3.268397188922719, 0.28609718300376874, -4.12766098689284, 7.113633495212615, 0.04340257079924314, 4.286708202863777, 0.2912285515329795, -3.6422462740474995, 6.406063785522438, -0.4693330817777489, -1.9430889346735265, 2.528814390451169, 1.4313412507270937, 2.2960992158262217, 14.012934354026745, -0.9091439150347529, -0.6898454426632816, -2.0352929966125615, 1.9144841321792208, 0.47311483669655546, 0.761713743391574, 0.501691302238232, -0.5812404756476559, 3.817321050317691, -1.8020413254988574, 1.7811357225111715, -2.5586640559026357, -0.7074784259406888, 1.938878077618475, 4.18038947601917, -0.3096546961801839, 1.9154900260464858, -0.4508265217490298, -1.390478819208361, 0.905558758870281, 0.05768996018629807, 0.4933078932195606, 1.944410965121809, -4.296172983957232, 1.4506020113007172, 1.4749508089291141, 2.3294180246633553, 1.6189062092727475, 2.5758415269108577, -2.1957764798550845, 3.589677460802338, 1.485961976343947, -2.772147388304362, 2.6785714285714284, -0.9449303668478262, -1.4747990201226346, 3.492717202759072, 1.8366509939231956, -0.1239846536633995, -0.5812392071905136, 0.624364938838392, 2.4199055586990847, 0.9142415246787814, -2.6360322783813444, -3.8621074133255417, 0.46061953835021974, -0.13929511834771494, -1.3076833848226572, 2.420352552524705, 2.8173925982413963, -1.8118808636941868, 1.6174941953943625, -2.555765948543449, -0.7477298097285355, 3.140935469186548, -0.9607773323558608, 4.725705808788082, 4.284933987967874, 1.849261294979881, 0.5100219118910999, 0.13193002342979346, 2.827751370433798, 0.5815349930928996, -2.67528617426137, -2.6733108936520122, -2.219122895917887, 1.2114524465482268, 0.9146978533376168, -0.8338947269256168, 2.5227130486232223, -0.8762473996353095, -1.0947241623233324, 2.9827427569913385, -0.7013822994344593, 1.0620517648175378, 1.4028525832834629, 0.8975046239041754, 0.42264626912176095, 0.06851296474378839, -0.16627364289642088, 2.3464256394896923, 0.9046162421354389, -2.7653930502377624, -6.414951364890792, -3.070266629527189, 4.651793114942134, -2.31757945743637, -3.20374372939935, 1.6086993010147759, -0.5027826313917907, -2.747016714862029, -2.8301422101230775, 0.15928895203389623, 4.05520480072492, 2.4944009049500155, -3.285758978088548, 0.3193666808575673, 2.7773190025731984, 2.547398810393024, 1.2915298783246292, 1.3007705806153598, -0.045676464725269775, -2.554076732477651, 2.574124509998955, -2.6365264315394703, 1.5391823499299, -0.796466289962781, 2.1806727271865056, 2.1493334731817137, 3.0916635185143537, -1.992875363520037, -0.22593649316164946, 0.6448742554542434, -2.1472239937278133, 0.949719673327978, 5.501089443957082, -4.289676788967094, -0.43642397960725954, -2.8664264469453076, 1.6276196304683708, -4.051287438962558, 1.4195807613731974, -4.56828789480573, 0.8757264176991127, -4.234127173428707, 8.052942508283245, 5.285915192418686, -0.8946039562454069, -8.88373446771076, -0.7362497841945314, 4.897467112591239, -1.68451195594451, -0.25383975189580965, 1.7601566165644666, 0.18755892767140103, -1.1336494539646784, 0.4102665681303504, 0.9271892766118804, 4.230035414297866, 2.5794206188919637, 4.106799375663684, -1.4315057484422993, 1.291449801514474, 1.1302065309785065, -1.8379956825250077, 0.9314996943360718, 1.5055519191800508, 0.07346668511800389, -0.4542698424479039, -2.8302753390568447, 2.1536969736277025, -0.5944082850676867, 3.1439763637747817, 0.3668702577172854, 3.8808621876613416, 2.3066888049471355, 0.3991348406994954, 0.5371132539024459, 2.4272270918861265, -1.6633138775264906, -0.33411420130334424, -1.2194115276366377, -1.9938052150454915, 0.20776337708316517], \"yaxis\": \"y\"}],\n",
              "                        {\"legend\": {\"tracegroupgap\": 0}, \"template\": {\"data\": {\"bar\": [{\"error_x\": {\"color\": \"#2a3f5f\"}, \"error_y\": {\"color\": \"#2a3f5f\"}, \"marker\": {\"line\": {\"color\": \"#E5ECF6\", \"width\": 0.5}}, \"type\": \"bar\"}], \"barpolar\": [{\"marker\": {\"line\": {\"color\": \"#E5ECF6\", \"width\": 0.5}}, \"type\": \"barpolar\"}], \"carpet\": [{\"aaxis\": {\"endlinecolor\": \"#2a3f5f\", \"gridcolor\": \"white\", \"linecolor\": \"white\", \"minorgridcolor\": \"white\", \"startlinecolor\": \"#2a3f5f\"}, \"baxis\": {\"endlinecolor\": \"#2a3f5f\", \"gridcolor\": \"white\", \"linecolor\": \"white\", \"minorgridcolor\": \"white\", \"startlinecolor\": \"#2a3f5f\"}, \"type\": \"carpet\"}], \"choropleth\": [{\"colorbar\": {\"outlinewidth\": 0, \"ticks\": \"\"}, \"type\": \"choropleth\"}], \"contour\": [{\"colorbar\": {\"outlinewidth\": 0, \"ticks\": \"\"}, \"colorscale\": [[0.0, \"#0d0887\"], [0.1111111111111111, \"#46039f\"], [0.2222222222222222, \"#7201a8\"], [0.3333333333333333, \"#9c179e\"], [0.4444444444444444, \"#bd3786\"], [0.5555555555555556, \"#d8576b\"], [0.6666666666666666, \"#ed7953\"], [0.7777777777777778, \"#fb9f3a\"], [0.8888888888888888, \"#fdca26\"], [1.0, \"#f0f921\"]], \"type\": \"contour\"}], \"contourcarpet\": [{\"colorbar\": {\"outlinewidth\": 0, \"ticks\": \"\"}, \"type\": \"contourcarpet\"}], \"heatmap\": [{\"colorbar\": {\"outlinewidth\": 0, \"ticks\": \"\"}, \"colorscale\": [[0.0, \"#0d0887\"], [0.1111111111111111, \"#46039f\"], [0.2222222222222222, \"#7201a8\"], [0.3333333333333333, \"#9c179e\"], [0.4444444444444444, \"#bd3786\"], [0.5555555555555556, \"#d8576b\"], [0.6666666666666666, \"#ed7953\"], [0.7777777777777778, \"#fb9f3a\"], [0.8888888888888888, \"#fdca26\"], [1.0, \"#f0f921\"]], \"type\": \"heatmap\"}], \"heatmapgl\": [{\"colorbar\": {\"outlinewidth\": 0, \"ticks\": \"\"}, \"colorscale\": [[0.0, \"#0d0887\"], [0.1111111111111111, \"#46039f\"], [0.2222222222222222, \"#7201a8\"], [0.3333333333333333, \"#9c179e\"], [0.4444444444444444, \"#bd3786\"], [0.5555555555555556, \"#d8576b\"], [0.6666666666666666, \"#ed7953\"], [0.7777777777777778, \"#fb9f3a\"], [0.8888888888888888, \"#fdca26\"], [1.0, \"#f0f921\"]], \"type\": \"heatmapgl\"}], \"histogram\": [{\"marker\": {\"colorbar\": {\"outlinewidth\": 0, \"ticks\": \"\"}}, \"type\": \"histogram\"}], \"histogram2d\": [{\"colorbar\": {\"outlinewidth\": 0, \"ticks\": \"\"}, \"colorscale\": [[0.0, \"#0d0887\"], [0.1111111111111111, \"#46039f\"], [0.2222222222222222, \"#7201a8\"], [0.3333333333333333, \"#9c179e\"], [0.4444444444444444, \"#bd3786\"], [0.5555555555555556, \"#d8576b\"], [0.6666666666666666, \"#ed7953\"], [0.7777777777777778, \"#fb9f3a\"], [0.8888888888888888, \"#fdca26\"], [1.0, \"#f0f921\"]], \"type\": \"histogram2d\"}], \"histogram2dcontour\": [{\"colorbar\": {\"outlinewidth\": 0, \"ticks\": \"\"}, \"colorscale\": [[0.0, \"#0d0887\"], [0.1111111111111111, \"#46039f\"], [0.2222222222222222, \"#7201a8\"], [0.3333333333333333, \"#9c179e\"], [0.4444444444444444, \"#bd3786\"], [0.5555555555555556, \"#d8576b\"], [0.6666666666666666, \"#ed7953\"], [0.7777777777777778, \"#fb9f3a\"], [0.8888888888888888, \"#fdca26\"], [1.0, \"#f0f921\"]], \"type\": \"histogram2dcontour\"}], \"mesh3d\": [{\"colorbar\": {\"outlinewidth\": 0, \"ticks\": \"\"}, \"type\": \"mesh3d\"}], \"parcoords\": [{\"line\": {\"colorbar\": {\"outlinewidth\": 0, \"ticks\": \"\"}}, \"type\": \"parcoords\"}], \"pie\": [{\"automargin\": true, \"type\": \"pie\"}], \"scatter\": [{\"marker\": {\"colorbar\": {\"outlinewidth\": 0, \"ticks\": \"\"}}, \"type\": \"scatter\"}], \"scatter3d\": [{\"line\": {\"colorbar\": {\"outlinewidth\": 0, \"ticks\": \"\"}}, \"marker\": {\"colorbar\": {\"outlinewidth\": 0, \"ticks\": \"\"}}, \"type\": \"scatter3d\"}], \"scattercarpet\": [{\"marker\": {\"colorbar\": {\"outlinewidth\": 0, \"ticks\": \"\"}}, \"type\": \"scattercarpet\"}], \"scattergeo\": [{\"marker\": {\"colorbar\": {\"outlinewidth\": 0, \"ticks\": \"\"}}, \"type\": \"scattergeo\"}], \"scattergl\": [{\"marker\": {\"colorbar\": {\"outlinewidth\": 0, \"ticks\": \"\"}}, \"type\": \"scattergl\"}], \"scattermapbox\": [{\"marker\": {\"colorbar\": {\"outlinewidth\": 0, \"ticks\": \"\"}}, \"type\": \"scattermapbox\"}], \"scatterpolar\": [{\"marker\": {\"colorbar\": {\"outlinewidth\": 0, \"ticks\": \"\"}}, \"type\": \"scatterpolar\"}], \"scatterpolargl\": [{\"marker\": {\"colorbar\": {\"outlinewidth\": 0, \"ticks\": \"\"}}, \"type\": \"scatterpolargl\"}], \"scatterternary\": [{\"marker\": {\"colorbar\": {\"outlinewidth\": 0, \"ticks\": \"\"}}, \"type\": \"scatterternary\"}], \"surface\": [{\"colorbar\": {\"outlinewidth\": 0, \"ticks\": \"\"}, \"colorscale\": [[0.0, \"#0d0887\"], [0.1111111111111111, \"#46039f\"], [0.2222222222222222, \"#7201a8\"], [0.3333333333333333, \"#9c179e\"], [0.4444444444444444, \"#bd3786\"], [0.5555555555555556, \"#d8576b\"], [0.6666666666666666, \"#ed7953\"], [0.7777777777777778, \"#fb9f3a\"], [0.8888888888888888, \"#fdca26\"], [1.0, \"#f0f921\"]], \"type\": \"surface\"}], \"table\": [{\"cells\": {\"fill\": {\"color\": \"#EBF0F8\"}, \"line\": {\"color\": \"white\"}}, \"header\": {\"fill\": {\"color\": \"#C8D4E3\"}, \"line\": {\"color\": \"white\"}}, \"type\": \"table\"}]}, \"layout\": {\"annotationdefaults\": {\"arrowcolor\": \"#2a3f5f\", \"arrowhead\": 0, \"arrowwidth\": 1}, \"coloraxis\": {\"colorbar\": {\"outlinewidth\": 0, \"ticks\": \"\"}}, \"colorscale\": {\"diverging\": [[0, \"#8e0152\"], [0.1, \"#c51b7d\"], [0.2, \"#de77ae\"], [0.3, \"#f1b6da\"], [0.4, \"#fde0ef\"], [0.5, \"#f7f7f7\"], [0.6, \"#e6f5d0\"], [0.7, \"#b8e186\"], [0.8, \"#7fbc41\"], [0.9, \"#4d9221\"], [1, \"#276419\"]], \"sequential\": [[0.0, \"#0d0887\"], [0.1111111111111111, \"#46039f\"], [0.2222222222222222, \"#7201a8\"], [0.3333333333333333, \"#9c179e\"], [0.4444444444444444, \"#bd3786\"], [0.5555555555555556, \"#d8576b\"], [0.6666666666666666, \"#ed7953\"], [0.7777777777777778, \"#fb9f3a\"], [0.8888888888888888, \"#fdca26\"], [1.0, \"#f0f921\"]], \"sequentialminus\": [[0.0, \"#0d0887\"], [0.1111111111111111, \"#46039f\"], [0.2222222222222222, \"#7201a8\"], [0.3333333333333333, \"#9c179e\"], [0.4444444444444444, \"#bd3786\"], [0.5555555555555556, \"#d8576b\"], [0.6666666666666666, \"#ed7953\"], [0.7777777777777778, \"#fb9f3a\"], [0.8888888888888888, \"#fdca26\"], [1.0, \"#f0f921\"]]}, \"colorway\": [\"#636efa\", \"#EF553B\", \"#00cc96\", \"#ab63fa\", \"#FFA15A\", \"#19d3f3\", \"#FF6692\", \"#B6E880\", \"#FF97FF\", \"#FECB52\"], \"font\": {\"color\": \"#2a3f5f\"}, \"geo\": {\"bgcolor\": \"white\", \"lakecolor\": \"white\", \"landcolor\": \"#E5ECF6\", \"showlakes\": true, \"showland\": true, \"subunitcolor\": \"white\"}, \"hoverlabel\": {\"align\": \"left\"}, \"hovermode\": \"closest\", \"mapbox\": {\"style\": \"light\"}, \"paper_bgcolor\": \"white\", \"plot_bgcolor\": \"#E5ECF6\", \"polar\": {\"angularaxis\": {\"gridcolor\": \"white\", \"linecolor\": \"white\", \"ticks\": \"\"}, \"bgcolor\": \"#E5ECF6\", \"radialaxis\": {\"gridcolor\": \"white\", \"linecolor\": \"white\", \"ticks\": \"\"}}, \"scene\": {\"xaxis\": {\"backgroundcolor\": \"#E5ECF6\", \"gridcolor\": \"white\", \"gridwidth\": 2, \"linecolor\": \"white\", \"showbackground\": true, \"ticks\": \"\", \"zerolinecolor\": \"white\"}, \"yaxis\": {\"backgroundcolor\": \"#E5ECF6\", \"gridcolor\": \"white\", \"gridwidth\": 2, \"linecolor\": \"white\", \"showbackground\": true, \"ticks\": \"\", \"zerolinecolor\": \"white\"}, \"zaxis\": {\"backgroundcolor\": \"#E5ECF6\", \"gridcolor\": \"white\", \"gridwidth\": 2, \"linecolor\": \"white\", \"showbackground\": true, \"ticks\": \"\", \"zerolinecolor\": \"white\"}}, \"shapedefaults\": {\"line\": {\"color\": \"#2a3f5f\"}}, \"ternary\": {\"aaxis\": {\"gridcolor\": \"white\", \"linecolor\": \"white\", \"ticks\": \"\"}, \"baxis\": {\"gridcolor\": \"white\", \"linecolor\": \"white\", \"ticks\": \"\"}, \"bgcolor\": \"#E5ECF6\", \"caxis\": {\"gridcolor\": \"white\", \"linecolor\": \"white\", \"ticks\": \"\"}}, \"title\": {\"x\": 0.05}, \"xaxis\": {\"automargin\": true, \"gridcolor\": \"white\", \"linecolor\": \"white\", \"ticks\": \"\", \"title\": {\"standoff\": 15}, \"zerolinecolor\": \"white\", \"zerolinewidth\": 2}, \"yaxis\": {\"automargin\": true, \"gridcolor\": \"white\", \"linecolor\": \"white\", \"ticks\": \"\", \"title\": {\"standoff\": 15}, \"zerolinecolor\": \"white\", \"zerolinewidth\": 2}}}, \"title\": {\"text\": \"PYPL\"}, \"xaxis\": {\"anchor\": \"y\", \"domain\": [0.0, 1.0], \"title\": {\"text\": \"^IXIC\"}}, \"yaxis\": {\"anchor\": \"x\", \"domain\": [0.0, 1.0], \"title\": {\"text\": \"PYPL\"}}},\n",
              "                        {\"responsive\": true}\n",
              "                    ).then(function(){\n",
              "                            \n",
              "var gd = document.getElementById('6ee5418d-2791-4907-a12a-5eb5d5acd6bc');\n",
              "var x = new MutationObserver(function (mutations, observer) {{\n",
              "        var display = window.getComputedStyle(gd).display;\n",
              "        if (!display || display === 'none') {{\n",
              "            console.log([gd, 'removed!']);\n",
              "            Plotly.purge(gd);\n",
              "            observer.disconnect();\n",
              "        }}\n",
              "}});\n",
              "\n",
              "// Listen for the removal of the full notebook cells\n",
              "var notebookContainer = gd.closest('#notebook-container');\n",
              "if (notebookContainer) {{\n",
              "    x.observe(notebookContainer, {childList: true});\n",
              "}}\n",
              "\n",
              "// Listen for the clearing of the current output cell\n",
              "var outputEl = gd.closest('.output');\n",
              "if (outputEl) {{\n",
              "    x.observe(outputEl, {childList: true});\n",
              "}}\n",
              "\n",
              "                        })\n",
              "                };\n",
              "                \n",
              "            </script>\n",
              "        </div>\n",
              "</body>\n",
              "</html>"
            ]
          },
          "metadata": {}
        }
      ]
    },
    {
      "cell_type": "code",
      "metadata": {
        "id": "jGv-5bp74CIw"
      },
      "source": [
        ""
      ],
      "id": "jGv-5bp74CIw",
      "execution_count": null,
      "outputs": []
    },
    {
      "cell_type": "code",
      "metadata": {
        "id": "L1Y0Qhie4Cnr"
      },
      "source": [
        ""
      ],
      "id": "L1Y0Qhie4Cnr",
      "execution_count": null,
      "outputs": []
    },
    {
      "cell_type": "code",
      "metadata": {
        "id": "kS9UB8HSlIdj"
      },
      "source": [
        "#Creamos diccionarios vacíos\n",
        "beta = {}\n",
        "alpha = {}\n",
        "#Calculamos beta y alpha para cada acción mediante una funcion\n",
        "for i in nasd_rd.columns[:-1]:\n",
        "  b,a = np.polyfit(nasd_rd['^IXIC'], nasd_rd[i],1)\n",
        "  beta[i] = b    \n",
        "  alpha[i] = a  \n",
        " "
      ],
      "id": "kS9UB8HSlIdj",
      "execution_count": null,
      "outputs": []
    },
    {
      "cell_type": "code",
      "metadata": {
        "id": "YArMs4j81uKh"
      },
      "source": [
        "#Cómo queda conformado el diccionario de betas de los tickers.\n",
        "beta   "
      ],
      "id": "YArMs4j81uKh",
      "execution_count": null,
      "outputs": []
    },
    {
      "cell_type": "code",
      "metadata": {
        "id": "ChYjJ30DyYEn"
      },
      "source": [
        "#Cómo queda conformado el diccionario de alpha de los tickers seleccionados\n",
        "alpha"
      ],
      "id": "ChYjJ30DyYEn",
      "execution_count": null,
      "outputs": []
    },
    {
      "cell_type": "code",
      "metadata": {
        "id": "quPGuKvK7-fH"
      },
      "source": [
        "#Definimos acciones de nuestro diccionario.\n",
        "tickers=list(beta.keys())\n",
        "#Establecemos un diccionario donde se asignarán los valores de retornos de cada accion.\n",
        "ER={}\n",
        "ER_a={}\n",
        "#Definimos tasa libre de riesgo.\n",
        "rf=0\n",
        "#Definimos retorno de mercado(promedio):\n",
        "rm=nasd_rd['^IXIC'].mean() * 252 \n",
        "#Definimos función de CAPM\n",
        "for i in tickers:\n",
        " ER[i] = rf + (beta[i] * (rm-rf))\n"
      ],
      "id": "quPGuKvK7-fH",
      "execution_count": null,
      "outputs": []
    },
    {
      "cell_type": "code",
      "metadata": {
        "id": "9HjYuP6y-aJK"
      },
      "source": [
        "#Analizamos los rendimientos de cada acción.\n",
        "ER\n"
      ],
      "id": "9HjYuP6y-aJK",
      "execution_count": null,
      "outputs": []
    },
    {
      "cell_type": "code",
      "metadata": {
        "id": "Y0tFhWoi6jnx"
      },
      "source": [
        "#Imprimimos los retornos esperados\n",
        "for i in tickers:\n",
        "  print('El modelo CAPM aplicado a {} indica que su rendimiento esperado es igual a {}%'.format(i, round(ER[i],3)))"
      ],
      "id": "Y0tFhWoi6jnx",
      "execution_count": null,
      "outputs": []
    },
    {
      "cell_type": "markdown",
      "metadata": {
        "id": "novel-double"
      },
      "source": [
        "### Modelos Autorregresivos para predecir precios.\n",
        "\n",
        "Para esta parte del práctico, nos gustaría utilizar precios del pasado para poder estimar cuál va a ser el precio de una acción más adelante. Las regresiones que vemos en la introducción al aprendizaje automático no son las mismas que deben usarse cuando estamos trabajando con precios de mercado, ya que estos datos son series de tiempo. Para trabajar con este tipo de datos, es necesario generar **modelos autorregresivos**.\n",
        "\n",
        "Si suponemos que $y_t$ es el precio de nuestra acción en el tiempo $t$, podemos generar el siguiente modelo autorregresivo:\n",
        "\n",
        "$$\n",
        "y_t = \\delta + \\phi_1 y_{t-1} + \\dots + \\phi_p y_{t-p} + \\epsilon_t\n",
        "$$\n",
        "\n",
        "Existen otras variables que podemos agregar (como estacionariedad o tendencias), pero para este práctico podemos usar solamente el modelo `AutoReg` de la librería StatsModels: https://www.statsmodels.org/stable/examples/notebooks/generated/autoregressions.html.\n",
        "\n",
        "El **ejercicio** para esta sección es crear una función que reciba 4 parámetros:\n",
        "- El *ticker* de un activo.\n",
        "- Una *fecha* a partir de la cual se van a querer predecir los precios del activo.\n",
        "- Un *número de días* hacia atrás que se van a usar para ajustar el modelo autorregresivo.\n",
        "- Un *número de días* hacia adelante para los cuales van a querer predecir el precio del activo utilizando el modelo entrenado.\n",
        "\n",
        "Esta función se debe encargar de buscar los precios del ticker, realizar el ajuste y predecir el precio de la acción hacia delante. Además, debe devolver el [error cuadrático medio](https://es.wikipedia.org/wiki/Error_cuadr%C3%A1tico_medio) de la predicción, comparado con los verdaderos precios del activo.\n",
        "\n",
        "¿Qué pasa si tratamos de predecir el precio del SPY el día antes del primer cisne negro de 2020 con un modelo que use 15 días hacia atrás?"
      ],
      "id": "novel-double"
    },
    {
      "cell_type": "code",
      "metadata": {
        "id": "GXKVVh6qr7IT"
      },
      "source": [
        "# Función que recibe 4 parámetros para predecir los retornos \n",
        "# de un activo a partir de las fechas\n",
        "\n",
        "def predict_over_ticker_date(tickers, start_date, cant_days_before, cant_days_after):\n",
        "   start_date_ticker= start_date - datetime.timedelta(days=cant_days_before)\n",
        "   end_date_ticker= start_date + datetime.timedelta(days=cant_days_after)\n",
        "  \n",
        "   data_tic = data.get_data_yahoo(\n",
        "     tickers,\n",
        "     start=start_date_ticker, \n",
        "     end=end_date_ticker, \n",
        "     data_source='yahoo',\n",
        "   )[\"Adj Close\"]\n",
        "\n",
        "   # Creo el data frame\n",
        "   df=pd.DataFrame(data_tic)\n",
        "\n",
        "   # Calculo los retornos\n",
        "   df['Retornos']=df['Adj Close'].pct_change(1).dropna()\n",
        "\n",
        "   # Elimino la columna Adj Close\n",
        "   df.drop('Adj Close', inplace=True, axis=1)\n",
        "\n",
        "   # Elimino los NaN\n",
        "   df.dropna(inplace=True)\n",
        "\n",
        "   # Separo test y train\n",
        "   df_train=df[df.index <= start_date]\n",
        "   df_test=df[df.index > start_date]\n",
        "\n",
        "   # Calculo start y end para predicción con train con FECHAS\n",
        "   start = df_train.index[0]\n",
        "   end = df_train.index[-1]\n",
        "\n",
        "   # Convierto el index de df_train\n",
        "   df_train.index = pd.DatetimeIndex(df_train.index).to_period('D')\n",
        "   df_test.index = pd.DatetimeIndex(df_test.index).to_period('D')\n",
        "\n",
        "   # Instanciación\n",
        "   mod = AutoReg(df_train, old_names=True, missing='drop', lags=1, hold_back=1)\n",
        "   res = mod.fit()\n",
        "\n",
        "   # Predicción del modelo con el start y end con valores de fechas\n",
        "   predict = res.predict(df_test.index[0] , df_test.index[-1])\n",
        "\n",
        "   # Imprimo el predict\n",
        "   filtered_predict = predict[predict.index.isin(df_test.index)]\n",
        "   \n",
        "   # Calculo del error\n",
        "   train_error = mean_squared_error(df_test[\"Retornos\"], filtered_predict)\n",
        "    \n",
        "   # Devolvemos el predict y el error\n",
        "   return predict, train_error\n"
      ],
      "id": "GXKVVh6qr7IT",
      "execution_count": null,
      "outputs": []
    },
    {
      "cell_type": "code",
      "metadata": {
        "id": "smqOohz8lVvk"
      },
      "source": [
        "# Función que recibe 4 parámetros para predecir los retornos \n",
        "# de un activo a partir de las fechas\n",
        "\n",
        "def predict_over_ticker_date_price(tickers, start_date, cant_days_before, cant_days_after):\n",
        "   start_date_ticker= start_date - datetime.timedelta(days=cant_days_before)\n",
        "   end_date_ticker= start_date + datetime.timedelta(days=cant_days_after)\n",
        "  \n",
        "   data_tic = data.get_data_yahoo(\n",
        "     tickers,\n",
        "     start=start_date_ticker, \n",
        "     end=end_date_ticker, \n",
        "     data_source='yahoo',\n",
        "   )[\"Adj Close\"]\n",
        "\n",
        "   # Creo el data frame\n",
        "   df=pd.DataFrame(data_tic)\n",
        "\n",
        "   # Elimino los NaN\n",
        "   df.dropna(inplace=True)\n",
        "\n",
        "   \n",
        "   # Separo test y train\n",
        "   df_train=df[df.index <= start_date]\n",
        "   df_test=df[df.index > start_date]\n",
        "\n",
        "   # Calculo start y end para predicción con train con FECHAS\n",
        "   start = df_train.index[0]\n",
        "   end = df_train.index[-1]\n",
        "\n",
        "   # Convierto el index de df_train\n",
        "   df_train.index = pd.DatetimeIndex(df_train.index).to_period('D')\n",
        "   df_test.index = pd.DatetimeIndex(df_test.index).to_period('D')\n",
        "\n",
        "   # Instanciación\n",
        "   mod = AutoReg(df_train, old_names=True, missing='drop', lags=1, hold_back=1)\n",
        "   res = mod.fit()\n",
        "\n",
        "   # Predicción del modelo con el start y end con valores de fechas\n",
        "   predict = res.predict(df_test.index[0] , df_test.index[-1])\n",
        "\n",
        "   # Imprimo el predict\n",
        "   filtered_predict = predict[predict.index.isin(df_test.index)]\n",
        "   \n",
        "   # Calculo del error\n",
        "   train_error = mean_squared_error(df_test[\"Adj Close\"], filtered_predict)\n",
        "    \n",
        "   # Devolvemos el predict y el error\n",
        "   return predict, train_error"
      ],
      "id": "smqOohz8lVvk",
      "execution_count": null,
      "outputs": []
    },
    {
      "cell_type": "code",
      "metadata": {
        "id": "Ik_W3dcPol6J"
      },
      "source": [
        "# Definición de los valores para predecir los retornos y los precios de Meli en enero de 2021\n",
        "start_date = datetime.datetime(year=2021, month=1, day=1)\n",
        "cant_days_before = 15\n",
        "cant_days_after = 15\n",
        "tickers = ['MELI']"
      ],
      "id": "Ik_W3dcPol6J",
      "execution_count": null,
      "outputs": []
    },
    {
      "cell_type": "code",
      "metadata": {
        "id": "sJyJA0RXR7jL"
      },
      "source": [
        "# Llamamos a la función para predecir los retornos con fechas\n",
        "predict_over_ticker_date(tickers, start_date, cant_days_before, cant_days_after)"
      ],
      "id": "sJyJA0RXR7jL",
      "execution_count": null,
      "outputs": []
    },
    {
      "cell_type": "code",
      "metadata": {
        "id": "dfHXDistvngf"
      },
      "source": [
        "# Definición de los valores para predecir los retornos de SPY en marzo de 2021\n",
        "start_date = datetime.datetime(year=2020, month=3, day=1)\n",
        "cant_days_before = 15\n",
        "cant_days_after = 15\n",
        "tickers = ['SPY']"
      ],
      "id": "dfHXDistvngf",
      "execution_count": null,
      "outputs": []
    },
    {
      "cell_type": "code",
      "metadata": {
        "id": "1qS-fcSAR0Ci"
      },
      "source": [
        "# Llamamos a la función para predecir los retornos con fechas\n",
        "predict_over_ticker_date(tickers, start_date, cant_days_before, cant_days_after)"
      ],
      "id": "1qS-fcSAR0Ci",
      "execution_count": null,
      "outputs": []
    },
    {
      "cell_type": "code",
      "metadata": {
        "id": "j_MJXR_fmLrC"
      },
      "source": [
        "# Definición de los valores para predecir los precios de SPY en marzo de 2021\n",
        "start_date = datetime.datetime(year=2020, month=3, day=1)\n",
        "cant_days_before = 15\n",
        "cant_days_after = 15\n",
        "tickers = ['SPY']"
      ],
      "id": "j_MJXR_fmLrC",
      "execution_count": null,
      "outputs": []
    },
    {
      "cell_type": "code",
      "metadata": {
        "id": "L4WhUHUxlTLO"
      },
      "source": [
        "# Llamamos a la función para predecir los precios con fechas\n",
        "predict_over_ticker_date_price(tickers, start_date, cant_days_before, cant_days_after)"
      ],
      "id": "L4WhUHUxlTLO",
      "execution_count": null,
      "outputs": []
    },
    {
      "cell_type": "markdown",
      "metadata": {
        "id": "XodyxADplCgO"
      },
      "source": [
        "¿Qué pasa si tratamos de predecir el precio del SPY el día antes del primer cisne negro de 2020 con un modelo que use 15 días hacia atrás?"
      ],
      "id": "XodyxADplCgO"
    },
    {
      "cell_type": "code",
      "metadata": {
        "id": "hhQ0KiHiZhGN"
      },
      "source": [
        "tickers = ['SPY']\n",
        "\n",
        "#Se filtran datos de S&P500 desde 2000\n",
        "start_date= '2020-01-01'\n",
        "end_date= '2021-01-01'\n",
        "\n",
        "dfP500 = data.DataReader(\n",
        "    tickers,\n",
        "    start=start_date, \n",
        "    end=end_date, \n",
        "    data_source='yahoo',\n",
        ")[\"Adj Close\"].to_frame()"
      ],
      "id": "hhQ0KiHiZhGN",
      "execution_count": null,
      "outputs": []
    },
    {
      "cell_type": "code",
      "metadata": {
        "id": "SAx0Jg9YZorK"
      },
      "source": [
        "# Calcular los retornos para tickers del 2020\n",
        "s = pd.Series(dfP500['Adj Close'].squeeze())\n",
        "return_SP5000_year_2020 = (s.pct_change(periods=1, fill_method='pad', limit=None, freq=None))*100\n",
        "\n",
        "# Calcular las desviación\n",
        "std = return_SP5000_year_2020.std()\n",
        "\n",
        "# Calcular la media de los retornos\n",
        "mean = return_SP5000_year_2020.mean()\n",
        "\n",
        "# Calcular el exceso de los retornos\n",
        "excess_return_year_2020 = (mean - 0) / std\n",
        "\n",
        "# Imprimir el describe de los retornos de los tickers del 2020\n",
        "print(\"Describe de los retornos (Desde 2000):\\n\", return_SP5000_year_2020.describe())\n",
        "\n",
        "# Imprimir el valor de la desviación\n",
        "print(\"\\nStd:\", std)\n",
        "\n",
        "# Imprimir el valor de la media\n",
        "print(\"\\nMean:\", mean)\n",
        "\n",
        "# Imprimir el exceso de los retornos\n",
        "print(\"\\nExceso de retornos:\", excess_return_year_2020) "
      ],
      "id": "SAx0Jg9YZorK",
      "execution_count": null,
      "outputs": []
    },
    {
      "cell_type": "code",
      "metadata": {
        "id": "BtVQTYxZa5CG"
      },
      "source": [
        "# Calcular 3 veces la desviación estándar\n",
        "std3 =std * 3.0\n",
        "\n",
        "# Imprimir el valor de 3 desviaciones estandar\n",
        "print(\"Valor de 3 desviaciones estandar:\", std3)\n",
        "\n",
        "# Mínima y máxima para encontrar cisnes negros\n",
        "mean_std_max = mean + std3\n",
        "mean_std_min = mean - std3\n",
        "\n",
        "# Imprimir valores mínimos y máximos de 3 desviaciones \n",
        "print(\"\\nValores mínimos y máximos de 3 desviaciones\")\n",
        "print(\"Media desviación mayor\", mean_std_max)\n",
        "print(\"Media desviación menor\", mean_std_min)\n",
        "\n",
        "# Encontrar cisnes negros\n",
        "list_cisnes = []\n",
        "for retorno in return_SP5000_year_2020.iteritems(): \n",
        "    #Buscar los retornos mayores o menores a 3 desviaciones (+-) la media  \n",
        "    if retorno[1] > mean_std_max or retorno[1] < mean_std_min: \n",
        "      list_cisnes.append(retorno)"
      ],
      "id": "BtVQTYxZa5CG",
      "execution_count": null,
      "outputs": []
    },
    {
      "cell_type": "code",
      "metadata": {
        "id": "WjtHbOrUZ6LX"
      },
      "source": [
        "# Convertir la lista a un data frame\n",
        "df_cisnes_negros = pd.DataFrame(list_cisnes)\n",
        "\n",
        "# Asignar nombres a las columnas \n",
        "df_cisnes_negros.columns = ['Fecha','RetornoCisne']\n",
        "\n",
        "# Formatear la fecha en datetime\n",
        "df_cisnes_negros.Fecha = pd.to_datetime(df_cisnes_negros.Fecha)\n",
        "\n",
        "# Se observan nuestros primeros cisnes negros\n",
        "df_cisnes_negros.head(10)"
      ],
      "id": "WjtHbOrUZ6LX",
      "execution_count": null,
      "outputs": []
    },
    {
      "cell_type": "markdown",
      "metadata": {
        "id": "JCTCHaYA0JCj"
      },
      "source": [
        "Observamos nuestro primer cisne negro en el 2020 para el dia 2020-03-09"
      ],
      "id": "JCTCHaYA0JCj"
    },
    {
      "cell_type": "code",
      "metadata": {
        "id": "jPbTbXU-Z9H3"
      },
      "source": [
        "dfP500[dfP500['Adj Close'].index > '2020-03-01'].head(15)"
      ],
      "id": "jPbTbXU-Z9H3",
      "execution_count": null,
      "outputs": []
    },
    {
      "cell_type": "markdown",
      "metadata": {
        "id": "Fe5-nmaA0cG2"
      },
      "source": [
        "Al intentar predecir el precio del SPY un día antes del primer cisne negro de 2020 con un modelo que use 15 días hacia atrás ocurre que se predicen precios mayores a los verdaderos dado que en estos dias la accion tenia un valor mas alto y no era tan volatil"
      ],
      "id": "Fe5-nmaA0cG2"
    },
    {
      "cell_type": "code",
      "metadata": {
        "id": "epTKNHSZaAIO"
      },
      "source": [
        "start_date = datetime.datetime(year=2020, month=3, day=8)\n",
        "cant_days_before = 15\n",
        "cant_days_after = 15\n",
        "tickers = ['SPY']"
      ],
      "id": "epTKNHSZaAIO",
      "execution_count": null,
      "outputs": []
    },
    {
      "cell_type": "code",
      "metadata": {
        "id": "X1_byyTdaEyE"
      },
      "source": [
        "predict_over_ticker_date_price(tickers, start_date, cant_days_before, cant_days_after)"
      ],
      "id": "X1_byyTdaEyE",
      "execution_count": null,
      "outputs": []
    },
    {
      "cell_type": "markdown",
      "metadata": {
        "id": "beginning-repository"
      },
      "source": [
        "### Árboles de Decisión para predecir suba o baja.\n",
        "\n",
        "Venimos trabajando los precios con valores continuos, pero otra forma de verlos podría ser convirtiendolos en, por ejemplo, -1 y 1 para saber si el precio está en suba o en baja. De esta forma obtenemos un problema de clasificación que nos permite mirar los datos desde otra perspectiva.\n",
        "\n",
        "- Etiqueten los datos con 1 si [pct_change](https://pandas.pydata.org/docs/reference/api/pandas.DataFrame.pct_change.html) es mayor a cero y 0, -1 si no.\n",
        "- Entrenen un árbol de decisión que prediga si el valor de un activo va a subir o bajar.\n",
        "- Reporten las siguientes métricas sobre el modelo resultante.\n",
        "\n",
        "    - Accuracy\n",
        "    - Precision\n",
        "    - Recall\n",
        "    - F1\n",
        "    - matriz de confusión"
      ],
      "id": "beginning-repository"
    },
    {
      "cell_type": "code",
      "metadata": {
        "id": "YCWyy9mq0d5r"
      },
      "source": [
        "# Obtenemos un los tickers de Meli para la fecha entre 2020-01-01 y 2020-12_31\n",
        "tickers= ['MELI']\n",
        "start_date = '2020-01-01'\n",
        "end_date = '2020-12-31'\n",
        "\n",
        "data_meli = data.get_data_yahoo(\n",
        "    tickers,\n",
        "    start=start_date, \n",
        "    end=end_date, \n",
        "    data_source='yahoo',\n",
        ")\n",
        "\n",
        "# Creamos un dataframe con los datos de Meli\n",
        "df_meli=pd.DataFrame(data_meli)\n",
        "\n",
        "# Calculo el pct_change de meli\n",
        "df_meli[\"ret_meli\"]=df_meli['Adj Close'].pct_change(1)\n",
        "\n",
        "# Elimino NAN\n",
        "df_meli_model = df_meli.dropna()\n",
        "\n",
        "# Muestro las primeras filas\n",
        "df_meli_model.head()"
      ],
      "id": "YCWyy9mq0d5r",
      "execution_count": null,
      "outputs": []
    },
    {
      "cell_type": "code",
      "metadata": {
        "id": "complicated-planet"
      },
      "source": [
        "# Etiqueto en base a pct_change\n",
        "df_meli_model['Target'] = df_meli_model.apply(lambda x: 1 if (x['ret_meli']) >= 0.0 else -1, axis=1)\n",
        "\n",
        "# Elimino la columna pct_change\n",
        "df_meli_model_filter = df_meli_model.drop(['ret_meli'],axis=1)\n",
        "df_meli_model_filter.head()"
      ],
      "id": "complicated-planet",
      "execution_count": null,
      "outputs": []
    },
    {
      "cell_type": "code",
      "metadata": {
        "id": "AFhABo_FoWO2"
      },
      "source": [
        "# División entre instancias y etiquetas\n",
        "X, y = df_meli_model_filter.iloc[:, :6], df_meli_model_filter.Target\n",
        "print(X)\n",
        "tscv = TimeSeriesSplit(n_splits=2)\n",
        "#print(tscv.split(X))\n",
        "\n",
        "for train_index, test_index in tscv.split(X):\n",
        "    X_train, X_test = X.iloc[train_index, :], X.iloc[test_index,:]\n",
        "    y_train, y_test = y.iloc[train_index], y.iloc[test_index]\n",
        "\n",
        "print(X_train)\n",
        "print(X_test)"
      ],
      "id": "AFhABo_FoWO2",
      "execution_count": null,
      "outputs": []
    },
    {
      "cell_type": "code",
      "metadata": {
        "id": "Uq7t6HQkUn-b"
      },
      "source": [
        "# Entreno el modelo\n",
        "clf = DecisionTreeClassifier(random_state=0)\n",
        "clf.fit(X_train, y_train)"
      ],
      "id": "Uq7t6HQkUn-b",
      "execution_count": null,
      "outputs": []
    },
    {
      "cell_type": "code",
      "metadata": {
        "id": "5Bb9cFLyWBew"
      },
      "source": [
        "# Predicción con los datos de train\n",
        "y_predict_train = clf.predict(X_train)\n",
        "\n",
        "# Preicción con los datos de test\n",
        "y_predict_test = clf.predict(X_test)\n",
        "\n",
        "# Impresión de los predict\n",
        "print(classification_report(y_test, y_predict_test))\n",
        "print(classification_report(y_train, y_predict_train))\n",
        "\n",
        "# Mapa de calor para mostrar la eficencia del modelo\n",
        "sns.heatmap(confusion_matrix(y_test, y_predict_test, normalize='true'),annot=True)"
      ],
      "id": "5Bb9cFLyWBew",
      "execution_count": null,
      "outputs": []
    },
    {
      "cell_type": "markdown",
      "metadata": {
        "id": "boolean-reward"
      },
      "source": [
        "El etiquetado de datos no suele ser trivial dado a que depende de la naturaleza de los datos. Posiblemente, el precio de un activo suba un poco pero luego continue su declive ¿Cuánto tiene que subir/bajar un precio para ser considerado \"suba\"/\"baja\"?. ¿Tiene sentido tomar \"periodos de suba/baja\" más grandes para predecir si el comportamiento del activo en el futuro?. ¿Se podría utilizar un enfoque más estadístico para elegir el etiquetado?.\n",
        "\n",
        "Aplicar GridSearch sobre los parámetros y luego para la mejor configuración encontrada, evaluar sobre el conjunto de entrenamiento y sobre el conjunto de evaluación, reportando:\n",
        "\n",
        "- Accuracy\n",
        "- Precision\n",
        "- Recall\n",
        "- F1\n",
        "- matriz de confusión"
      ],
      "id": "boolean-reward"
    },
    {
      "cell_type": "code",
      "metadata": {
        "id": "forbidden-shoot"
      },
      "source": [
        "# Selección de parámetros\n",
        "param_grid = {\n",
        "    'criterion': ['entropy','gini'],\n",
        "    'max_depth': [None,2,5,80],\n",
        "    'min_samples_split' : [2,3,4]\n",
        "}\n",
        "\n",
        "prev_accuracy_score = 0\n",
        "for params in ParameterGrid(param_grid):\n",
        "    model = DecisionTreeClassifier(**params, random_state=0)\n",
        "    model.fit(X_train, y_train)\n",
        "    y_predict_test = model.predict(X_test)\n",
        "    accuracy = accuracy_score(y_test, y_predict_test, normalize=True)\n",
        "    variance = explained_variance_score(y_test, y_predict_test, multioutput='uniform_average')\n",
        "    print()\n",
        "    print('Classification Report: ')\n",
        "    print(classification_report(y_test, y_predict_test))\n",
        "    print('Params: ',params)\n",
        "    print('Accuracy: ', accuracy,' Variance: ', variance)\n",
        "    print()\n",
        "    if accuracy > prev_accuracy_score:\n",
        "      best_model = model\n",
        "      prev_accuracy_score = accuracy\n",
        "      best_params = params\n",
        "      best_variance = variance\n",
        "\n",
        "print(best_model, prev_accuracy_score, best_params, best_variance)"
      ],
      "id": "forbidden-shoot",
      "execution_count": null,
      "outputs": []
    },
    {
      "cell_type": "code",
      "metadata": {
        "id": "SseF8dOOX1R5"
      },
      "source": [
        "# Selección del mejor modelo\n",
        "best_model = GridSearchCV(model, param_grid, scoring='accuracy', cv=5)\n",
        "best_model.fit(X_train, y_train)\n",
        "\n",
        "# Impresión de los valores de prección para train y para test con el mejor modelo\n",
        "y_predict_test = best_model.predict(X_test)\n",
        "y_predict_train = best_model.predict(X_train)\n",
        "\n",
        "# Impresión del clasification report para los datos del mejor modelo\n",
        "print(classification_report(y_test, y_predict_test))\n",
        "print(classification_report(y_train, y_predict_train))\n",
        "\n",
        "# Impresión de la matriz de confusión para comprender la eficacia del modelo\n",
        "sns.heatmap(confusion_matrix(y_test, y_predict_test, normalize='true'),annot=True)"
      ],
      "id": "SseF8dOOX1R5",
      "execution_count": null,
      "outputs": []
    }
  ]
}