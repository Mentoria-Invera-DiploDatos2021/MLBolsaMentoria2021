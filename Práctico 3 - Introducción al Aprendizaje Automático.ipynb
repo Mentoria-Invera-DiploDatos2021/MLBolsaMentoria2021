{
 "cells": [
  {
   "cell_type": "markdown",
   "id": "e9509b3e-0686-4487-9595-509941ed7fec",
   "metadata": {},
   "source": [
    "# Práctico 3 - Introducción al Aprendizaje Automático\n",
    "\n",
    "## Modelos de Precios de Mercado\n",
    "Queremos crear un modelo que prediga si el precio de una acción va a subir o bajar de acuerdo a información del pasado.\n",
    "\n",
    "\n",
    "### Capital Asset Pricing Model (CAPM)\n",
    "https://economipedia.com/definiciones/modelo-valoracion-activos-financieros-capm.html\n",
    "Aplicar a varias acciones.\n",
    "\n",
    "1. ¿Es fácil encontrar $\\alpha$ distinto de cero?\n",
    "\n",
    "2. ¿Qué interpretación le podemos dar a $\\beta$?\n",
    "\n",
    "3. ¿En qué momento nos gustaría buscar activos con $\\beta$ > 1 y $\\beta$ < 1? ¿Qué implica tener un $\\beta$ < 0?\n",
    "\n",
    "$$\n",
    "\\alpha + \\beta * SPY = KO\n",
    "$$"
   ]
  },
  {
   "cell_type": "code",
   "execution_count": 3,
   "id": "9e703a65-f5f5-4c14-b84f-408c4623f8bc",
   "metadata": {},
   "outputs": [],
   "source": [
    "from pandas_datareader import data\n",
    "# Definimos tickers en los cuales estamos interesados\n",
    "# Algunas empresas del S&P500\n",
    "tickers = [\"MELI\"]\n",
    "\n",
    "# Definimos el rango de fechas deseado\n",
    "start_date = '2020-01-01'\n",
    "end_date = '2020-12-31'\n",
    "\n",
    "# Obtenemos un DataFrame\n",
    "df = data.DataReader(\n",
    "    tickers, \n",
    "    start=start_date, \n",
    "    end=end_date, \n",
    "    data_source='yahoo',\n",
    ")[\"Adj Close\"]"
   ]
  },
  {
   "cell_type": "code",
   "execution_count": 4,
   "id": "1c57cc1a-f5b2-41ef-b12a-2854bd0d638a",
   "metadata": {},
   "outputs": [
    {
     "data": {
      "text/html": [
       "<div>\n",
       "<style scoped>\n",
       "    .dataframe tbody tr th:only-of-type {\n",
       "        vertical-align: middle;\n",
       "    }\n",
       "\n",
       "    .dataframe tbody tr th {\n",
       "        vertical-align: top;\n",
       "    }\n",
       "\n",
       "    .dataframe thead th {\n",
       "        text-align: right;\n",
       "    }\n",
       "</style>\n",
       "<table border=\"1\" class=\"dataframe\">\n",
       "  <thead>\n",
       "    <tr style=\"text-align: right;\">\n",
       "      <th>Symbols</th>\n",
       "      <th>MELI</th>\n",
       "    </tr>\n",
       "    <tr>\n",
       "      <th>Date</th>\n",
       "      <th></th>\n",
       "    </tr>\n",
       "  </thead>\n",
       "  <tbody>\n",
       "    <tr>\n",
       "      <th>2020-01-02</th>\n",
       "      <td>610.190002</td>\n",
       "    </tr>\n",
       "    <tr>\n",
       "      <th>2020-01-03</th>\n",
       "      <td>607.799988</td>\n",
       "    </tr>\n",
       "    <tr>\n",
       "      <th>2020-01-06</th>\n",
       "      <td>606.549988</td>\n",
       "    </tr>\n",
       "    <tr>\n",
       "      <th>2020-01-07</th>\n",
       "      <td>625.000000</td>\n",
       "    </tr>\n",
       "    <tr>\n",
       "      <th>2020-01-08</th>\n",
       "      <td>633.440002</td>\n",
       "    </tr>\n",
       "    <tr>\n",
       "      <th>...</th>\n",
       "      <td>...</td>\n",
       "    </tr>\n",
       "    <tr>\n",
       "      <th>2020-12-24</th>\n",
       "      <td>1690.479980</td>\n",
       "    </tr>\n",
       "    <tr>\n",
       "      <th>2020-12-28</th>\n",
       "      <td>1663.719971</td>\n",
       "    </tr>\n",
       "    <tr>\n",
       "      <th>2020-12-29</th>\n",
       "      <td>1673.489990</td>\n",
       "    </tr>\n",
       "    <tr>\n",
       "      <th>2020-12-30</th>\n",
       "      <td>1712.939941</td>\n",
       "    </tr>\n",
       "    <tr>\n",
       "      <th>2020-12-31</th>\n",
       "      <td>1675.219971</td>\n",
       "    </tr>\n",
       "  </tbody>\n",
       "</table>\n",
       "<p>253 rows × 1 columns</p>\n",
       "</div>"
      ],
      "text/plain": [
       "Symbols            MELI\n",
       "Date                   \n",
       "2020-01-02   610.190002\n",
       "2020-01-03   607.799988\n",
       "2020-01-06   606.549988\n",
       "2020-01-07   625.000000\n",
       "2020-01-08   633.440002\n",
       "...                 ...\n",
       "2020-12-24  1690.479980\n",
       "2020-12-28  1663.719971\n",
       "2020-12-29  1673.489990\n",
       "2020-12-30  1712.939941\n",
       "2020-12-31  1675.219971\n",
       "\n",
       "[253 rows x 1 columns]"
      ]
     },
     "execution_count": 4,
     "metadata": {},
     "output_type": "execute_result"
    }
   ],
   "source": [
    "df"
   ]
  },
  {
   "cell_type": "markdown",
   "id": "05b46e0a-67b2-48b9-9dd3-6980881df620",
   "metadata": {},
   "source": [
    "### Modelos Autorregresivos para predecir precios.\n",
    "\n",
    "https://www.statsmodels.org/stable/examples/notebooks/generated/autoregressions.html"
   ]
  },
  {
   "cell_type": "code",
   "execution_count": null,
   "id": "99fb6a33-7ecc-42ee-9d68-6757808b4c09",
   "metadata": {},
   "outputs": [],
   "source": []
  },
  {
   "cell_type": "markdown",
   "id": "5e85f45c-3480-47c7-9fbc-da02016e66f5",
   "metadata": {},
   "source": [
    "### Árboles de Decisión para predecir suba o baja.\n",
    "Aplicar GridSearch sobre los parámetros.\n",
    "\n",
    "Para la mejor configuración encontrada, evaluar sobre el conjunto de entrenamiento y sobre el conjunto de evaluación, reportando:\n",
    "\n",
    "- Accuracy\n",
    "- Precision\n",
    "- Recall\n",
    "- F1\n",
    "- matriz de confusión"
   ]
  },
  {
   "cell_type": "code",
   "execution_count": null,
   "id": "f0daab61-4214-4825-a4e0-29431c807d3b",
   "metadata": {},
   "outputs": [],
   "source": []
  }
 ],
 "metadata": {
  "kernelspec": {
   "display_name": "Python 3",
   "language": "python",
   "name": "python3"
  },
  "language_info": {
   "codemirror_mode": {
    "name": "ipython",
    "version": 3
   },
   "file_extension": ".py",
   "mimetype": "text/x-python",
   "name": "python",
   "nbconvert_exporter": "python",
   "pygments_lexer": "ipython3",
   "version": "3.9.2"
  }
 },
 "nbformat": 4,
 "nbformat_minor": 5
}
