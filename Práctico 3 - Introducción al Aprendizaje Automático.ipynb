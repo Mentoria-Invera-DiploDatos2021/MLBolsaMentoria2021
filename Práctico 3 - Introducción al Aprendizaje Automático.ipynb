{
  "nbformat": 4,
  "nbformat_minor": 5,
  "metadata": {
    "colab": {
      "name": "Práctico_3_Introducción_al_Aprendizaje_Automático.ipynb",
      "provenance": [],
      "collapsed_sections": [],
      "toc_visible": true
    },
    "kernelspec": {
      "display_name": "Python 3",
      "language": "python",
      "name": "python3"
    },
    "language_info": {
      "codemirror_mode": {
        "name": "ipython",
        "version": 3
      },
      "file_extension": ".py",
      "mimetype": "text/x-python",
      "name": "python",
      "nbconvert_exporter": "python",
      "pygments_lexer": "ipython3",
      "version": "3.9.2"
    }
  },
  "cells": [
    {
      "cell_type": "markdown",
      "metadata": {
        "id": "UIK3w949TUF-"
      },
      "source": [
        "```\n",
        "<Integrantes del Grupo>\n",
        "<Sofia Oliverio\n",
        "Ramiro Jimenez\n",
        "Pablo Carrazana>\n",
        "```"
      ],
      "id": "UIK3w949TUF-"
    },
    {
      "cell_type": "markdown",
      "metadata": {
        "id": "conventional-registrar"
      },
      "source": [
        "# Práctico 3 - Introducción al Aprendizaje Automático\n",
        "\n",
        "## Modelos de Precios de Mercado\n",
        "Queremos crear un modelo que prediga si el precio de una acción va a subir o bajar de acuerdo a información del pasado. Para ello implementaremos algunos modelos derivados de la teoria económica respecto de como valuar una activo con flujo de fondos inciertos, lo que estaría indicando que esas acciones tuvieron un rendimiento inferior al dado por  su índice de mercado(NASDAQ).\n",
        "\n",
        "\n",
        "### Capital Asset Pricing Model (CAPM)\n",
        "\n",
        "El modelo de CAPM propuesto por William Sharpe a partir del desarrollo de Markowitz sobre carteras eficientes, busca predecir el retorno de un activo en función del comportamiento global del mercado, y de la relación del activo puntual con el mercado. \n",
        "\n",
        "Según este modelo, que se puede expresar de la siguiente manera: \n",
        "\n",
        "$$\n",
        "E(r_i) = r_f + \\beta  [ E(r_m) - r_f ] \n",
        "$$\n",
        "\n",
        "El retorno esperado del activo i, es igual al retorno libre de riesgo (o tasa libre de riesgo), más el exceso de retorno esperado de mercado (es decir lo que se espera que rinda el mercado por sobre la tasa libre de riesgo) escalado por un coeficiente beta. Este coeficiente beta es el conciente entre la covarianza del activo con el mercado sobre la varianza del mercado, y se interpreta como un multiplicador de riesgo de mercado.\n",
        "\n",
        "Pueden ver una explicación completa en: https://economipedia.com/definiciones/modelo-valoracion-activos-financieros-capm.html\n",
        "\n",
        "Adicionalmente, se puede agregar un término independiente como ordenada al origen alfa, que represanta una ganancia extraordinaria no explicada por la relacion con de la acción con el mercado sino por factores extraordinarios o arbitrages en caso de estrategias. De allí el famoso \"buscar alfa\" siendo una directriz de todos los portafolios managers. \n",
        "\n",
        "$$\n",
        "E(r_i) = \\alpha + r_f + \\beta  [ E(r_m) - r_f ]\n",
        "$$\n",
        "\n",
        "Para realizar este ejercicio, deberán descargar el precio de una acción y del mercado asociado (por ejemplo GOOG y NASDAQ). En ambos casos tomar los retornos y tomar una tasa libre de riesgo. A continuación, deberán probar varias regresiones para comprobar el beta, y examinar si el agregado de una ordenada al origen aporta a los resultados. La idea es que seleccionen varias acciones para modelarlo con diferentes activos. \n",
        "\n",
        "Una vez que lo hayan hecho, adionalmente responder las siguientes preguntas:\n",
        "\n",
        "1. ¿Es fácil encontrar $\\alpha$ distinto de cero?\n",
        "\n",
        "En nuestro caso los valores correspondientes al alpha de las acciones analizdas son distintos a cero por lo que no resulta dificil encontrar valores con estas características. Es importante aclarar que son valores cercanos a cero y para el caso de Alphabet Inc, Google, Microsoft y Facebook son valores negativas.\n",
        "\n",
        "2. ¿Qué interpretación le podemos dar a $\\beta$?\n",
        "\n",
        "Beta es un parámetro que mide la sensibilidad del rendimiento de nuestras acciones respecto a las variaciones en la rentabilidad de mercado. Nos indica que tan volatil es nuestra acción en relación al mercado, es decir como se comporta entorno al riesgo sistémico.\n",
        "3. ¿En qué momento nos gustaría buscar activos con $\\beta$ > 1 y $\\beta$ < 1? ¿Qué implica tener un $\\beta$ < 0?\n",
        "\n",
        "Un beta mayor a 1 indica que el precio de  nuestra acción reacciona más que proporcionalmente y en la misma dirección que los cambios ocurridos en los rendimientos de mercado. En un escenario de aumentos en los rendimientos de mercado uno desearía tener activos con esta característica.\n",
        "Un beta menor a uno indica que el rendimiento de nuestra acción variará en menor porporción ante cambios en el rendimiento de mercado pero en igual dirección. Es decir en situaciones de caída de los mercados uno desearía que el rendimiento de su acción varíe menos que la variación en el mercado.\n",
        "\n",
        "Un beta menor a cero indica que el rendimiento de nuestro activo tiene una relación inversa con el rendimiento del mercado. Esto puede darse por ejemplo con el índice VIX que mide la volatilidad del mercado y cuyo precio aumenta mientras mayor incertidumbre exista en el mercado.\n",
        "$$\n",
        "\\alpha + \\beta * SPY = KO\n",
        "$$\n"
      ],
      "id": "conventional-registrar"
    },
    {
      "cell_type": "code",
      "metadata": {
        "colab": {
          "base_uri": "https://localhost:8080/"
        },
        "id": "EA_QnFGtTXo0",
        "outputId": "431f295e-0dc1-4ea4-cb9b-ea9897cadad3"
      },
      "source": [
        "! pip install yfinance\n",
        "! pip install -U statsmodels==0.12.0"
      ],
      "id": "EA_QnFGtTXo0",
      "execution_count": 50,
      "outputs": [
        {
          "output_type": "stream",
          "name": "stdout",
          "text": [
            "Requirement already satisfied: yfinance in /usr/local/lib/python3.7/dist-packages (0.1.63)\n",
            "Requirement already satisfied: lxml>=4.5.1 in /usr/local/lib/python3.7/dist-packages (from yfinance) (4.6.3)\n",
            "Requirement already satisfied: multitasking>=0.0.7 in /usr/local/lib/python3.7/dist-packages (from yfinance) (0.0.9)\n",
            "Requirement already satisfied: numpy>=1.15 in /usr/local/lib/python3.7/dist-packages (from yfinance) (1.19.5)\n",
            "Requirement already satisfied: pandas>=0.24 in /usr/local/lib/python3.7/dist-packages (from yfinance) (1.1.5)\n",
            "Requirement already satisfied: requests>=2.20 in /usr/local/lib/python3.7/dist-packages (from yfinance) (2.23.0)\n",
            "Requirement already satisfied: python-dateutil>=2.7.3 in /usr/local/lib/python3.7/dist-packages (from pandas>=0.24->yfinance) (2.8.2)\n",
            "Requirement already satisfied: pytz>=2017.2 in /usr/local/lib/python3.7/dist-packages (from pandas>=0.24->yfinance) (2018.9)\n",
            "Requirement already satisfied: six>=1.5 in /usr/local/lib/python3.7/dist-packages (from python-dateutil>=2.7.3->pandas>=0.24->yfinance) (1.15.0)\n",
            "Requirement already satisfied: idna<3,>=2.5 in /usr/local/lib/python3.7/dist-packages (from requests>=2.20->yfinance) (2.10)\n",
            "Requirement already satisfied: certifi>=2017.4.17 in /usr/local/lib/python3.7/dist-packages (from requests>=2.20->yfinance) (2021.5.30)\n",
            "Requirement already satisfied: urllib3!=1.25.0,!=1.25.1,<1.26,>=1.21.1 in /usr/local/lib/python3.7/dist-packages (from requests>=2.20->yfinance) (1.24.3)\n",
            "Requirement already satisfied: chardet<4,>=3.0.2 in /usr/local/lib/python3.7/dist-packages (from requests>=2.20->yfinance) (3.0.4)\n",
            "Requirement already satisfied: statsmodels==0.12.0 in /usr/local/lib/python3.7/dist-packages (0.12.0)\n",
            "Requirement already satisfied: pandas>=0.21 in /usr/local/lib/python3.7/dist-packages (from statsmodels==0.12.0) (1.1.5)\n",
            "Requirement already satisfied: numpy>=1.15 in /usr/local/lib/python3.7/dist-packages (from statsmodels==0.12.0) (1.19.5)\n",
            "Requirement already satisfied: patsy>=0.5 in /usr/local/lib/python3.7/dist-packages (from statsmodels==0.12.0) (0.5.2)\n",
            "Requirement already satisfied: scipy>=1.1 in /usr/local/lib/python3.7/dist-packages (from statsmodels==0.12.0) (1.4.1)\n",
            "Requirement already satisfied: python-dateutil>=2.7.3 in /usr/local/lib/python3.7/dist-packages (from pandas>=0.21->statsmodels==0.12.0) (2.8.2)\n",
            "Requirement already satisfied: pytz>=2017.2 in /usr/local/lib/python3.7/dist-packages (from pandas>=0.21->statsmodels==0.12.0) (2018.9)\n",
            "Requirement already satisfied: six in /usr/local/lib/python3.7/dist-packages (from patsy>=0.5->statsmodels==0.12.0) (1.15.0)\n"
          ]
        }
      ]
    },
    {
      "cell_type": "code",
      "metadata": {
        "id": "chinese-thirty"
      },
      "source": [
        "#Importamos librerías\n",
        "import pandas as pd\n",
        "from sklearn.metrics import mean_squared_error\n",
        "import numpy as np\n",
        "from pandas_datareader import data ##as pdr \n",
        "import yfinance as yf #importe esta librería porque me permitía trabajar con los datos de yahoo.\n",
        "import datetime\n",
        "import matplotlib.pyplot as plt\n",
        "import pandas_datareader as pdr\n",
        "import seaborn as sns\n",
        "from statsmodels.tsa.ar_model import AutoReg, ar_select_order\n",
        "from statsmodels.tsa.api import acf, pacf, graphics\n",
        "from sklearn.tree import DecisionTreeClassifier\n",
        "from sklearn.metrics import classification_report\n",
        "from sklearn.model_selection import train_test_split\n",
        "from sklearn.model_selection import ParameterGrid\n",
        "from sklearn.model_selection import GridSearchCV\n",
        "from sklearn.metrics import accuracy_score\n",
        "from sklearn.metrics import explained_variance_score\n",
        "from sklearn.metrics import confusion_matrix\n",
        "from sklearn.metrics import recall_score\n",
        "from sklearn.model_selection import TimeSeriesSplit\n",
        "yf.pdr_override()\n"
      ],
      "id": "chinese-thirty",
      "execution_count": 51,
      "outputs": []
    },
    {
      "cell_type": "code",
      "metadata": {
        "colab": {
          "base_uri": "https://localhost:8080/"
        },
        "id": "U3TI8B_SMVEA",
        "outputId": "a096f3ff-58e2-4a89-ae3c-f9431d46cc39"
      },
      "source": [
        "# Definimos tickers en los cuales estamos interesados\n",
        "# Algunas empresas del S&P500\n",
        "tickers = ['MELI']\n",
        "\n",
        "# Definimos el rango de fechas deseado\n",
        "start_date = '2020-01-01'\n",
        "end_date = '2020-12-31'\n",
        "\n",
        "# Obtenemos un DataFrame\n",
        "data_meli = data.get_data_yahoo(\n",
        "    tickers,\n",
        "    start=start_date, \n",
        "    end=end_date, \n",
        "    data_source='yahoo',\n",
        ")[\"Adj Close\"]"
      ],
      "id": "U3TI8B_SMVEA",
      "execution_count": 52,
      "outputs": [
        {
          "output_type": "stream",
          "name": "stdout",
          "text": [
            "\r[*********************100%***********************]  1 of 1 completed\n"
          ]
        }
      ]
    },
    {
      "cell_type": "code",
      "metadata": {
        "colab": {
          "base_uri": "https://localhost:8080/",
          "height": 237
        },
        "id": "BCH4ldoaMX3o",
        "outputId": "5be608e1-d16d-4596-b708-8b7cd2245f08"
      },
      "source": [
        "#La info la tengo organizada en una tupla \n",
        "data_meli\n",
        "#La transformo a df\n",
        "df=pd.DataFrame(data_meli)\n",
        "df.head()"
      ],
      "id": "BCH4ldoaMX3o",
      "execution_count": 53,
      "outputs": [
        {
          "output_type": "execute_result",
          "data": {
            "text/html": [
              "<div>\n",
              "<style scoped>\n",
              "    .dataframe tbody tr th:only-of-type {\n",
              "        vertical-align: middle;\n",
              "    }\n",
              "\n",
              "    .dataframe tbody tr th {\n",
              "        vertical-align: top;\n",
              "    }\n",
              "\n",
              "    .dataframe thead th {\n",
              "        text-align: right;\n",
              "    }\n",
              "</style>\n",
              "<table border=\"1\" class=\"dataframe\">\n",
              "  <thead>\n",
              "    <tr style=\"text-align: right;\">\n",
              "      <th></th>\n",
              "      <th>Adj Close</th>\n",
              "    </tr>\n",
              "    <tr>\n",
              "      <th>Date</th>\n",
              "      <th></th>\n",
              "    </tr>\n",
              "  </thead>\n",
              "  <tbody>\n",
              "    <tr>\n",
              "      <th>2020-01-02</th>\n",
              "      <td>610.190002</td>\n",
              "    </tr>\n",
              "    <tr>\n",
              "      <th>2020-01-03</th>\n",
              "      <td>607.799988</td>\n",
              "    </tr>\n",
              "    <tr>\n",
              "      <th>2020-01-06</th>\n",
              "      <td>606.549988</td>\n",
              "    </tr>\n",
              "    <tr>\n",
              "      <th>2020-01-07</th>\n",
              "      <td>625.000000</td>\n",
              "    </tr>\n",
              "    <tr>\n",
              "      <th>2020-01-08</th>\n",
              "      <td>633.440002</td>\n",
              "    </tr>\n",
              "  </tbody>\n",
              "</table>\n",
              "</div>"
            ],
            "text/plain": [
              "             Adj Close\n",
              "Date                  \n",
              "2020-01-02  610.190002\n",
              "2020-01-03  607.799988\n",
              "2020-01-06  606.549988\n",
              "2020-01-07  625.000000\n",
              "2020-01-08  633.440002"
            ]
          },
          "metadata": {},
          "execution_count": 53
        }
      ]
    },
    {
      "cell_type": "code",
      "metadata": {
        "colab": {
          "base_uri": "https://localhost:8080/",
          "height": 237
        },
        "id": "sZhTfrT4Oge7",
        "outputId": "d99827ef-3670-492c-a586-47943f32c0fe"
      },
      "source": [
        "#Renombro mi df\n",
        "df_meli=df.copy()\n",
        "df_meli.head()"
      ],
      "id": "sZhTfrT4Oge7",
      "execution_count": 54,
      "outputs": [
        {
          "output_type": "execute_result",
          "data": {
            "text/html": [
              "<div>\n",
              "<style scoped>\n",
              "    .dataframe tbody tr th:only-of-type {\n",
              "        vertical-align: middle;\n",
              "    }\n",
              "\n",
              "    .dataframe tbody tr th {\n",
              "        vertical-align: top;\n",
              "    }\n",
              "\n",
              "    .dataframe thead th {\n",
              "        text-align: right;\n",
              "    }\n",
              "</style>\n",
              "<table border=\"1\" class=\"dataframe\">\n",
              "  <thead>\n",
              "    <tr style=\"text-align: right;\">\n",
              "      <th></th>\n",
              "      <th>Adj Close</th>\n",
              "    </tr>\n",
              "    <tr>\n",
              "      <th>Date</th>\n",
              "      <th></th>\n",
              "    </tr>\n",
              "  </thead>\n",
              "  <tbody>\n",
              "    <tr>\n",
              "      <th>2020-01-02</th>\n",
              "      <td>610.190002</td>\n",
              "    </tr>\n",
              "    <tr>\n",
              "      <th>2020-01-03</th>\n",
              "      <td>607.799988</td>\n",
              "    </tr>\n",
              "    <tr>\n",
              "      <th>2020-01-06</th>\n",
              "      <td>606.549988</td>\n",
              "    </tr>\n",
              "    <tr>\n",
              "      <th>2020-01-07</th>\n",
              "      <td>625.000000</td>\n",
              "    </tr>\n",
              "    <tr>\n",
              "      <th>2020-01-08</th>\n",
              "      <td>633.440002</td>\n",
              "    </tr>\n",
              "  </tbody>\n",
              "</table>\n",
              "</div>"
            ],
            "text/plain": [
              "             Adj Close\n",
              "Date                  \n",
              "2020-01-02  610.190002\n",
              "2020-01-03  607.799988\n",
              "2020-01-06  606.549988\n",
              "2020-01-07  625.000000\n",
              "2020-01-08  633.440002"
            ]
          },
          "metadata": {},
          "execution_count": 54
        }
      ]
    },
    {
      "cell_type": "markdown",
      "metadata": {
        "id": "kNgdekkTR8-M"
      },
      "source": [
        "##### CAPM aplicado a la acción MELI"
      ],
      "id": "kNgdekkTR8-M"
    },
    {
      "cell_type": "markdown",
      "metadata": {
        "id": "8DtHEaB8R-1p"
      },
      "source": [
        "Como vimos anteriormente el CAPM es un modelo que describe la relación entre el rendimiento  esperado de nuestros activos y el riesgo inherente al mercado, denominado riesgo sistémico. Su objetivo es estimar el rendimiento esperado de estos activos dado este  riesgo sistémico. \n",
        "En este modelo el inversor diversifica su portfolio entre activos riesgosos y activos libre de riesgo."
      ],
      "id": "8DtHEaB8R-1p"
    },
    {
      "cell_type": "markdown",
      "metadata": {
        "id": "RNyUqxSnSF-8"
      },
      "source": [
        "Para aplicar CAPM a nuestra acción de Meli es necesario definir los retorno diarios de nuestra acción y un estimador de los retornos de mercado que en este caso es el SP500."
      ],
      "id": "RNyUqxSnSF-8"
    },
    {
      "cell_type": "code",
      "metadata": {
        "colab": {
          "base_uri": "https://localhost:8080/",
          "height": 237
        },
        "id": "XQt-HpGlSGm1",
        "outputId": "81d91ffb-17e8-44e7-8ca0-1acf7819182d"
      },
      "source": [
        "##Calculamos retornos diarios.\n",
        "df_meli[\"ret_meli\"]=df_meli['Adj Close'].pct_change(1)\n",
        "df_meli.head()"
      ],
      "id": "XQt-HpGlSGm1",
      "execution_count": 55,
      "outputs": [
        {
          "output_type": "execute_result",
          "data": {
            "text/html": [
              "<div>\n",
              "<style scoped>\n",
              "    .dataframe tbody tr th:only-of-type {\n",
              "        vertical-align: middle;\n",
              "    }\n",
              "\n",
              "    .dataframe tbody tr th {\n",
              "        vertical-align: top;\n",
              "    }\n",
              "\n",
              "    .dataframe thead th {\n",
              "        text-align: right;\n",
              "    }\n",
              "</style>\n",
              "<table border=\"1\" class=\"dataframe\">\n",
              "  <thead>\n",
              "    <tr style=\"text-align: right;\">\n",
              "      <th></th>\n",
              "      <th>Adj Close</th>\n",
              "      <th>ret_meli</th>\n",
              "    </tr>\n",
              "    <tr>\n",
              "      <th>Date</th>\n",
              "      <th></th>\n",
              "      <th></th>\n",
              "    </tr>\n",
              "  </thead>\n",
              "  <tbody>\n",
              "    <tr>\n",
              "      <th>2020-01-02</th>\n",
              "      <td>610.190002</td>\n",
              "      <td>NaN</td>\n",
              "    </tr>\n",
              "    <tr>\n",
              "      <th>2020-01-03</th>\n",
              "      <td>607.799988</td>\n",
              "      <td>-0.003917</td>\n",
              "    </tr>\n",
              "    <tr>\n",
              "      <th>2020-01-06</th>\n",
              "      <td>606.549988</td>\n",
              "      <td>-0.002057</td>\n",
              "    </tr>\n",
              "    <tr>\n",
              "      <th>2020-01-07</th>\n",
              "      <td>625.000000</td>\n",
              "      <td>0.030418</td>\n",
              "    </tr>\n",
              "    <tr>\n",
              "      <th>2020-01-08</th>\n",
              "      <td>633.440002</td>\n",
              "      <td>0.013504</td>\n",
              "    </tr>\n",
              "  </tbody>\n",
              "</table>\n",
              "</div>"
            ],
            "text/plain": [
              "             Adj Close  ret_meli\n",
              "Date                            \n",
              "2020-01-02  610.190002       NaN\n",
              "2020-01-03  607.799988 -0.003917\n",
              "2020-01-06  606.549988 -0.002057\n",
              "2020-01-07  625.000000  0.030418\n",
              "2020-01-08  633.440002  0.013504"
            ]
          },
          "metadata": {},
          "execution_count": 55
        }
      ]
    },
    {
      "cell_type": "code",
      "metadata": {
        "colab": {
          "base_uri": "https://localhost:8080/"
        },
        "id": "_iKxpIMASJK1",
        "outputId": "3d17d796-cbdd-470c-cc87-9ef8677a4169"
      },
      "source": [
        "#Obtenemos valores del sp500 para agregarloa nuestro df.\n",
        "tickers = ['SPY']\n",
        "data_spy = data.get_data_yahoo(\n",
        "    tickers,\n",
        "    start=start_date, \n",
        "    end=end_date, \n",
        "    data_source='yahoo',\n",
        ")[\"Adj Close\"]\n",
        "\n",
        "df=pd.DataFrame(data_spy)\n",
        "df[\"ret_spy\"]=df['Adj Close'].pct_change(1)\n",
        "\n",
        "df=pd.concat([df_meli,df],axis=1)"
      ],
      "id": "_iKxpIMASJK1",
      "execution_count": 56,
      "outputs": [
        {
          "output_type": "stream",
          "name": "stdout",
          "text": [
            "\r[*********************100%***********************]  1 of 1 completed\n"
          ]
        }
      ]
    },
    {
      "cell_type": "code",
      "metadata": {
        "colab": {
          "base_uri": "https://localhost:8080/",
          "height": 237
        },
        "id": "_YZXeY4bSK6L",
        "outputId": "f3fda7af-f0f9-4b92-eb6f-4fbd09897112"
      },
      "source": [
        "#Limpio los nulos pq despues me generan lío en la estimación.\n",
        "df_fil=df.dropna(axis=0) \n",
        "df_fil.head()"
      ],
      "id": "_YZXeY4bSK6L",
      "execution_count": 57,
      "outputs": [
        {
          "output_type": "execute_result",
          "data": {
            "text/html": [
              "<div>\n",
              "<style scoped>\n",
              "    .dataframe tbody tr th:only-of-type {\n",
              "        vertical-align: middle;\n",
              "    }\n",
              "\n",
              "    .dataframe tbody tr th {\n",
              "        vertical-align: top;\n",
              "    }\n",
              "\n",
              "    .dataframe thead th {\n",
              "        text-align: right;\n",
              "    }\n",
              "</style>\n",
              "<table border=\"1\" class=\"dataframe\">\n",
              "  <thead>\n",
              "    <tr style=\"text-align: right;\">\n",
              "      <th></th>\n",
              "      <th>Adj Close</th>\n",
              "      <th>ret_meli</th>\n",
              "      <th>Adj Close</th>\n",
              "      <th>ret_spy</th>\n",
              "    </tr>\n",
              "    <tr>\n",
              "      <th>Date</th>\n",
              "      <th></th>\n",
              "      <th></th>\n",
              "      <th></th>\n",
              "      <th></th>\n",
              "    </tr>\n",
              "  </thead>\n",
              "  <tbody>\n",
              "    <tr>\n",
              "      <th>2020-01-03</th>\n",
              "      <td>607.799988</td>\n",
              "      <td>-0.003917</td>\n",
              "      <td>313.433380</td>\n",
              "      <td>-0.007572</td>\n",
              "    </tr>\n",
              "    <tr>\n",
              "      <th>2020-01-06</th>\n",
              "      <td>606.549988</td>\n",
              "      <td>-0.002057</td>\n",
              "      <td>314.629150</td>\n",
              "      <td>0.003815</td>\n",
              "    </tr>\n",
              "    <tr>\n",
              "      <th>2020-01-07</th>\n",
              "      <td>625.000000</td>\n",
              "      <td>0.030418</td>\n",
              "      <td>313.744446</td>\n",
              "      <td>-0.002812</td>\n",
              "    </tr>\n",
              "    <tr>\n",
              "      <th>2020-01-08</th>\n",
              "      <td>633.440002</td>\n",
              "      <td>0.013504</td>\n",
              "      <td>315.416595</td>\n",
              "      <td>0.005330</td>\n",
              "    </tr>\n",
              "    <tr>\n",
              "      <th>2020-01-09</th>\n",
              "      <td>646.429993</td>\n",
              "      <td>0.020507</td>\n",
              "      <td>317.555298</td>\n",
              "      <td>0.006781</td>\n",
              "    </tr>\n",
              "  </tbody>\n",
              "</table>\n",
              "</div>"
            ],
            "text/plain": [
              "             Adj Close  ret_meli   Adj Close   ret_spy\n",
              "Date                                                  \n",
              "2020-01-03  607.799988 -0.003917  313.433380 -0.007572\n",
              "2020-01-06  606.549988 -0.002057  314.629150  0.003815\n",
              "2020-01-07  625.000000  0.030418  313.744446 -0.002812\n",
              "2020-01-08  633.440002  0.013504  315.416595  0.005330\n",
              "2020-01-09  646.429993  0.020507  317.555298  0.006781"
            ]
          },
          "metadata": {},
          "execution_count": 57
        }
      ]
    },
    {
      "cell_type": "code",
      "metadata": {
        "colab": {
          "base_uri": "https://localhost:8080/",
          "height": 542
        },
        "id": "1FWGi8CESK-o",
        "outputId": "db0c140f-bccc-4329-d477-27b4b8b30278"
      },
      "source": [
        "#Visualizamos la relación entre el rendimiento de nuestra acción y el rendimiento del mercado\n",
        "import plotly.express as px\n",
        "fig = px.scatter(df, x=\"ret_spy\", y=\"ret_meli\")\n",
        "fig.show()"
      ],
      "id": "1FWGi8CESK-o",
      "execution_count": 58,
      "outputs": [
        {
          "output_type": "display_data",
          "data": {
            "text/html": [
              "<html>\n",
              "<head><meta charset=\"utf-8\" /></head>\n",
              "<body>\n",
              "    <div>\n",
              "            <script src=\"https://cdnjs.cloudflare.com/ajax/libs/mathjax/2.7.5/MathJax.js?config=TeX-AMS-MML_SVG\"></script><script type=\"text/javascript\">if (window.MathJax) {MathJax.Hub.Config({SVG: {font: \"STIX-Web\"}});}</script>\n",
              "                <script type=\"text/javascript\">window.PlotlyConfig = {MathJaxConfig: 'local'};</script>\n",
              "        <script src=\"https://cdn.plot.ly/plotly-latest.min.js\"></script>    \n",
              "            <div id=\"4df3f826-ecb8-4c8e-be72-38779f6d2ec7\" class=\"plotly-graph-div\" style=\"height:525px; width:100%;\"></div>\n",
              "            <script type=\"text/javascript\">\n",
              "                \n",
              "                    window.PLOTLYENV=window.PLOTLYENV || {};\n",
              "                    \n",
              "                if (document.getElementById(\"4df3f826-ecb8-4c8e-be72-38779f6d2ec7\")) {\n",
              "                    Plotly.newPlot(\n",
              "                        '4df3f826-ecb8-4c8e-be72-38779f6d2ec7',\n",
              "                        [{\"hoverlabel\": {\"namelength\": 0}, \"hovertemplate\": \"ret_spy=%{x}<br>ret_meli=%{y}\", \"legendgroup\": \"\", \"marker\": {\"color\": \"#636efa\", \"symbol\": \"circle\"}, \"mode\": \"markers\", \"name\": \"\", \"showlegend\": false, \"type\": \"scatter\", \"x\": [null, -0.007572169888942382, 0.003815069930291237, -0.0028118964461664175, 0.005329655012490386, 0.00678056393788018, -0.002877762969586195, 0.0068774108598093076, -0.001524638738248485, 0.0022599645657035428, 0.008318355237174835, 0.0031125977394299564, -0.0019583925048293205, 0.00012080979516349011, 0.0011468438582271645, -0.008892834025414631, -0.01602950314651086, 0.010479162777085271, -0.0008260590615903896, 0.0032453612056171366, -0.01815793971220292, 0.007428585423073342, 0.015241173463625968, 0.011548092311473024, 0.0033648399826622377, -0.005329652589890821, 0.007465188597122863, 0.0017332535943508365, 0.006442738253646052, -0.0010670088835537106, 0.0016021763446387727, -0.002577067235186692, 0.004781220942991382, -0.004108166184127127, -0.010298434836530368, -0.03316525507411783, -0.03030229860974265, -0.0036781331754700552, -0.04491174528287156, -0.004201267481364623, 0.043306422072397766, -0.028632675852414358, 0.04203320604457628, -0.033241715157274476, -0.01653118235644313, -0.07809442700525604, 0.051744898766326486, -0.04874849950657456, -0.09567714529162108, 0.08548626255636838, -0.1094237488616584, 0.05399223265823849, -0.05063296955059304, 0.0021249491276373877, -0.043094166098737396, -0.025568255055115396, 0.09060323911745027, 0.01497025317243672, 0.05838986338703833, -0.029785790372894083, 0.03247570219569207, -0.014905273659042373, -0.04500495484999267, 0.023075406535503662, -0.014454138354666357, 0.06716627591077473, 0.0010194529101008598, 0.03356836991382672, 0.015217170217677545, -0.009129878913308076, 0.02949268479345002, -0.021248085715938392, 0.004824353987900709, 0.02701539505391648, -0.01761791028461046, -0.030363236818329753, 0.022194493392800663, -7.178640926730484e-05, 0.013938745694043853, 0.01441855884333898, -0.0045985301707263115, 0.026178502829184547, -0.009310696396494289, -0.026473471950438365, 0.002758393124267844, 0.009239382243631411, -0.006778888079156609, 0.012066795063534919, 0.016546315004407175, 0.00020510848179067231, -0.01993166657651002, -0.01768574017049429, 0.011967233735310945, 0.004597050865436492, 0.030459598576995317, -0.010271055404393215, 0.016987916637227984, -0.006903971959498101, 0.0018990700970014096, 0.012320452394631864, 0.014879039974689645, -0.0018447449035091656, 0.004455677259647128, 0.004041811775226334, 0.00828007463792546, 0.01330831121899645, -0.0026266652457849204, 0.025629496447945765, 0.01208753664511275, -0.00745672220745397, -0.005579980054613909, -0.05764895352168009, 0.01197567677808764, 0.009335751384210278, 0.019247572798265278, -0.004153897639569859, 0.00038511929485718355, -0.005715008124830723, 0.006415109953251008, 0.004603785739507593, -0.025508676976851774, 0.010720529527947331, -0.02375151009679788, 0.014697509714909796, 0.012809610054846932, 0.007004858299187289, 0.005506929164790897, 0.01543735336569263, -0.01031386421022873, 0.007648613538405513, -0.00569294179777502, 0.010210611718537654, -0.008658964982388717, 0.012958895500635226, 0.009187345663796975, -0.003293553127514226, 0.00289917904377468, 0.008081524910485971, 0.0021275327862506632, 0.005692191455948015, -0.011931754448337717, -0.006440358424966708, 0.007292392904175271, -0.006342411591048647, 0.012298707893642957, -0.0035677768168859147, 0.007902111644877419, 0.006952038008065209, 0.003862679357922394, 0.006211069029115945, 0.006684488726614646, 0.0007179318655243794, 0.0029888187920297238, -0.008254643387368588, 0.01394233426497582, -0.0018077071750099982, 2.9518841045961253e-05, 0.003176687002703016, 0.002160401762085984, -0.004163674361192693, 0.003113584230870048, 0.003547284559181074, 0.010133243076195342, 0.003499286687352443, 0.010025683613457348, 0.0021864457705040863, 0.006459304898405183, -0.0036224209350262937, 0.009418538558768397, 0.01446403905508209, -0.03441423170208613, -0.008164785449481515, -0.027322958984224432, 0.019747339315725254, -0.017363524820045106, 0.0005090306883155371, 0.013171234512691532, 0.005052330429295315, -0.003968477245399837, -0.008795386085902801, -0.011512608719425388, -0.011129669087211247, 0.01018444963774412, -0.023190924699648896, 0.0026654107608237165, 0.0161670141520327, 0.016609278967294472, -0.005445880039138373, 0.007581881771881793, 0.006419873060781844, -0.00949432787366633, 0.01773296093290333, -0.014215741819269545, 0.017406642713560183, 0.008862384692867042, 0.00893018698650816, 0.016087685407081276, -0.006526162738368035, -0.006283450075390995, -0.001235924074502348, -0.0006041658410297357, -0.015203546701139659, 0.004005770176706669, -0.0018928263036703807, 0.0054851766320602735, 0.003395232162593187, -0.018479874212485536, -0.003447452047799504, -0.034178915371004925, 0.010163418269122815, -0.010424770353530621, 0.011208433359269687, 0.017655799908057324, 0.022349261291847444, 0.01950283165628397, -0.00022841252061123196, 0.012565647145499126, -0.0014664609786613214, 0.007428562487538315, -0.009700984363058551, 0.01384448129063065, 0.012482519132378522, -0.005378271475956153, -0.01203485902348389, 0.004210151617228375, -0.006847661523373572, 0.005994313045192934, 0.016113790687379836, -0.0015416646501935638, 0.002784981443981538, -0.004427205173664683, 0.010937346810858006, 0.0021038054934503503, -0.0002726961081152002, 0.008617673924314229, -0.002054992018173052, 0.002926212310416565, -0.008968887668651004, -0.0003270637261356679, -0.0011724813381037702, -0.004477286099206945, 0.013519424359812904, 0.0015693536761494098, 0.005591979693071902, -0.0039928916601714715, -0.0035754298504069304, -0.0016854783474672397, 0.0008986213475308258, 0.003890389997261101, 0.008590846179433065, -0.0019078214469236965, 0.0014269021663610992], \"xaxis\": \"x\", \"y\": [null, -0.0039168367866974085, -0.0020565976062930647, 0.03041795825297866, 0.01350400390624995, 0.02050705699720412, 0.03565736128294028, 0.03229371414818094, -0.056475140559262615, 0.012130558154315407, 0.00981854252503811, 0.009828028054228222, -0.02161927398083685, 0.007122683663247642, 0.0002714207481788744, -0.004145749369318108, -0.01017292616250498, 0.03190283213362055, -0.009055586935118098, 0.0036942788657015058, -0.012040318418186535, 0.022594239017722506, 0.047022044604873026, -0.04792488546772378, -0.007161497785190818, -0.03722798877608047, 0.018900282604801477, -0.010042060598417724, 0.07396951070901836, 0.026735477375381844, 0.02293568785827449, -0.008925045198616477, 0.019616964497053857, -0.0002019056209143777, -0.009413069145475794, -0.08447519803651982, -0.06453244521531643, 0.003253948877728119, -0.050707995272467055, 0.0267167154947916, 0.04233552718924227, -0.02706702166186803, 0.04626002483885627, -0.039395376294906526, -0.02129386986878623, -0.1218369008272836, 0.11012895831028846, -0.08070849154517357, -0.08846595964355963, 0.0671115586482196, -0.1276297761869577, 0.05000854821303169, -0.0785016789052505, 0.025123261194272217, -0.022975846060731886, 0.010532567042579322, 0.07068722065979727, -0.015000012456154344, 0.01431680047548367, -0.037033264509407915, 0.003945476312577023, 0.03230572746369842, -0.0844078582172445, 0.0347163207100456, -0.01814763105212236, 0.11373688538862248, 0.0385450827937619, 0.03486981887070506, -0.01970582849839153, 0.018226766743807632, 0.03502766027854509, 0.04736485212642383, 0.04089087850847939, -0.024824176898048278, 0.0069288948091004166, -0.046971626018157187, 0.04825766973825929, -0.023858191683803653, -0.02631624118076825, 0.03185875426616791, 0.015386716499569797, 0.006482449001318447, -0.03139001640214756, 0.03772002090326709, 0.0031047774180412713, 0.02229169819412724, 0.19637968557664776, 0.0392257355924317, 0.01619128997145647, -0.004346650301830346, -0.024349910835582578, 0.008463502925617261, 0.011359254890440651, -0.0028561911337068313, 0.025172582508105945, 0.014347594201936653, 0.027730873711619086, -0.01641894414654277, 0.03264962363115531, -0.008486782124492942, -0.015991903441278876, 0.007711652745265862, 0.02963152299602667, -0.008911862543725668, 0.018588287986607055, -0.007269385833443609, -0.015852035086775906, 0.03207181365802869, -0.009308718572892616, 0.00881401794626635, 0.023487225503640685, -0.03583755638032726, 0.04845613178453956, 0.030755337895293167, 0.02841992398877169, -0.01529058273267625, -0.010376883438784179, 0.029092246250835174, 0.0331388046996095, -0.007160692252532352, -0.024266203173535894, 0.018526460832602565, 0.0017808412916930916, 0.007871219123283035, 0.00503655307783446, -0.00875458241965632, 0.011543860749349433, 0.007597994673796071, 0.011356217446777617, 0.00770423120692354, 0.00241380513008016, 0.018064714361530898, -0.05199693737059574, -0.00951145768095607, -0.0010281401920357869, -0.015448277317697046, 0.008467286516361527, 0.06228759610607937, -0.0057669556715683745, 0.000480901190140548, -0.03638453028035615, 0.0068105492462005035, 0.08235669923471378, -0.028847842478609942, 0.04554809045856323, 0.018943578744170964, 0.015458234868792387, 0.042681083573477, 0.001117206425956585, 0.04388668413256536, -0.0044799791530654165, -0.021303969856848903, -0.05834310227111705, -0.021613298433457717, 0.010572635502917427, 0.04084958582032394, -0.0005272956191418876, 0.028907730106836338, 0.015774849024074555, 0.0031522508582058073, 0.0048250219735632704, -0.013149486078293693, 0.008159443960135127, 0.009826031495629994, -0.006593093373417069, -0.01194972461822974, -0.018728150110512543, -0.008745490185967486, 0.03480266400949583, -0.010998502158938273, -0.0910063625666816, -0.0034402736139278467, -0.05616678848759027, 0.03404294790968043, -0.015463309923457569, -0.007694607864405678, 0.0036690343802985304, -0.0065395692093223046, -0.026204128671418858, -0.02278163069385597, 0.018272685505709152, 0.01395706942453967, 0.04839966891115832, -0.03771072682099885, 0.013389342007479987, 0.02645389655047503, 0.029595154153425174, -0.009657735817586777, -0.00036016756415468976, 0.03035620606797096, -0.03228612877611736, 0.01042313329384692, 0.0007427778121655848, 0.04912083181266014, 0.01342357652156112, 0.03401498734818542, 0.013260130211457, 0.043939990907104765, -0.02400788839824719, 0.015492099970140227, 0.010724300278466936, 0.009965583772477471, 0.03863555427363474, -0.02589117797033924, -0.0037025229004574722, 0.013783367815488168, -0.02341184914433292, 0.0008038061430679644, -0.006924142541867018, 0.021506148276533965, -0.06681880808750318, 0.0014908252960283974, 0.01489479509955749, 0.06622525073001606, 0.09281070226269272, 0.0334260223197298, -0.10441092443291722, -0.07867165422559486, 0.06399513801672252, -0.006508283158883854, 0.0043673103238328626, -0.011792614955418168, 0.011272554313889183, 0.013283958801212803, 0.039610409275302905, 0.03407278679306702, 0.024545007047736656, -0.008603284312488912, 0.02854201768835507, 0.02233920714326887, 0.026363889263276707, -0.020388406050855234, 0.0007885803299827465, 0.024611573505950002, -0.0018969974507727638, 0.011699116879631433, 0.02556488316896277, -0.04910015940575141, 0.03448005201418325, 0.010764246528085941, 0.007114303651867271, 0.03147592165700441, 0.00032956987839560803, 0.006259179730569997, 0.026006145114273682, -0.014962196149439833, 0.02031933735539604, -0.036008060745762016, 0.01225739401765491, -0.0158298294418161, 0.005872394214947674, 0.023573461091541903], \"yaxis\": \"y\"}],\n",
              "                        {\"legend\": {\"tracegroupgap\": 0}, \"margin\": {\"t\": 60}, \"template\": {\"data\": {\"bar\": [{\"error_x\": {\"color\": \"#2a3f5f\"}, \"error_y\": {\"color\": \"#2a3f5f\"}, \"marker\": {\"line\": {\"color\": \"#E5ECF6\", \"width\": 0.5}}, \"type\": \"bar\"}], \"barpolar\": [{\"marker\": {\"line\": {\"color\": \"#E5ECF6\", \"width\": 0.5}}, \"type\": \"barpolar\"}], \"carpet\": [{\"aaxis\": {\"endlinecolor\": \"#2a3f5f\", \"gridcolor\": \"white\", \"linecolor\": \"white\", \"minorgridcolor\": \"white\", \"startlinecolor\": \"#2a3f5f\"}, \"baxis\": {\"endlinecolor\": \"#2a3f5f\", \"gridcolor\": \"white\", \"linecolor\": \"white\", \"minorgridcolor\": \"white\", \"startlinecolor\": \"#2a3f5f\"}, \"type\": \"carpet\"}], \"choropleth\": [{\"colorbar\": {\"outlinewidth\": 0, \"ticks\": \"\"}, \"type\": \"choropleth\"}], \"contour\": [{\"colorbar\": {\"outlinewidth\": 0, \"ticks\": \"\"}, \"colorscale\": [[0.0, \"#0d0887\"], [0.1111111111111111, \"#46039f\"], [0.2222222222222222, \"#7201a8\"], [0.3333333333333333, \"#9c179e\"], [0.4444444444444444, \"#bd3786\"], [0.5555555555555556, \"#d8576b\"], [0.6666666666666666, \"#ed7953\"], [0.7777777777777778, \"#fb9f3a\"], [0.8888888888888888, \"#fdca26\"], [1.0, \"#f0f921\"]], \"type\": \"contour\"}], \"contourcarpet\": [{\"colorbar\": {\"outlinewidth\": 0, \"ticks\": \"\"}, \"type\": \"contourcarpet\"}], \"heatmap\": [{\"colorbar\": {\"outlinewidth\": 0, \"ticks\": \"\"}, \"colorscale\": [[0.0, \"#0d0887\"], [0.1111111111111111, \"#46039f\"], [0.2222222222222222, \"#7201a8\"], [0.3333333333333333, \"#9c179e\"], [0.4444444444444444, \"#bd3786\"], [0.5555555555555556, \"#d8576b\"], [0.6666666666666666, \"#ed7953\"], [0.7777777777777778, \"#fb9f3a\"], [0.8888888888888888, \"#fdca26\"], [1.0, \"#f0f921\"]], \"type\": \"heatmap\"}], \"heatmapgl\": [{\"colorbar\": {\"outlinewidth\": 0, \"ticks\": \"\"}, \"colorscale\": [[0.0, \"#0d0887\"], [0.1111111111111111, \"#46039f\"], [0.2222222222222222, \"#7201a8\"], [0.3333333333333333, \"#9c179e\"], [0.4444444444444444, \"#bd3786\"], [0.5555555555555556, \"#d8576b\"], [0.6666666666666666, \"#ed7953\"], [0.7777777777777778, \"#fb9f3a\"], [0.8888888888888888, \"#fdca26\"], [1.0, \"#f0f921\"]], \"type\": \"heatmapgl\"}], \"histogram\": [{\"marker\": {\"colorbar\": {\"outlinewidth\": 0, \"ticks\": \"\"}}, \"type\": \"histogram\"}], \"histogram2d\": [{\"colorbar\": {\"outlinewidth\": 0, \"ticks\": \"\"}, \"colorscale\": [[0.0, \"#0d0887\"], [0.1111111111111111, \"#46039f\"], [0.2222222222222222, \"#7201a8\"], [0.3333333333333333, \"#9c179e\"], [0.4444444444444444, \"#bd3786\"], [0.5555555555555556, \"#d8576b\"], [0.6666666666666666, \"#ed7953\"], [0.7777777777777778, \"#fb9f3a\"], [0.8888888888888888, \"#fdca26\"], [1.0, \"#f0f921\"]], \"type\": \"histogram2d\"}], \"histogram2dcontour\": [{\"colorbar\": {\"outlinewidth\": 0, \"ticks\": \"\"}, \"colorscale\": [[0.0, \"#0d0887\"], [0.1111111111111111, \"#46039f\"], [0.2222222222222222, \"#7201a8\"], [0.3333333333333333, \"#9c179e\"], [0.4444444444444444, \"#bd3786\"], [0.5555555555555556, \"#d8576b\"], [0.6666666666666666, \"#ed7953\"], [0.7777777777777778, \"#fb9f3a\"], [0.8888888888888888, \"#fdca26\"], [1.0, \"#f0f921\"]], \"type\": \"histogram2dcontour\"}], \"mesh3d\": [{\"colorbar\": {\"outlinewidth\": 0, \"ticks\": \"\"}, \"type\": \"mesh3d\"}], \"parcoords\": [{\"line\": {\"colorbar\": {\"outlinewidth\": 0, \"ticks\": \"\"}}, \"type\": \"parcoords\"}], \"pie\": [{\"automargin\": true, \"type\": \"pie\"}], \"scatter\": [{\"marker\": {\"colorbar\": {\"outlinewidth\": 0, \"ticks\": \"\"}}, \"type\": \"scatter\"}], \"scatter3d\": [{\"line\": {\"colorbar\": {\"outlinewidth\": 0, \"ticks\": \"\"}}, \"marker\": {\"colorbar\": {\"outlinewidth\": 0, \"ticks\": \"\"}}, \"type\": \"scatter3d\"}], \"scattercarpet\": [{\"marker\": {\"colorbar\": {\"outlinewidth\": 0, \"ticks\": \"\"}}, \"type\": \"scattercarpet\"}], \"scattergeo\": [{\"marker\": {\"colorbar\": {\"outlinewidth\": 0, \"ticks\": \"\"}}, \"type\": \"scattergeo\"}], \"scattergl\": [{\"marker\": {\"colorbar\": {\"outlinewidth\": 0, \"ticks\": \"\"}}, \"type\": \"scattergl\"}], \"scattermapbox\": [{\"marker\": {\"colorbar\": {\"outlinewidth\": 0, \"ticks\": \"\"}}, \"type\": \"scattermapbox\"}], \"scatterpolar\": [{\"marker\": {\"colorbar\": {\"outlinewidth\": 0, \"ticks\": \"\"}}, \"type\": \"scatterpolar\"}], \"scatterpolargl\": [{\"marker\": {\"colorbar\": {\"outlinewidth\": 0, \"ticks\": \"\"}}, \"type\": \"scatterpolargl\"}], \"scatterternary\": [{\"marker\": {\"colorbar\": {\"outlinewidth\": 0, \"ticks\": \"\"}}, \"type\": \"scatterternary\"}], \"surface\": [{\"colorbar\": {\"outlinewidth\": 0, \"ticks\": \"\"}, \"colorscale\": [[0.0, \"#0d0887\"], [0.1111111111111111, \"#46039f\"], [0.2222222222222222, \"#7201a8\"], [0.3333333333333333, \"#9c179e\"], [0.4444444444444444, \"#bd3786\"], [0.5555555555555556, \"#d8576b\"], [0.6666666666666666, \"#ed7953\"], [0.7777777777777778, \"#fb9f3a\"], [0.8888888888888888, \"#fdca26\"], [1.0, \"#f0f921\"]], \"type\": \"surface\"}], \"table\": [{\"cells\": {\"fill\": {\"color\": \"#EBF0F8\"}, \"line\": {\"color\": \"white\"}}, \"header\": {\"fill\": {\"color\": \"#C8D4E3\"}, \"line\": {\"color\": \"white\"}}, \"type\": \"table\"}]}, \"layout\": {\"annotationdefaults\": {\"arrowcolor\": \"#2a3f5f\", \"arrowhead\": 0, \"arrowwidth\": 1}, \"coloraxis\": {\"colorbar\": {\"outlinewidth\": 0, \"ticks\": \"\"}}, \"colorscale\": {\"diverging\": [[0, \"#8e0152\"], [0.1, \"#c51b7d\"], [0.2, \"#de77ae\"], [0.3, \"#f1b6da\"], [0.4, \"#fde0ef\"], [0.5, \"#f7f7f7\"], [0.6, \"#e6f5d0\"], [0.7, \"#b8e186\"], [0.8, \"#7fbc41\"], [0.9, \"#4d9221\"], [1, \"#276419\"]], \"sequential\": [[0.0, \"#0d0887\"], [0.1111111111111111, \"#46039f\"], [0.2222222222222222, \"#7201a8\"], [0.3333333333333333, \"#9c179e\"], [0.4444444444444444, \"#bd3786\"], [0.5555555555555556, \"#d8576b\"], [0.6666666666666666, \"#ed7953\"], [0.7777777777777778, \"#fb9f3a\"], [0.8888888888888888, \"#fdca26\"], [1.0, \"#f0f921\"]], \"sequentialminus\": [[0.0, \"#0d0887\"], [0.1111111111111111, \"#46039f\"], [0.2222222222222222, \"#7201a8\"], [0.3333333333333333, \"#9c179e\"], [0.4444444444444444, \"#bd3786\"], [0.5555555555555556, \"#d8576b\"], [0.6666666666666666, \"#ed7953\"], [0.7777777777777778, \"#fb9f3a\"], [0.8888888888888888, \"#fdca26\"], [1.0, \"#f0f921\"]]}, \"colorway\": [\"#636efa\", \"#EF553B\", \"#00cc96\", \"#ab63fa\", \"#FFA15A\", \"#19d3f3\", \"#FF6692\", \"#B6E880\", \"#FF97FF\", \"#FECB52\"], \"font\": {\"color\": \"#2a3f5f\"}, \"geo\": {\"bgcolor\": \"white\", \"lakecolor\": \"white\", \"landcolor\": \"#E5ECF6\", \"showlakes\": true, \"showland\": true, \"subunitcolor\": \"white\"}, \"hoverlabel\": {\"align\": \"left\"}, \"hovermode\": \"closest\", \"mapbox\": {\"style\": \"light\"}, \"paper_bgcolor\": \"white\", \"plot_bgcolor\": \"#E5ECF6\", \"polar\": {\"angularaxis\": {\"gridcolor\": \"white\", \"linecolor\": \"white\", \"ticks\": \"\"}, \"bgcolor\": \"#E5ECF6\", \"radialaxis\": {\"gridcolor\": \"white\", \"linecolor\": \"white\", \"ticks\": \"\"}}, \"scene\": {\"xaxis\": {\"backgroundcolor\": \"#E5ECF6\", \"gridcolor\": \"white\", \"gridwidth\": 2, \"linecolor\": \"white\", \"showbackground\": true, \"ticks\": \"\", \"zerolinecolor\": \"white\"}, \"yaxis\": {\"backgroundcolor\": \"#E5ECF6\", \"gridcolor\": \"white\", \"gridwidth\": 2, \"linecolor\": \"white\", \"showbackground\": true, \"ticks\": \"\", \"zerolinecolor\": \"white\"}, \"zaxis\": {\"backgroundcolor\": \"#E5ECF6\", \"gridcolor\": \"white\", \"gridwidth\": 2, \"linecolor\": \"white\", \"showbackground\": true, \"ticks\": \"\", \"zerolinecolor\": \"white\"}}, \"shapedefaults\": {\"line\": {\"color\": \"#2a3f5f\"}}, \"ternary\": {\"aaxis\": {\"gridcolor\": \"white\", \"linecolor\": \"white\", \"ticks\": \"\"}, \"baxis\": {\"gridcolor\": \"white\", \"linecolor\": \"white\", \"ticks\": \"\"}, \"bgcolor\": \"#E5ECF6\", \"caxis\": {\"gridcolor\": \"white\", \"linecolor\": \"white\", \"ticks\": \"\"}}, \"title\": {\"x\": 0.05}, \"xaxis\": {\"automargin\": true, \"gridcolor\": \"white\", \"linecolor\": \"white\", \"ticks\": \"\", \"title\": {\"standoff\": 15}, \"zerolinecolor\": \"white\", \"zerolinewidth\": 2}, \"yaxis\": {\"automargin\": true, \"gridcolor\": \"white\", \"linecolor\": \"white\", \"ticks\": \"\", \"title\": {\"standoff\": 15}, \"zerolinecolor\": \"white\", \"zerolinewidth\": 2}}}, \"xaxis\": {\"anchor\": \"y\", \"domain\": [0.0, 1.0], \"title\": {\"text\": \"ret_spy\"}}, \"yaxis\": {\"anchor\": \"x\", \"domain\": [0.0, 1.0], \"title\": {\"text\": \"ret_meli\"}}},\n",
              "                        {\"responsive\": true}\n",
              "                    ).then(function(){\n",
              "                            \n",
              "var gd = document.getElementById('4df3f826-ecb8-4c8e-be72-38779f6d2ec7');\n",
              "var x = new MutationObserver(function (mutations, observer) {{\n",
              "        var display = window.getComputedStyle(gd).display;\n",
              "        if (!display || display === 'none') {{\n",
              "            console.log([gd, 'removed!']);\n",
              "            Plotly.purge(gd);\n",
              "            observer.disconnect();\n",
              "        }}\n",
              "}});\n",
              "\n",
              "// Listen for the removal of the full notebook cells\n",
              "var notebookContainer = gd.closest('#notebook-container');\n",
              "if (notebookContainer) {{\n",
              "    x.observe(notebookContainer, {childList: true});\n",
              "}}\n",
              "\n",
              "// Listen for the clearing of the current output cell\n",
              "var outputEl = gd.closest('.output');\n",
              "if (outputEl) {{\n",
              "    x.observe(outputEl, {childList: true});\n",
              "}}\n",
              "\n",
              "                        })\n",
              "                };\n",
              "                \n",
              "            </script>\n",
              "        </div>\n",
              "</body>\n",
              "</html>"
            ]
          },
          "metadata": {}
        }
      ]
    },
    {
      "cell_type": "markdown",
      "metadata": {
        "id": "VopBBMtfSOeG"
      },
      "source": [
        "A primera vista podemos observar que hay una relación directa entre los rendimientos diarios analizados."
      ],
      "id": "VopBBMtfSOeG"
    },
    {
      "cell_type": "markdown",
      "metadata": {
        "id": "SGRGDCihSQXB"
      },
      "source": [
        "Calculamos alfa y beta para Meli:"
      ],
      "id": "SGRGDCihSQXB"
    },
    {
      "cell_type": "code",
      "metadata": {
        "colab": {
          "base_uri": "https://localhost:8080/"
        },
        "id": "KhnkmFpNST0J",
        "outputId": "d9c61e52-01d0-4b17-8f50-177d8bb688fe"
      },
      "source": [
        "beta, alpha = np.polyfit(df_fil[\"ret_spy\"], df_fil[\"ret_meli\"],1)\n",
        "print(' El parametro beta para {} es = {} '.format('MELI',beta))\n",
        "print(' El parametro alfa para {} es = {} '.format('MELI',alpha))"
      ],
      "id": "KhnkmFpNST0J",
      "execution_count": 59,
      "outputs": [
        {
          "output_type": "stream",
          "name": "stdout",
          "text": [
            " El parametro beta para MELI es = 1.0442352276106408 \n",
            " El parametro alfa para MELI es = 0.003918557621838568 \n"
          ]
        }
      ]
    },
    {
      "cell_type": "markdown",
      "metadata": {
        "id": "2lRmfuD9SWLA"
      },
      "source": [
        "Ahora trabajamos sobre los retornos del sp500."
      ],
      "id": "2lRmfuD9SWLA"
    },
    {
      "cell_type": "code",
      "metadata": {
        "colab": {
          "base_uri": "https://localhost:8080/"
        },
        "id": "Q3KfjTqjSX3F",
        "outputId": "be76b427-938e-40ca-e29e-e67eb8243632"
      },
      "source": [
        "#Promediamos sus rendimientos diarios:\n",
        "spy_mean=df['ret_spy'].mean()\n",
        "#Anualizamos este resultado:\n",
        "rm=spy_mean*252\n",
        "rm"
      ],
      "id": "Q3KfjTqjSX3F",
      "execution_count": 60,
      "outputs": [
        {
          "output_type": "execute_result",
          "data": {
            "text/plain": [
              "0.21109690594814162"
            ]
          },
          "metadata": {},
          "execution_count": 60
        }
      ]
    },
    {
      "cell_type": "code",
      "metadata": {
        "colab": {
          "base_uri": "https://localhost:8080/"
        },
        "id": "ZjfW-rvoSZeW",
        "outputId": "0c69c2b0-250f-4e4f-8b6e-9271f49d3977"
      },
      "source": [
        "#Aplicamos formula\n",
        "ER_meli=alpha + beta*rm\n",
        "ER_meli"
      ],
      "id": "ZjfW-rvoSZeW",
      "execution_count": 61,
      "outputs": [
        {
          "output_type": "execute_result",
          "data": {
            "text/plain": [
              "0.22435338325249826"
            ]
          },
          "metadata": {},
          "execution_count": 61
        }
      ]
    },
    {
      "cell_type": "markdown",
      "metadata": {
        "id": "D2T-xyxgSccl"
      },
      "source": [
        "Esto quiere decir que el modelo CAPM aplicado a nuestra acción de Meli, durante el período de tiempo analizado, indica que su rentabilidad esperada es del 22%."
      ],
      "id": "D2T-xyxgSccl"
    },
    {
      "cell_type": "markdown",
      "metadata": {
        "id": "5515Ns09mKWe"
      },
      "source": [
        "Utilizamos este método para las acciones principales del Nasdaq.\n",
        "Nuestro criterio será analizar las diez acciones con mayor capitalización de mercado."
      ],
      "id": "5515Ns09mKWe"
    },
    {
      "cell_type": "code",
      "metadata": {
        "colab": {
          "base_uri": "https://localhost:8080/",
          "height": 486
        },
        "id": "jlhOaCSb_cnD",
        "outputId": "c6ff265e-f42b-4190-f696-44b44bade106"
      },
      "source": [
        "#Descargo info de acciones que componen el nasdaq y los transformo en df.\n",
        "df_nasdaq=pd.read_csv('https://docs.google.com/spreadsheets/d/e/2PACX-1vQ4GS94-nvAEEpweAwIhzj_t7Q_j2MicJ9-oDROQehHiFQaxgN1Xqj0nrtkZWM7-U1RuwhrJlSChj3x/pub?output=csv')\n",
        "df_nasdaq.head()\n"
      ],
      "id": "jlhOaCSb_cnD",
      "execution_count": 62,
      "outputs": [
        {
          "output_type": "execute_result",
          "data": {
            "text/html": [
              "<div>\n",
              "<style scoped>\n",
              "    .dataframe tbody tr th:only-of-type {\n",
              "        vertical-align: middle;\n",
              "    }\n",
              "\n",
              "    .dataframe tbody tr th {\n",
              "        vertical-align: top;\n",
              "    }\n",
              "\n",
              "    .dataframe thead th {\n",
              "        text-align: right;\n",
              "    }\n",
              "</style>\n",
              "<table border=\"1\" class=\"dataframe\">\n",
              "  <thead>\n",
              "    <tr style=\"text-align: right;\">\n",
              "      <th></th>\n",
              "      <th>Symbol</th>\n",
              "      <th>Name</th>\n",
              "      <th>Last Sale</th>\n",
              "      <th>Net Change</th>\n",
              "      <th>% Change</th>\n",
              "      <th>Market Cap</th>\n",
              "      <th>Country</th>\n",
              "      <th>IPO Year</th>\n",
              "      <th>Volume</th>\n",
              "      <th>Sector</th>\n",
              "      <th>Industry</th>\n",
              "    </tr>\n",
              "  </thead>\n",
              "  <tbody>\n",
              "    <tr>\n",
              "      <th>0</th>\n",
              "      <td>AACG</td>\n",
              "      <td>ATA Creativity Global American Depositary Shares</td>\n",
              "      <td>$2.88</td>\n",
              "      <td>-0.19</td>\n",
              "      <td>-6189%</td>\n",
              "      <td>9.129942e+07</td>\n",
              "      <td>China</td>\n",
              "      <td>NaN</td>\n",
              "      <td>123541</td>\n",
              "      <td>Miscellaneous</td>\n",
              "      <td>Service to the Health Industry</td>\n",
              "    </tr>\n",
              "    <tr>\n",
              "      <th>1</th>\n",
              "      <td>AAL</td>\n",
              "      <td>American Airlines Group Inc. Common Stock</td>\n",
              "      <td>$19.95</td>\n",
              "      <td>-0.11</td>\n",
              "      <td>-548%</td>\n",
              "      <td>1.291678e+10</td>\n",
              "      <td>United States</td>\n",
              "      <td>NaN</td>\n",
              "      <td>36473865</td>\n",
              "      <td>Transportation</td>\n",
              "      <td>Air Freight/Delivery Services</td>\n",
              "    </tr>\n",
              "    <tr>\n",
              "      <th>2</th>\n",
              "      <td>AAME</td>\n",
              "      <td>Atlantic American Corporation Common Stock</td>\n",
              "      <td>$4.25</td>\n",
              "      <td>0.04</td>\n",
              "      <td>0.95%</td>\n",
              "      <td>8.676707e+07</td>\n",
              "      <td>United States</td>\n",
              "      <td>NaN</td>\n",
              "      <td>30376</td>\n",
              "      <td>Finance</td>\n",
              "      <td>Life Insurance</td>\n",
              "    </tr>\n",
              "    <tr>\n",
              "      <th>3</th>\n",
              "      <td>AAOI</td>\n",
              "      <td>Applied Optoelectronics Inc. Common Stock</td>\n",
              "      <td>$7.62</td>\n",
              "      <td>-0.02</td>\n",
              "      <td>-262%</td>\n",
              "      <td>2.046891e+08</td>\n",
              "      <td>United States</td>\n",
              "      <td>2013.0</td>\n",
              "      <td>671346</td>\n",
              "      <td>Technology</td>\n",
              "      <td>Semiconductors</td>\n",
              "    </tr>\n",
              "    <tr>\n",
              "      <th>4</th>\n",
              "      <td>AAON</td>\n",
              "      <td>AAON Inc. Common Stock</td>\n",
              "      <td>$62.98</td>\n",
              "      <td>1.14</td>\n",
              "      <td>1843%</td>\n",
              "      <td>3.302367e+09</td>\n",
              "      <td>United States</td>\n",
              "      <td>NaN</td>\n",
              "      <td>193697</td>\n",
              "      <td>Capital Goods</td>\n",
              "      <td>Industrial Machinery/Components</td>\n",
              "    </tr>\n",
              "  </tbody>\n",
              "</table>\n",
              "</div>"
            ],
            "text/plain": [
              "  Symbol  ...                         Industry\n",
              "0   AACG  ...   Service to the Health Industry\n",
              "1    AAL  ...    Air Freight/Delivery Services\n",
              "2   AAME  ...                   Life Insurance\n",
              "3   AAOI  ...                   Semiconductors\n",
              "4   AAON  ...  Industrial Machinery/Components\n",
              "\n",
              "[5 rows x 11 columns]"
            ]
          },
          "metadata": {},
          "execution_count": 62
        }
      ]
    },
    {
      "cell_type": "code",
      "metadata": {
        "id": "wbgJHyCE_Pg7"
      },
      "source": [
        "#Ordeno y me quedo con diez acciones con valores de mark cap mas altos.\n",
        "df_nasd_mc = df_nasdaq.sort_values('Market Cap',ascending=False)\n",
        "df_nasdaq= df_nasd_mc[:10]\n"
      ],
      "id": "wbgJHyCE_Pg7",
      "execution_count": 63,
      "outputs": []
    },
    {
      "cell_type": "code",
      "metadata": {
        "colab": {
          "base_uri": "https://localhost:8080/"
        },
        "id": "xRusrWx8GV61",
        "outputId": "0f50c7bb-e0da-4f37-f8e1-e9a0a1ee0022"
      },
      "source": [
        "#Obtengo la lista de tickers a analizar\n",
        "nasd_tickers=df_nasdaq['Symbol'].tolist()\n",
        "nasd_tickers\n"
      ],
      "id": "xRusrWx8GV61",
      "execution_count": 64,
      "outputs": [
        {
          "output_type": "execute_result",
          "data": {
            "text/plain": [
              "['AAPL', 'MSFT', 'GOOG', 'GOOGL', 'AMZN', 'FB', 'TSLA', 'NVDA', 'PYPL', 'ASML']"
            ]
          },
          "metadata": {},
          "execution_count": 64
        }
      ]
    },
    {
      "cell_type": "code",
      "metadata": {
        "id": "SyoW11epmpri"
      },
      "source": [
        "#Agrego a mi  lista el ticker deñ indice nasdq\n",
        "nasd_tickers.append('^IXIC')"
      ],
      "id": "SyoW11epmpri",
      "execution_count": 65,
      "outputs": []
    },
    {
      "cell_type": "code",
      "metadata": {
        "colab": {
          "base_uri": "https://localhost:8080/",
          "height": 361
        },
        "id": "GZueVemYW1Ay",
        "outputId": "9288749b-9cf7-48b0-ca70-a4789c81411a"
      },
      "source": [
        "#Creamos un data frame con el cierre ajustado de nuestras compañías.\n",
        "df_tickers = data.DataReader(\n",
        "    nasd_tickers,\n",
        "    start=start_date, \n",
        "    end=end_date, \n",
        "    data_source='yahoo',\n",
        ")['Adj Close']\n",
        "\n",
        "df_tickers.head()"
      ],
      "id": "GZueVemYW1Ay",
      "execution_count": 66,
      "outputs": [
        {
          "output_type": "stream",
          "name": "stdout",
          "text": [
            "[*********************100%***********************]  11 of 11 completed\n"
          ]
        },
        {
          "output_type": "execute_result",
          "data": {
            "text/html": [
              "<div>\n",
              "<style scoped>\n",
              "    .dataframe tbody tr th:only-of-type {\n",
              "        vertical-align: middle;\n",
              "    }\n",
              "\n",
              "    .dataframe tbody tr th {\n",
              "        vertical-align: top;\n",
              "    }\n",
              "\n",
              "    .dataframe thead th {\n",
              "        text-align: right;\n",
              "    }\n",
              "</style>\n",
              "<table border=\"1\" class=\"dataframe\">\n",
              "  <thead>\n",
              "    <tr style=\"text-align: right;\">\n",
              "      <th></th>\n",
              "      <th>AAPL</th>\n",
              "      <th>AMZN</th>\n",
              "      <th>ASML</th>\n",
              "      <th>FB</th>\n",
              "      <th>GOOG</th>\n",
              "      <th>GOOGL</th>\n",
              "      <th>MSFT</th>\n",
              "      <th>NVDA</th>\n",
              "      <th>PYPL</th>\n",
              "      <th>TSLA</th>\n",
              "      <th>^IXIC</th>\n",
              "    </tr>\n",
              "    <tr>\n",
              "      <th>Date</th>\n",
              "      <th></th>\n",
              "      <th></th>\n",
              "      <th></th>\n",
              "      <th></th>\n",
              "      <th></th>\n",
              "      <th></th>\n",
              "      <th></th>\n",
              "      <th></th>\n",
              "      <th></th>\n",
              "      <th></th>\n",
              "      <th></th>\n",
              "    </tr>\n",
              "  </thead>\n",
              "  <tbody>\n",
              "    <tr>\n",
              "      <th>2020-01-02</th>\n",
              "      <td>74.096451</td>\n",
              "      <td>1898.010010</td>\n",
              "      <td>299.266449</td>\n",
              "      <td>209.779999</td>\n",
              "      <td>1367.369995</td>\n",
              "      <td>1368.680054</td>\n",
              "      <td>157.903458</td>\n",
              "      <td>59.833767</td>\n",
              "      <td>110.750000</td>\n",
              "      <td>86.052002</td>\n",
              "      <td>9092.190430</td>\n",
              "    </tr>\n",
              "    <tr>\n",
              "      <th>2020-01-03</th>\n",
              "      <td>73.376083</td>\n",
              "      <td>1874.969971</td>\n",
              "      <td>294.443909</td>\n",
              "      <td>208.669998</td>\n",
              "      <td>1360.660034</td>\n",
              "      <td>1361.520020</td>\n",
              "      <td>155.937317</td>\n",
              "      <td>58.876064</td>\n",
              "      <td>108.760002</td>\n",
              "      <td>88.601997</td>\n",
              "      <td>9020.769531</td>\n",
              "    </tr>\n",
              "    <tr>\n",
              "      <th>2020-01-06</th>\n",
              "      <td>73.960770</td>\n",
              "      <td>1902.880005</td>\n",
              "      <td>292.101776</td>\n",
              "      <td>212.600006</td>\n",
              "      <td>1394.209961</td>\n",
              "      <td>1397.810059</td>\n",
              "      <td>156.340363</td>\n",
              "      <td>59.122974</td>\n",
              "      <td>110.169998</td>\n",
              "      <td>90.307999</td>\n",
              "      <td>9071.469727</td>\n",
              "    </tr>\n",
              "    <tr>\n",
              "      <th>2020-01-07</th>\n",
              "      <td>73.612923</td>\n",
              "      <td>1906.859985</td>\n",
              "      <td>295.273987</td>\n",
              "      <td>213.059998</td>\n",
              "      <td>1393.339966</td>\n",
              "      <td>1395.109985</td>\n",
              "      <td>154.914886</td>\n",
              "      <td>59.838757</td>\n",
              "      <td>109.669998</td>\n",
              "      <td>93.811996</td>\n",
              "      <td>9068.580078</td>\n",
              "    </tr>\n",
              "    <tr>\n",
              "      <th>2020-01-08</th>\n",
              "      <td>74.797089</td>\n",
              "      <td>1891.969971</td>\n",
              "      <td>298.337524</td>\n",
              "      <td>215.220001</td>\n",
              "      <td>1404.319946</td>\n",
              "      <td>1405.040039</td>\n",
              "      <td>157.382431</td>\n",
              "      <td>59.950993</td>\n",
              "      <td>111.820000</td>\n",
              "      <td>98.428001</td>\n",
              "      <td>9129.240234</td>\n",
              "    </tr>\n",
              "  </tbody>\n",
              "</table>\n",
              "</div>"
            ],
            "text/plain": [
              "                 AAPL         AMZN  ...       TSLA        ^IXIC\n",
              "Date                                ...                        \n",
              "2020-01-02  74.096451  1898.010010  ...  86.052002  9092.190430\n",
              "2020-01-03  73.376083  1874.969971  ...  88.601997  9020.769531\n",
              "2020-01-06  73.960770  1902.880005  ...  90.307999  9071.469727\n",
              "2020-01-07  73.612923  1906.859985  ...  93.811996  9068.580078\n",
              "2020-01-08  74.797089  1891.969971  ...  98.428001  9129.240234\n",
              "\n",
              "[5 rows x 11 columns]"
            ]
          },
          "metadata": {},
          "execution_count": 66
        }
      ]
    },
    {
      "cell_type": "code",
      "metadata": {
        "id": "FOAnn9Y5n_Tp"
      },
      "source": [
        "#Obtengo rendimiento diario para cada ticker\n",
        "#Defino una función que me permita recorrer las filas de cada columna  y calcular el rednimiento diario.\n",
        "\n",
        "def retorno_diario(df): #Defino la fucion retorno diario que aplico sobre mi df\n",
        "  df_retorno_diario = df.copy()\n",
        "  for i in df.columns:\n",
        "     for j in range(1, len(df)): #Para cada fila \"j\" en el rango definido opero:\n",
        "         df_retorno_diario[i][j] = ((df[i][j]- df[i][j-1])/df[i][j-1]) * 100 \n",
        "     df_retorno_diario[i][0] = 0 #La primer fila de cada columna le asigno el valor cero ya que tendrá el valor \"NA\".\n",
        "  return df_retorno_diario"
      ],
      "id": "FOAnn9Y5n_Tp",
      "execution_count": 67,
      "outputs": []
    },
    {
      "cell_type": "code",
      "metadata": {
        "colab": {
          "base_uri": "https://localhost:8080/",
          "height": 648
        },
        "id": "KveiLAiPtoBx",
        "outputId": "56d6743d-5dc9-42ab-80b8-ff6ca5121b3c"
      },
      "source": [
        "nasd_rd=retorno_diario(df_tickers)\n",
        "nasd_rd"
      ],
      "id": "KveiLAiPtoBx",
      "execution_count": 68,
      "outputs": [
        {
          "output_type": "execute_result",
          "data": {
            "text/html": [
              "<div>\n",
              "<style scoped>\n",
              "    .dataframe tbody tr th:only-of-type {\n",
              "        vertical-align: middle;\n",
              "    }\n",
              "\n",
              "    .dataframe tbody tr th {\n",
              "        vertical-align: top;\n",
              "    }\n",
              "\n",
              "    .dataframe thead th {\n",
              "        text-align: right;\n",
              "    }\n",
              "</style>\n",
              "<table border=\"1\" class=\"dataframe\">\n",
              "  <thead>\n",
              "    <tr style=\"text-align: right;\">\n",
              "      <th></th>\n",
              "      <th>AAPL</th>\n",
              "      <th>AMZN</th>\n",
              "      <th>ASML</th>\n",
              "      <th>FB</th>\n",
              "      <th>GOOG</th>\n",
              "      <th>GOOGL</th>\n",
              "      <th>MSFT</th>\n",
              "      <th>NVDA</th>\n",
              "      <th>PYPL</th>\n",
              "      <th>TSLA</th>\n",
              "      <th>^IXIC</th>\n",
              "    </tr>\n",
              "    <tr>\n",
              "      <th>Date</th>\n",
              "      <th></th>\n",
              "      <th></th>\n",
              "      <th></th>\n",
              "      <th></th>\n",
              "      <th></th>\n",
              "      <th></th>\n",
              "      <th></th>\n",
              "      <th></th>\n",
              "      <th></th>\n",
              "      <th></th>\n",
              "      <th></th>\n",
              "    </tr>\n",
              "  </thead>\n",
              "  <tbody>\n",
              "    <tr>\n",
              "      <th>2020-01-02</th>\n",
              "      <td>0.000000</td>\n",
              "      <td>0.000000</td>\n",
              "      <td>0.000000</td>\n",
              "      <td>0.000000</td>\n",
              "      <td>0.000000</td>\n",
              "      <td>0.000000</td>\n",
              "      <td>0.000000</td>\n",
              "      <td>0.000000</td>\n",
              "      <td>0.000000</td>\n",
              "      <td>0.000000</td>\n",
              "      <td>0.000000</td>\n",
              "    </tr>\n",
              "    <tr>\n",
              "      <th>2020-01-03</th>\n",
              "      <td>-0.972202</td>\n",
              "      <td>-1.213905</td>\n",
              "      <td>-1.611454</td>\n",
              "      <td>-0.529126</td>\n",
              "      <td>-0.490720</td>\n",
              "      <td>-0.523134</td>\n",
              "      <td>-1.245154</td>\n",
              "      <td>-1.600606</td>\n",
              "      <td>-1.796838</td>\n",
              "      <td>2.963319</td>\n",
              "      <td>-0.785519</td>\n",
              "    </tr>\n",
              "    <tr>\n",
              "      <th>2020-01-06</th>\n",
              "      <td>0.796835</td>\n",
              "      <td>1.488559</td>\n",
              "      <td>-0.795443</td>\n",
              "      <td>1.883360</td>\n",
              "      <td>2.465710</td>\n",
              "      <td>2.665406</td>\n",
              "      <td>0.258466</td>\n",
              "      <td>0.419373</td>\n",
              "      <td>1.296429</td>\n",
              "      <td>1.925466</td>\n",
              "      <td>0.562038</td>\n",
              "    </tr>\n",
              "    <tr>\n",
              "      <th>2020-01-07</th>\n",
              "      <td>-0.470313</td>\n",
              "      <td>0.209156</td>\n",
              "      <td>1.085995</td>\n",
              "      <td>0.216365</td>\n",
              "      <td>-0.062401</td>\n",
              "      <td>-0.193165</td>\n",
              "      <td>-0.911777</td>\n",
              "      <td>1.210667</td>\n",
              "      <td>-0.453844</td>\n",
              "      <td>3.880053</td>\n",
              "      <td>-0.031854</td>\n",
              "    </tr>\n",
              "    <tr>\n",
              "      <th>2020-01-08</th>\n",
              "      <td>1.608639</td>\n",
              "      <td>-0.780866</td>\n",
              "      <td>1.037524</td>\n",
              "      <td>1.013801</td>\n",
              "      <td>0.788033</td>\n",
              "      <td>0.711776</td>\n",
              "      <td>1.592839</td>\n",
              "      <td>0.187564</td>\n",
              "      <td>1.960428</td>\n",
              "      <td>4.920485</td>\n",
              "      <td>0.668905</td>\n",
              "    </tr>\n",
              "    <tr>\n",
              "      <th>...</th>\n",
              "      <td>...</td>\n",
              "      <td>...</td>\n",
              "      <td>...</td>\n",
              "      <td>...</td>\n",
              "      <td>...</td>\n",
              "      <td>...</td>\n",
              "      <td>...</td>\n",
              "      <td>...</td>\n",
              "      <td>...</td>\n",
              "      <td>...</td>\n",
              "      <td>...</td>\n",
              "    </tr>\n",
              "    <tr>\n",
              "      <th>2020-12-23</th>\n",
              "      <td>-0.697602</td>\n",
              "      <td>-0.662712</td>\n",
              "      <td>-0.327612</td>\n",
              "      <td>0.381890</td>\n",
              "      <td>0.515231</td>\n",
              "      <td>0.465639</td>\n",
              "      <td>-1.303917</td>\n",
              "      <td>-2.025863</td>\n",
              "      <td>-1.663314</td>\n",
              "      <td>0.880775</td>\n",
              "      <td>-0.287397</td>\n",
              "    </tr>\n",
              "    <tr>\n",
              "      <th>2020-12-24</th>\n",
              "      <td>0.771218</td>\n",
              "      <td>-0.394945</td>\n",
              "      <td>1.784590</td>\n",
              "      <td>-0.264814</td>\n",
              "      <td>0.373473</td>\n",
              "      <td>0.343129</td>\n",
              "      <td>0.782724</td>\n",
              "      <td>-0.119164</td>\n",
              "      <td>-0.334114</td>\n",
              "      <td>2.444354</td>\n",
              "      <td>0.263251</td>\n",
              "    </tr>\n",
              "    <tr>\n",
              "      <th>2020-12-28</th>\n",
              "      <td>3.576590</td>\n",
              "      <td>3.507119</td>\n",
              "      <td>-0.589958</td>\n",
              "      <td>3.590130</td>\n",
              "      <td>2.141645</td>\n",
              "      <td>2.295055</td>\n",
              "      <td>0.992148</td>\n",
              "      <td>-0.721490</td>\n",
              "      <td>-1.219412</td>\n",
              "      <td>0.290128</td>\n",
              "      <td>0.739488</td>\n",
              "    </tr>\n",
              "    <tr>\n",
              "      <th>2020-12-29</th>\n",
              "      <td>-1.331494</td>\n",
              "      <td>1.158359</td>\n",
              "      <td>0.785031</td>\n",
              "      <td>-0.079423</td>\n",
              "      <td>-0.977991</td>\n",
              "      <td>-0.913208</td>\n",
              "      <td>-0.360069</td>\n",
              "      <td>0.335259</td>\n",
              "      <td>-1.993805</td>\n",
              "      <td>0.346545</td>\n",
              "      <td>-0.381414</td>\n",
              "    </tr>\n",
              "    <tr>\n",
              "      <th>2020-12-30</th>\n",
              "      <td>-0.852662</td>\n",
              "      <td>-1.088197</td>\n",
              "      <td>1.218979</td>\n",
              "      <td>-1.773973</td>\n",
              "      <td>-1.091700</td>\n",
              "      <td>-1.223717</td>\n",
              "      <td>-1.101947</td>\n",
              "      <td>1.564536</td>\n",
              "      <td>0.207763</td>\n",
              "      <td>4.322894</td>\n",
              "      <td>0.153929</td>\n",
              "    </tr>\n",
              "  </tbody>\n",
              "</table>\n",
              "<p>252 rows × 11 columns</p>\n",
              "</div>"
            ],
            "text/plain": [
              "                AAPL      AMZN      ASML  ...      PYPL      TSLA     ^IXIC\n",
              "Date                                      ...                              \n",
              "2020-01-02  0.000000  0.000000  0.000000  ...  0.000000  0.000000  0.000000\n",
              "2020-01-03 -0.972202 -1.213905 -1.611454  ... -1.796838  2.963319 -0.785519\n",
              "2020-01-06  0.796835  1.488559 -0.795443  ...  1.296429  1.925466  0.562038\n",
              "2020-01-07 -0.470313  0.209156  1.085995  ... -0.453844  3.880053 -0.031854\n",
              "2020-01-08  1.608639 -0.780866  1.037524  ...  1.960428  4.920485  0.668905\n",
              "...              ...       ...       ...  ...       ...       ...       ...\n",
              "2020-12-23 -0.697602 -0.662712 -0.327612  ... -1.663314  0.880775 -0.287397\n",
              "2020-12-24  0.771218 -0.394945  1.784590  ... -0.334114  2.444354  0.263251\n",
              "2020-12-28  3.576590  3.507119 -0.589958  ... -1.219412  0.290128  0.739488\n",
              "2020-12-29 -1.331494  1.158359  0.785031  ... -1.993805  0.346545 -0.381414\n",
              "2020-12-30 -0.852662 -1.088197  1.218979  ...  0.207763  4.322894  0.153929\n",
              "\n",
              "[252 rows x 11 columns]"
            ]
          },
          "metadata": {},
          "execution_count": 68
        }
      ]
    },
    {
      "cell_type": "code",
      "metadata": {
        "colab": {
          "base_uri": "https://localhost:8080/"
        },
        "id": "_knSjjOJlAZg",
        "outputId": "d77a84e4-dd7c-45ab-a56e-09cb4a949567"
      },
      "source": [
        "nasd_rd.info()"
      ],
      "id": "_knSjjOJlAZg",
      "execution_count": 69,
      "outputs": [
        {
          "output_type": "stream",
          "name": "stdout",
          "text": [
            "<class 'pandas.core.frame.DataFrame'>\n",
            "DatetimeIndex: 252 entries, 2020-01-02 to 2020-12-30\n",
            "Data columns (total 11 columns):\n",
            " #   Column  Non-Null Count  Dtype  \n",
            "---  ------  --------------  -----  \n",
            " 0   AAPL    252 non-null    float64\n",
            " 1   AMZN    252 non-null    float64\n",
            " 2   ASML    252 non-null    float64\n",
            " 3   FB      252 non-null    float64\n",
            " 4   GOOG    252 non-null    float64\n",
            " 5   GOOGL   252 non-null    float64\n",
            " 6   MSFT    252 non-null    float64\n",
            " 7   NVDA    252 non-null    float64\n",
            " 8   PYPL    252 non-null    float64\n",
            " 9   TSLA    252 non-null    float64\n",
            " 10  ^IXIC   252 non-null    float64\n",
            "dtypes: float64(11)\n",
            "memory usage: 23.6 KB\n"
          ]
        }
      ]
    },
    {
      "cell_type": "code",
      "metadata": {
        "colab": {
          "base_uri": "https://localhost:8080/",
          "height": 1000
        },
        "id": "9--z8XaiwjHO",
        "outputId": "28b1b04a-c625-4ed0-d510-93e4ecf05549"
      },
      "source": [
        "#Visualizar  relación entre rendimientos de  nasdaq y estas acciones\n",
        "#Sacamos fila 1.\n",
        "nasd_rdf=nasd_rd.iloc[1:]\n",
        "#Definimos una lista con las columnas del df anterior.\n",
        "col_nasd=list(nasd_rdf.select_dtypes(include=['float64']).drop(['^IXIC'], axis = 1).columns)\n",
        "#Aplicamos una función que nos permita graficar la relación entre rendimientos nasdaq y sus componentes.\n",
        "\n",
        "for i in nasd_rd.columns:\n",
        "  if i!= 'Date' and i != '^IXIC':\n",
        " # Use plotly express to plot the scatter plot for every stock vs. the S&P500\n",
        "   fig = px.scatter(nasd_rd, x = '^IXIC', y = i, title = i)\n",
        "    \n",
        "   fig.show()"
      ],
      "id": "9--z8XaiwjHO",
      "execution_count": 70,
      "outputs": [
        {
          "output_type": "display_data",
          "data": {
            "text/html": [
              "<html>\n",
              "<head><meta charset=\"utf-8\" /></head>\n",
              "<body>\n",
              "    <div>\n",
              "            <script src=\"https://cdnjs.cloudflare.com/ajax/libs/mathjax/2.7.5/MathJax.js?config=TeX-AMS-MML_SVG\"></script><script type=\"text/javascript\">if (window.MathJax) {MathJax.Hub.Config({SVG: {font: \"STIX-Web\"}});}</script>\n",
              "                <script type=\"text/javascript\">window.PlotlyConfig = {MathJaxConfig: 'local'};</script>\n",
              "        <script src=\"https://cdn.plot.ly/plotly-latest.min.js\"></script>    \n",
              "            <div id=\"a99b78ad-6ad0-4573-ad79-4d06ea616bf3\" class=\"plotly-graph-div\" style=\"height:525px; width:100%;\"></div>\n",
              "            <script type=\"text/javascript\">\n",
              "                \n",
              "                    window.PLOTLYENV=window.PLOTLYENV || {};\n",
              "                    \n",
              "                if (document.getElementById(\"a99b78ad-6ad0-4573-ad79-4d06ea616bf3\")) {\n",
              "                    Plotly.newPlot(\n",
              "                        'a99b78ad-6ad0-4573-ad79-4d06ea616bf3',\n",
              "                        [{\"hoverlabel\": {\"namelength\": 0}, \"hovertemplate\": \"^IXIC=%{x}<br>AAPL=%{y}\", \"legendgroup\": \"\", \"marker\": {\"color\": \"#636efa\", \"symbol\": \"circle\"}, \"mode\": \"markers\", \"name\": \"\", \"showlegend\": false, \"type\": \"scatter\", \"x\": [0.0, -0.7855191660339514, 0.5620384728471665, -0.031854247708491115, 0.6689046766684335, 0.8126574744484102, -0.2669584793033168, 1.0357422631592443, -0.24368967780143092, 0.0796654872895177, 1.063104814105905, 0.33996051431786484, -0.19310868474221926, 0.13830140117838088, 0.19939681423002234, -0.9313533039610973, -1.8851559810233676, 1.4264766521421406, 0.05912252564012881, 0.256270844379793, -1.591465499641676, 1.3382226873668104, 2.0981444534002978, 0.42997561370826654, 0.6675027996624794, -0.5394882329740349, 1.1331313707803117, 0.10957991559587729, 0.9027914622439598, -0.1438442521991573, 0.19779675470939986, 0.01603656416913738, 0.8675814939226352, -0.6744295515116596, -1.7883337524623202, -3.7101888679547743, -2.7726076455074673, 0.16920121754294432, -4.613182731047064, 0.010385226940578262, 4.491457698501092, -2.9945821009265603, 3.846114054662644, -3.0993259641753057, -1.8649430797928905, -7.287402343694397, 4.950140308971453, -4.700245022770171, -9.434674309481181, 9.345998172386109, -12.321331290147407, 6.230492341201929, -4.702798877538514, 2.2996268579562185, -3.7907422283539605, -0.274003093278801, 8.121509236724387, -0.4524223861369213, 5.59620065957612, -3.7852983732224246, 3.6224507926325984, -0.952513208745505, -4.409293583528775, 1.7217390358319775, -1.52564779039222, 7.3261127035984215, -0.32831644156512807, 2.581887027561507, 0.7746996815903381, 0.47635325069293516, 3.946578856836743, -1.4392236435332642, 1.6582590775434294, 1.3803835283800632, -1.0336154480887512, -3.475170735558033, 2.8094268330097516, -0.007414416084845749, 1.6453636805085496, 1.1076542783169119, -1.4023761913732073, 3.5663232405100977, -0.2822319106313816, -3.2015075636893258, 1.2290572661607275, 1.1297604522629348, 0.5138939036791482, 1.4147842232649654, 1.5775670101657695, 0.7786102101104126, -2.0646542913830683, -1.5482267339407207, 0.9088148528970065, 0.7920624294565988, 2.443497168047047, -0.5385098407798431, 2.07597818392603, -0.9695234740358589, 0.4276841643477609, 0.16762005701490723, 0.7723653951613199, -0.4607783336758918, 1.2902124966358643, 0.6552216914685036, 0.5897171735574182, 0.7756799205120937, -0.6929795366756427, 2.061922153956055, 1.1276647530284236, 0.2921987959394443, 0.6690906379505211, -5.265476367524758, 1.012133462324583, 1.4309384280850652, 1.7463525072283153, 0.14814418617457112, 0.32813109241147087, 0.030878981402190583, 1.1095819300612568, 0.7446904378745204, -2.193189990518118, 1.088184772035845, -2.59339396463512, 1.1984014641401854, 1.8697217818384297, 0.9530027630585096, 0.5219294116244121, 2.2142310252948234, -0.8603004588705903, 1.4366969932335696, 0.5265665951870384, 0.660713703751985, -2.1342298780777758, 0.940638445445677, 0.5902625120736783, -0.7266027885626613, 0.2803210606196508, 2.512564309189163, -0.8055054192553627, 0.2412796048237268, -2.285699534902473, -0.9390717044975707, 1.6702387584650282, -1.273502800037816, 1.3540604633609157, 0.4255846926598821, 1.487181648780377, 1.4660430152948845, 0.3519290262580381, 0.5230744898274311, 0.997144293532742, -0.8740477960491844, -0.387069228834427, -1.6915932109767786, 2.1276430027220674, 0.27478301400057853, -0.21009911987774507, 1.002156815948722, 0.7287631558350716, -0.5742645841862735, 1.0630301888693465, 0.41588829566680874, 0.6004342637575202, 0.7623210596084231, 1.731917917944346, -0.34050170359683757, 0.6046278217001049, 0.68256330719148, 1.3945099510527015, 0.9780044890400321, -4.9628314741983, -1.265216148443028, -4.114152829024972, 2.709047999938783, -1.9922680048667027, -0.6047849782590421, 1.8712825719911805, 1.2089549470456218, -1.2497460486567282, -1.2686289053217388, -1.0723830833645196, -0.1341618894641025, 1.714846245401242, -3.015872690686464, 0.3694096957600452, 2.26090653310401, 1.868965865910965, -0.29035471587269224, 0.7420650470219435, 1.423773100153644, -2.220368318034313, 2.3247878019402477, -1.5697399364210516, 1.882631446703863, 0.4961095094673616, 1.3918241202884905, 2.5589020749867237, -0.10406790726970577, -0.802180722540493, -0.4661535218957812, -0.361200409870677, -1.6508478266271756, 0.32764827183891476, -0.2761240971887628, 0.1856326565180225, 0.3673776458871612, -1.6395501257923704, 0.6374642083539132, -3.7307886361706455, 1.64217954994535, -2.449580253052983, 0.421758043250314, 1.852228309145515, 3.8547309760295905, 2.5895531360416695, 0.03616858700729745, -1.5254029401884093, -1.3652289708527225, 2.0129145485651314, -0.6519348588783579, 1.0222407181613629, 0.8017374114323119, -0.20789809660017614, -0.821392074337107, 0.8736981000490036, -0.4178197918152635, 0.2164506265461421, 1.314409739132722, 0.4786188956984337, 0.9214943705385352, -0.05824563817777561, 1.281854635668546, -0.04646040554606666, 0.22519019228191595, 0.703316776906088, 0.44703703692096414, 0.5017538804668705, -1.9377239274069296, 0.541856267686367, -0.2252126551407012, 0.5022667170232535, 1.2461337002391393, 0.5012350995449372, 0.8418230939438529, -0.07137117109618285, -0.10285738347200132, 0.5132453630116934, -0.28739694296208024, 0.26325132476352536, 0.7394880615104708, -0.38141401404466013, 0.1539294569151412], \"xaxis\": \"x\", \"y\": [0.0, -0.9722023441176197, 0.7968349527686365, -0.47031282461467105, 1.6086386895996132, 2.124063271766755, 0.2260777345842402, 2.136451214478432, -1.3503379430550926, -0.4285572850930606, 1.2526450639329945, 1.1071036337567917, -0.6776827797607619, 0.3569595835588753, 0.4815831179871339, -0.2882063258915069, -2.940526096318989, 2.8289230811118578, 2.0932441400076534, -0.14492216071418526, -4.433860109811411, -0.27463578734321303, 3.301378924357644, 0.815436940079987, 1.1696850499377012, -1.3592553931306046, 0.47493978054726094, -0.6033298858710561, 2.3747888245890474, -0.7121257410216977, 0.02463492307094734, -1.8310519360283983, 1.4482797440651916, -1.0258976497182402, -2.2635047011822023, -4.750028457654271, -3.387228514201082, 1.58636508266129, -6.536794003865923, -0.058519631542893545, 9.310080920176524, -3.17593839447911, 4.63845797921048, -3.2437043215862245, -1.3280112051603732, -7.909202205396114, 7.202153197398451, -3.4730559899797933, -9.87545962914232, 11.980813089636088, -12.864691602865511, 4.397004727617601, -2.4479848516821776, -0.7662163863366582, -6.348547030103403, -2.124422204830701, 10.032552811603258, -0.5508978294319344, 5.26230372380497, -4.140219299630525, 2.8538031592524407, -0.20407518326143975, -5.261716005661898, 1.6686762456241233, -1.43713747755073, 8.72373458108371, -1.1582248208967347, 2.5594651260419257, 0.7216317204874623, 1.9627543168955768, 5.050284819913265, -0.9127213377995439, 0.7945750392449694, -1.3568700343123983, -2.0756729299782766, -3.091046671072527, 2.8803787882794154, -0.3875395112963728, 2.8869433100053823, 0.07069577332170043, -1.6209426315331867, 3.2845132098958905, 2.1096127515647956, -1.6099288449023856, 1.4148703066681894, 1.5008879732897635, 1.0317495126023515, 1.034462197985098, 2.38019782027154, 1.5735239141425965, -1.1428308537860052, -1.2074118090408072, 0.6143346553155025, -0.5911900809210932, 2.3561149946108086, -0.5778512686057851, 1.9448272229825387, -0.7455536756043919, 0.6438476141532857, -0.6773689193398176, 0.4356927455394657, 0.04401962321485242, -0.09740772660324416, 1.229792141659667, 0.4629487113056616, 0.5504947544127652, -0.861220798463355, 2.8481118995405996, 0.5912520500063719, 3.1577916828566726, 2.572759073142671, -4.80103550121707, 0.8633431860843541, 1.2367090827470029, 2.650232960452477, -0.13917295173464556, 0.03982786939189293, -0.5714786598074414, 2.616379738121834, 2.1344783980411672, -1.765212381469417, 1.327565631183534, -3.0725723638846496, 2.3046693231306925, 0.8347531652691177, -0.18914480065614056, 0.0, 2.6750251466780397, -0.31028495022519115, 2.3290139659929285, 0.430020617172651, 0.17493021469380063, -0.4613220829287492, 1.654840678884289, 0.6877368689811135, -1.2304941198399337, -0.20202549888543292, 2.107394719502888, -1.3801618914241467, 0.2809279018860988, -4.551647228538518, -0.24772476403387714, 2.3700187384545797, -1.6427597357499566, 1.9168475720296456, 1.210009035064354, 10.468867056024393, 2.5197635754864196, 0.6678213634342525, 0.3624535622374916, 3.4889279653790997, -2.273571449796452, 1.4534853788682138, -2.97398800108494, 3.3234222921414007, 1.7697569144920187, -0.08912254319645957, -0.2610775184391427, 0.8332800699779992, 0.12546670451331968, 2.2189659615168558, 5.153241779497852, 1.1960304118348013, -0.820372386724374, 1.359898782665695, -1.1954367559888663, -0.16199037418590975, 3.3912169538207424, 3.9832697031437436, -2.0718465845135348, -8.006085972869188, 0.06617658221773365, -6.729493478350706, 3.9886572145723416, -3.2645781703693837, -1.3128964864508474, 3.0000109006792495, 0.15603205466300352, -2.9513577139998346, -1.5963647367467044, -3.1720189875351243, 3.0325771342994132, 1.5715882272273305, -4.194621654466462, 1.0268872452601674, 3.751606539027138, 2.386896493618967, -0.7567723753703727, 1.5075675176914614, 0.8462158642766026, -3.228019331929439, 3.0791110263232375, -2.866954344373428, 1.696712835169488, -0.09558715104784896, 1.7395794736193924, 6.352061166197263, -2.6527369593548706, 0.07431816366101127, -0.3960755240684325, -1.4000494129100005, -2.5541834414030213, 1.3191958121843963, -0.5446345492373156, -0.9583331417056875, -0.613394945029154, 0.008690335705932922, 1.3472453829428739, -4.6312209563364, 3.705039200224278, -5.601804053180364, -0.0826743461666076, 1.5353542256020238, 4.08365855915592, 3.5493748713715076, -0.11360619117939624, -1.9968051272960121, -0.300896290186831, 3.0352688997897133, -0.23433223524110738, 0.04194952913518255, 0.8720416419374922, -0.7564503193308774, -1.139122047029746, 0.5168241754816185, -1.0957598825817416, -2.9742561158782794, 1.1594207191901411, 0.7467170645554786, 0.48263340248323955, 2.109969619766816, 3.0827272932139604, 0.29335538131233907, -0.11374549967587141, -0.5612510042157578, 1.2269903260583457, 0.5090959004369714, -2.0903712052189207, 1.1988819750515223, -0.6734763995906895, -0.5146688448198602, 5.009031741198097, -0.05473802174199978, 0.6963428625576273, -1.5850730413521605, 1.2395346558627078, 2.8464447729936757, -0.6976020489001472, 0.7712183074239288, 3.5765900947906446, -1.3314941392230613, -0.8526622036588783], \"yaxis\": \"y\"}],\n",
              "                        {\"legend\": {\"tracegroupgap\": 0}, \"template\": {\"data\": {\"bar\": [{\"error_x\": {\"color\": \"#2a3f5f\"}, \"error_y\": {\"color\": \"#2a3f5f\"}, \"marker\": {\"line\": {\"color\": \"#E5ECF6\", \"width\": 0.5}}, \"type\": \"bar\"}], \"barpolar\": [{\"marker\": {\"line\": {\"color\": \"#E5ECF6\", \"width\": 0.5}}, \"type\": \"barpolar\"}], \"carpet\": [{\"aaxis\": {\"endlinecolor\": \"#2a3f5f\", \"gridcolor\": \"white\", \"linecolor\": \"white\", \"minorgridcolor\": \"white\", \"startlinecolor\": \"#2a3f5f\"}, \"baxis\": {\"endlinecolor\": \"#2a3f5f\", \"gridcolor\": \"white\", \"linecolor\": \"white\", \"minorgridcolor\": \"white\", \"startlinecolor\": \"#2a3f5f\"}, \"type\": \"carpet\"}], \"choropleth\": [{\"colorbar\": {\"outlinewidth\": 0, \"ticks\": \"\"}, \"type\": \"choropleth\"}], \"contour\": [{\"colorbar\": {\"outlinewidth\": 0, \"ticks\": \"\"}, \"colorscale\": [[0.0, \"#0d0887\"], [0.1111111111111111, \"#46039f\"], [0.2222222222222222, \"#7201a8\"], [0.3333333333333333, \"#9c179e\"], [0.4444444444444444, \"#bd3786\"], [0.5555555555555556, \"#d8576b\"], [0.6666666666666666, \"#ed7953\"], [0.7777777777777778, \"#fb9f3a\"], [0.8888888888888888, \"#fdca26\"], [1.0, \"#f0f921\"]], \"type\": \"contour\"}], \"contourcarpet\": [{\"colorbar\": {\"outlinewidth\": 0, \"ticks\": \"\"}, \"type\": \"contourcarpet\"}], \"heatmap\": [{\"colorbar\": {\"outlinewidth\": 0, \"ticks\": \"\"}, \"colorscale\": [[0.0, \"#0d0887\"], [0.1111111111111111, \"#46039f\"], [0.2222222222222222, \"#7201a8\"], [0.3333333333333333, \"#9c179e\"], [0.4444444444444444, \"#bd3786\"], [0.5555555555555556, \"#d8576b\"], [0.6666666666666666, \"#ed7953\"], [0.7777777777777778, \"#fb9f3a\"], [0.8888888888888888, \"#fdca26\"], [1.0, \"#f0f921\"]], \"type\": \"heatmap\"}], \"heatmapgl\": [{\"colorbar\": {\"outlinewidth\": 0, \"ticks\": \"\"}, \"colorscale\": [[0.0, \"#0d0887\"], [0.1111111111111111, \"#46039f\"], [0.2222222222222222, \"#7201a8\"], [0.3333333333333333, \"#9c179e\"], [0.4444444444444444, \"#bd3786\"], [0.5555555555555556, \"#d8576b\"], [0.6666666666666666, \"#ed7953\"], [0.7777777777777778, \"#fb9f3a\"], [0.8888888888888888, \"#fdca26\"], [1.0, \"#f0f921\"]], \"type\": \"heatmapgl\"}], \"histogram\": [{\"marker\": {\"colorbar\": {\"outlinewidth\": 0, \"ticks\": \"\"}}, \"type\": \"histogram\"}], \"histogram2d\": [{\"colorbar\": {\"outlinewidth\": 0, \"ticks\": \"\"}, \"colorscale\": [[0.0, \"#0d0887\"], [0.1111111111111111, \"#46039f\"], [0.2222222222222222, \"#7201a8\"], [0.3333333333333333, \"#9c179e\"], [0.4444444444444444, \"#bd3786\"], [0.5555555555555556, \"#d8576b\"], [0.6666666666666666, \"#ed7953\"], [0.7777777777777778, \"#fb9f3a\"], [0.8888888888888888, \"#fdca26\"], [1.0, \"#f0f921\"]], \"type\": \"histogram2d\"}], \"histogram2dcontour\": [{\"colorbar\": {\"outlinewidth\": 0, \"ticks\": \"\"}, \"colorscale\": [[0.0, \"#0d0887\"], [0.1111111111111111, \"#46039f\"], [0.2222222222222222, \"#7201a8\"], [0.3333333333333333, \"#9c179e\"], [0.4444444444444444, \"#bd3786\"], [0.5555555555555556, \"#d8576b\"], [0.6666666666666666, \"#ed7953\"], [0.7777777777777778, \"#fb9f3a\"], [0.8888888888888888, \"#fdca26\"], [1.0, \"#f0f921\"]], \"type\": \"histogram2dcontour\"}], \"mesh3d\": [{\"colorbar\": {\"outlinewidth\": 0, \"ticks\": \"\"}, \"type\": \"mesh3d\"}], \"parcoords\": [{\"line\": {\"colorbar\": {\"outlinewidth\": 0, \"ticks\": \"\"}}, \"type\": \"parcoords\"}], \"pie\": [{\"automargin\": true, \"type\": \"pie\"}], \"scatter\": [{\"marker\": {\"colorbar\": {\"outlinewidth\": 0, \"ticks\": \"\"}}, \"type\": \"scatter\"}], \"scatter3d\": [{\"line\": {\"colorbar\": {\"outlinewidth\": 0, \"ticks\": \"\"}}, \"marker\": {\"colorbar\": {\"outlinewidth\": 0, \"ticks\": \"\"}}, \"type\": \"scatter3d\"}], \"scattercarpet\": [{\"marker\": {\"colorbar\": {\"outlinewidth\": 0, \"ticks\": \"\"}}, \"type\": \"scattercarpet\"}], \"scattergeo\": [{\"marker\": {\"colorbar\": {\"outlinewidth\": 0, \"ticks\": \"\"}}, \"type\": \"scattergeo\"}], \"scattergl\": [{\"marker\": {\"colorbar\": {\"outlinewidth\": 0, \"ticks\": \"\"}}, \"type\": \"scattergl\"}], \"scattermapbox\": [{\"marker\": {\"colorbar\": {\"outlinewidth\": 0, \"ticks\": \"\"}}, \"type\": \"scattermapbox\"}], \"scatterpolar\": [{\"marker\": {\"colorbar\": {\"outlinewidth\": 0, \"ticks\": \"\"}}, \"type\": \"scatterpolar\"}], \"scatterpolargl\": [{\"marker\": {\"colorbar\": {\"outlinewidth\": 0, \"ticks\": \"\"}}, \"type\": \"scatterpolargl\"}], \"scatterternary\": [{\"marker\": {\"colorbar\": {\"outlinewidth\": 0, \"ticks\": \"\"}}, \"type\": \"scatterternary\"}], \"surface\": [{\"colorbar\": {\"outlinewidth\": 0, \"ticks\": \"\"}, \"colorscale\": [[0.0, \"#0d0887\"], [0.1111111111111111, \"#46039f\"], [0.2222222222222222, \"#7201a8\"], [0.3333333333333333, \"#9c179e\"], [0.4444444444444444, \"#bd3786\"], [0.5555555555555556, \"#d8576b\"], [0.6666666666666666, \"#ed7953\"], [0.7777777777777778, \"#fb9f3a\"], [0.8888888888888888, \"#fdca26\"], [1.0, \"#f0f921\"]], \"type\": \"surface\"}], \"table\": [{\"cells\": {\"fill\": {\"color\": \"#EBF0F8\"}, \"line\": {\"color\": \"white\"}}, \"header\": {\"fill\": {\"color\": \"#C8D4E3\"}, \"line\": {\"color\": \"white\"}}, \"type\": \"table\"}]}, \"layout\": {\"annotationdefaults\": {\"arrowcolor\": \"#2a3f5f\", \"arrowhead\": 0, \"arrowwidth\": 1}, \"coloraxis\": {\"colorbar\": {\"outlinewidth\": 0, \"ticks\": \"\"}}, \"colorscale\": {\"diverging\": [[0, \"#8e0152\"], [0.1, \"#c51b7d\"], [0.2, \"#de77ae\"], [0.3, \"#f1b6da\"], [0.4, \"#fde0ef\"], [0.5, \"#f7f7f7\"], [0.6, \"#e6f5d0\"], [0.7, \"#b8e186\"], [0.8, \"#7fbc41\"], [0.9, \"#4d9221\"], [1, \"#276419\"]], \"sequential\": [[0.0, \"#0d0887\"], [0.1111111111111111, \"#46039f\"], [0.2222222222222222, \"#7201a8\"], [0.3333333333333333, \"#9c179e\"], [0.4444444444444444, \"#bd3786\"], [0.5555555555555556, \"#d8576b\"], [0.6666666666666666, \"#ed7953\"], [0.7777777777777778, \"#fb9f3a\"], [0.8888888888888888, \"#fdca26\"], [1.0, \"#f0f921\"]], \"sequentialminus\": [[0.0, \"#0d0887\"], [0.1111111111111111, \"#46039f\"], [0.2222222222222222, \"#7201a8\"], [0.3333333333333333, \"#9c179e\"], [0.4444444444444444, \"#bd3786\"], [0.5555555555555556, \"#d8576b\"], [0.6666666666666666, \"#ed7953\"], [0.7777777777777778, \"#fb9f3a\"], [0.8888888888888888, \"#fdca26\"], [1.0, \"#f0f921\"]]}, \"colorway\": [\"#636efa\", \"#EF553B\", \"#00cc96\", \"#ab63fa\", \"#FFA15A\", \"#19d3f3\", \"#FF6692\", \"#B6E880\", \"#FF97FF\", \"#FECB52\"], \"font\": {\"color\": \"#2a3f5f\"}, \"geo\": {\"bgcolor\": \"white\", \"lakecolor\": \"white\", \"landcolor\": \"#E5ECF6\", \"showlakes\": true, \"showland\": true, \"subunitcolor\": \"white\"}, \"hoverlabel\": {\"align\": \"left\"}, \"hovermode\": \"closest\", \"mapbox\": {\"style\": \"light\"}, \"paper_bgcolor\": \"white\", \"plot_bgcolor\": \"#E5ECF6\", \"polar\": {\"angularaxis\": {\"gridcolor\": \"white\", \"linecolor\": \"white\", \"ticks\": \"\"}, \"bgcolor\": \"#E5ECF6\", \"radialaxis\": {\"gridcolor\": \"white\", \"linecolor\": \"white\", \"ticks\": \"\"}}, \"scene\": {\"xaxis\": {\"backgroundcolor\": \"#E5ECF6\", \"gridcolor\": \"white\", \"gridwidth\": 2, \"linecolor\": \"white\", \"showbackground\": true, \"ticks\": \"\", \"zerolinecolor\": \"white\"}, \"yaxis\": {\"backgroundcolor\": \"#E5ECF6\", \"gridcolor\": \"white\", \"gridwidth\": 2, \"linecolor\": \"white\", \"showbackground\": true, \"ticks\": \"\", \"zerolinecolor\": \"white\"}, \"zaxis\": {\"backgroundcolor\": \"#E5ECF6\", \"gridcolor\": \"white\", \"gridwidth\": 2, \"linecolor\": \"white\", \"showbackground\": true, \"ticks\": \"\", \"zerolinecolor\": \"white\"}}, \"shapedefaults\": {\"line\": {\"color\": \"#2a3f5f\"}}, \"ternary\": {\"aaxis\": {\"gridcolor\": \"white\", \"linecolor\": \"white\", \"ticks\": \"\"}, \"baxis\": {\"gridcolor\": \"white\", \"linecolor\": \"white\", \"ticks\": \"\"}, \"bgcolor\": \"#E5ECF6\", \"caxis\": {\"gridcolor\": \"white\", \"linecolor\": \"white\", \"ticks\": \"\"}}, \"title\": {\"x\": 0.05}, \"xaxis\": {\"automargin\": true, \"gridcolor\": \"white\", \"linecolor\": \"white\", \"ticks\": \"\", \"title\": {\"standoff\": 15}, \"zerolinecolor\": \"white\", \"zerolinewidth\": 2}, \"yaxis\": {\"automargin\": true, \"gridcolor\": \"white\", \"linecolor\": \"white\", \"ticks\": \"\", \"title\": {\"standoff\": 15}, \"zerolinecolor\": \"white\", \"zerolinewidth\": 2}}}, \"title\": {\"text\": \"AAPL\"}, \"xaxis\": {\"anchor\": \"y\", \"domain\": [0.0, 1.0], \"title\": {\"text\": \"^IXIC\"}}, \"yaxis\": {\"anchor\": \"x\", \"domain\": [0.0, 1.0], \"title\": {\"text\": \"AAPL\"}}},\n",
              "                        {\"responsive\": true}\n",
              "                    ).then(function(){\n",
              "                            \n",
              "var gd = document.getElementById('a99b78ad-6ad0-4573-ad79-4d06ea616bf3');\n",
              "var x = new MutationObserver(function (mutations, observer) {{\n",
              "        var display = window.getComputedStyle(gd).display;\n",
              "        if (!display || display === 'none') {{\n",
              "            console.log([gd, 'removed!']);\n",
              "            Plotly.purge(gd);\n",
              "            observer.disconnect();\n",
              "        }}\n",
              "}});\n",
              "\n",
              "// Listen for the removal of the full notebook cells\n",
              "var notebookContainer = gd.closest('#notebook-container');\n",
              "if (notebookContainer) {{\n",
              "    x.observe(notebookContainer, {childList: true});\n",
              "}}\n",
              "\n",
              "// Listen for the clearing of the current output cell\n",
              "var outputEl = gd.closest('.output');\n",
              "if (outputEl) {{\n",
              "    x.observe(outputEl, {childList: true});\n",
              "}}\n",
              "\n",
              "                        })\n",
              "                };\n",
              "                \n",
              "            </script>\n",
              "        </div>\n",
              "</body>\n",
              "</html>"
            ]
          },
          "metadata": {}
        },
        {
          "output_type": "display_data",
          "data": {
            "text/html": [
              "<html>\n",
              "<head><meta charset=\"utf-8\" /></head>\n",
              "<body>\n",
              "    <div>\n",
              "            <script src=\"https://cdnjs.cloudflare.com/ajax/libs/mathjax/2.7.5/MathJax.js?config=TeX-AMS-MML_SVG\"></script><script type=\"text/javascript\">if (window.MathJax) {MathJax.Hub.Config({SVG: {font: \"STIX-Web\"}});}</script>\n",
              "                <script type=\"text/javascript\">window.PlotlyConfig = {MathJaxConfig: 'local'};</script>\n",
              "        <script src=\"https://cdn.plot.ly/plotly-latest.min.js\"></script>    \n",
              "            <div id=\"b5352a08-eca8-4017-9aca-c13e1b0de149\" class=\"plotly-graph-div\" style=\"height:525px; width:100%;\"></div>\n",
              "            <script type=\"text/javascript\">\n",
              "                \n",
              "                    window.PLOTLYENV=window.PLOTLYENV || {};\n",
              "                    \n",
              "                if (document.getElementById(\"b5352a08-eca8-4017-9aca-c13e1b0de149\")) {\n",
              "                    Plotly.newPlot(\n",
              "                        'b5352a08-eca8-4017-9aca-c13e1b0de149',\n",
              "                        [{\"hoverlabel\": {\"namelength\": 0}, \"hovertemplate\": \"^IXIC=%{x}<br>AMZN=%{y}\", \"legendgroup\": \"\", \"marker\": {\"color\": \"#636efa\", \"symbol\": \"circle\"}, \"mode\": \"markers\", \"name\": \"\", \"showlegend\": false, \"type\": \"scatter\", \"x\": [0.0, -0.7855191660339514, 0.5620384728471665, -0.031854247708491115, 0.6689046766684335, 0.8126574744484102, -0.2669584793033168, 1.0357422631592443, -0.24368967780143092, 0.0796654872895177, 1.063104814105905, 0.33996051431786484, -0.19310868474221926, 0.13830140117838088, 0.19939681423002234, -0.9313533039610973, -1.8851559810233676, 1.4264766521421406, 0.05912252564012881, 0.256270844379793, -1.591465499641676, 1.3382226873668104, 2.0981444534002978, 0.42997561370826654, 0.6675027996624794, -0.5394882329740349, 1.1331313707803117, 0.10957991559587729, 0.9027914622439598, -0.1438442521991573, 0.19779675470939986, 0.01603656416913738, 0.8675814939226352, -0.6744295515116596, -1.7883337524623202, -3.7101888679547743, -2.7726076455074673, 0.16920121754294432, -4.613182731047064, 0.010385226940578262, 4.491457698501092, -2.9945821009265603, 3.846114054662644, -3.0993259641753057, -1.8649430797928905, -7.287402343694397, 4.950140308971453, -4.700245022770171, -9.434674309481181, 9.345998172386109, -12.321331290147407, 6.230492341201929, -4.702798877538514, 2.2996268579562185, -3.7907422283539605, -0.274003093278801, 8.121509236724387, -0.4524223861369213, 5.59620065957612, -3.7852983732224246, 3.6224507926325984, -0.952513208745505, -4.409293583528775, 1.7217390358319775, -1.52564779039222, 7.3261127035984215, -0.32831644156512807, 2.581887027561507, 0.7746996815903381, 0.47635325069293516, 3.946578856836743, -1.4392236435332642, 1.6582590775434294, 1.3803835283800632, -1.0336154480887512, -3.475170735558033, 2.8094268330097516, -0.007414416084845749, 1.6453636805085496, 1.1076542783169119, -1.4023761913732073, 3.5663232405100977, -0.2822319106313816, -3.2015075636893258, 1.2290572661607275, 1.1297604522629348, 0.5138939036791482, 1.4147842232649654, 1.5775670101657695, 0.7786102101104126, -2.0646542913830683, -1.5482267339407207, 0.9088148528970065, 0.7920624294565988, 2.443497168047047, -0.5385098407798431, 2.07597818392603, -0.9695234740358589, 0.4276841643477609, 0.16762005701490723, 0.7723653951613199, -0.4607783336758918, 1.2902124966358643, 0.6552216914685036, 0.5897171735574182, 0.7756799205120937, -0.6929795366756427, 2.061922153956055, 1.1276647530284236, 0.2921987959394443, 0.6690906379505211, -5.265476367524758, 1.012133462324583, 1.4309384280850652, 1.7463525072283153, 0.14814418617457112, 0.32813109241147087, 0.030878981402190583, 1.1095819300612568, 0.7446904378745204, -2.193189990518118, 1.088184772035845, -2.59339396463512, 1.1984014641401854, 1.8697217818384297, 0.9530027630585096, 0.5219294116244121, 2.2142310252948234, -0.8603004588705903, 1.4366969932335696, 0.5265665951870384, 0.660713703751985, -2.1342298780777758, 0.940638445445677, 0.5902625120736783, -0.7266027885626613, 0.2803210606196508, 2.512564309189163, -0.8055054192553627, 0.2412796048237268, -2.285699534902473, -0.9390717044975707, 1.6702387584650282, -1.273502800037816, 1.3540604633609157, 0.4255846926598821, 1.487181648780377, 1.4660430152948845, 0.3519290262580381, 0.5230744898274311, 0.997144293532742, -0.8740477960491844, -0.387069228834427, -1.6915932109767786, 2.1276430027220674, 0.27478301400057853, -0.21009911987774507, 1.002156815948722, 0.7287631558350716, -0.5742645841862735, 1.0630301888693465, 0.41588829566680874, 0.6004342637575202, 0.7623210596084231, 1.731917917944346, -0.34050170359683757, 0.6046278217001049, 0.68256330719148, 1.3945099510527015, 0.9780044890400321, -4.9628314741983, -1.265216148443028, -4.114152829024972, 2.709047999938783, -1.9922680048667027, -0.6047849782590421, 1.8712825719911805, 1.2089549470456218, -1.2497460486567282, -1.2686289053217388, -1.0723830833645196, -0.1341618894641025, 1.714846245401242, -3.015872690686464, 0.3694096957600452, 2.26090653310401, 1.868965865910965, -0.29035471587269224, 0.7420650470219435, 1.423773100153644, -2.220368318034313, 2.3247878019402477, -1.5697399364210516, 1.882631446703863, 0.4961095094673616, 1.3918241202884905, 2.5589020749867237, -0.10406790726970577, -0.802180722540493, -0.4661535218957812, -0.361200409870677, -1.6508478266271756, 0.32764827183891476, -0.2761240971887628, 0.1856326565180225, 0.3673776458871612, -1.6395501257923704, 0.6374642083539132, -3.7307886361706455, 1.64217954994535, -2.449580253052983, 0.421758043250314, 1.852228309145515, 3.8547309760295905, 2.5895531360416695, 0.03616858700729745, -1.5254029401884093, -1.3652289708527225, 2.0129145485651314, -0.6519348588783579, 1.0222407181613629, 0.8017374114323119, -0.20789809660017614, -0.821392074337107, 0.8736981000490036, -0.4178197918152635, 0.2164506265461421, 1.314409739132722, 0.4786188956984337, 0.9214943705385352, -0.05824563817777561, 1.281854635668546, -0.04646040554606666, 0.22519019228191595, 0.703316776906088, 0.44703703692096414, 0.5017538804668705, -1.9377239274069296, 0.541856267686367, -0.2252126551407012, 0.5022667170232535, 1.2461337002391393, 0.5012350995449372, 0.8418230939438529, -0.07137117109618285, -0.10285738347200132, 0.5132453630116934, -0.28739694296208024, 0.26325132476352536, 0.7394880615104708, -0.38141401404466013, 0.1539294569151412], \"xaxis\": \"x\", \"y\": [0.0, -1.213905034428406, 1.4885589964526775, 0.20915561982559716, -0.7808656515329976, 0.47992717990262346, -0.941059634882603, 0.4322529419005712, -1.1558243989587913, -0.39690613807141123, 0.854981241233256, -0.703961314823814, 1.4629558177890158, -0.23995978131606766, -0.15258627692329982, -1.2172442635054916, -1.7887480160558091, 1.362439953475022, 0.25630648860110616, 0.6824571426769376, 7.379130210874521, -0.22501989312466628, 2.268734248623161, -0.47812219193067484, 0.5078747849794876, 1.4169165949608835, 2.6273461026302227, 0.7915112359197047, 0.42774553482494304, -0.46897605613425924, -0.697716568088461, 0.97428899866292, 0.6749664538376718, -0.7888542764320968, -2.6533892695148644, -4.135552171653819, -1.8190529051335276, 0.34723154697764685, -4.813618912879304, -0.029191148642546804, 3.726606565195753, -2.3009781243647214, 3.5013261547854566, -2.6216793909353386, -1.1922923825126475, -5.285387976123124, 5.065503450470513, -3.75088343246898, -7.9220808387498804, 6.464831749508493, -5.36974653142507, 7.026607446986334, 1.225774106041091, 2.7830630443135247, -1.8522798241161629, 3.073522487251184, 1.9586626441663428, -2.796763592001887, 3.6933157466394966, -2.832538899460116, 3.360348213585338, -0.7245592210870279, -2.1551822909264438, 0.5834253377201946, -0.6378882191073191, 4.772919276371369, 0.7013456217413354, 1.560947742849138, -0.011746952245472344, 6.1735155778942525, 5.276938912335097, 1.0668615240943071, 4.355457114634103, -1.378211113483387, 0.7835834703947369, -2.7360341615917294, 1.5192460554657203, 1.521477183575211, 0.4488536852369017, -1.4197862070299803, -2.6060573179713806, 2.533615122775063, 4.268959996378087, -7.597411517279709, 1.3101236487597745, 0.07815485392347593, 1.4436086043926564, 0.6953759936520074, 0.5068402082920221, 1.2350717660199677, -2.1606495985107927, 0.4654307868383346, 0.8839055572739458, 0.8761509004336347, 0.683879037438887, 0.9508489719369999, 1.9846187214775723, -2.0496870370330553, -0.4029895886456858, -0.616352717939059, -0.47361178329826426, -0.3854063174791504, 1.7187962955619505, 1.1738565614295478, 0.055437104426471484, 0.24227334654489174, -0.7181974414487043, 0.9103430648924287, 1.6536471443314538, 3.0427187564987355, 1.7913244782774027, -3.3802335033666226, -0.5058695837251288, 1.0868249324997252, 1.655475574976202, 0.9830709924976752, 0.4922415200471386, 0.7923959280642594, 1.4508378829262922, 1.864156151685613, -1.0855846534975686, 0.7380111359700117, -2.2402674522900425, -0.4638260974890652, 2.9264577774911658, 4.3453316940597215, 0.40296306850346725, 5.768950884596909, -1.8619292239448582, 2.6995582533642044, 3.294909037690051, 0.5457787373048221, -3.0, -0.6443298969072164, -2.436118119730869, -0.29812569151820967, -1.2643732416202038, 7.929523915184918, -1.8314975794350148, -1.222963030038813, -3.6568760543145196, 0.748685369931224, 1.5387648743417073, -1.796272057049066, 1.106543290484315, 0.6049010010913988, 3.696084156633735, -1.6681004146644534, 0.8657178266855615, 2.109064508882875, 0.6230821714798737, -1.7841872577519382, -0.609322582325953, -2.1437916789034515, 2.6478029268948324, -0.03857932057315421, -0.4112596541520094, 1.0924292845903107, 4.087470870111132, -1.5701182469669905, 1.1314327013118606, -0.3836435108826962, 0.6922961603179614, 1.1800605225108132, 2.8495560333409617, -1.215918662022733, 0.05294261259191176, 1.4451146864528366, 1.3955582445215227, 0.9239418168462552, -4.628409107642481, -2.178737613197743, -4.394437724142489, 3.7706682313128956, -2.8605430726562973, -1.8547431341386644, -0.42519463082095427, 1.7131945397888946, -2.4723249059292787, -2.2536667095498393, -1.7887968913378534, 0.18816338768788143, 5.692340108122283, -4.1268870535066045, 0.664362034460103, 2.4948702649999275, 2.549817584518016, -0.9190203546536632, 0.12242431506817412, 2.3034693272135547, -2.9882719641941837, 2.3743984375, -3.1020252484694852, 3.088103771501585, -0.16083827506316872, 3.012015233891161, 4.754994719255915, 0.02033010214475841, -2.3208046333285783, -0.7450124679229332, -1.9750480983333953, -2.001399475718798, 0.3055630578442188, -0.9968905369278432, -0.26813815078501313, 0.8815010974953065, 0.08239098736768034, 2.472374466696041, -3.759514287701006, 1.5249236438195204, -5.445641928554381, -1.0430948040659147, 1.4621475904715857, 6.322968549417453, 2.494171533733847, -0.3199844314419025, -5.06225885421413, -3.4583003378412225, 3.37295544635932, -0.8640897118136849, 0.5957672338932127, 0.0719123231472628, 0.14691042105691604, -0.9631130932040183, 0.3722494812092235, -0.5652872640243672, -0.03258726842125909, 0.6348512194266727, 2.1490929778898042, 0.32244249924900625, -0.85437067971525, 1.6426572398339987, -0.5139638899217011, -0.5244230169371114, -0.7578270669860044, -0.14482093771093987, 0.6108308759499683, -2.300390804491716, -0.08729981895905112, 0.48137932695687236, 1.3011740986345635, 0.25816357329999523, 2.396112657404948, -0.15056905581420435, -1.0639469651566535, 0.1414904638248803, 0.010607261534787743, -0.6627122198072684, -0.3949454221419918, 3.507119245378612, 1.1583587959349049, -1.0881969399081879], \"yaxis\": \"y\"}],\n",
              "                        {\"legend\": {\"tracegroupgap\": 0}, \"template\": {\"data\": {\"bar\": [{\"error_x\": {\"color\": \"#2a3f5f\"}, \"error_y\": {\"color\": \"#2a3f5f\"}, \"marker\": {\"line\": {\"color\": \"#E5ECF6\", \"width\": 0.5}}, \"type\": \"bar\"}], \"barpolar\": [{\"marker\": {\"line\": {\"color\": \"#E5ECF6\", \"width\": 0.5}}, \"type\": \"barpolar\"}], \"carpet\": [{\"aaxis\": {\"endlinecolor\": \"#2a3f5f\", \"gridcolor\": \"white\", \"linecolor\": \"white\", \"minorgridcolor\": \"white\", \"startlinecolor\": \"#2a3f5f\"}, \"baxis\": {\"endlinecolor\": \"#2a3f5f\", \"gridcolor\": \"white\", \"linecolor\": \"white\", \"minorgridcolor\": \"white\", \"startlinecolor\": \"#2a3f5f\"}, \"type\": \"carpet\"}], \"choropleth\": [{\"colorbar\": {\"outlinewidth\": 0, \"ticks\": \"\"}, \"type\": \"choropleth\"}], \"contour\": [{\"colorbar\": {\"outlinewidth\": 0, \"ticks\": \"\"}, \"colorscale\": [[0.0, \"#0d0887\"], [0.1111111111111111, \"#46039f\"], [0.2222222222222222, \"#7201a8\"], [0.3333333333333333, \"#9c179e\"], [0.4444444444444444, \"#bd3786\"], [0.5555555555555556, \"#d8576b\"], [0.6666666666666666, \"#ed7953\"], [0.7777777777777778, \"#fb9f3a\"], [0.8888888888888888, \"#fdca26\"], [1.0, \"#f0f921\"]], \"type\": \"contour\"}], \"contourcarpet\": [{\"colorbar\": {\"outlinewidth\": 0, \"ticks\": \"\"}, \"type\": \"contourcarpet\"}], \"heatmap\": [{\"colorbar\": {\"outlinewidth\": 0, \"ticks\": \"\"}, \"colorscale\": [[0.0, \"#0d0887\"], [0.1111111111111111, \"#46039f\"], [0.2222222222222222, \"#7201a8\"], [0.3333333333333333, \"#9c179e\"], [0.4444444444444444, \"#bd3786\"], [0.5555555555555556, \"#d8576b\"], [0.6666666666666666, \"#ed7953\"], [0.7777777777777778, \"#fb9f3a\"], [0.8888888888888888, \"#fdca26\"], [1.0, \"#f0f921\"]], \"type\": \"heatmap\"}], \"heatmapgl\": [{\"colorbar\": {\"outlinewidth\": 0, \"ticks\": \"\"}, \"colorscale\": [[0.0, \"#0d0887\"], [0.1111111111111111, \"#46039f\"], [0.2222222222222222, \"#7201a8\"], [0.3333333333333333, \"#9c179e\"], [0.4444444444444444, \"#bd3786\"], [0.5555555555555556, \"#d8576b\"], [0.6666666666666666, \"#ed7953\"], [0.7777777777777778, \"#fb9f3a\"], [0.8888888888888888, \"#fdca26\"], [1.0, \"#f0f921\"]], \"type\": \"heatmapgl\"}], \"histogram\": [{\"marker\": {\"colorbar\": {\"outlinewidth\": 0, \"ticks\": \"\"}}, \"type\": \"histogram\"}], \"histogram2d\": [{\"colorbar\": {\"outlinewidth\": 0, \"ticks\": \"\"}, \"colorscale\": [[0.0, \"#0d0887\"], [0.1111111111111111, \"#46039f\"], [0.2222222222222222, \"#7201a8\"], [0.3333333333333333, \"#9c179e\"], [0.4444444444444444, \"#bd3786\"], [0.5555555555555556, \"#d8576b\"], [0.6666666666666666, \"#ed7953\"], [0.7777777777777778, \"#fb9f3a\"], [0.8888888888888888, \"#fdca26\"], [1.0, \"#f0f921\"]], \"type\": \"histogram2d\"}], \"histogram2dcontour\": [{\"colorbar\": {\"outlinewidth\": 0, \"ticks\": \"\"}, \"colorscale\": [[0.0, \"#0d0887\"], [0.1111111111111111, \"#46039f\"], [0.2222222222222222, \"#7201a8\"], [0.3333333333333333, \"#9c179e\"], [0.4444444444444444, \"#bd3786\"], [0.5555555555555556, \"#d8576b\"], [0.6666666666666666, \"#ed7953\"], [0.7777777777777778, \"#fb9f3a\"], [0.8888888888888888, \"#fdca26\"], [1.0, \"#f0f921\"]], \"type\": \"histogram2dcontour\"}], \"mesh3d\": [{\"colorbar\": {\"outlinewidth\": 0, \"ticks\": \"\"}, \"type\": \"mesh3d\"}], \"parcoords\": [{\"line\": {\"colorbar\": {\"outlinewidth\": 0, \"ticks\": \"\"}}, \"type\": \"parcoords\"}], \"pie\": [{\"automargin\": true, \"type\": \"pie\"}], \"scatter\": [{\"marker\": {\"colorbar\": {\"outlinewidth\": 0, \"ticks\": \"\"}}, \"type\": \"scatter\"}], \"scatter3d\": [{\"line\": {\"colorbar\": {\"outlinewidth\": 0, \"ticks\": \"\"}}, \"marker\": {\"colorbar\": {\"outlinewidth\": 0, \"ticks\": \"\"}}, \"type\": \"scatter3d\"}], \"scattercarpet\": [{\"marker\": {\"colorbar\": {\"outlinewidth\": 0, \"ticks\": \"\"}}, \"type\": \"scattercarpet\"}], \"scattergeo\": [{\"marker\": {\"colorbar\": {\"outlinewidth\": 0, \"ticks\": \"\"}}, \"type\": \"scattergeo\"}], \"scattergl\": [{\"marker\": {\"colorbar\": {\"outlinewidth\": 0, \"ticks\": \"\"}}, \"type\": \"scattergl\"}], \"scattermapbox\": [{\"marker\": {\"colorbar\": {\"outlinewidth\": 0, \"ticks\": \"\"}}, \"type\": \"scattermapbox\"}], \"scatterpolar\": [{\"marker\": {\"colorbar\": {\"outlinewidth\": 0, \"ticks\": \"\"}}, \"type\": \"scatterpolar\"}], \"scatterpolargl\": [{\"marker\": {\"colorbar\": {\"outlinewidth\": 0, \"ticks\": \"\"}}, \"type\": \"scatterpolargl\"}], \"scatterternary\": [{\"marker\": {\"colorbar\": {\"outlinewidth\": 0, \"ticks\": \"\"}}, \"type\": \"scatterternary\"}], \"surface\": [{\"colorbar\": {\"outlinewidth\": 0, \"ticks\": \"\"}, \"colorscale\": [[0.0, \"#0d0887\"], [0.1111111111111111, \"#46039f\"], [0.2222222222222222, \"#7201a8\"], [0.3333333333333333, \"#9c179e\"], [0.4444444444444444, \"#bd3786\"], [0.5555555555555556, \"#d8576b\"], [0.6666666666666666, \"#ed7953\"], [0.7777777777777778, \"#fb9f3a\"], [0.8888888888888888, \"#fdca26\"], [1.0, \"#f0f921\"]], \"type\": \"surface\"}], \"table\": [{\"cells\": {\"fill\": {\"color\": \"#EBF0F8\"}, \"line\": {\"color\": \"white\"}}, \"header\": {\"fill\": {\"color\": \"#C8D4E3\"}, \"line\": {\"color\": \"white\"}}, \"type\": \"table\"}]}, \"layout\": {\"annotationdefaults\": {\"arrowcolor\": \"#2a3f5f\", \"arrowhead\": 0, \"arrowwidth\": 1}, \"coloraxis\": {\"colorbar\": {\"outlinewidth\": 0, \"ticks\": \"\"}}, \"colorscale\": {\"diverging\": [[0, \"#8e0152\"], [0.1, \"#c51b7d\"], [0.2, \"#de77ae\"], [0.3, \"#f1b6da\"], [0.4, \"#fde0ef\"], [0.5, \"#f7f7f7\"], [0.6, \"#e6f5d0\"], [0.7, \"#b8e186\"], [0.8, \"#7fbc41\"], [0.9, \"#4d9221\"], [1, \"#276419\"]], \"sequential\": [[0.0, \"#0d0887\"], [0.1111111111111111, \"#46039f\"], [0.2222222222222222, \"#7201a8\"], [0.3333333333333333, \"#9c179e\"], [0.4444444444444444, \"#bd3786\"], [0.5555555555555556, \"#d8576b\"], [0.6666666666666666, \"#ed7953\"], [0.7777777777777778, \"#fb9f3a\"], [0.8888888888888888, \"#fdca26\"], [1.0, \"#f0f921\"]], \"sequentialminus\": [[0.0, \"#0d0887\"], [0.1111111111111111, \"#46039f\"], [0.2222222222222222, \"#7201a8\"], [0.3333333333333333, \"#9c179e\"], [0.4444444444444444, \"#bd3786\"], [0.5555555555555556, \"#d8576b\"], [0.6666666666666666, \"#ed7953\"], [0.7777777777777778, \"#fb9f3a\"], [0.8888888888888888, \"#fdca26\"], [1.0, \"#f0f921\"]]}, \"colorway\": [\"#636efa\", \"#EF553B\", \"#00cc96\", \"#ab63fa\", \"#FFA15A\", \"#19d3f3\", \"#FF6692\", \"#B6E880\", \"#FF97FF\", \"#FECB52\"], \"font\": {\"color\": \"#2a3f5f\"}, \"geo\": {\"bgcolor\": \"white\", \"lakecolor\": \"white\", \"landcolor\": \"#E5ECF6\", \"showlakes\": true, \"showland\": true, \"subunitcolor\": \"white\"}, \"hoverlabel\": {\"align\": \"left\"}, \"hovermode\": \"closest\", \"mapbox\": {\"style\": \"light\"}, \"paper_bgcolor\": \"white\", \"plot_bgcolor\": \"#E5ECF6\", \"polar\": {\"angularaxis\": {\"gridcolor\": \"white\", \"linecolor\": \"white\", \"ticks\": \"\"}, \"bgcolor\": \"#E5ECF6\", \"radialaxis\": {\"gridcolor\": \"white\", \"linecolor\": \"white\", \"ticks\": \"\"}}, \"scene\": {\"xaxis\": {\"backgroundcolor\": \"#E5ECF6\", \"gridcolor\": \"white\", \"gridwidth\": 2, \"linecolor\": \"white\", \"showbackground\": true, \"ticks\": \"\", \"zerolinecolor\": \"white\"}, \"yaxis\": {\"backgroundcolor\": \"#E5ECF6\", \"gridcolor\": \"white\", \"gridwidth\": 2, \"linecolor\": \"white\", \"showbackground\": true, \"ticks\": \"\", \"zerolinecolor\": \"white\"}, \"zaxis\": {\"backgroundcolor\": \"#E5ECF6\", \"gridcolor\": \"white\", \"gridwidth\": 2, \"linecolor\": \"white\", \"showbackground\": true, \"ticks\": \"\", \"zerolinecolor\": \"white\"}}, \"shapedefaults\": {\"line\": {\"color\": \"#2a3f5f\"}}, \"ternary\": {\"aaxis\": {\"gridcolor\": \"white\", \"linecolor\": \"white\", \"ticks\": \"\"}, \"baxis\": {\"gridcolor\": \"white\", \"linecolor\": \"white\", \"ticks\": \"\"}, \"bgcolor\": \"#E5ECF6\", \"caxis\": {\"gridcolor\": \"white\", \"linecolor\": \"white\", \"ticks\": \"\"}}, \"title\": {\"x\": 0.05}, \"xaxis\": {\"automargin\": true, \"gridcolor\": \"white\", \"linecolor\": \"white\", \"ticks\": \"\", \"title\": {\"standoff\": 15}, \"zerolinecolor\": \"white\", \"zerolinewidth\": 2}, \"yaxis\": {\"automargin\": true, \"gridcolor\": \"white\", \"linecolor\": \"white\", \"ticks\": \"\", \"title\": {\"standoff\": 15}, \"zerolinecolor\": \"white\", \"zerolinewidth\": 2}}}, \"title\": {\"text\": \"AMZN\"}, \"xaxis\": {\"anchor\": \"y\", \"domain\": [0.0, 1.0], \"title\": {\"text\": \"^IXIC\"}}, \"yaxis\": {\"anchor\": \"x\", \"domain\": [0.0, 1.0], \"title\": {\"text\": \"AMZN\"}}},\n",
              "                        {\"responsive\": true}\n",
              "                    ).then(function(){\n",
              "                            \n",
              "var gd = document.getElementById('b5352a08-eca8-4017-9aca-c13e1b0de149');\n",
              "var x = new MutationObserver(function (mutations, observer) {{\n",
              "        var display = window.getComputedStyle(gd).display;\n",
              "        if (!display || display === 'none') {{\n",
              "            console.log([gd, 'removed!']);\n",
              "            Plotly.purge(gd);\n",
              "            observer.disconnect();\n",
              "        }}\n",
              "}});\n",
              "\n",
              "// Listen for the removal of the full notebook cells\n",
              "var notebookContainer = gd.closest('#notebook-container');\n",
              "if (notebookContainer) {{\n",
              "    x.observe(notebookContainer, {childList: true});\n",
              "}}\n",
              "\n",
              "// Listen for the clearing of the current output cell\n",
              "var outputEl = gd.closest('.output');\n",
              "if (outputEl) {{\n",
              "    x.observe(outputEl, {childList: true});\n",
              "}}\n",
              "\n",
              "                        })\n",
              "                };\n",
              "                \n",
              "            </script>\n",
              "        </div>\n",
              "</body>\n",
              "</html>"
            ]
          },
          "metadata": {}
        },
        {
          "output_type": "display_data",
          "data": {
            "text/html": [
              "<html>\n",
              "<head><meta charset=\"utf-8\" /></head>\n",
              "<body>\n",
              "    <div>\n",
              "            <script src=\"https://cdnjs.cloudflare.com/ajax/libs/mathjax/2.7.5/MathJax.js?config=TeX-AMS-MML_SVG\"></script><script type=\"text/javascript\">if (window.MathJax) {MathJax.Hub.Config({SVG: {font: \"STIX-Web\"}});}</script>\n",
              "                <script type=\"text/javascript\">window.PlotlyConfig = {MathJaxConfig: 'local'};</script>\n",
              "        <script src=\"https://cdn.plot.ly/plotly-latest.min.js\"></script>    \n",
              "            <div id=\"cb626ff3-0600-4ac8-8efa-7130101703bb\" class=\"plotly-graph-div\" style=\"height:525px; width:100%;\"></div>\n",
              "            <script type=\"text/javascript\">\n",
              "                \n",
              "                    window.PLOTLYENV=window.PLOTLYENV || {};\n",
              "                    \n",
              "                if (document.getElementById(\"cb626ff3-0600-4ac8-8efa-7130101703bb\")) {\n",
              "                    Plotly.newPlot(\n",
              "                        'cb626ff3-0600-4ac8-8efa-7130101703bb',\n",
              "                        [{\"hoverlabel\": {\"namelength\": 0}, \"hovertemplate\": \"^IXIC=%{x}<br>ASML=%{y}\", \"legendgroup\": \"\", \"marker\": {\"color\": \"#636efa\", \"symbol\": \"circle\"}, \"mode\": \"markers\", \"name\": \"\", \"showlegend\": false, \"type\": \"scatter\", \"x\": [0.0, -0.7855191660339514, 0.5620384728471665, -0.031854247708491115, 0.6689046766684335, 0.8126574744484102, -0.2669584793033168, 1.0357422631592443, -0.24368967780143092, 0.0796654872895177, 1.063104814105905, 0.33996051431786484, -0.19310868474221926, 0.13830140117838088, 0.19939681423002234, -0.9313533039610973, -1.8851559810233676, 1.4264766521421406, 0.05912252564012881, 0.256270844379793, -1.591465499641676, 1.3382226873668104, 2.0981444534002978, 0.42997561370826654, 0.6675027996624794, -0.5394882329740349, 1.1331313707803117, 0.10957991559587729, 0.9027914622439598, -0.1438442521991573, 0.19779675470939986, 0.01603656416913738, 0.8675814939226352, -0.6744295515116596, -1.7883337524623202, -3.7101888679547743, -2.7726076455074673, 0.16920121754294432, -4.613182731047064, 0.010385226940578262, 4.491457698501092, -2.9945821009265603, 3.846114054662644, -3.0993259641753057, -1.8649430797928905, -7.287402343694397, 4.950140308971453, -4.700245022770171, -9.434674309481181, 9.345998172386109, -12.321331290147407, 6.230492341201929, -4.702798877538514, 2.2996268579562185, -3.7907422283539605, -0.274003093278801, 8.121509236724387, -0.4524223861369213, 5.59620065957612, -3.7852983732224246, 3.6224507926325984, -0.952513208745505, -4.409293583528775, 1.7217390358319775, -1.52564779039222, 7.3261127035984215, -0.32831644156512807, 2.581887027561507, 0.7746996815903381, 0.47635325069293516, 3.946578856836743, -1.4392236435332642, 1.6582590775434294, 1.3803835283800632, -1.0336154480887512, -3.475170735558033, 2.8094268330097516, -0.007414416084845749, 1.6453636805085496, 1.1076542783169119, -1.4023761913732073, 3.5663232405100977, -0.2822319106313816, -3.2015075636893258, 1.2290572661607275, 1.1297604522629348, 0.5138939036791482, 1.4147842232649654, 1.5775670101657695, 0.7786102101104126, -2.0646542913830683, -1.5482267339407207, 0.9088148528970065, 0.7920624294565988, 2.443497168047047, -0.5385098407798431, 2.07597818392603, -0.9695234740358589, 0.4276841643477609, 0.16762005701490723, 0.7723653951613199, -0.4607783336758918, 1.2902124966358643, 0.6552216914685036, 0.5897171735574182, 0.7756799205120937, -0.6929795366756427, 2.061922153956055, 1.1276647530284236, 0.2921987959394443, 0.6690906379505211, -5.265476367524758, 1.012133462324583, 1.4309384280850652, 1.7463525072283153, 0.14814418617457112, 0.32813109241147087, 0.030878981402190583, 1.1095819300612568, 0.7446904378745204, -2.193189990518118, 1.088184772035845, -2.59339396463512, 1.1984014641401854, 1.8697217818384297, 0.9530027630585096, 0.5219294116244121, 2.2142310252948234, -0.8603004588705903, 1.4366969932335696, 0.5265665951870384, 0.660713703751985, -2.1342298780777758, 0.940638445445677, 0.5902625120736783, -0.7266027885626613, 0.2803210606196508, 2.512564309189163, -0.8055054192553627, 0.2412796048237268, -2.285699534902473, -0.9390717044975707, 1.6702387584650282, -1.273502800037816, 1.3540604633609157, 0.4255846926598821, 1.487181648780377, 1.4660430152948845, 0.3519290262580381, 0.5230744898274311, 0.997144293532742, -0.8740477960491844, -0.387069228834427, -1.6915932109767786, 2.1276430027220674, 0.27478301400057853, -0.21009911987774507, 1.002156815948722, 0.7287631558350716, -0.5742645841862735, 1.0630301888693465, 0.41588829566680874, 0.6004342637575202, 0.7623210596084231, 1.731917917944346, -0.34050170359683757, 0.6046278217001049, 0.68256330719148, 1.3945099510527015, 0.9780044890400321, -4.9628314741983, -1.265216148443028, -4.114152829024972, 2.709047999938783, -1.9922680048667027, -0.6047849782590421, 1.8712825719911805, 1.2089549470456218, -1.2497460486567282, -1.2686289053217388, -1.0723830833645196, -0.1341618894641025, 1.714846245401242, -3.015872690686464, 0.3694096957600452, 2.26090653310401, 1.868965865910965, -0.29035471587269224, 0.7420650470219435, 1.423773100153644, -2.220368318034313, 2.3247878019402477, -1.5697399364210516, 1.882631446703863, 0.4961095094673616, 1.3918241202884905, 2.5589020749867237, -0.10406790726970577, -0.802180722540493, -0.4661535218957812, -0.361200409870677, -1.6508478266271756, 0.32764827183891476, -0.2761240971887628, 0.1856326565180225, 0.3673776458871612, -1.6395501257923704, 0.6374642083539132, -3.7307886361706455, 1.64217954994535, -2.449580253052983, 0.421758043250314, 1.852228309145515, 3.8547309760295905, 2.5895531360416695, 0.03616858700729745, -1.5254029401884093, -1.3652289708527225, 2.0129145485651314, -0.6519348588783579, 1.0222407181613629, 0.8017374114323119, -0.20789809660017614, -0.821392074337107, 0.8736981000490036, -0.4178197918152635, 0.2164506265461421, 1.314409739132722, 0.4786188956984337, 0.9214943705385352, -0.05824563817777561, 1.281854635668546, -0.04646040554606666, 0.22519019228191595, 0.703316776906088, 0.44703703692096414, 0.5017538804668705, -1.9377239274069296, 0.541856267686367, -0.2252126551407012, 0.5022667170232535, 1.2461337002391393, 0.5012350995449372, 0.8418230939438529, -0.07137117109618285, -0.10285738347200132, 0.5132453630116934, -0.28739694296208024, 0.26325132476352536, 0.7394880615104708, -0.38141401404466013, 0.1539294569151412], \"xaxis\": \"x\", \"y\": [0.0, -1.6114537061293774, -0.7954426969701932, 1.0859950033385255, 1.037523701524401, -0.16893543771412298, -1.7254016098720732, 1.7793310826168645, 0.3648963559126527, -0.8163987287921075, 0.3332506286975893, -0.3454159689524615, -0.5466128764492693, -0.7205077394920867, -0.6514660357254021, 0.5130425193549034, -3.9042720189367377, 2.0754167893718534, 2.05390707932817, -0.5943131841632581, -4.66064712613341, 2.672283322394535, 3.8416133033354143, 2.369412248174289, 1.054441115158632, -1.479553215032923, 1.5444027954784194, 2.044059431709556, 0.4525091164374968, -0.0598571716246071, -0.2994553755130889, -2.251011051639176, 2.655405637559439, -1.2350636334385467, -2.38301717293804, -5.0980445584147365, -2.000680785070028, 0.6078968647878167, -3.1747688942624515, -0.18758269400383676, 3.8957722832143706, -1.1095946384899227, 6.088634575585437, -4.429562594144933, -0.048563207215766235, -8.399568088728312, 6.005845982466733, -5.583355097335314, -8.855164249349007, 6.728979311161332, -10.737502882884636, 3.915242671963214, -17.349166664723164, 8.650183073093087, 0.9671603105872759, 7.889858831388982, 11.606264777402044, 0.714815946642773, 5.277208144694541, -8.437841555666612, 6.100079549486473, -2.384054945379065, -4.827257680790384, -0.6947505203048486, -1.0797474698940828, 10.841750399678226, 0.5384835556817031, 2.197432707092767, -0.6353445797951888, -0.9790184357615441, 5.4104335311660625, -2.228916976121197, 3.508093013493548, 1.1114825135460678, -1.376634307364315, -3.5976259417965992, 4.937922760775491, -1.888338139738132, 1.353747497590292, -0.32209862509558257, 0.17877552391336518, 4.21727072068439, -5.031119434671444, -3.2486164892115457, 1.476373347062464, 1.825696814217921, 1.2311467992847116, 2.634457531068012, 1.605537401055754, -0.0032804703205251656, -2.5493623515424924, -0.8090856744571371, 2.827700571839116, -3.3085323061949214, 4.22164796647788, 0.44605174369529416, 6.331437338359355, -2.0421382433067023, 0.11598958077982718, 0.15657096313847718, -0.4158100216872106, 0.452078885725431, 2.9815256836007924, -0.8436684537205268, 2.448504905595579, 3.4565029178700537, 1.9665049746211627, 1.163946866329361, -2.2311216505113656, 0.022899984340387196, -0.4036176681965303, -4.319958769055668, 3.0580665478964058, 2.0229213006565474, 0.5828263862437769, 2.942768994453633, -0.9740375075105143, 0.4987739123898289, 1.0036887166162627, 0.6450990940020334, -1.3801116133401348, 1.3745189650986644, -1.3067700977847878, 0.8430966735451134, 0.8826485638884477, -0.11955210372046648, 1.531597067500989, 3.279562115845146, -0.8924360981031658, 2.594100631647185, 0.7118667214282585, 0.28628354790458316, -1.8264549909721612, 2.112597940049988, -5.392727242319542, 2.6076683756332923, -0.4231301694363148, 2.05688462531388, -1.956675536018668, 2.287529351904975, -2.1319398020270617, -4.30732010837331, 3.8348577087154716, -1.4196711068174506, -3.1193506293333613, -0.5183424569088648, -2.4839427164148105, 3.644118817928958, 1.0147064677867803, -0.49145027195949054, 0.19538649740396263, -0.8558389055327668, -0.18029668839442783, -1.1220262394715443, 3.7364033495105584, -0.013337480221262812, -0.9766272728085142, 1.9967694872949975, -0.3408114600319114, -0.6044240097227832, -0.7387811639116059, -0.013440345340922451, 1.577446446895738, 0.7513451046125641, 1.336554081665172, -2.513475797067203, 0.8638586360872993, -1.3940470780961092, 3.3994262864091103, 2.9956105335441623, -5.60365765458459, -2.32347704658218, -5.462416212222119, 3.460492020243818, -0.6594882607071192, 0.6246463245074577, 2.4246313581687007, 0.6278271134332606, -2.1255911162340837, 1.2031468129764278, -0.10907287968488083, -1.0154459807513807, 0.5570682509226218, -1.9416467035342118, 0.7271543928517323, 0.08884223737751774, 2.934970384364008, 0.7923302609596564, -1.264703106049509, 3.4500518746298905, -3.143905271759763, 3.2729767598944277, -3.1404612981970352, 1.537382063048529, 1.3544518215546395, 2.1265932206507148, 2.5836137196111943, 1.5311799893187994, -1.7573724820480376, -2.879184291585745, 0.08536376289189537, -0.4109531057780175, -0.09084208588165506, -0.509136725518956, -1.9582261454453302, 0.8149060772694056, -2.9242366173368937, -0.30476237297108655, -0.958058170842623, 2.2047073543139177, -2.6020561307165524, 1.499658687104327, 1.8756365035764881, 2.9403882007709, 3.9660536361052268, 2.021649633510429, 0.022150338263541562, -1.7301157174197557, 4.695716840483737, -1.2749656832932383, 1.664566254351057, 1.649231186695859, -0.00703254561646362, -0.6260625811401133, -0.1061818981204078, 0.05432939881971821, 0.8404381420113939, -0.674234672674067, -0.18619937364120662, 3.3744134594063753, -0.009130885794502075, 2.6294737647304043, 0.39177375937457903, 0.4212858549870811, 2.536985955882507, 1.1498960313981883, -0.24695513653782722, -3.3463512434598277, 1.0841438404813264, -1.1293103356060783, 0.0795341336469619, 3.600522175746692, 0.4751758137467333, 1.2236750924891464, -0.012568410467356985, -1.0435015939837973, 0.8300527615616945, -0.32761154025630446, 1.784590145539879, -0.5899582788155066, 0.7850313975594476, 1.218979242737728], \"yaxis\": \"y\"}],\n",
              "                        {\"legend\": {\"tracegroupgap\": 0}, \"template\": {\"data\": {\"bar\": [{\"error_x\": {\"color\": \"#2a3f5f\"}, \"error_y\": {\"color\": \"#2a3f5f\"}, \"marker\": {\"line\": {\"color\": \"#E5ECF6\", \"width\": 0.5}}, \"type\": \"bar\"}], \"barpolar\": [{\"marker\": {\"line\": {\"color\": \"#E5ECF6\", \"width\": 0.5}}, \"type\": \"barpolar\"}], \"carpet\": [{\"aaxis\": {\"endlinecolor\": \"#2a3f5f\", \"gridcolor\": \"white\", \"linecolor\": \"white\", \"minorgridcolor\": \"white\", \"startlinecolor\": \"#2a3f5f\"}, \"baxis\": {\"endlinecolor\": \"#2a3f5f\", \"gridcolor\": \"white\", \"linecolor\": \"white\", \"minorgridcolor\": \"white\", \"startlinecolor\": \"#2a3f5f\"}, \"type\": \"carpet\"}], \"choropleth\": [{\"colorbar\": {\"outlinewidth\": 0, \"ticks\": \"\"}, \"type\": \"choropleth\"}], \"contour\": [{\"colorbar\": {\"outlinewidth\": 0, \"ticks\": \"\"}, \"colorscale\": [[0.0, \"#0d0887\"], [0.1111111111111111, \"#46039f\"], [0.2222222222222222, \"#7201a8\"], [0.3333333333333333, \"#9c179e\"], [0.4444444444444444, \"#bd3786\"], [0.5555555555555556, \"#d8576b\"], [0.6666666666666666, \"#ed7953\"], [0.7777777777777778, \"#fb9f3a\"], [0.8888888888888888, \"#fdca26\"], [1.0, \"#f0f921\"]], \"type\": \"contour\"}], \"contourcarpet\": [{\"colorbar\": {\"outlinewidth\": 0, \"ticks\": \"\"}, \"type\": \"contourcarpet\"}], \"heatmap\": [{\"colorbar\": {\"outlinewidth\": 0, \"ticks\": \"\"}, \"colorscale\": [[0.0, \"#0d0887\"], [0.1111111111111111, \"#46039f\"], [0.2222222222222222, \"#7201a8\"], [0.3333333333333333, \"#9c179e\"], [0.4444444444444444, \"#bd3786\"], [0.5555555555555556, \"#d8576b\"], [0.6666666666666666, \"#ed7953\"], [0.7777777777777778, \"#fb9f3a\"], [0.8888888888888888, \"#fdca26\"], [1.0, \"#f0f921\"]], \"type\": \"heatmap\"}], \"heatmapgl\": [{\"colorbar\": {\"outlinewidth\": 0, \"ticks\": \"\"}, \"colorscale\": [[0.0, \"#0d0887\"], [0.1111111111111111, \"#46039f\"], [0.2222222222222222, \"#7201a8\"], [0.3333333333333333, \"#9c179e\"], [0.4444444444444444, \"#bd3786\"], [0.5555555555555556, \"#d8576b\"], [0.6666666666666666, \"#ed7953\"], [0.7777777777777778, \"#fb9f3a\"], [0.8888888888888888, \"#fdca26\"], [1.0, \"#f0f921\"]], \"type\": \"heatmapgl\"}], \"histogram\": [{\"marker\": {\"colorbar\": {\"outlinewidth\": 0, \"ticks\": \"\"}}, \"type\": \"histogram\"}], \"histogram2d\": [{\"colorbar\": {\"outlinewidth\": 0, \"ticks\": \"\"}, \"colorscale\": [[0.0, \"#0d0887\"], [0.1111111111111111, \"#46039f\"], [0.2222222222222222, \"#7201a8\"], [0.3333333333333333, \"#9c179e\"], [0.4444444444444444, \"#bd3786\"], [0.5555555555555556, \"#d8576b\"], [0.6666666666666666, \"#ed7953\"], [0.7777777777777778, \"#fb9f3a\"], [0.8888888888888888, \"#fdca26\"], [1.0, \"#f0f921\"]], \"type\": \"histogram2d\"}], \"histogram2dcontour\": [{\"colorbar\": {\"outlinewidth\": 0, \"ticks\": \"\"}, \"colorscale\": [[0.0, \"#0d0887\"], [0.1111111111111111, \"#46039f\"], [0.2222222222222222, \"#7201a8\"], [0.3333333333333333, \"#9c179e\"], [0.4444444444444444, \"#bd3786\"], [0.5555555555555556, \"#d8576b\"], [0.6666666666666666, \"#ed7953\"], [0.7777777777777778, \"#fb9f3a\"], [0.8888888888888888, \"#fdca26\"], [1.0, \"#f0f921\"]], \"type\": \"histogram2dcontour\"}], \"mesh3d\": [{\"colorbar\": {\"outlinewidth\": 0, \"ticks\": \"\"}, \"type\": \"mesh3d\"}], \"parcoords\": [{\"line\": {\"colorbar\": {\"outlinewidth\": 0, \"ticks\": \"\"}}, \"type\": \"parcoords\"}], \"pie\": [{\"automargin\": true, \"type\": \"pie\"}], \"scatter\": [{\"marker\": {\"colorbar\": {\"outlinewidth\": 0, \"ticks\": \"\"}}, \"type\": \"scatter\"}], \"scatter3d\": [{\"line\": {\"colorbar\": {\"outlinewidth\": 0, \"ticks\": \"\"}}, \"marker\": {\"colorbar\": {\"outlinewidth\": 0, \"ticks\": \"\"}}, \"type\": \"scatter3d\"}], \"scattercarpet\": [{\"marker\": {\"colorbar\": {\"outlinewidth\": 0, \"ticks\": \"\"}}, \"type\": \"scattercarpet\"}], \"scattergeo\": [{\"marker\": {\"colorbar\": {\"outlinewidth\": 0, \"ticks\": \"\"}}, \"type\": \"scattergeo\"}], \"scattergl\": [{\"marker\": {\"colorbar\": {\"outlinewidth\": 0, \"ticks\": \"\"}}, \"type\": \"scattergl\"}], \"scattermapbox\": [{\"marker\": {\"colorbar\": {\"outlinewidth\": 0, \"ticks\": \"\"}}, \"type\": \"scattermapbox\"}], \"scatterpolar\": [{\"marker\": {\"colorbar\": {\"outlinewidth\": 0, \"ticks\": \"\"}}, \"type\": \"scatterpolar\"}], \"scatterpolargl\": [{\"marker\": {\"colorbar\": {\"outlinewidth\": 0, \"ticks\": \"\"}}, \"type\": \"scatterpolargl\"}], \"scatterternary\": [{\"marker\": {\"colorbar\": {\"outlinewidth\": 0, \"ticks\": \"\"}}, \"type\": \"scatterternary\"}], \"surface\": [{\"colorbar\": {\"outlinewidth\": 0, \"ticks\": \"\"}, \"colorscale\": [[0.0, \"#0d0887\"], [0.1111111111111111, \"#46039f\"], [0.2222222222222222, \"#7201a8\"], [0.3333333333333333, \"#9c179e\"], [0.4444444444444444, \"#bd3786\"], [0.5555555555555556, \"#d8576b\"], [0.6666666666666666, \"#ed7953\"], [0.7777777777777778, \"#fb9f3a\"], [0.8888888888888888, \"#fdca26\"], [1.0, \"#f0f921\"]], \"type\": \"surface\"}], \"table\": [{\"cells\": {\"fill\": {\"color\": \"#EBF0F8\"}, \"line\": {\"color\": \"white\"}}, \"header\": {\"fill\": {\"color\": \"#C8D4E3\"}, \"line\": {\"color\": \"white\"}}, \"type\": \"table\"}]}, \"layout\": {\"annotationdefaults\": {\"arrowcolor\": \"#2a3f5f\", \"arrowhead\": 0, \"arrowwidth\": 1}, \"coloraxis\": {\"colorbar\": {\"outlinewidth\": 0, \"ticks\": \"\"}}, \"colorscale\": {\"diverging\": [[0, \"#8e0152\"], [0.1, \"#c51b7d\"], [0.2, \"#de77ae\"], [0.3, \"#f1b6da\"], [0.4, \"#fde0ef\"], [0.5, \"#f7f7f7\"], [0.6, \"#e6f5d0\"], [0.7, \"#b8e186\"], [0.8, \"#7fbc41\"], [0.9, \"#4d9221\"], [1, \"#276419\"]], \"sequential\": [[0.0, \"#0d0887\"], [0.1111111111111111, \"#46039f\"], [0.2222222222222222, \"#7201a8\"], [0.3333333333333333, \"#9c179e\"], [0.4444444444444444, \"#bd3786\"], [0.5555555555555556, \"#d8576b\"], [0.6666666666666666, \"#ed7953\"], [0.7777777777777778, \"#fb9f3a\"], [0.8888888888888888, \"#fdca26\"], [1.0, \"#f0f921\"]], \"sequentialminus\": [[0.0, \"#0d0887\"], [0.1111111111111111, \"#46039f\"], [0.2222222222222222, \"#7201a8\"], [0.3333333333333333, \"#9c179e\"], [0.4444444444444444, \"#bd3786\"], [0.5555555555555556, \"#d8576b\"], [0.6666666666666666, \"#ed7953\"], [0.7777777777777778, \"#fb9f3a\"], [0.8888888888888888, \"#fdca26\"], [1.0, \"#f0f921\"]]}, \"colorway\": [\"#636efa\", \"#EF553B\", \"#00cc96\", \"#ab63fa\", \"#FFA15A\", \"#19d3f3\", \"#FF6692\", \"#B6E880\", \"#FF97FF\", \"#FECB52\"], \"font\": {\"color\": \"#2a3f5f\"}, \"geo\": {\"bgcolor\": \"white\", \"lakecolor\": \"white\", \"landcolor\": \"#E5ECF6\", \"showlakes\": true, \"showland\": true, \"subunitcolor\": \"white\"}, \"hoverlabel\": {\"align\": \"left\"}, \"hovermode\": \"closest\", \"mapbox\": {\"style\": \"light\"}, \"paper_bgcolor\": \"white\", \"plot_bgcolor\": \"#E5ECF6\", \"polar\": {\"angularaxis\": {\"gridcolor\": \"white\", \"linecolor\": \"white\", \"ticks\": \"\"}, \"bgcolor\": \"#E5ECF6\", \"radialaxis\": {\"gridcolor\": \"white\", \"linecolor\": \"white\", \"ticks\": \"\"}}, \"scene\": {\"xaxis\": {\"backgroundcolor\": \"#E5ECF6\", \"gridcolor\": \"white\", \"gridwidth\": 2, \"linecolor\": \"white\", \"showbackground\": true, \"ticks\": \"\", \"zerolinecolor\": \"white\"}, \"yaxis\": {\"backgroundcolor\": \"#E5ECF6\", \"gridcolor\": \"white\", \"gridwidth\": 2, \"linecolor\": \"white\", \"showbackground\": true, \"ticks\": \"\", \"zerolinecolor\": \"white\"}, \"zaxis\": {\"backgroundcolor\": \"#E5ECF6\", \"gridcolor\": \"white\", \"gridwidth\": 2, \"linecolor\": \"white\", \"showbackground\": true, \"ticks\": \"\", \"zerolinecolor\": \"white\"}}, \"shapedefaults\": {\"line\": {\"color\": \"#2a3f5f\"}}, \"ternary\": {\"aaxis\": {\"gridcolor\": \"white\", \"linecolor\": \"white\", \"ticks\": \"\"}, \"baxis\": {\"gridcolor\": \"white\", \"linecolor\": \"white\", \"ticks\": \"\"}, \"bgcolor\": \"#E5ECF6\", \"caxis\": {\"gridcolor\": \"white\", \"linecolor\": \"white\", \"ticks\": \"\"}}, \"title\": {\"x\": 0.05}, \"xaxis\": {\"automargin\": true, \"gridcolor\": \"white\", \"linecolor\": \"white\", \"ticks\": \"\", \"title\": {\"standoff\": 15}, \"zerolinecolor\": \"white\", \"zerolinewidth\": 2}, \"yaxis\": {\"automargin\": true, \"gridcolor\": \"white\", \"linecolor\": \"white\", \"ticks\": \"\", \"title\": {\"standoff\": 15}, \"zerolinecolor\": \"white\", \"zerolinewidth\": 2}}}, \"title\": {\"text\": \"ASML\"}, \"xaxis\": {\"anchor\": \"y\", \"domain\": [0.0, 1.0], \"title\": {\"text\": \"^IXIC\"}}, \"yaxis\": {\"anchor\": \"x\", \"domain\": [0.0, 1.0], \"title\": {\"text\": \"ASML\"}}},\n",
              "                        {\"responsive\": true}\n",
              "                    ).then(function(){\n",
              "                            \n",
              "var gd = document.getElementById('cb626ff3-0600-4ac8-8efa-7130101703bb');\n",
              "var x = new MutationObserver(function (mutations, observer) {{\n",
              "        var display = window.getComputedStyle(gd).display;\n",
              "        if (!display || display === 'none') {{\n",
              "            console.log([gd, 'removed!']);\n",
              "            Plotly.purge(gd);\n",
              "            observer.disconnect();\n",
              "        }}\n",
              "}});\n",
              "\n",
              "// Listen for the removal of the full notebook cells\n",
              "var notebookContainer = gd.closest('#notebook-container');\n",
              "if (notebookContainer) {{\n",
              "    x.observe(notebookContainer, {childList: true});\n",
              "}}\n",
              "\n",
              "// Listen for the clearing of the current output cell\n",
              "var outputEl = gd.closest('.output');\n",
              "if (outputEl) {{\n",
              "    x.observe(outputEl, {childList: true});\n",
              "}}\n",
              "\n",
              "                        })\n",
              "                };\n",
              "                \n",
              "            </script>\n",
              "        </div>\n",
              "</body>\n",
              "</html>"
            ]
          },
          "metadata": {}
        },
        {
          "output_type": "display_data",
          "data": {
            "text/html": [
              "<html>\n",
              "<head><meta charset=\"utf-8\" /></head>\n",
              "<body>\n",
              "    <div>\n",
              "            <script src=\"https://cdnjs.cloudflare.com/ajax/libs/mathjax/2.7.5/MathJax.js?config=TeX-AMS-MML_SVG\"></script><script type=\"text/javascript\">if (window.MathJax) {MathJax.Hub.Config({SVG: {font: \"STIX-Web\"}});}</script>\n",
              "                <script type=\"text/javascript\">window.PlotlyConfig = {MathJaxConfig: 'local'};</script>\n",
              "        <script src=\"https://cdn.plot.ly/plotly-latest.min.js\"></script>    \n",
              "            <div id=\"849dc6ad-7343-4629-b908-2876105785ef\" class=\"plotly-graph-div\" style=\"height:525px; width:100%;\"></div>\n",
              "            <script type=\"text/javascript\">\n",
              "                \n",
              "                    window.PLOTLYENV=window.PLOTLYENV || {};\n",
              "                    \n",
              "                if (document.getElementById(\"849dc6ad-7343-4629-b908-2876105785ef\")) {\n",
              "                    Plotly.newPlot(\n",
              "                        '849dc6ad-7343-4629-b908-2876105785ef',\n",
              "                        [{\"hoverlabel\": {\"namelength\": 0}, \"hovertemplate\": \"^IXIC=%{x}<br>FB=%{y}\", \"legendgroup\": \"\", \"marker\": {\"color\": \"#636efa\", \"symbol\": \"circle\"}, \"mode\": \"markers\", \"name\": \"\", \"showlegend\": false, \"type\": \"scatter\", \"x\": [0.0, -0.7855191660339514, 0.5620384728471665, -0.031854247708491115, 0.6689046766684335, 0.8126574744484102, -0.2669584793033168, 1.0357422631592443, -0.24368967780143092, 0.0796654872895177, 1.063104814105905, 0.33996051431786484, -0.19310868474221926, 0.13830140117838088, 0.19939681423002234, -0.9313533039610973, -1.8851559810233676, 1.4264766521421406, 0.05912252564012881, 0.256270844379793, -1.591465499641676, 1.3382226873668104, 2.0981444534002978, 0.42997561370826654, 0.6675027996624794, -0.5394882329740349, 1.1331313707803117, 0.10957991559587729, 0.9027914622439598, -0.1438442521991573, 0.19779675470939986, 0.01603656416913738, 0.8675814939226352, -0.6744295515116596, -1.7883337524623202, -3.7101888679547743, -2.7726076455074673, 0.16920121754294432, -4.613182731047064, 0.010385226940578262, 4.491457698501092, -2.9945821009265603, 3.846114054662644, -3.0993259641753057, -1.8649430797928905, -7.287402343694397, 4.950140308971453, -4.700245022770171, -9.434674309481181, 9.345998172386109, -12.321331290147407, 6.230492341201929, -4.702798877538514, 2.2996268579562185, -3.7907422283539605, -0.274003093278801, 8.121509236724387, -0.4524223861369213, 5.59620065957612, -3.7852983732224246, 3.6224507926325984, -0.952513208745505, -4.409293583528775, 1.7217390358319775, -1.52564779039222, 7.3261127035984215, -0.32831644156512807, 2.581887027561507, 0.7746996815903381, 0.47635325069293516, 3.946578856836743, -1.4392236435332642, 1.6582590775434294, 1.3803835283800632, -1.0336154480887512, -3.475170735558033, 2.8094268330097516, -0.007414416084845749, 1.6453636805085496, 1.1076542783169119, -1.4023761913732073, 3.5663232405100977, -0.2822319106313816, -3.2015075636893258, 1.2290572661607275, 1.1297604522629348, 0.5138939036791482, 1.4147842232649654, 1.5775670101657695, 0.7786102101104126, -2.0646542913830683, -1.5482267339407207, 0.9088148528970065, 0.7920624294565988, 2.443497168047047, -0.5385098407798431, 2.07597818392603, -0.9695234740358589, 0.4276841643477609, 0.16762005701490723, 0.7723653951613199, -0.4607783336758918, 1.2902124966358643, 0.6552216914685036, 0.5897171735574182, 0.7756799205120937, -0.6929795366756427, 2.061922153956055, 1.1276647530284236, 0.2921987959394443, 0.6690906379505211, -5.265476367524758, 1.012133462324583, 1.4309384280850652, 1.7463525072283153, 0.14814418617457112, 0.32813109241147087, 0.030878981402190583, 1.1095819300612568, 0.7446904378745204, -2.193189990518118, 1.088184772035845, -2.59339396463512, 1.1984014641401854, 1.8697217818384297, 0.9530027630585096, 0.5219294116244121, 2.2142310252948234, -0.8603004588705903, 1.4366969932335696, 0.5265665951870384, 0.660713703751985, -2.1342298780777758, 0.940638445445677, 0.5902625120736783, -0.7266027885626613, 0.2803210606196508, 2.512564309189163, -0.8055054192553627, 0.2412796048237268, -2.285699534902473, -0.9390717044975707, 1.6702387584650282, -1.273502800037816, 1.3540604633609157, 0.4255846926598821, 1.487181648780377, 1.4660430152948845, 0.3519290262580381, 0.5230744898274311, 0.997144293532742, -0.8740477960491844, -0.387069228834427, -1.6915932109767786, 2.1276430027220674, 0.27478301400057853, -0.21009911987774507, 1.002156815948722, 0.7287631558350716, -0.5742645841862735, 1.0630301888693465, 0.41588829566680874, 0.6004342637575202, 0.7623210596084231, 1.731917917944346, -0.34050170359683757, 0.6046278217001049, 0.68256330719148, 1.3945099510527015, 0.9780044890400321, -4.9628314741983, -1.265216148443028, -4.114152829024972, 2.709047999938783, -1.9922680048667027, -0.6047849782590421, 1.8712825719911805, 1.2089549470456218, -1.2497460486567282, -1.2686289053217388, -1.0723830833645196, -0.1341618894641025, 1.714846245401242, -3.015872690686464, 0.3694096957600452, 2.26090653310401, 1.868965865910965, -0.29035471587269224, 0.7420650470219435, 1.423773100153644, -2.220368318034313, 2.3247878019402477, -1.5697399364210516, 1.882631446703863, 0.4961095094673616, 1.3918241202884905, 2.5589020749867237, -0.10406790726970577, -0.802180722540493, -0.4661535218957812, -0.361200409870677, -1.6508478266271756, 0.32764827183891476, -0.2761240971887628, 0.1856326565180225, 0.3673776458871612, -1.6395501257923704, 0.6374642083539132, -3.7307886361706455, 1.64217954994535, -2.449580253052983, 0.421758043250314, 1.852228309145515, 3.8547309760295905, 2.5895531360416695, 0.03616858700729745, -1.5254029401884093, -1.3652289708527225, 2.0129145485651314, -0.6519348588783579, 1.0222407181613629, 0.8017374114323119, -0.20789809660017614, -0.821392074337107, 0.8736981000490036, -0.4178197918152635, 0.2164506265461421, 1.314409739132722, 0.4786188956984337, 0.9214943705385352, -0.05824563817777561, 1.281854635668546, -0.04646040554606666, 0.22519019228191595, 0.703316776906088, 0.44703703692096414, 0.5017538804668705, -1.9377239274069296, 0.541856267686367, -0.2252126551407012, 0.5022667170232535, 1.2461337002391393, 0.5012350995449372, 0.8418230939438529, -0.07137117109618285, -0.10285738347200132, 0.5132453630116934, -0.28739694296208024, 0.26325132476352536, 0.7394880615104708, -0.38141401404466013, 0.1539294569151412], \"xaxis\": \"x\", \"y\": [0.0, -0.5291260448139101, 1.8833603148778788, 0.21636474217886603, 1.013800660311822, 1.4310946071857964, -0.10994296372371486, 1.7655719281942623, -1.2843071770009875, 0.9540748476141093, 0.2803574013512188, 0.1668373134596388, -0.31511522020595034, -0.05418854582032942, -0.7048675066676191, -0.8281726023491842, -1.4086479259557363, 1.3589604110861457, 2.497820197945994, -6.137166693746467, -3.6367084243692616, 1.1292153622622818, 2.7621329752747688, 0.13344077436663082, 0.35219908191633426, 0.7019187501528774, 0.3438024401845485, -2.7550902020325, 1.7230522821386078, 1.1292488825412763, 0.48793904903394775, 1.690172051437324, -0.14233129212586945, -1.3379942013937, -2.0505215386929194, -4.50090007837753, -1.9679139718113792, 0.21852552037649667, -3.7778889774514246, 1.4334657289608037, 2.062659736854665, -5.370598106617641, 3.1577788673199483, -3.4365855896265693, -2.203381687854302, -6.40013063795373, 5.126845098174779, -4.46152805394139, -9.263395067908512, 10.234995425425545, -14.252997678205148, 2.335459071570422, -1.6463602497817438, 4.198419901380632, -2.22034157046844, -1.0886192950873383, 8.696819104126757, -2.9630942603235932, 4.564361639829882, -4.010042364766714, 5.842211910420131, 0.5122061579674098, -4.316544854023797, -0.883460907385464, -2.53493248861306, 7.374504420872616, 1.981273765528963, 3.2280974288538515, 0.5221503720927708, -0.22832875717735315, 1.9337519381211952, -0.6735123536928591, -0.40684930538323033, 1.6964570173980495, -0.5579111634417677, -4.174148458322166, 6.721308853876461, 1.5635319961606917, 2.668396430137447, -1.3521372258564013, -2.447998046875, 6.166966570146966, 5.417376868119244, -1.1919312009093705, 1.4782173190382866, 0.8818147061396966, 0.6760968981337515, 1.3383188323480177, 0.5159574103105531, 0.3908578047607995, -1.4447821925530693, -2.379819064610839, 0.8337354481672119, 1.9679935072121593, 1.0954085285977833, 1.7308515404799156, 6.035593896709651, 0.6174710446614011, 1.5212430449655856, -1.1536361464474778, -1.3178284232604143, -1.6060018702904373, -0.16411353009766613, 3.0299024546524023, 0.3492723667815161, -1.100033321229636, -1.681443480361602, 1.9797653980498229, 0.27299458870730614, 3.1417478237761483, -0.8128388386851191, -5.195794058102515, 1.849133044026194, 1.7149348751176468, 1.3548360845094085, -0.050920908251841965, 0.17407704506191948, 1.2079303277257252, 0.18007787037166614, 1.2624380307040872, -3.393329356960855, 0.7093361135861055, -8.316357541511703, 2.1103283598447256, 2.9142530603505716, 4.615314832211789, -1.7385833844475462, 2.9389086899856856, 0.24138581405081225, 1.1292872265259914, 0.37769856393359275, 0.233131829946319, -2.476846265478888, 0.30543754290337344, 0.2294260466190926, 0.2705151905221252, 0.45656669445713216, 1.4006525665191287, -1.4953949133431712, -0.777664894648397, -3.0308038361030323, -0.8125534566010792, 1.2093074443853828, -1.4475395643736617, 1.3775413854545784, 0.5186706454155968, 8.174839304454292, -0.6741007874093424, -0.8453741967197965, -0.28419593670231935, 6.486835251625473, 1.191195595842256, -2.0265245089891795, -2.6121654437975286, 1.4680083137254154, 0.5425268633112246, -0.022961179256268015, -0.030618042893763686, 0.4518274847736381, 0.09529618185936205, 2.444881190170455, -0.7434667586319558, 1.6403897691540343, 3.47470141375577, 8.2223473170244, -3.5174894911624945, 0.15005880894020784, -0.1566408259013031, 0.7639802664105355, 2.389655260036744, -3.761985085227273, -2.881967666797353, -4.092245914699956, 0.944091135868159, -2.0568481870906363, -0.5520575204390598, -0.1725334684938983, 2.3558217828434906, -3.2670229701840294, -3.3014503840927816, -0.8986769009892525, -1.7344493343305658, 2.659684169191966, -2.2492623071792197, 0.20480061765557428, 2.1199890076546497, 0.7848677272249317, 1.9352079584784132, 0.04201281484110844, 1.8060370739060254, -2.5090958702665875, 1.811953301085244, -2.2633630729339576, -0.20877156780191441, 2.1850359348863737, 0.26160237179979656, 4.273014661130843, 0.14143776915231188, -1.5644264123468983, -1.8762438253606881, -0.29619396419699534, -1.7034553845228722, 2.3565431545299753, 4.174769595476701, -0.21885546769147388, 2.3982502318554713, -2.696731964930558, 2.230169795404137, -5.513782571230571, 4.916491382806384, -6.309867915812209, -0.6651210890615511, 1.507500253379049, 8.322660424347346, 2.540186397430653, -0.4309722564263696, -4.989609919809321, -2.274275061071832, 1.4866271774146391, -0.5063745509369684, 0.6798115915547912, 0.7257552480425005, -1.4195553399691783, -1.1018177379261365, 0.35665743146280715, -1.1870704936593341, -0.4709008059944351, 3.1628435657738354, -0.48028926236883707, 0.8055449218778117, -0.3023636101193438, 3.4588534967842337, 0.3385102990839934, -1.9720308593524039, -0.7628149192569974, 2.1022431564579533, -0.763356249836368, -1.933655817491526, -0.2878591939744916, -1.288253243043353, 0.2339662500449034, 0.4960010720497096, 0.043558570162523416, -0.4316764187042069, 0.6994982633733152, -1.306072876728966, -2.089523819965201, 0.381889635574934, -0.2648135070937921, 3.5901295148241363, -0.07942282335852888, -1.7739734387471364], \"yaxis\": \"y\"}],\n",
              "                        {\"legend\": {\"tracegroupgap\": 0}, \"template\": {\"data\": {\"bar\": [{\"error_x\": {\"color\": \"#2a3f5f\"}, \"error_y\": {\"color\": \"#2a3f5f\"}, \"marker\": {\"line\": {\"color\": \"#E5ECF6\", \"width\": 0.5}}, \"type\": \"bar\"}], \"barpolar\": [{\"marker\": {\"line\": {\"color\": \"#E5ECF6\", \"width\": 0.5}}, \"type\": \"barpolar\"}], \"carpet\": [{\"aaxis\": {\"endlinecolor\": \"#2a3f5f\", \"gridcolor\": \"white\", \"linecolor\": \"white\", \"minorgridcolor\": \"white\", \"startlinecolor\": \"#2a3f5f\"}, \"baxis\": {\"endlinecolor\": \"#2a3f5f\", \"gridcolor\": \"white\", \"linecolor\": \"white\", \"minorgridcolor\": \"white\", \"startlinecolor\": \"#2a3f5f\"}, \"type\": \"carpet\"}], \"choropleth\": [{\"colorbar\": {\"outlinewidth\": 0, \"ticks\": \"\"}, \"type\": \"choropleth\"}], \"contour\": [{\"colorbar\": {\"outlinewidth\": 0, \"ticks\": \"\"}, \"colorscale\": [[0.0, \"#0d0887\"], [0.1111111111111111, \"#46039f\"], [0.2222222222222222, \"#7201a8\"], [0.3333333333333333, \"#9c179e\"], [0.4444444444444444, \"#bd3786\"], [0.5555555555555556, \"#d8576b\"], [0.6666666666666666, \"#ed7953\"], [0.7777777777777778, \"#fb9f3a\"], [0.8888888888888888, \"#fdca26\"], [1.0, \"#f0f921\"]], \"type\": \"contour\"}], \"contourcarpet\": [{\"colorbar\": {\"outlinewidth\": 0, \"ticks\": \"\"}, \"type\": \"contourcarpet\"}], \"heatmap\": [{\"colorbar\": {\"outlinewidth\": 0, \"ticks\": \"\"}, \"colorscale\": [[0.0, \"#0d0887\"], [0.1111111111111111, \"#46039f\"], [0.2222222222222222, \"#7201a8\"], [0.3333333333333333, \"#9c179e\"], [0.4444444444444444, \"#bd3786\"], [0.5555555555555556, \"#d8576b\"], [0.6666666666666666, \"#ed7953\"], [0.7777777777777778, \"#fb9f3a\"], [0.8888888888888888, \"#fdca26\"], [1.0, \"#f0f921\"]], \"type\": \"heatmap\"}], \"heatmapgl\": [{\"colorbar\": {\"outlinewidth\": 0, \"ticks\": \"\"}, \"colorscale\": [[0.0, \"#0d0887\"], [0.1111111111111111, \"#46039f\"], [0.2222222222222222, \"#7201a8\"], [0.3333333333333333, \"#9c179e\"], [0.4444444444444444, \"#bd3786\"], [0.5555555555555556, \"#d8576b\"], [0.6666666666666666, \"#ed7953\"], [0.7777777777777778, \"#fb9f3a\"], [0.8888888888888888, \"#fdca26\"], [1.0, \"#f0f921\"]], \"type\": \"heatmapgl\"}], \"histogram\": [{\"marker\": {\"colorbar\": {\"outlinewidth\": 0, \"ticks\": \"\"}}, \"type\": \"histogram\"}], \"histogram2d\": [{\"colorbar\": {\"outlinewidth\": 0, \"ticks\": \"\"}, \"colorscale\": [[0.0, \"#0d0887\"], [0.1111111111111111, \"#46039f\"], [0.2222222222222222, \"#7201a8\"], [0.3333333333333333, \"#9c179e\"], [0.4444444444444444, \"#bd3786\"], [0.5555555555555556, \"#d8576b\"], [0.6666666666666666, \"#ed7953\"], [0.7777777777777778, \"#fb9f3a\"], [0.8888888888888888, \"#fdca26\"], [1.0, \"#f0f921\"]], \"type\": \"histogram2d\"}], \"histogram2dcontour\": [{\"colorbar\": {\"outlinewidth\": 0, \"ticks\": \"\"}, \"colorscale\": [[0.0, \"#0d0887\"], [0.1111111111111111, \"#46039f\"], [0.2222222222222222, \"#7201a8\"], [0.3333333333333333, \"#9c179e\"], [0.4444444444444444, \"#bd3786\"], [0.5555555555555556, \"#d8576b\"], [0.6666666666666666, \"#ed7953\"], [0.7777777777777778, \"#fb9f3a\"], [0.8888888888888888, \"#fdca26\"], [1.0, \"#f0f921\"]], \"type\": \"histogram2dcontour\"}], \"mesh3d\": [{\"colorbar\": {\"outlinewidth\": 0, \"ticks\": \"\"}, \"type\": \"mesh3d\"}], \"parcoords\": [{\"line\": {\"colorbar\": {\"outlinewidth\": 0, \"ticks\": \"\"}}, \"type\": \"parcoords\"}], \"pie\": [{\"automargin\": true, \"type\": \"pie\"}], \"scatter\": [{\"marker\": {\"colorbar\": {\"outlinewidth\": 0, \"ticks\": \"\"}}, \"type\": \"scatter\"}], \"scatter3d\": [{\"line\": {\"colorbar\": {\"outlinewidth\": 0, \"ticks\": \"\"}}, \"marker\": {\"colorbar\": {\"outlinewidth\": 0, \"ticks\": \"\"}}, \"type\": \"scatter3d\"}], \"scattercarpet\": [{\"marker\": {\"colorbar\": {\"outlinewidth\": 0, \"ticks\": \"\"}}, \"type\": \"scattercarpet\"}], \"scattergeo\": [{\"marker\": {\"colorbar\": {\"outlinewidth\": 0, \"ticks\": \"\"}}, \"type\": \"scattergeo\"}], \"scattergl\": [{\"marker\": {\"colorbar\": {\"outlinewidth\": 0, \"ticks\": \"\"}}, \"type\": \"scattergl\"}], \"scattermapbox\": [{\"marker\": {\"colorbar\": {\"outlinewidth\": 0, \"ticks\": \"\"}}, \"type\": \"scattermapbox\"}], \"scatterpolar\": [{\"marker\": {\"colorbar\": {\"outlinewidth\": 0, \"ticks\": \"\"}}, \"type\": \"scatterpolar\"}], \"scatterpolargl\": [{\"marker\": {\"colorbar\": {\"outlinewidth\": 0, \"ticks\": \"\"}}, \"type\": \"scatterpolargl\"}], \"scatterternary\": [{\"marker\": {\"colorbar\": {\"outlinewidth\": 0, \"ticks\": \"\"}}, \"type\": \"scatterternary\"}], \"surface\": [{\"colorbar\": {\"outlinewidth\": 0, \"ticks\": \"\"}, \"colorscale\": [[0.0, \"#0d0887\"], [0.1111111111111111, \"#46039f\"], [0.2222222222222222, \"#7201a8\"], [0.3333333333333333, \"#9c179e\"], [0.4444444444444444, \"#bd3786\"], [0.5555555555555556, \"#d8576b\"], [0.6666666666666666, \"#ed7953\"], [0.7777777777777778, \"#fb9f3a\"], [0.8888888888888888, \"#fdca26\"], [1.0, \"#f0f921\"]], \"type\": \"surface\"}], \"table\": [{\"cells\": {\"fill\": {\"color\": \"#EBF0F8\"}, \"line\": {\"color\": \"white\"}}, \"header\": {\"fill\": {\"color\": \"#C8D4E3\"}, \"line\": {\"color\": \"white\"}}, \"type\": \"table\"}]}, \"layout\": {\"annotationdefaults\": {\"arrowcolor\": \"#2a3f5f\", \"arrowhead\": 0, \"arrowwidth\": 1}, \"coloraxis\": {\"colorbar\": {\"outlinewidth\": 0, \"ticks\": \"\"}}, \"colorscale\": {\"diverging\": [[0, \"#8e0152\"], [0.1, \"#c51b7d\"], [0.2, \"#de77ae\"], [0.3, \"#f1b6da\"], [0.4, \"#fde0ef\"], [0.5, \"#f7f7f7\"], [0.6, \"#e6f5d0\"], [0.7, \"#b8e186\"], [0.8, \"#7fbc41\"], [0.9, \"#4d9221\"], [1, \"#276419\"]], \"sequential\": [[0.0, \"#0d0887\"], [0.1111111111111111, \"#46039f\"], [0.2222222222222222, \"#7201a8\"], [0.3333333333333333, \"#9c179e\"], [0.4444444444444444, \"#bd3786\"], [0.5555555555555556, \"#d8576b\"], [0.6666666666666666, \"#ed7953\"], [0.7777777777777778, \"#fb9f3a\"], [0.8888888888888888, \"#fdca26\"], [1.0, \"#f0f921\"]], \"sequentialminus\": [[0.0, \"#0d0887\"], [0.1111111111111111, \"#46039f\"], [0.2222222222222222, \"#7201a8\"], [0.3333333333333333, \"#9c179e\"], [0.4444444444444444, \"#bd3786\"], [0.5555555555555556, \"#d8576b\"], [0.6666666666666666, \"#ed7953\"], [0.7777777777777778, \"#fb9f3a\"], [0.8888888888888888, \"#fdca26\"], [1.0, \"#f0f921\"]]}, \"colorway\": [\"#636efa\", \"#EF553B\", \"#00cc96\", \"#ab63fa\", \"#FFA15A\", \"#19d3f3\", \"#FF6692\", \"#B6E880\", \"#FF97FF\", \"#FECB52\"], \"font\": {\"color\": \"#2a3f5f\"}, \"geo\": {\"bgcolor\": \"white\", \"lakecolor\": \"white\", \"landcolor\": \"#E5ECF6\", \"showlakes\": true, \"showland\": true, \"subunitcolor\": \"white\"}, \"hoverlabel\": {\"align\": \"left\"}, \"hovermode\": \"closest\", \"mapbox\": {\"style\": \"light\"}, \"paper_bgcolor\": \"white\", \"plot_bgcolor\": \"#E5ECF6\", \"polar\": {\"angularaxis\": {\"gridcolor\": \"white\", \"linecolor\": \"white\", \"ticks\": \"\"}, \"bgcolor\": \"#E5ECF6\", \"radialaxis\": {\"gridcolor\": \"white\", \"linecolor\": \"white\", \"ticks\": \"\"}}, \"scene\": {\"xaxis\": {\"backgroundcolor\": \"#E5ECF6\", \"gridcolor\": \"white\", \"gridwidth\": 2, \"linecolor\": \"white\", \"showbackground\": true, \"ticks\": \"\", \"zerolinecolor\": \"white\"}, \"yaxis\": {\"backgroundcolor\": \"#E5ECF6\", \"gridcolor\": \"white\", \"gridwidth\": 2, \"linecolor\": \"white\", \"showbackground\": true, \"ticks\": \"\", \"zerolinecolor\": \"white\"}, \"zaxis\": {\"backgroundcolor\": \"#E5ECF6\", \"gridcolor\": \"white\", \"gridwidth\": 2, \"linecolor\": \"white\", \"showbackground\": true, \"ticks\": \"\", \"zerolinecolor\": \"white\"}}, \"shapedefaults\": {\"line\": {\"color\": \"#2a3f5f\"}}, \"ternary\": {\"aaxis\": {\"gridcolor\": \"white\", \"linecolor\": \"white\", \"ticks\": \"\"}, \"baxis\": {\"gridcolor\": \"white\", \"linecolor\": \"white\", \"ticks\": \"\"}, \"bgcolor\": \"#E5ECF6\", \"caxis\": {\"gridcolor\": \"white\", \"linecolor\": \"white\", \"ticks\": \"\"}}, \"title\": {\"x\": 0.05}, \"xaxis\": {\"automargin\": true, \"gridcolor\": \"white\", \"linecolor\": \"white\", \"ticks\": \"\", \"title\": {\"standoff\": 15}, \"zerolinecolor\": \"white\", \"zerolinewidth\": 2}, \"yaxis\": {\"automargin\": true, \"gridcolor\": \"white\", \"linecolor\": \"white\", \"ticks\": \"\", \"title\": {\"standoff\": 15}, \"zerolinecolor\": \"white\", \"zerolinewidth\": 2}}}, \"title\": {\"text\": \"FB\"}, \"xaxis\": {\"anchor\": \"y\", \"domain\": [0.0, 1.0], \"title\": {\"text\": \"^IXIC\"}}, \"yaxis\": {\"anchor\": \"x\", \"domain\": [0.0, 1.0], \"title\": {\"text\": \"FB\"}}},\n",
              "                        {\"responsive\": true}\n",
              "                    ).then(function(){\n",
              "                            \n",
              "var gd = document.getElementById('849dc6ad-7343-4629-b908-2876105785ef');\n",
              "var x = new MutationObserver(function (mutations, observer) {{\n",
              "        var display = window.getComputedStyle(gd).display;\n",
              "        if (!display || display === 'none') {{\n",
              "            console.log([gd, 'removed!']);\n",
              "            Plotly.purge(gd);\n",
              "            observer.disconnect();\n",
              "        }}\n",
              "}});\n",
              "\n",
              "// Listen for the removal of the full notebook cells\n",
              "var notebookContainer = gd.closest('#notebook-container');\n",
              "if (notebookContainer) {{\n",
              "    x.observe(notebookContainer, {childList: true});\n",
              "}}\n",
              "\n",
              "// Listen for the clearing of the current output cell\n",
              "var outputEl = gd.closest('.output');\n",
              "if (outputEl) {{\n",
              "    x.observe(outputEl, {childList: true});\n",
              "}}\n",
              "\n",
              "                        })\n",
              "                };\n",
              "                \n",
              "            </script>\n",
              "        </div>\n",
              "</body>\n",
              "</html>"
            ]
          },
          "metadata": {}
        },
        {
          "output_type": "display_data",
          "data": {
            "text/html": [
              "<html>\n",
              "<head><meta charset=\"utf-8\" /></head>\n",
              "<body>\n",
              "    <div>\n",
              "            <script src=\"https://cdnjs.cloudflare.com/ajax/libs/mathjax/2.7.5/MathJax.js?config=TeX-AMS-MML_SVG\"></script><script type=\"text/javascript\">if (window.MathJax) {MathJax.Hub.Config({SVG: {font: \"STIX-Web\"}});}</script>\n",
              "                <script type=\"text/javascript\">window.PlotlyConfig = {MathJaxConfig: 'local'};</script>\n",
              "        <script src=\"https://cdn.plot.ly/plotly-latest.min.js\"></script>    \n",
              "            <div id=\"3bb1ed28-c3c5-4547-ac31-a2d40b9c6464\" class=\"plotly-graph-div\" style=\"height:525px; width:100%;\"></div>\n",
              "            <script type=\"text/javascript\">\n",
              "                \n",
              "                    window.PLOTLYENV=window.PLOTLYENV || {};\n",
              "                    \n",
              "                if (document.getElementById(\"3bb1ed28-c3c5-4547-ac31-a2d40b9c6464\")) {\n",
              "                    Plotly.newPlot(\n",
              "                        '3bb1ed28-c3c5-4547-ac31-a2d40b9c6464',\n",
              "                        [{\"hoverlabel\": {\"namelength\": 0}, \"hovertemplate\": \"^IXIC=%{x}<br>GOOG=%{y}\", \"legendgroup\": \"\", \"marker\": {\"color\": \"#636efa\", \"symbol\": \"circle\"}, \"mode\": \"markers\", \"name\": \"\", \"showlegend\": false, \"type\": \"scatter\", \"x\": [0.0, -0.7855191660339514, 0.5620384728471665, -0.031854247708491115, 0.6689046766684335, 0.8126574744484102, -0.2669584793033168, 1.0357422631592443, -0.24368967780143092, 0.0796654872895177, 1.063104814105905, 0.33996051431786484, -0.19310868474221926, 0.13830140117838088, 0.19939681423002234, -0.9313533039610973, -1.8851559810233676, 1.4264766521421406, 0.05912252564012881, 0.256270844379793, -1.591465499641676, 1.3382226873668104, 2.0981444534002978, 0.42997561370826654, 0.6675027996624794, -0.5394882329740349, 1.1331313707803117, 0.10957991559587729, 0.9027914622439598, -0.1438442521991573, 0.19779675470939986, 0.01603656416913738, 0.8675814939226352, -0.6744295515116596, -1.7883337524623202, -3.7101888679547743, -2.7726076455074673, 0.16920121754294432, -4.613182731047064, 0.010385226940578262, 4.491457698501092, -2.9945821009265603, 3.846114054662644, -3.0993259641753057, -1.8649430797928905, -7.287402343694397, 4.950140308971453, -4.700245022770171, -9.434674309481181, 9.345998172386109, -12.321331290147407, 6.230492341201929, -4.702798877538514, 2.2996268579562185, -3.7907422283539605, -0.274003093278801, 8.121509236724387, -0.4524223861369213, 5.59620065957612, -3.7852983732224246, 3.6224507926325984, -0.952513208745505, -4.409293583528775, 1.7217390358319775, -1.52564779039222, 7.3261127035984215, -0.32831644156512807, 2.581887027561507, 0.7746996815903381, 0.47635325069293516, 3.946578856836743, -1.4392236435332642, 1.6582590775434294, 1.3803835283800632, -1.0336154480887512, -3.475170735558033, 2.8094268330097516, -0.007414416084845749, 1.6453636805085496, 1.1076542783169119, -1.4023761913732073, 3.5663232405100977, -0.2822319106313816, -3.2015075636893258, 1.2290572661607275, 1.1297604522629348, 0.5138939036791482, 1.4147842232649654, 1.5775670101657695, 0.7786102101104126, -2.0646542913830683, -1.5482267339407207, 0.9088148528970065, 0.7920624294565988, 2.443497168047047, -0.5385098407798431, 2.07597818392603, -0.9695234740358589, 0.4276841643477609, 0.16762005701490723, 0.7723653951613199, -0.4607783336758918, 1.2902124966358643, 0.6552216914685036, 0.5897171735574182, 0.7756799205120937, -0.6929795366756427, 2.061922153956055, 1.1276647530284236, 0.2921987959394443, 0.6690906379505211, -5.265476367524758, 1.012133462324583, 1.4309384280850652, 1.7463525072283153, 0.14814418617457112, 0.32813109241147087, 0.030878981402190583, 1.1095819300612568, 0.7446904378745204, -2.193189990518118, 1.088184772035845, -2.59339396463512, 1.1984014641401854, 1.8697217818384297, 0.9530027630585096, 0.5219294116244121, 2.2142310252948234, -0.8603004588705903, 1.4366969932335696, 0.5265665951870384, 0.660713703751985, -2.1342298780777758, 0.940638445445677, 0.5902625120736783, -0.7266027885626613, 0.2803210606196508, 2.512564309189163, -0.8055054192553627, 0.2412796048237268, -2.285699534902473, -0.9390717044975707, 1.6702387584650282, -1.273502800037816, 1.3540604633609157, 0.4255846926598821, 1.487181648780377, 1.4660430152948845, 0.3519290262580381, 0.5230744898274311, 0.997144293532742, -0.8740477960491844, -0.387069228834427, -1.6915932109767786, 2.1276430027220674, 0.27478301400057853, -0.21009911987774507, 1.002156815948722, 0.7287631558350716, -0.5742645841862735, 1.0630301888693465, 0.41588829566680874, 0.6004342637575202, 0.7623210596084231, 1.731917917944346, -0.34050170359683757, 0.6046278217001049, 0.68256330719148, 1.3945099510527015, 0.9780044890400321, -4.9628314741983, -1.265216148443028, -4.114152829024972, 2.709047999938783, -1.9922680048667027, -0.6047849782590421, 1.8712825719911805, 1.2089549470456218, -1.2497460486567282, -1.2686289053217388, -1.0723830833645196, -0.1341618894641025, 1.714846245401242, -3.015872690686464, 0.3694096957600452, 2.26090653310401, 1.868965865910965, -0.29035471587269224, 0.7420650470219435, 1.423773100153644, -2.220368318034313, 2.3247878019402477, -1.5697399364210516, 1.882631446703863, 0.4961095094673616, 1.3918241202884905, 2.5589020749867237, -0.10406790726970577, -0.802180722540493, -0.4661535218957812, -0.361200409870677, -1.6508478266271756, 0.32764827183891476, -0.2761240971887628, 0.1856326565180225, 0.3673776458871612, -1.6395501257923704, 0.6374642083539132, -3.7307886361706455, 1.64217954994535, -2.449580253052983, 0.421758043250314, 1.852228309145515, 3.8547309760295905, 2.5895531360416695, 0.03616858700729745, -1.5254029401884093, -1.3652289708527225, 2.0129145485651314, -0.6519348588783579, 1.0222407181613629, 0.8017374114323119, -0.20789809660017614, -0.821392074337107, 0.8736981000490036, -0.4178197918152635, 0.2164506265461421, 1.314409739132722, 0.4786188956984337, 0.9214943705385352, -0.05824563817777561, 1.281854635668546, -0.04646040554606666, 0.22519019228191595, 0.703316776906088, 0.44703703692096414, 0.5017538804668705, -1.9377239274069296, 0.541856267686367, -0.2252126551407012, 0.5022667170232535, 1.2461337002391393, 0.5012350995449372, 0.8418230939438529, -0.07137117109618285, -0.10285738347200132, 0.5132453630116934, -0.28739694296208024, 0.26325132476352536, 0.7394880615104708, -0.38141401404466013, 0.1539294569151412], \"xaxis\": \"x\", \"y\": [0.0, -0.49072021190028653, 2.4657097228580707, -0.062400581086258664, 0.7880331245853316, 1.104449866044447, 0.6972683152545897, 0.6644611311071017, -0.5801696531653652, 0.5814566043743056, 0.8685381061764086, 1.9763080830444775, 0.27087522382250706, 0.10441435814610033, 0.047112841292897945, -1.3412748897926754, -2.2369750937305874, 1.3013483410262574, 0.41787919564158515, -0.19127805222436475, -1.4843654425564603, 3.6054162611075533, -2.6158523661731627, 0.08016434745689723, 1.933394583568641, 0.20322036807892255, 1.9909056489549468, 0.007290170721881444, 0.6283167454260548, -0.23776965263906386, 0.40140730708460887, -0.07035695095369991, 0.46193563457450904, -0.5593746811694649, -2.1763355749542583, -4.277125610748165, -2.3311936244087392, 0.3406750481045582, -5.389833689522876, 1.611421889639855, 3.7167860743975165, -3.4352910285248437, 3.364420816464818, -4.86685944077197, -1.564016578107451, -6.380879183383749, 5.333340429899251, -5.07501462252436, -8.268814406146491, 9.401650633289476, -11.100819573363886, 3.271153081714602, -2.053938113689992, 1.6858123095572992, -3.8528177665387977, -1.4641107093276808, 7.366883664895953, -2.818078363621182, 5.375106376523845, -4.393375430385195, 3.2510724330844836, 1.394300156395876, -4.918263567974771, 1.3766005291458026, -2.0484602296186165, 8.110179497440079, -0.03454606582635084, 2.0033560050576704, 0.09666538707407066, 0.5043631737295045, 4.243726747629798, -0.5326071610070543, 0.07920980484336242, 1.565532205396805, -1.2967087199249951, -3.968863352778398, 3.8533630756412647, 1.037048318280175, 0.23505260181882665, -0.26811746596504543, -3.3083017819827747, 8.738960393222989, 0.5352337578998825, -2.0798457815342792, 0.4687275990052907, 1.8322230651791778, -0.2819856684314374, 1.8748614896582267, 1.151857539817638, 1.072481737635124, -1.9611489916146363, -1.9196966263362172, 0.5039574492222566, 1.2579868052481962, 0.7828487287775491, -0.7554486825536665, 2.4197560006857697, -0.27865687248619164, 0.5431989486707754, 0.46794397273847926, 0.05786412878864888, -0.07828706894436435, 0.8604366142184133, 0.20294363957154937, 0.5168264650343507, -0.19732673796383232, -1.6847875276465827, 1.8559928578955116, 0.5714702284786144, 0.660167489843788, 0.665444812301055, -4.230310795675937, 0.6653242618838866, 0.4719796219515788, 1.6107332119895, 0.5822352628811714, -1.0447126516551946, -0.2952721767817832, 1.4067006859271953, 0.864411785898628, -2.2152308929468867, 0.6536439690119036, -5.649638467483246, 2.5788620971731375, 1.3362305311161737, 1.7282032501250182, 1.8539061072844236, 2.1164744339069284, -0.7033427695638554, 0.7285275789980681, 1.002004694811163, 2.035089590185191, -1.9717996942818543, 0.6113773501225315, -0.4564009527165177, 0.28804638549246886, -0.16139335783102768, 3.3103441165663314, -0.4662345051736351, 0.6461638072601606, -3.366928501440182, -0.25137617826543185, 1.2124029257731725, -1.9513780096970197, 1.445009411522535, 0.6195668598057744, -3.1662797858506675, -0.573852969047467, -0.6429503057201383, 0.5897741811247265, 1.7976255927755012, -0.3739740979177902, 0.10772807861429787, -1.0547443054863266, 1.7766462509713006, 0.7851983972751766, -0.7059811681545238, 0.6798299518335039, 2.675924296751536, -0.7102493559901977, 2.2112637593645244, -0.08408130581239134, 0.4922683217267339, 1.2605477991910248, 2.745895150175285, -1.0923666937863434, 0.6167713005355147, -0.6221064245605396, 1.6234384434149536, 4.068745894751574, -5.0015079738975725, -3.0940851614871816, -3.6862695453359726, 1.6033742098417003, -1.6018357589126948, -0.7375914599068006, -0.09468813680300549, 1.4585798326876342, -1.3325149063835084, -1.6680909139285123, -2.3764176155800216, -1.9746680626255095, 2.396652082132278, -3.428957551856519, 0.9242500043127986, 1.1671244228477424, 1.353674781483862, 0.3284309165658944, 0.01837705207991758, 1.3942562993174745, -2.1253697831301968, 1.8924572314073624, -2.192438708549637, 0.4713024226940062, 1.755816581813999, 1.9711504534846265, 3.559222736875076, 0.16123565353922995, -0.22906046607575817, -0.5707585979475951, 0.8902403801699493, -2.4411811861123516, 1.3892825253897199, 2.402421933663414, 1.3820221206895653, 1.5891517302142717, -3.0804417323659354, 0.8683114224106503, -5.462955762466541, 3.3376848043781826, 3.430873373975666, 0.3096846719642295, 1.4870532035057706, 5.9943913978749155, 0.8141184585835886, -0.09186926859781577, 0.07095217823187172, -1.2824722264074022, 0.7078842205119842, -0.16374615202462703, 1.5532879715771999, 0.24535375536807938, -0.6304090333319285, -1.320226805347937, 0.9812348642053578, -1.2319210620487857, -0.4207323139961967, 1.9609662922945321, 0.14416177587433013, 1.2283797291193121, -1.8096215254490664, 2.121834317319586, 1.6600843107297436, -0.06454945004750054, 0.06678293874332605, -0.46553918845769454, -0.051109748423031454, -1.8927190905464935, -0.49324033585226407, 0.3627530451226228, -1.2184491095664232, 0.43805101421709963, -0.26983258447356406, -0.8564932266555587, -0.9663032446091666, 0.4829541888492271, -0.9123990388323493, 0.5152309186430228, 0.37347294963512717, 2.14164480876657, -0.9779907240884006, -1.0917002986097317], \"yaxis\": \"y\"}],\n",
              "                        {\"legend\": {\"tracegroupgap\": 0}, \"template\": {\"data\": {\"bar\": [{\"error_x\": {\"color\": \"#2a3f5f\"}, \"error_y\": {\"color\": \"#2a3f5f\"}, \"marker\": {\"line\": {\"color\": \"#E5ECF6\", \"width\": 0.5}}, \"type\": \"bar\"}], \"barpolar\": [{\"marker\": {\"line\": {\"color\": \"#E5ECF6\", \"width\": 0.5}}, \"type\": \"barpolar\"}], \"carpet\": [{\"aaxis\": {\"endlinecolor\": \"#2a3f5f\", \"gridcolor\": \"white\", \"linecolor\": \"white\", \"minorgridcolor\": \"white\", \"startlinecolor\": \"#2a3f5f\"}, \"baxis\": {\"endlinecolor\": \"#2a3f5f\", \"gridcolor\": \"white\", \"linecolor\": \"white\", \"minorgridcolor\": \"white\", \"startlinecolor\": \"#2a3f5f\"}, \"type\": \"carpet\"}], \"choropleth\": [{\"colorbar\": {\"outlinewidth\": 0, \"ticks\": \"\"}, \"type\": \"choropleth\"}], \"contour\": [{\"colorbar\": {\"outlinewidth\": 0, \"ticks\": \"\"}, \"colorscale\": [[0.0, \"#0d0887\"], [0.1111111111111111, \"#46039f\"], [0.2222222222222222, \"#7201a8\"], [0.3333333333333333, \"#9c179e\"], [0.4444444444444444, \"#bd3786\"], [0.5555555555555556, \"#d8576b\"], [0.6666666666666666, \"#ed7953\"], [0.7777777777777778, \"#fb9f3a\"], [0.8888888888888888, \"#fdca26\"], [1.0, \"#f0f921\"]], \"type\": \"contour\"}], \"contourcarpet\": [{\"colorbar\": {\"outlinewidth\": 0, \"ticks\": \"\"}, \"type\": \"contourcarpet\"}], \"heatmap\": [{\"colorbar\": {\"outlinewidth\": 0, \"ticks\": \"\"}, \"colorscale\": [[0.0, \"#0d0887\"], [0.1111111111111111, \"#46039f\"], [0.2222222222222222, \"#7201a8\"], [0.3333333333333333, \"#9c179e\"], [0.4444444444444444, \"#bd3786\"], [0.5555555555555556, \"#d8576b\"], [0.6666666666666666, \"#ed7953\"], [0.7777777777777778, \"#fb9f3a\"], [0.8888888888888888, \"#fdca26\"], [1.0, \"#f0f921\"]], \"type\": \"heatmap\"}], \"heatmapgl\": [{\"colorbar\": {\"outlinewidth\": 0, \"ticks\": \"\"}, \"colorscale\": [[0.0, \"#0d0887\"], [0.1111111111111111, \"#46039f\"], [0.2222222222222222, \"#7201a8\"], [0.3333333333333333, \"#9c179e\"], [0.4444444444444444, \"#bd3786\"], [0.5555555555555556, \"#d8576b\"], [0.6666666666666666, \"#ed7953\"], [0.7777777777777778, \"#fb9f3a\"], [0.8888888888888888, \"#fdca26\"], [1.0, \"#f0f921\"]], \"type\": \"heatmapgl\"}], \"histogram\": [{\"marker\": {\"colorbar\": {\"outlinewidth\": 0, \"ticks\": \"\"}}, \"type\": \"histogram\"}], \"histogram2d\": [{\"colorbar\": {\"outlinewidth\": 0, \"ticks\": \"\"}, \"colorscale\": [[0.0, \"#0d0887\"], [0.1111111111111111, \"#46039f\"], [0.2222222222222222, \"#7201a8\"], [0.3333333333333333, \"#9c179e\"], [0.4444444444444444, \"#bd3786\"], [0.5555555555555556, \"#d8576b\"], [0.6666666666666666, \"#ed7953\"], [0.7777777777777778, \"#fb9f3a\"], [0.8888888888888888, \"#fdca26\"], [1.0, \"#f0f921\"]], \"type\": \"histogram2d\"}], \"histogram2dcontour\": [{\"colorbar\": {\"outlinewidth\": 0, \"ticks\": \"\"}, \"colorscale\": [[0.0, \"#0d0887\"], [0.1111111111111111, \"#46039f\"], [0.2222222222222222, \"#7201a8\"], [0.3333333333333333, \"#9c179e\"], [0.4444444444444444, \"#bd3786\"], [0.5555555555555556, \"#d8576b\"], [0.6666666666666666, \"#ed7953\"], [0.7777777777777778, \"#fb9f3a\"], [0.8888888888888888, \"#fdca26\"], [1.0, \"#f0f921\"]], \"type\": \"histogram2dcontour\"}], \"mesh3d\": [{\"colorbar\": {\"outlinewidth\": 0, \"ticks\": \"\"}, \"type\": \"mesh3d\"}], \"parcoords\": [{\"line\": {\"colorbar\": {\"outlinewidth\": 0, \"ticks\": \"\"}}, \"type\": \"parcoords\"}], \"pie\": [{\"automargin\": true, \"type\": \"pie\"}], \"scatter\": [{\"marker\": {\"colorbar\": {\"outlinewidth\": 0, \"ticks\": \"\"}}, \"type\": \"scatter\"}], \"scatter3d\": [{\"line\": {\"colorbar\": {\"outlinewidth\": 0, \"ticks\": \"\"}}, \"marker\": {\"colorbar\": {\"outlinewidth\": 0, \"ticks\": \"\"}}, \"type\": \"scatter3d\"}], \"scattercarpet\": [{\"marker\": {\"colorbar\": {\"outlinewidth\": 0, \"ticks\": \"\"}}, \"type\": \"scattercarpet\"}], \"scattergeo\": [{\"marker\": {\"colorbar\": {\"outlinewidth\": 0, \"ticks\": \"\"}}, \"type\": \"scattergeo\"}], \"scattergl\": [{\"marker\": {\"colorbar\": {\"outlinewidth\": 0, \"ticks\": \"\"}}, \"type\": \"scattergl\"}], \"scattermapbox\": [{\"marker\": {\"colorbar\": {\"outlinewidth\": 0, \"ticks\": \"\"}}, \"type\": \"scattermapbox\"}], \"scatterpolar\": [{\"marker\": {\"colorbar\": {\"outlinewidth\": 0, \"ticks\": \"\"}}, \"type\": \"scatterpolar\"}], \"scatterpolargl\": [{\"marker\": {\"colorbar\": {\"outlinewidth\": 0, \"ticks\": \"\"}}, \"type\": \"scatterpolargl\"}], \"scatterternary\": [{\"marker\": {\"colorbar\": {\"outlinewidth\": 0, \"ticks\": \"\"}}, \"type\": \"scatterternary\"}], \"surface\": [{\"colorbar\": {\"outlinewidth\": 0, \"ticks\": \"\"}, \"colorscale\": [[0.0, \"#0d0887\"], [0.1111111111111111, \"#46039f\"], [0.2222222222222222, \"#7201a8\"], [0.3333333333333333, \"#9c179e\"], [0.4444444444444444, \"#bd3786\"], [0.5555555555555556, \"#d8576b\"], [0.6666666666666666, \"#ed7953\"], [0.7777777777777778, \"#fb9f3a\"], [0.8888888888888888, \"#fdca26\"], [1.0, \"#f0f921\"]], \"type\": \"surface\"}], \"table\": [{\"cells\": {\"fill\": {\"color\": \"#EBF0F8\"}, \"line\": {\"color\": \"white\"}}, \"header\": {\"fill\": {\"color\": \"#C8D4E3\"}, \"line\": {\"color\": \"white\"}}, \"type\": \"table\"}]}, \"layout\": {\"annotationdefaults\": {\"arrowcolor\": \"#2a3f5f\", \"arrowhead\": 0, \"arrowwidth\": 1}, \"coloraxis\": {\"colorbar\": {\"outlinewidth\": 0, \"ticks\": \"\"}}, \"colorscale\": {\"diverging\": [[0, \"#8e0152\"], [0.1, \"#c51b7d\"], [0.2, \"#de77ae\"], [0.3, \"#f1b6da\"], [0.4, \"#fde0ef\"], [0.5, \"#f7f7f7\"], [0.6, \"#e6f5d0\"], [0.7, \"#b8e186\"], [0.8, \"#7fbc41\"], [0.9, \"#4d9221\"], [1, \"#276419\"]], \"sequential\": [[0.0, \"#0d0887\"], [0.1111111111111111, \"#46039f\"], [0.2222222222222222, \"#7201a8\"], [0.3333333333333333, \"#9c179e\"], [0.4444444444444444, \"#bd3786\"], [0.5555555555555556, \"#d8576b\"], [0.6666666666666666, \"#ed7953\"], [0.7777777777777778, \"#fb9f3a\"], [0.8888888888888888, \"#fdca26\"], [1.0, \"#f0f921\"]], \"sequentialminus\": [[0.0, \"#0d0887\"], [0.1111111111111111, \"#46039f\"], [0.2222222222222222, \"#7201a8\"], [0.3333333333333333, \"#9c179e\"], [0.4444444444444444, \"#bd3786\"], [0.5555555555555556, \"#d8576b\"], [0.6666666666666666, \"#ed7953\"], [0.7777777777777778, \"#fb9f3a\"], [0.8888888888888888, \"#fdca26\"], [1.0, \"#f0f921\"]]}, \"colorway\": [\"#636efa\", \"#EF553B\", \"#00cc96\", \"#ab63fa\", \"#FFA15A\", \"#19d3f3\", \"#FF6692\", \"#B6E880\", \"#FF97FF\", \"#FECB52\"], \"font\": {\"color\": \"#2a3f5f\"}, \"geo\": {\"bgcolor\": \"white\", \"lakecolor\": \"white\", \"landcolor\": \"#E5ECF6\", \"showlakes\": true, \"showland\": true, \"subunitcolor\": \"white\"}, \"hoverlabel\": {\"align\": \"left\"}, \"hovermode\": \"closest\", \"mapbox\": {\"style\": \"light\"}, \"paper_bgcolor\": \"white\", \"plot_bgcolor\": \"#E5ECF6\", \"polar\": {\"angularaxis\": {\"gridcolor\": \"white\", \"linecolor\": \"white\", \"ticks\": \"\"}, \"bgcolor\": \"#E5ECF6\", \"radialaxis\": {\"gridcolor\": \"white\", \"linecolor\": \"white\", \"ticks\": \"\"}}, \"scene\": {\"xaxis\": {\"backgroundcolor\": \"#E5ECF6\", \"gridcolor\": \"white\", \"gridwidth\": 2, \"linecolor\": \"white\", \"showbackground\": true, \"ticks\": \"\", \"zerolinecolor\": \"white\"}, \"yaxis\": {\"backgroundcolor\": \"#E5ECF6\", \"gridcolor\": \"white\", \"gridwidth\": 2, \"linecolor\": \"white\", \"showbackground\": true, \"ticks\": \"\", \"zerolinecolor\": \"white\"}, \"zaxis\": {\"backgroundcolor\": \"#E5ECF6\", \"gridcolor\": \"white\", \"gridwidth\": 2, \"linecolor\": \"white\", \"showbackground\": true, \"ticks\": \"\", \"zerolinecolor\": \"white\"}}, \"shapedefaults\": {\"line\": {\"color\": \"#2a3f5f\"}}, \"ternary\": {\"aaxis\": {\"gridcolor\": \"white\", \"linecolor\": \"white\", \"ticks\": \"\"}, \"baxis\": {\"gridcolor\": \"white\", \"linecolor\": \"white\", \"ticks\": \"\"}, \"bgcolor\": \"#E5ECF6\", \"caxis\": {\"gridcolor\": \"white\", \"linecolor\": \"white\", \"ticks\": \"\"}}, \"title\": {\"x\": 0.05}, \"xaxis\": {\"automargin\": true, \"gridcolor\": \"white\", \"linecolor\": \"white\", \"ticks\": \"\", \"title\": {\"standoff\": 15}, \"zerolinecolor\": \"white\", \"zerolinewidth\": 2}, \"yaxis\": {\"automargin\": true, \"gridcolor\": \"white\", \"linecolor\": \"white\", \"ticks\": \"\", \"title\": {\"standoff\": 15}, \"zerolinecolor\": \"white\", \"zerolinewidth\": 2}}}, \"title\": {\"text\": \"GOOG\"}, \"xaxis\": {\"anchor\": \"y\", \"domain\": [0.0, 1.0], \"title\": {\"text\": \"^IXIC\"}}, \"yaxis\": {\"anchor\": \"x\", \"domain\": [0.0, 1.0], \"title\": {\"text\": \"GOOG\"}}},\n",
              "                        {\"responsive\": true}\n",
              "                    ).then(function(){\n",
              "                            \n",
              "var gd = document.getElementById('3bb1ed28-c3c5-4547-ac31-a2d40b9c6464');\n",
              "var x = new MutationObserver(function (mutations, observer) {{\n",
              "        var display = window.getComputedStyle(gd).display;\n",
              "        if (!display || display === 'none') {{\n",
              "            console.log([gd, 'removed!']);\n",
              "            Plotly.purge(gd);\n",
              "            observer.disconnect();\n",
              "        }}\n",
              "}});\n",
              "\n",
              "// Listen for the removal of the full notebook cells\n",
              "var notebookContainer = gd.closest('#notebook-container');\n",
              "if (notebookContainer) {{\n",
              "    x.observe(notebookContainer, {childList: true});\n",
              "}}\n",
              "\n",
              "// Listen for the clearing of the current output cell\n",
              "var outputEl = gd.closest('.output');\n",
              "if (outputEl) {{\n",
              "    x.observe(outputEl, {childList: true});\n",
              "}}\n",
              "\n",
              "                        })\n",
              "                };\n",
              "                \n",
              "            </script>\n",
              "        </div>\n",
              "</body>\n",
              "</html>"
            ]
          },
          "metadata": {}
        },
        {
          "output_type": "display_data",
          "data": {
            "text/html": [
              "<html>\n",
              "<head><meta charset=\"utf-8\" /></head>\n",
              "<body>\n",
              "    <div>\n",
              "            <script src=\"https://cdnjs.cloudflare.com/ajax/libs/mathjax/2.7.5/MathJax.js?config=TeX-AMS-MML_SVG\"></script><script type=\"text/javascript\">if (window.MathJax) {MathJax.Hub.Config({SVG: {font: \"STIX-Web\"}});}</script>\n",
              "                <script type=\"text/javascript\">window.PlotlyConfig = {MathJaxConfig: 'local'};</script>\n",
              "        <script src=\"https://cdn.plot.ly/plotly-latest.min.js\"></script>    \n",
              "            <div id=\"d7493390-e21b-402e-b443-2c0aedcc9d20\" class=\"plotly-graph-div\" style=\"height:525px; width:100%;\"></div>\n",
              "            <script type=\"text/javascript\">\n",
              "                \n",
              "                    window.PLOTLYENV=window.PLOTLYENV || {};\n",
              "                    \n",
              "                if (document.getElementById(\"d7493390-e21b-402e-b443-2c0aedcc9d20\")) {\n",
              "                    Plotly.newPlot(\n",
              "                        'd7493390-e21b-402e-b443-2c0aedcc9d20',\n",
              "                        [{\"hoverlabel\": {\"namelength\": 0}, \"hovertemplate\": \"^IXIC=%{x}<br>GOOGL=%{y}\", \"legendgroup\": \"\", \"marker\": {\"color\": \"#636efa\", \"symbol\": \"circle\"}, \"mode\": \"markers\", \"name\": \"\", \"showlegend\": false, \"type\": \"scatter\", \"x\": [0.0, -0.7855191660339514, 0.5620384728471665, -0.031854247708491115, 0.6689046766684335, 0.8126574744484102, -0.2669584793033168, 1.0357422631592443, -0.24368967780143092, 0.0796654872895177, 1.063104814105905, 0.33996051431786484, -0.19310868474221926, 0.13830140117838088, 0.19939681423002234, -0.9313533039610973, -1.8851559810233676, 1.4264766521421406, 0.05912252564012881, 0.256270844379793, -1.591465499641676, 1.3382226873668104, 2.0981444534002978, 0.42997561370826654, 0.6675027996624794, -0.5394882329740349, 1.1331313707803117, 0.10957991559587729, 0.9027914622439598, -0.1438442521991573, 0.19779675470939986, 0.01603656416913738, 0.8675814939226352, -0.6744295515116596, -1.7883337524623202, -3.7101888679547743, -2.7726076455074673, 0.16920121754294432, -4.613182731047064, 0.010385226940578262, 4.491457698501092, -2.9945821009265603, 3.846114054662644, -3.0993259641753057, -1.8649430797928905, -7.287402343694397, 4.950140308971453, -4.700245022770171, -9.434674309481181, 9.345998172386109, -12.321331290147407, 6.230492341201929, -4.702798877538514, 2.2996268579562185, -3.7907422283539605, -0.274003093278801, 8.121509236724387, -0.4524223861369213, 5.59620065957612, -3.7852983732224246, 3.6224507926325984, -0.952513208745505, -4.409293583528775, 1.7217390358319775, -1.52564779039222, 7.3261127035984215, -0.32831644156512807, 2.581887027561507, 0.7746996815903381, 0.47635325069293516, 3.946578856836743, -1.4392236435332642, 1.6582590775434294, 1.3803835283800632, -1.0336154480887512, -3.475170735558033, 2.8094268330097516, -0.007414416084845749, 1.6453636805085496, 1.1076542783169119, -1.4023761913732073, 3.5663232405100977, -0.2822319106313816, -3.2015075636893258, 1.2290572661607275, 1.1297604522629348, 0.5138939036791482, 1.4147842232649654, 1.5775670101657695, 0.7786102101104126, -2.0646542913830683, -1.5482267339407207, 0.9088148528970065, 0.7920624294565988, 2.443497168047047, -0.5385098407798431, 2.07597818392603, -0.9695234740358589, 0.4276841643477609, 0.16762005701490723, 0.7723653951613199, -0.4607783336758918, 1.2902124966358643, 0.6552216914685036, 0.5897171735574182, 0.7756799205120937, -0.6929795366756427, 2.061922153956055, 1.1276647530284236, 0.2921987959394443, 0.6690906379505211, -5.265476367524758, 1.012133462324583, 1.4309384280850652, 1.7463525072283153, 0.14814418617457112, 0.32813109241147087, 0.030878981402190583, 1.1095819300612568, 0.7446904378745204, -2.193189990518118, 1.088184772035845, -2.59339396463512, 1.1984014641401854, 1.8697217818384297, 0.9530027630585096, 0.5219294116244121, 2.2142310252948234, -0.8603004588705903, 1.4366969932335696, 0.5265665951870384, 0.660713703751985, -2.1342298780777758, 0.940638445445677, 0.5902625120736783, -0.7266027885626613, 0.2803210606196508, 2.512564309189163, -0.8055054192553627, 0.2412796048237268, -2.285699534902473, -0.9390717044975707, 1.6702387584650282, -1.273502800037816, 1.3540604633609157, 0.4255846926598821, 1.487181648780377, 1.4660430152948845, 0.3519290262580381, 0.5230744898274311, 0.997144293532742, -0.8740477960491844, -0.387069228834427, -1.6915932109767786, 2.1276430027220674, 0.27478301400057853, -0.21009911987774507, 1.002156815948722, 0.7287631558350716, -0.5742645841862735, 1.0630301888693465, 0.41588829566680874, 0.6004342637575202, 0.7623210596084231, 1.731917917944346, -0.34050170359683757, 0.6046278217001049, 0.68256330719148, 1.3945099510527015, 0.9780044890400321, -4.9628314741983, -1.265216148443028, -4.114152829024972, 2.709047999938783, -1.9922680048667027, -0.6047849782590421, 1.8712825719911805, 1.2089549470456218, -1.2497460486567282, -1.2686289053217388, -1.0723830833645196, -0.1341618894641025, 1.714846245401242, -3.015872690686464, 0.3694096957600452, 2.26090653310401, 1.868965865910965, -0.29035471587269224, 0.7420650470219435, 1.423773100153644, -2.220368318034313, 2.3247878019402477, -1.5697399364210516, 1.882631446703863, 0.4961095094673616, 1.3918241202884905, 2.5589020749867237, -0.10406790726970577, -0.802180722540493, -0.4661535218957812, -0.361200409870677, -1.6508478266271756, 0.32764827183891476, -0.2761240971887628, 0.1856326565180225, 0.3673776458871612, -1.6395501257923704, 0.6374642083539132, -3.7307886361706455, 1.64217954994535, -2.449580253052983, 0.421758043250314, 1.852228309145515, 3.8547309760295905, 2.5895531360416695, 0.03616858700729745, -1.5254029401884093, -1.3652289708527225, 2.0129145485651314, -0.6519348588783579, 1.0222407181613629, 0.8017374114323119, -0.20789809660017614, -0.821392074337107, 0.8736981000490036, -0.4178197918152635, 0.2164506265461421, 1.314409739132722, 0.4786188956984337, 0.9214943705385352, -0.05824563817777561, 1.281854635668546, -0.04646040554606666, 0.22519019228191595, 0.703316776906088, 0.44703703692096414, 0.5017538804668705, -1.9377239274069296, 0.541856267686367, -0.2252126551407012, 0.5022667170232535, 1.2461337002391393, 0.5012350995449372, 0.8418230939438529, -0.07137117109618285, -0.10285738347200132, 0.5132453630116934, -0.28739694296208024, 0.26325132476352536, 0.7394880615104708, -0.38141401404466013, 0.1539294569151412], \"xaxis\": \"x\", \"y\": [0.0, -0.5231342533468151, 2.665406203501443, -0.19316453087366364, 0.7117756890282141, 1.0497921475491758, 0.6458646435535624, 0.7746940895469347, -0.6555462930986106, 0.6018485769698141, 0.7615399791313364, 2.024603123762859, 0.1845179810148786, 0.10929297467954124, 0.05525728613427117, -1.247391589613388, -2.3489815263097205, 1.3110027580133983, 0.42743544790589455, -0.16818502464451116, -1.4763603715403129, 3.4771524777262024, -2.508427223705584, 0.04427910650286353, 2.069079275592641, 0.21274244806902504, 1.9978263361599438, 0.09279919811912718, 0.5675235392321615, -0.3450471950064856, 0.3528479617696553, 0.0467470153766816, 0.3573720528836405, -0.5167656854712336, -2.2102999698564005, -4.287272812253343, -2.362207499931436, 0.2993554572428532, -5.431258576052633, 1.847982792536625, 3.5146497135756953, -3.5056824880887842, 3.2802085521492614, -4.837866748800834, -1.446653335207586, -6.170215612270604, 4.884067394449179, -5.040113656716853, -8.204638994372104, 9.241146704227999, -11.634151980939551, 4.199446280871388, -2.4032803051113487, 1.8768595422231589, -3.90944086732542, -1.3180888186373414, 7.198353574163566, -2.512368421791756, 5.5645366914027425, -4.528259225890847, 3.24699156152937, 1.3643684325086907, -5.150822161107396, 1.3546914110945203, -2.178104212678579, 8.281320973550724, -0.05323598438906343, 2.0666976893598905, -0.03562996776615576, 0.31826483847336073, 4.52903931238597, -0.6267581201077034, 0.010340004594263074, 1.7153992960010065, -1.39561967051896, -3.8845489661022707, 3.815502796320046, 1.013978704798138, 0.42716013223315097, -0.449631078188016, -3.011348218715316, 8.891041703206684, 0.33675790728975774, -2.181629609271652, 0.42359323114474046, 1.9744496662744064, -0.26611657116548365, 1.7726655889806375, 1.0998434360552805, 1.3905543779192353, -2.02408914292652, -1.9524787015194653, 0.6326366375359999, 1.1939384621170077, 0.88269956156182, -0.7782402921551599, 2.5291042744592476, -0.17102629376587805, 0.4613463823973698, 0.575274188318447, -0.07668417259804586, -0.14363639707797224, 1.0773937698900915, 0.0941720776511326, 0.5185182979559665, -0.21216371441890605, -1.7335383826211568, 1.8185653549567729, 0.556938057976489, 0.2789920777883359, 0.8690978113544192, -4.287562562391542, 0.7860774191694534, 0.5534599302043147, 1.8110266935264776, 0.41964703604765174, -1.268126416480828, -0.661031189930195, 1.826427677427763, 0.9181990249420914, -2.1366432406308924, 0.5863073009245036, -5.451386985937306, 2.5415770465460805, 1.4944497968086823, 1.688935534515669, 1.9368969286364426, 2.021862919810023, -0.6488167445969042, 0.9181654878875583, 1.0016000823544342, 1.3399954649448356, -1.7400815541773713, 0.5706807161789925, -0.26169275982561846, -0.1292100186693026, 0.1273949505347405, 3.097866696818414, -0.5064406875447517, 0.5739325536279851, -3.0737755271349316, -0.5630485618922038, 1.4069720611211942, -1.6855971434799222, 1.3207850915509063, 0.9753782552336853, -3.2774978779712667, -0.34879811664112237, -0.6379967678650375, 0.3929896694697626, 1.748371360035587, -0.43722092216846264, -0.10344900346217695, -1.0876329692775595, 1.8033927126200389, 0.6243222207914113, -0.7925374567473978, 0.7716172955401577, 2.607769173558603, -0.7179706471975175, 2.048414483170393, -0.0431437723037272, 0.6080388971345857, 1.3058670064700384, 2.3837861493199264, -0.9494374109835141, 0.6699355272788002, -0.6038698870777235, 1.5679322441720833, 3.764776340007294, -5.11706741818935, -2.964084205599453, -3.6434114870744625, 1.5509323484811035, -1.3688935651446148, -0.6742923713676274, -0.4571999304829966, 1.7424123213488956, -1.5002103659731785, -1.656642615455943, -2.4175591979925515, -1.4437389593574805, 2.075316496050985, -3.4545309350526745, 0.9557305332892535, 1.1385570898730955, 1.3619984425869343, 0.5045716739405672, -0.0286519924500626, 1.5215644923308342, -2.170848060900114, 1.8707049275532475, -2.1452180941955787, 0.559606001839358, 1.6646818549728004, 1.8214473539446452, 3.5843633618203135, 0.15850673485878772, -0.23164281156744918, -0.5097714656027234, 0.7862562890379449, -2.4079862968536427, 1.3810912485488718, 2.250692109289088, 1.3032896848395565, 1.638177693422285, -2.9816618690128376, 0.9209150761905994, -5.508853434010089, 3.0500367067389305, 3.804402412709275, 0.5080075621037659, 1.313785990215707, 6.08813116472089, 0.9536915913106717, -0.15716422872340427, 0.09604106853440705, -1.3455094554904092, 0.5472694062310288, -0.2524014714138758, 1.689220021795619, 0.0998735807103202, -0.6972821718294286, -1.1931938696127553, 1.0300769538637984, -1.2618173904924996, -0.5079502334892272, 2.1035428342730715, 0.013038180484542802, 1.297524251902174, -1.8253849850962494, 2.334699063355284, 1.6492506011692332, -0.17150993896116387, 0.10539037354183685, -0.3690167803172131, -0.31370275396016556, -1.8478119125256975, -0.5742837468430357, 0.4044932150204664, -1.270004419787055, 0.5033468914377736, -0.22088802016418507, -0.9492389665784409, -0.8210259626386336, 0.48314166399244646, -0.8267276661639988, 0.4656386916814469, 0.3431287373760918, 2.2950550106893175, -0.913208388497882, -1.2237170971077609], \"yaxis\": \"y\"}],\n",
              "                        {\"legend\": {\"tracegroupgap\": 0}, \"template\": {\"data\": {\"bar\": [{\"error_x\": {\"color\": \"#2a3f5f\"}, \"error_y\": {\"color\": \"#2a3f5f\"}, \"marker\": {\"line\": {\"color\": \"#E5ECF6\", \"width\": 0.5}}, \"type\": \"bar\"}], \"barpolar\": [{\"marker\": {\"line\": {\"color\": \"#E5ECF6\", \"width\": 0.5}}, \"type\": \"barpolar\"}], \"carpet\": [{\"aaxis\": {\"endlinecolor\": \"#2a3f5f\", \"gridcolor\": \"white\", \"linecolor\": \"white\", \"minorgridcolor\": \"white\", \"startlinecolor\": \"#2a3f5f\"}, \"baxis\": {\"endlinecolor\": \"#2a3f5f\", \"gridcolor\": \"white\", \"linecolor\": \"white\", \"minorgridcolor\": \"white\", \"startlinecolor\": \"#2a3f5f\"}, \"type\": \"carpet\"}], \"choropleth\": [{\"colorbar\": {\"outlinewidth\": 0, \"ticks\": \"\"}, \"type\": \"choropleth\"}], \"contour\": [{\"colorbar\": {\"outlinewidth\": 0, \"ticks\": \"\"}, \"colorscale\": [[0.0, \"#0d0887\"], [0.1111111111111111, \"#46039f\"], [0.2222222222222222, \"#7201a8\"], [0.3333333333333333, \"#9c179e\"], [0.4444444444444444, \"#bd3786\"], [0.5555555555555556, \"#d8576b\"], [0.6666666666666666, \"#ed7953\"], [0.7777777777777778, \"#fb9f3a\"], [0.8888888888888888, \"#fdca26\"], [1.0, \"#f0f921\"]], \"type\": \"contour\"}], \"contourcarpet\": [{\"colorbar\": {\"outlinewidth\": 0, \"ticks\": \"\"}, \"type\": \"contourcarpet\"}], \"heatmap\": [{\"colorbar\": {\"outlinewidth\": 0, \"ticks\": \"\"}, \"colorscale\": [[0.0, \"#0d0887\"], [0.1111111111111111, \"#46039f\"], [0.2222222222222222, \"#7201a8\"], [0.3333333333333333, \"#9c179e\"], [0.4444444444444444, \"#bd3786\"], [0.5555555555555556, \"#d8576b\"], [0.6666666666666666, \"#ed7953\"], [0.7777777777777778, \"#fb9f3a\"], [0.8888888888888888, \"#fdca26\"], [1.0, \"#f0f921\"]], \"type\": \"heatmap\"}], \"heatmapgl\": [{\"colorbar\": {\"outlinewidth\": 0, \"ticks\": \"\"}, \"colorscale\": [[0.0, \"#0d0887\"], [0.1111111111111111, \"#46039f\"], [0.2222222222222222, \"#7201a8\"], [0.3333333333333333, \"#9c179e\"], [0.4444444444444444, \"#bd3786\"], [0.5555555555555556, \"#d8576b\"], [0.6666666666666666, \"#ed7953\"], [0.7777777777777778, \"#fb9f3a\"], [0.8888888888888888, \"#fdca26\"], [1.0, \"#f0f921\"]], \"type\": \"heatmapgl\"}], \"histogram\": [{\"marker\": {\"colorbar\": {\"outlinewidth\": 0, \"ticks\": \"\"}}, \"type\": \"histogram\"}], \"histogram2d\": [{\"colorbar\": {\"outlinewidth\": 0, \"ticks\": \"\"}, \"colorscale\": [[0.0, \"#0d0887\"], [0.1111111111111111, \"#46039f\"], [0.2222222222222222, \"#7201a8\"], [0.3333333333333333, \"#9c179e\"], [0.4444444444444444, \"#bd3786\"], [0.5555555555555556, \"#d8576b\"], [0.6666666666666666, \"#ed7953\"], [0.7777777777777778, \"#fb9f3a\"], [0.8888888888888888, \"#fdca26\"], [1.0, \"#f0f921\"]], \"type\": \"histogram2d\"}], \"histogram2dcontour\": [{\"colorbar\": {\"outlinewidth\": 0, \"ticks\": \"\"}, \"colorscale\": [[0.0, \"#0d0887\"], [0.1111111111111111, \"#46039f\"], [0.2222222222222222, \"#7201a8\"], [0.3333333333333333, \"#9c179e\"], [0.4444444444444444, \"#bd3786\"], [0.5555555555555556, \"#d8576b\"], [0.6666666666666666, \"#ed7953\"], [0.7777777777777778, \"#fb9f3a\"], [0.8888888888888888, \"#fdca26\"], [1.0, \"#f0f921\"]], \"type\": \"histogram2dcontour\"}], \"mesh3d\": [{\"colorbar\": {\"outlinewidth\": 0, \"ticks\": \"\"}, \"type\": \"mesh3d\"}], \"parcoords\": [{\"line\": {\"colorbar\": {\"outlinewidth\": 0, \"ticks\": \"\"}}, \"type\": \"parcoords\"}], \"pie\": [{\"automargin\": true, \"type\": \"pie\"}], \"scatter\": [{\"marker\": {\"colorbar\": {\"outlinewidth\": 0, \"ticks\": \"\"}}, \"type\": \"scatter\"}], \"scatter3d\": [{\"line\": {\"colorbar\": {\"outlinewidth\": 0, \"ticks\": \"\"}}, \"marker\": {\"colorbar\": {\"outlinewidth\": 0, \"ticks\": \"\"}}, \"type\": \"scatter3d\"}], \"scattercarpet\": [{\"marker\": {\"colorbar\": {\"outlinewidth\": 0, \"ticks\": \"\"}}, \"type\": \"scattercarpet\"}], \"scattergeo\": [{\"marker\": {\"colorbar\": {\"outlinewidth\": 0, \"ticks\": \"\"}}, \"type\": \"scattergeo\"}], \"scattergl\": [{\"marker\": {\"colorbar\": {\"outlinewidth\": 0, \"ticks\": \"\"}}, \"type\": \"scattergl\"}], \"scattermapbox\": [{\"marker\": {\"colorbar\": {\"outlinewidth\": 0, \"ticks\": \"\"}}, \"type\": \"scattermapbox\"}], \"scatterpolar\": [{\"marker\": {\"colorbar\": {\"outlinewidth\": 0, \"ticks\": \"\"}}, \"type\": \"scatterpolar\"}], \"scatterpolargl\": [{\"marker\": {\"colorbar\": {\"outlinewidth\": 0, \"ticks\": \"\"}}, \"type\": \"scatterpolargl\"}], \"scatterternary\": [{\"marker\": {\"colorbar\": {\"outlinewidth\": 0, \"ticks\": \"\"}}, \"type\": \"scatterternary\"}], \"surface\": [{\"colorbar\": {\"outlinewidth\": 0, \"ticks\": \"\"}, \"colorscale\": [[0.0, \"#0d0887\"], [0.1111111111111111, \"#46039f\"], [0.2222222222222222, \"#7201a8\"], [0.3333333333333333, \"#9c179e\"], [0.4444444444444444, \"#bd3786\"], [0.5555555555555556, \"#d8576b\"], [0.6666666666666666, \"#ed7953\"], [0.7777777777777778, \"#fb9f3a\"], [0.8888888888888888, \"#fdca26\"], [1.0, \"#f0f921\"]], \"type\": \"surface\"}], \"table\": [{\"cells\": {\"fill\": {\"color\": \"#EBF0F8\"}, \"line\": {\"color\": \"white\"}}, \"header\": {\"fill\": {\"color\": \"#C8D4E3\"}, \"line\": {\"color\": \"white\"}}, \"type\": \"table\"}]}, \"layout\": {\"annotationdefaults\": {\"arrowcolor\": \"#2a3f5f\", \"arrowhead\": 0, \"arrowwidth\": 1}, \"coloraxis\": {\"colorbar\": {\"outlinewidth\": 0, \"ticks\": \"\"}}, \"colorscale\": {\"diverging\": [[0, \"#8e0152\"], [0.1, \"#c51b7d\"], [0.2, \"#de77ae\"], [0.3, \"#f1b6da\"], [0.4, \"#fde0ef\"], [0.5, \"#f7f7f7\"], [0.6, \"#e6f5d0\"], [0.7, \"#b8e186\"], [0.8, \"#7fbc41\"], [0.9, \"#4d9221\"], [1, \"#276419\"]], \"sequential\": [[0.0, \"#0d0887\"], [0.1111111111111111, \"#46039f\"], [0.2222222222222222, \"#7201a8\"], [0.3333333333333333, \"#9c179e\"], [0.4444444444444444, \"#bd3786\"], [0.5555555555555556, \"#d8576b\"], [0.6666666666666666, \"#ed7953\"], [0.7777777777777778, \"#fb9f3a\"], [0.8888888888888888, \"#fdca26\"], [1.0, \"#f0f921\"]], \"sequentialminus\": [[0.0, \"#0d0887\"], [0.1111111111111111, \"#46039f\"], [0.2222222222222222, \"#7201a8\"], [0.3333333333333333, \"#9c179e\"], [0.4444444444444444, \"#bd3786\"], [0.5555555555555556, \"#d8576b\"], [0.6666666666666666, \"#ed7953\"], [0.7777777777777778, \"#fb9f3a\"], [0.8888888888888888, \"#fdca26\"], [1.0, \"#f0f921\"]]}, \"colorway\": [\"#636efa\", \"#EF553B\", \"#00cc96\", \"#ab63fa\", \"#FFA15A\", \"#19d3f3\", \"#FF6692\", \"#B6E880\", \"#FF97FF\", \"#FECB52\"], \"font\": {\"color\": \"#2a3f5f\"}, \"geo\": {\"bgcolor\": \"white\", \"lakecolor\": \"white\", \"landcolor\": \"#E5ECF6\", \"showlakes\": true, \"showland\": true, \"subunitcolor\": \"white\"}, \"hoverlabel\": {\"align\": \"left\"}, \"hovermode\": \"closest\", \"mapbox\": {\"style\": \"light\"}, \"paper_bgcolor\": \"white\", \"plot_bgcolor\": \"#E5ECF6\", \"polar\": {\"angularaxis\": {\"gridcolor\": \"white\", \"linecolor\": \"white\", \"ticks\": \"\"}, \"bgcolor\": \"#E5ECF6\", \"radialaxis\": {\"gridcolor\": \"white\", \"linecolor\": \"white\", \"ticks\": \"\"}}, \"scene\": {\"xaxis\": {\"backgroundcolor\": \"#E5ECF6\", \"gridcolor\": \"white\", \"gridwidth\": 2, \"linecolor\": \"white\", \"showbackground\": true, \"ticks\": \"\", \"zerolinecolor\": \"white\"}, \"yaxis\": {\"backgroundcolor\": \"#E5ECF6\", \"gridcolor\": \"white\", \"gridwidth\": 2, \"linecolor\": \"white\", \"showbackground\": true, \"ticks\": \"\", \"zerolinecolor\": \"white\"}, \"zaxis\": {\"backgroundcolor\": \"#E5ECF6\", \"gridcolor\": \"white\", \"gridwidth\": 2, \"linecolor\": \"white\", \"showbackground\": true, \"ticks\": \"\", \"zerolinecolor\": \"white\"}}, \"shapedefaults\": {\"line\": {\"color\": \"#2a3f5f\"}}, \"ternary\": {\"aaxis\": {\"gridcolor\": \"white\", \"linecolor\": \"white\", \"ticks\": \"\"}, \"baxis\": {\"gridcolor\": \"white\", \"linecolor\": \"white\", \"ticks\": \"\"}, \"bgcolor\": \"#E5ECF6\", \"caxis\": {\"gridcolor\": \"white\", \"linecolor\": \"white\", \"ticks\": \"\"}}, \"title\": {\"x\": 0.05}, \"xaxis\": {\"automargin\": true, \"gridcolor\": \"white\", \"linecolor\": \"white\", \"ticks\": \"\", \"title\": {\"standoff\": 15}, \"zerolinecolor\": \"white\", \"zerolinewidth\": 2}, \"yaxis\": {\"automargin\": true, \"gridcolor\": \"white\", \"linecolor\": \"white\", \"ticks\": \"\", \"title\": {\"standoff\": 15}, \"zerolinecolor\": \"white\", \"zerolinewidth\": 2}}}, \"title\": {\"text\": \"GOOGL\"}, \"xaxis\": {\"anchor\": \"y\", \"domain\": [0.0, 1.0], \"title\": {\"text\": \"^IXIC\"}}, \"yaxis\": {\"anchor\": \"x\", \"domain\": [0.0, 1.0], \"title\": {\"text\": \"GOOGL\"}}},\n",
              "                        {\"responsive\": true}\n",
              "                    ).then(function(){\n",
              "                            \n",
              "var gd = document.getElementById('d7493390-e21b-402e-b443-2c0aedcc9d20');\n",
              "var x = new MutationObserver(function (mutations, observer) {{\n",
              "        var display = window.getComputedStyle(gd).display;\n",
              "        if (!display || display === 'none') {{\n",
              "            console.log([gd, 'removed!']);\n",
              "            Plotly.purge(gd);\n",
              "            observer.disconnect();\n",
              "        }}\n",
              "}});\n",
              "\n",
              "// Listen for the removal of the full notebook cells\n",
              "var notebookContainer = gd.closest('#notebook-container');\n",
              "if (notebookContainer) {{\n",
              "    x.observe(notebookContainer, {childList: true});\n",
              "}}\n",
              "\n",
              "// Listen for the clearing of the current output cell\n",
              "var outputEl = gd.closest('.output');\n",
              "if (outputEl) {{\n",
              "    x.observe(outputEl, {childList: true});\n",
              "}}\n",
              "\n",
              "                        })\n",
              "                };\n",
              "                \n",
              "            </script>\n",
              "        </div>\n",
              "</body>\n",
              "</html>"
            ]
          },
          "metadata": {}
        },
        {
          "output_type": "display_data",
          "data": {
            "text/html": [
              "<html>\n",
              "<head><meta charset=\"utf-8\" /></head>\n",
              "<body>\n",
              "    <div>\n",
              "            <script src=\"https://cdnjs.cloudflare.com/ajax/libs/mathjax/2.7.5/MathJax.js?config=TeX-AMS-MML_SVG\"></script><script type=\"text/javascript\">if (window.MathJax) {MathJax.Hub.Config({SVG: {font: \"STIX-Web\"}});}</script>\n",
              "                <script type=\"text/javascript\">window.PlotlyConfig = {MathJaxConfig: 'local'};</script>\n",
              "        <script src=\"https://cdn.plot.ly/plotly-latest.min.js\"></script>    \n",
              "            <div id=\"c3e70d18-13bd-4857-b0ec-bbff86feac71\" class=\"plotly-graph-div\" style=\"height:525px; width:100%;\"></div>\n",
              "            <script type=\"text/javascript\">\n",
              "                \n",
              "                    window.PLOTLYENV=window.PLOTLYENV || {};\n",
              "                    \n",
              "                if (document.getElementById(\"c3e70d18-13bd-4857-b0ec-bbff86feac71\")) {\n",
              "                    Plotly.newPlot(\n",
              "                        'c3e70d18-13bd-4857-b0ec-bbff86feac71',\n",
              "                        [{\"hoverlabel\": {\"namelength\": 0}, \"hovertemplate\": \"^IXIC=%{x}<br>MSFT=%{y}\", \"legendgroup\": \"\", \"marker\": {\"color\": \"#636efa\", \"symbol\": \"circle\"}, \"mode\": \"markers\", \"name\": \"\", \"showlegend\": false, \"type\": \"scatter\", \"x\": [0.0, -0.7855191660339514, 0.5620384728471665, -0.031854247708491115, 0.6689046766684335, 0.8126574744484102, -0.2669584793033168, 1.0357422631592443, -0.24368967780143092, 0.0796654872895177, 1.063104814105905, 0.33996051431786484, -0.19310868474221926, 0.13830140117838088, 0.19939681423002234, -0.9313533039610973, -1.8851559810233676, 1.4264766521421406, 0.05912252564012881, 0.256270844379793, -1.591465499641676, 1.3382226873668104, 2.0981444534002978, 0.42997561370826654, 0.6675027996624794, -0.5394882329740349, 1.1331313707803117, 0.10957991559587729, 0.9027914622439598, -0.1438442521991573, 0.19779675470939986, 0.01603656416913738, 0.8675814939226352, -0.6744295515116596, -1.7883337524623202, -3.7101888679547743, -2.7726076455074673, 0.16920121754294432, -4.613182731047064, 0.010385226940578262, 4.491457698501092, -2.9945821009265603, 3.846114054662644, -3.0993259641753057, -1.8649430797928905, -7.287402343694397, 4.950140308971453, -4.700245022770171, -9.434674309481181, 9.345998172386109, -12.321331290147407, 6.230492341201929, -4.702798877538514, 2.2996268579562185, -3.7907422283539605, -0.274003093278801, 8.121509236724387, -0.4524223861369213, 5.59620065957612, -3.7852983732224246, 3.6224507926325984, -0.952513208745505, -4.409293583528775, 1.7217390358319775, -1.52564779039222, 7.3261127035984215, -0.32831644156512807, 2.581887027561507, 0.7746996815903381, 0.47635325069293516, 3.946578856836743, -1.4392236435332642, 1.6582590775434294, 1.3803835283800632, -1.0336154480887512, -3.475170735558033, 2.8094268330097516, -0.007414416084845749, 1.6453636805085496, 1.1076542783169119, -1.4023761913732073, 3.5663232405100977, -0.2822319106313816, -3.2015075636893258, 1.2290572661607275, 1.1297604522629348, 0.5138939036791482, 1.4147842232649654, 1.5775670101657695, 0.7786102101104126, -2.0646542913830683, -1.5482267339407207, 0.9088148528970065, 0.7920624294565988, 2.443497168047047, -0.5385098407798431, 2.07597818392603, -0.9695234740358589, 0.4276841643477609, 0.16762005701490723, 0.7723653951613199, -0.4607783336758918, 1.2902124966358643, 0.6552216914685036, 0.5897171735574182, 0.7756799205120937, -0.6929795366756427, 2.061922153956055, 1.1276647530284236, 0.2921987959394443, 0.6690906379505211, -5.265476367524758, 1.012133462324583, 1.4309384280850652, 1.7463525072283153, 0.14814418617457112, 0.32813109241147087, 0.030878981402190583, 1.1095819300612568, 0.7446904378745204, -2.193189990518118, 1.088184772035845, -2.59339396463512, 1.1984014641401854, 1.8697217818384297, 0.9530027630585096, 0.5219294116244121, 2.2142310252948234, -0.8603004588705903, 1.4366969932335696, 0.5265665951870384, 0.660713703751985, -2.1342298780777758, 0.940638445445677, 0.5902625120736783, -0.7266027885626613, 0.2803210606196508, 2.512564309189163, -0.8055054192553627, 0.2412796048237268, -2.285699534902473, -0.9390717044975707, 1.6702387584650282, -1.273502800037816, 1.3540604633609157, 0.4255846926598821, 1.487181648780377, 1.4660430152948845, 0.3519290262580381, 0.5230744898274311, 0.997144293532742, -0.8740477960491844, -0.387069228834427, -1.6915932109767786, 2.1276430027220674, 0.27478301400057853, -0.21009911987774507, 1.002156815948722, 0.7287631558350716, -0.5742645841862735, 1.0630301888693465, 0.41588829566680874, 0.6004342637575202, 0.7623210596084231, 1.731917917944346, -0.34050170359683757, 0.6046278217001049, 0.68256330719148, 1.3945099510527015, 0.9780044890400321, -4.9628314741983, -1.265216148443028, -4.114152829024972, 2.709047999938783, -1.9922680048667027, -0.6047849782590421, 1.8712825719911805, 1.2089549470456218, -1.2497460486567282, -1.2686289053217388, -1.0723830833645196, -0.1341618894641025, 1.714846245401242, -3.015872690686464, 0.3694096957600452, 2.26090653310401, 1.868965865910965, -0.29035471587269224, 0.7420650470219435, 1.423773100153644, -2.220368318034313, 2.3247878019402477, -1.5697399364210516, 1.882631446703863, 0.4961095094673616, 1.3918241202884905, 2.5589020749867237, -0.10406790726970577, -0.802180722540493, -0.4661535218957812, -0.361200409870677, -1.6508478266271756, 0.32764827183891476, -0.2761240971887628, 0.1856326565180225, 0.3673776458871612, -1.6395501257923704, 0.6374642083539132, -3.7307886361706455, 1.64217954994535, -2.449580253052983, 0.421758043250314, 1.852228309145515, 3.8547309760295905, 2.5895531360416695, 0.03616858700729745, -1.5254029401884093, -1.3652289708527225, 2.0129145485651314, -0.6519348588783579, 1.0222407181613629, 0.8017374114323119, -0.20789809660017614, -0.821392074337107, 0.8736981000490036, -0.4178197918152635, 0.2164506265461421, 1.314409739132722, 0.4786188956984337, 0.9214943705385352, -0.05824563817777561, 1.281854635668546, -0.04646040554606666, 0.22519019228191595, 0.703316776906088, 0.44703703692096414, 0.5017538804668705, -1.9377239274069296, 0.541856267686367, -0.2252126551407012, 0.5022667170232535, 1.2461337002391393, 0.5012350995449372, 0.8418230939438529, -0.07137117109618285, -0.10285738347200132, 0.5132453630116934, -0.28739694296208024, 0.26325132476352536, 0.7394880615104708, -0.38141401404466013, 0.1539294569151412], \"xaxis\": \"x\", \"y\": [0.0, -1.2451537011513225, 0.25846645454947537, -0.9117773881159743, 1.5928388883843607, 1.2493049640714295, -0.4627278699914996, 1.2024437725666848, -0.704295040019529, 0.647618927268186, 1.832336706553615, 0.5596614812567533, -0.3590704795987833, -0.48047970783791033, 0.6155688447752241, -1.0076740676468643, -1.672329469811905, 1.9595878114003495, 1.559287112277152, 2.820758302725325, -1.4758616798969295, 2.4378819918318757, 3.2916574950865107, -0.12214877401839133, 2.073383037146028, 0.14157910316104297, 2.615696084065015, -2.2575385427040073, 0.14637682025348925, -0.5413757141237753, 0.892700462833845, 1.0142980995016018, 0.29990596695737076, -1.527123244828191, -3.161263474686324, -4.311538157181164, -1.6501832817381208, 1.2494652523387295, -7.045896104375722, 2.421295090299495, 6.653914144140511, -4.791947004945778, 3.671503448223949, -2.5095252011682554, -2.8267199869070234, -6.777245949679446, 6.838402021171991, -4.530200002712579, -9.483822195739286, 14.216874309519106, -14.739030465587765, 8.233655673805357, -4.209601742453333, 1.6452850790758409, -3.7558560176736977, -0.9974528084359126, 9.089557582163271, -0.9572491462747569, 6.255105853011697, -4.106089428487998, 7.0340822786937025, -1.572738921532789, -3.5508205174964136, 2.0708770286636073, -0.9210443540720851, 7.43679115923988, -1.077040582895907, 1.003120704250382, 0.006064873145257274, 0.2240305133664697, 4.9483579060797265, -1.047778925757924, 3.0020810398787328, 0.8811692360259313, -1.9820855939401294, -4.13572550447177, 3.3965016607523513, -1.2102482655240216, 1.8259228875387212, -0.2864438905715345, -2.4360800134966722, 4.487365653589034, 1.0032180271636144, -2.5891358560421116, 2.445989695906524, 1.0735951928139402, 0.9847365197196067, 0.5806878775734694, 0.5882364347604466, 1.1154398013442137, -2.2651804465357963, -1.5122384835836824, 0.43393779148561884, 1.4568179314123393, 0.9554549763065218, -0.6922237172092164, 1.3870591108252213, -1.2011267984102705, 0.04360764296734611, -1.05714636595948, 0.1321800648182201, -0.2255250974462337, 1.0198586131212886, -0.22919446766049129, 1.1376629687913304, 0.24337351047047034, -1.316367583945467, 2.339817246950874, 0.6196592331856137, 0.7644996923201991, 3.709160200424369, -5.369838499653191, 0.7891707322247437, 0.6391883875418244, 2.450524485065435, 0.34611242533479475, 1.0708506058863525, -0.5959837868255811, 2.777369982202887, 0.6680889534401822, -2.0157505429099545, 1.2636492083145137, -2.001598307630763, 1.074711693877779, 2.554941263903044, 0.5847349972982591, 0.7620888149957048, 2.152617157325198, -1.1627791122620528, 2.199268765946546, 0.7001007334488794, -0.3032899796476651, -3.0888742991406337, 0.6181492704917233, -0.14879633808685427, -1.9803881414736793, -0.5100051079992116, 4.298113780908673, -1.3468736572807936, 1.4371144043601543, -4.34946089079041, -0.6122205411495794, 1.266766357989593, -0.8977277881563841, 1.0097983092957559, -0.0784055822051326, 0.5443792608527425, 5.6241174598867305, -1.5008746654956937, -0.16409418835615894, 1.6013918086263137, -1.788766938605208, -1.9907738354691542, -2.3385376771733446, 2.8567275895647053, -0.23425215777110836, 0.09583355183166194, 0.6606014184003073, 0.5754303027856129, -0.6066901081551039, 2.3271286018936346, -0.7269975244796355, 0.31452537607505004, 1.3009535454648435, 2.161957252119959, 2.4553554798052155, 1.02833120080282, -1.4765724071018143, 0.7715242897998641, 1.92721170539427, -6.1946803825604295, -1.4035800340233482, -5.409582978160653, 4.258355253290045, -2.801833426449622, -0.6524678540474894, 0.676360901213768, 1.640627535965591, -1.7865724909125076, -1.0436416606256742, -1.2419368964008342, 1.0729060653722624, 2.4094027743850077, -3.292836304295874, 1.296181827338094, 2.278657640240024, 0.7795208810053813, -1.0408749849368324, 1.4812228727588206, 1.0127058994416223, -2.9511473942203823, 2.0321133657869033, -2.124731767097901, 1.9037351540381422, 0.35744631260154014, 2.483610892770058, 2.5902399083820766, 0.659436044886053, -0.8974229285892357, -0.5433297226625555, 0.0, -2.476553382240859, 0.20072645090705726, 0.06988826056570321, 0.04189506790958236, 0.623576672986991, -2.844195983478137, 1.5089479160084964, -4.956624114216739, 1.0065141014009888, -1.099060298367623, -0.06914897177030495, 2.026389164989514, 4.8248841937980185, 3.1886888991836977, 0.19257297535798304, -2.382436993582432, -3.379289536915491, 2.62548136318361, -0.5125870907041786, 0.49665860106898174, 0.3325490144758429, -1.275145424875983, -1.3183690795814995, 0.6348262291713447, -0.9556498723527448, -0.13308737002245496, 1.7847722369023051, 0.004682410818207482, 0.6358947578341072, -0.5389601511440415, 0.9996825971701787, -0.3885146618413647, -0.5246752994843814, 0.056010404615492476, -0.03266459635651111, 0.8026548459453137, -1.9489794046516469, -0.6043439875419905, 1.3015262876209677, 0.44078723353995825, -0.032681826359119065, 2.4050800059187933, 0.063849392758375, -0.3782741481727039, 1.829913418812343, 0.6064985227556488, -1.3039167637466411, 0.7827239940180567, 0.9921479830769315, -0.3600694577670751, -1.101947495874112], \"yaxis\": \"y\"}],\n",
              "                        {\"legend\": {\"tracegroupgap\": 0}, \"template\": {\"data\": {\"bar\": [{\"error_x\": {\"color\": \"#2a3f5f\"}, \"error_y\": {\"color\": \"#2a3f5f\"}, \"marker\": {\"line\": {\"color\": \"#E5ECF6\", \"width\": 0.5}}, \"type\": \"bar\"}], \"barpolar\": [{\"marker\": {\"line\": {\"color\": \"#E5ECF6\", \"width\": 0.5}}, \"type\": \"barpolar\"}], \"carpet\": [{\"aaxis\": {\"endlinecolor\": \"#2a3f5f\", \"gridcolor\": \"white\", \"linecolor\": \"white\", \"minorgridcolor\": \"white\", \"startlinecolor\": \"#2a3f5f\"}, \"baxis\": {\"endlinecolor\": \"#2a3f5f\", \"gridcolor\": \"white\", \"linecolor\": \"white\", \"minorgridcolor\": \"white\", \"startlinecolor\": \"#2a3f5f\"}, \"type\": \"carpet\"}], \"choropleth\": [{\"colorbar\": {\"outlinewidth\": 0, \"ticks\": \"\"}, \"type\": \"choropleth\"}], \"contour\": [{\"colorbar\": {\"outlinewidth\": 0, \"ticks\": \"\"}, \"colorscale\": [[0.0, \"#0d0887\"], [0.1111111111111111, \"#46039f\"], [0.2222222222222222, \"#7201a8\"], [0.3333333333333333, \"#9c179e\"], [0.4444444444444444, \"#bd3786\"], [0.5555555555555556, \"#d8576b\"], [0.6666666666666666, \"#ed7953\"], [0.7777777777777778, \"#fb9f3a\"], [0.8888888888888888, \"#fdca26\"], [1.0, \"#f0f921\"]], \"type\": \"contour\"}], \"contourcarpet\": [{\"colorbar\": {\"outlinewidth\": 0, \"ticks\": \"\"}, \"type\": \"contourcarpet\"}], \"heatmap\": [{\"colorbar\": {\"outlinewidth\": 0, \"ticks\": \"\"}, \"colorscale\": [[0.0, \"#0d0887\"], [0.1111111111111111, \"#46039f\"], [0.2222222222222222, \"#7201a8\"], [0.3333333333333333, \"#9c179e\"], [0.4444444444444444, \"#bd3786\"], [0.5555555555555556, \"#d8576b\"], [0.6666666666666666, \"#ed7953\"], [0.7777777777777778, \"#fb9f3a\"], [0.8888888888888888, \"#fdca26\"], [1.0, \"#f0f921\"]], \"type\": \"heatmap\"}], \"heatmapgl\": [{\"colorbar\": {\"outlinewidth\": 0, \"ticks\": \"\"}, \"colorscale\": [[0.0, \"#0d0887\"], [0.1111111111111111, \"#46039f\"], [0.2222222222222222, \"#7201a8\"], [0.3333333333333333, \"#9c179e\"], [0.4444444444444444, \"#bd3786\"], [0.5555555555555556, \"#d8576b\"], [0.6666666666666666, \"#ed7953\"], [0.7777777777777778, \"#fb9f3a\"], [0.8888888888888888, \"#fdca26\"], [1.0, \"#f0f921\"]], \"type\": \"heatmapgl\"}], \"histogram\": [{\"marker\": {\"colorbar\": {\"outlinewidth\": 0, \"ticks\": \"\"}}, \"type\": \"histogram\"}], \"histogram2d\": [{\"colorbar\": {\"outlinewidth\": 0, \"ticks\": \"\"}, \"colorscale\": [[0.0, \"#0d0887\"], [0.1111111111111111, \"#46039f\"], [0.2222222222222222, \"#7201a8\"], [0.3333333333333333, \"#9c179e\"], [0.4444444444444444, \"#bd3786\"], [0.5555555555555556, \"#d8576b\"], [0.6666666666666666, \"#ed7953\"], [0.7777777777777778, \"#fb9f3a\"], [0.8888888888888888, \"#fdca26\"], [1.0, \"#f0f921\"]], \"type\": \"histogram2d\"}], \"histogram2dcontour\": [{\"colorbar\": {\"outlinewidth\": 0, \"ticks\": \"\"}, \"colorscale\": [[0.0, \"#0d0887\"], [0.1111111111111111, \"#46039f\"], [0.2222222222222222, \"#7201a8\"], [0.3333333333333333, \"#9c179e\"], [0.4444444444444444, \"#bd3786\"], [0.5555555555555556, \"#d8576b\"], [0.6666666666666666, \"#ed7953\"], [0.7777777777777778, \"#fb9f3a\"], [0.8888888888888888, \"#fdca26\"], [1.0, \"#f0f921\"]], \"type\": \"histogram2dcontour\"}], \"mesh3d\": [{\"colorbar\": {\"outlinewidth\": 0, \"ticks\": \"\"}, \"type\": \"mesh3d\"}], \"parcoords\": [{\"line\": {\"colorbar\": {\"outlinewidth\": 0, \"ticks\": \"\"}}, \"type\": \"parcoords\"}], \"pie\": [{\"automargin\": true, \"type\": \"pie\"}], \"scatter\": [{\"marker\": {\"colorbar\": {\"outlinewidth\": 0, \"ticks\": \"\"}}, \"type\": \"scatter\"}], \"scatter3d\": [{\"line\": {\"colorbar\": {\"outlinewidth\": 0, \"ticks\": \"\"}}, \"marker\": {\"colorbar\": {\"outlinewidth\": 0, \"ticks\": \"\"}}, \"type\": \"scatter3d\"}], \"scattercarpet\": [{\"marker\": {\"colorbar\": {\"outlinewidth\": 0, \"ticks\": \"\"}}, \"type\": \"scattercarpet\"}], \"scattergeo\": [{\"marker\": {\"colorbar\": {\"outlinewidth\": 0, \"ticks\": \"\"}}, \"type\": \"scattergeo\"}], \"scattergl\": [{\"marker\": {\"colorbar\": {\"outlinewidth\": 0, \"ticks\": \"\"}}, \"type\": \"scattergl\"}], \"scattermapbox\": [{\"marker\": {\"colorbar\": {\"outlinewidth\": 0, \"ticks\": \"\"}}, \"type\": \"scattermapbox\"}], \"scatterpolar\": [{\"marker\": {\"colorbar\": {\"outlinewidth\": 0, \"ticks\": \"\"}}, \"type\": \"scatterpolar\"}], \"scatterpolargl\": [{\"marker\": {\"colorbar\": {\"outlinewidth\": 0, \"ticks\": \"\"}}, \"type\": \"scatterpolargl\"}], \"scatterternary\": [{\"marker\": {\"colorbar\": {\"outlinewidth\": 0, \"ticks\": \"\"}}, \"type\": \"scatterternary\"}], \"surface\": [{\"colorbar\": {\"outlinewidth\": 0, \"ticks\": \"\"}, \"colorscale\": [[0.0, \"#0d0887\"], [0.1111111111111111, \"#46039f\"], [0.2222222222222222, \"#7201a8\"], [0.3333333333333333, \"#9c179e\"], [0.4444444444444444, \"#bd3786\"], [0.5555555555555556, \"#d8576b\"], [0.6666666666666666, \"#ed7953\"], [0.7777777777777778, \"#fb9f3a\"], [0.8888888888888888, \"#fdca26\"], [1.0, \"#f0f921\"]], \"type\": \"surface\"}], \"table\": [{\"cells\": {\"fill\": {\"color\": \"#EBF0F8\"}, \"line\": {\"color\": \"white\"}}, \"header\": {\"fill\": {\"color\": \"#C8D4E3\"}, \"line\": {\"color\": \"white\"}}, \"type\": \"table\"}]}, \"layout\": {\"annotationdefaults\": {\"arrowcolor\": \"#2a3f5f\", \"arrowhead\": 0, \"arrowwidth\": 1}, \"coloraxis\": {\"colorbar\": {\"outlinewidth\": 0, \"ticks\": \"\"}}, \"colorscale\": {\"diverging\": [[0, \"#8e0152\"], [0.1, \"#c51b7d\"], [0.2, \"#de77ae\"], [0.3, \"#f1b6da\"], [0.4, \"#fde0ef\"], [0.5, \"#f7f7f7\"], [0.6, \"#e6f5d0\"], [0.7, \"#b8e186\"], [0.8, \"#7fbc41\"], [0.9, \"#4d9221\"], [1, \"#276419\"]], \"sequential\": [[0.0, \"#0d0887\"], [0.1111111111111111, \"#46039f\"], [0.2222222222222222, \"#7201a8\"], [0.3333333333333333, \"#9c179e\"], [0.4444444444444444, \"#bd3786\"], [0.5555555555555556, \"#d8576b\"], [0.6666666666666666, \"#ed7953\"], [0.7777777777777778, \"#fb9f3a\"], [0.8888888888888888, \"#fdca26\"], [1.0, \"#f0f921\"]], \"sequentialminus\": [[0.0, \"#0d0887\"], [0.1111111111111111, \"#46039f\"], [0.2222222222222222, \"#7201a8\"], [0.3333333333333333, \"#9c179e\"], [0.4444444444444444, \"#bd3786\"], [0.5555555555555556, \"#d8576b\"], [0.6666666666666666, \"#ed7953\"], [0.7777777777777778, \"#fb9f3a\"], [0.8888888888888888, \"#fdca26\"], [1.0, \"#f0f921\"]]}, \"colorway\": [\"#636efa\", \"#EF553B\", \"#00cc96\", \"#ab63fa\", \"#FFA15A\", \"#19d3f3\", \"#FF6692\", \"#B6E880\", \"#FF97FF\", \"#FECB52\"], \"font\": {\"color\": \"#2a3f5f\"}, \"geo\": {\"bgcolor\": \"white\", \"lakecolor\": \"white\", \"landcolor\": \"#E5ECF6\", \"showlakes\": true, \"showland\": true, \"subunitcolor\": \"white\"}, \"hoverlabel\": {\"align\": \"left\"}, \"hovermode\": \"closest\", \"mapbox\": {\"style\": \"light\"}, \"paper_bgcolor\": \"white\", \"plot_bgcolor\": \"#E5ECF6\", \"polar\": {\"angularaxis\": {\"gridcolor\": \"white\", \"linecolor\": \"white\", \"ticks\": \"\"}, \"bgcolor\": \"#E5ECF6\", \"radialaxis\": {\"gridcolor\": \"white\", \"linecolor\": \"white\", \"ticks\": \"\"}}, \"scene\": {\"xaxis\": {\"backgroundcolor\": \"#E5ECF6\", \"gridcolor\": \"white\", \"gridwidth\": 2, \"linecolor\": \"white\", \"showbackground\": true, \"ticks\": \"\", \"zerolinecolor\": \"white\"}, \"yaxis\": {\"backgroundcolor\": \"#E5ECF6\", \"gridcolor\": \"white\", \"gridwidth\": 2, \"linecolor\": \"white\", \"showbackground\": true, \"ticks\": \"\", \"zerolinecolor\": \"white\"}, \"zaxis\": {\"backgroundcolor\": \"#E5ECF6\", \"gridcolor\": \"white\", \"gridwidth\": 2, \"linecolor\": \"white\", \"showbackground\": true, \"ticks\": \"\", \"zerolinecolor\": \"white\"}}, \"shapedefaults\": {\"line\": {\"color\": \"#2a3f5f\"}}, \"ternary\": {\"aaxis\": {\"gridcolor\": \"white\", \"linecolor\": \"white\", \"ticks\": \"\"}, \"baxis\": {\"gridcolor\": \"white\", \"linecolor\": \"white\", \"ticks\": \"\"}, \"bgcolor\": \"#E5ECF6\", \"caxis\": {\"gridcolor\": \"white\", \"linecolor\": \"white\", \"ticks\": \"\"}}, \"title\": {\"x\": 0.05}, \"xaxis\": {\"automargin\": true, \"gridcolor\": \"white\", \"linecolor\": \"white\", \"ticks\": \"\", \"title\": {\"standoff\": 15}, \"zerolinecolor\": \"white\", \"zerolinewidth\": 2}, \"yaxis\": {\"automargin\": true, \"gridcolor\": \"white\", \"linecolor\": \"white\", \"ticks\": \"\", \"title\": {\"standoff\": 15}, \"zerolinecolor\": \"white\", \"zerolinewidth\": 2}}}, \"title\": {\"text\": \"MSFT\"}, \"xaxis\": {\"anchor\": \"y\", \"domain\": [0.0, 1.0], \"title\": {\"text\": \"^IXIC\"}}, \"yaxis\": {\"anchor\": \"x\", \"domain\": [0.0, 1.0], \"title\": {\"text\": \"MSFT\"}}},\n",
              "                        {\"responsive\": true}\n",
              "                    ).then(function(){\n",
              "                            \n",
              "var gd = document.getElementById('c3e70d18-13bd-4857-b0ec-bbff86feac71');\n",
              "var x = new MutationObserver(function (mutations, observer) {{\n",
              "        var display = window.getComputedStyle(gd).display;\n",
              "        if (!display || display === 'none') {{\n",
              "            console.log([gd, 'removed!']);\n",
              "            Plotly.purge(gd);\n",
              "            observer.disconnect();\n",
              "        }}\n",
              "}});\n",
              "\n",
              "// Listen for the removal of the full notebook cells\n",
              "var notebookContainer = gd.closest('#notebook-container');\n",
              "if (notebookContainer) {{\n",
              "    x.observe(notebookContainer, {childList: true});\n",
              "}}\n",
              "\n",
              "// Listen for the clearing of the current output cell\n",
              "var outputEl = gd.closest('.output');\n",
              "if (outputEl) {{\n",
              "    x.observe(outputEl, {childList: true});\n",
              "}}\n",
              "\n",
              "                        })\n",
              "                };\n",
              "                \n",
              "            </script>\n",
              "        </div>\n",
              "</body>\n",
              "</html>"
            ]
          },
          "metadata": {}
        },
        {
          "output_type": "display_data",
          "data": {
            "text/html": [
              "<html>\n",
              "<head><meta charset=\"utf-8\" /></head>\n",
              "<body>\n",
              "    <div>\n",
              "            <script src=\"https://cdnjs.cloudflare.com/ajax/libs/mathjax/2.7.5/MathJax.js?config=TeX-AMS-MML_SVG\"></script><script type=\"text/javascript\">if (window.MathJax) {MathJax.Hub.Config({SVG: {font: \"STIX-Web\"}});}</script>\n",
              "                <script type=\"text/javascript\">window.PlotlyConfig = {MathJaxConfig: 'local'};</script>\n",
              "        <script src=\"https://cdn.plot.ly/plotly-latest.min.js\"></script>    \n",
              "            <div id=\"dedc89ea-8a2e-4126-9053-84200b3a4946\" class=\"plotly-graph-div\" style=\"height:525px; width:100%;\"></div>\n",
              "            <script type=\"text/javascript\">\n",
              "                \n",
              "                    window.PLOTLYENV=window.PLOTLYENV || {};\n",
              "                    \n",
              "                if (document.getElementById(\"dedc89ea-8a2e-4126-9053-84200b3a4946\")) {\n",
              "                    Plotly.newPlot(\n",
              "                        'dedc89ea-8a2e-4126-9053-84200b3a4946',\n",
              "                        [{\"hoverlabel\": {\"namelength\": 0}, \"hovertemplate\": \"^IXIC=%{x}<br>NVDA=%{y}\", \"legendgroup\": \"\", \"marker\": {\"color\": \"#636efa\", \"symbol\": \"circle\"}, \"mode\": \"markers\", \"name\": \"\", \"showlegend\": false, \"type\": \"scatter\", \"x\": [0.0, -0.7855191660339514, 0.5620384728471665, -0.031854247708491115, 0.6689046766684335, 0.8126574744484102, -0.2669584793033168, 1.0357422631592443, -0.24368967780143092, 0.0796654872895177, 1.063104814105905, 0.33996051431786484, -0.19310868474221926, 0.13830140117838088, 0.19939681423002234, -0.9313533039610973, -1.8851559810233676, 1.4264766521421406, 0.05912252564012881, 0.256270844379793, -1.591465499641676, 1.3382226873668104, 2.0981444534002978, 0.42997561370826654, 0.6675027996624794, -0.5394882329740349, 1.1331313707803117, 0.10957991559587729, 0.9027914622439598, -0.1438442521991573, 0.19779675470939986, 0.01603656416913738, 0.8675814939226352, -0.6744295515116596, -1.7883337524623202, -3.7101888679547743, -2.7726076455074673, 0.16920121754294432, -4.613182731047064, 0.010385226940578262, 4.491457698501092, -2.9945821009265603, 3.846114054662644, -3.0993259641753057, -1.8649430797928905, -7.287402343694397, 4.950140308971453, -4.700245022770171, -9.434674309481181, 9.345998172386109, -12.321331290147407, 6.230492341201929, -4.702798877538514, 2.2996268579562185, -3.7907422283539605, -0.274003093278801, 8.121509236724387, -0.4524223861369213, 5.59620065957612, -3.7852983732224246, 3.6224507926325984, -0.952513208745505, -4.409293583528775, 1.7217390358319775, -1.52564779039222, 7.3261127035984215, -0.32831644156512807, 2.581887027561507, 0.7746996815903381, 0.47635325069293516, 3.946578856836743, -1.4392236435332642, 1.6582590775434294, 1.3803835283800632, -1.0336154480887512, -3.475170735558033, 2.8094268330097516, -0.007414416084845749, 1.6453636805085496, 1.1076542783169119, -1.4023761913732073, 3.5663232405100977, -0.2822319106313816, -3.2015075636893258, 1.2290572661607275, 1.1297604522629348, 0.5138939036791482, 1.4147842232649654, 1.5775670101657695, 0.7786102101104126, -2.0646542913830683, -1.5482267339407207, 0.9088148528970065, 0.7920624294565988, 2.443497168047047, -0.5385098407798431, 2.07597818392603, -0.9695234740358589, 0.4276841643477609, 0.16762005701490723, 0.7723653951613199, -0.4607783336758918, 1.2902124966358643, 0.6552216914685036, 0.5897171735574182, 0.7756799205120937, -0.6929795366756427, 2.061922153956055, 1.1276647530284236, 0.2921987959394443, 0.6690906379505211, -5.265476367524758, 1.012133462324583, 1.4309384280850652, 1.7463525072283153, 0.14814418617457112, 0.32813109241147087, 0.030878981402190583, 1.1095819300612568, 0.7446904378745204, -2.193189990518118, 1.088184772035845, -2.59339396463512, 1.1984014641401854, 1.8697217818384297, 0.9530027630585096, 0.5219294116244121, 2.2142310252948234, -0.8603004588705903, 1.4366969932335696, 0.5265665951870384, 0.660713703751985, -2.1342298780777758, 0.940638445445677, 0.5902625120736783, -0.7266027885626613, 0.2803210606196508, 2.512564309189163, -0.8055054192553627, 0.2412796048237268, -2.285699534902473, -0.9390717044975707, 1.6702387584650282, -1.273502800037816, 1.3540604633609157, 0.4255846926598821, 1.487181648780377, 1.4660430152948845, 0.3519290262580381, 0.5230744898274311, 0.997144293532742, -0.8740477960491844, -0.387069228834427, -1.6915932109767786, 2.1276430027220674, 0.27478301400057853, -0.21009911987774507, 1.002156815948722, 0.7287631558350716, -0.5742645841862735, 1.0630301888693465, 0.41588829566680874, 0.6004342637575202, 0.7623210596084231, 1.731917917944346, -0.34050170359683757, 0.6046278217001049, 0.68256330719148, 1.3945099510527015, 0.9780044890400321, -4.9628314741983, -1.265216148443028, -4.114152829024972, 2.709047999938783, -1.9922680048667027, -0.6047849782590421, 1.8712825719911805, 1.2089549470456218, -1.2497460486567282, -1.2686289053217388, -1.0723830833645196, -0.1341618894641025, 1.714846245401242, -3.015872690686464, 0.3694096957600452, 2.26090653310401, 1.868965865910965, -0.29035471587269224, 0.7420650470219435, 1.423773100153644, -2.220368318034313, 2.3247878019402477, -1.5697399364210516, 1.882631446703863, 0.4961095094673616, 1.3918241202884905, 2.5589020749867237, -0.10406790726970577, -0.802180722540493, -0.4661535218957812, -0.361200409870677, -1.6508478266271756, 0.32764827183891476, -0.2761240971887628, 0.1856326565180225, 0.3673776458871612, -1.6395501257923704, 0.6374642083539132, -3.7307886361706455, 1.64217954994535, -2.449580253052983, 0.421758043250314, 1.852228309145515, 3.8547309760295905, 2.5895531360416695, 0.03616858700729745, -1.5254029401884093, -1.3652289708527225, 2.0129145485651314, -0.6519348588783579, 1.0222407181613629, 0.8017374114323119, -0.20789809660017614, -0.821392074337107, 0.8736981000490036, -0.4178197918152635, 0.2164506265461421, 1.314409739132722, 0.4786188956984337, 0.9214943705385352, -0.05824563817777561, 1.281854635668546, -0.04646040554606666, 0.22519019228191595, 0.703316776906088, 0.44703703692096414, 0.5017538804668705, -1.9377239274069296, 0.541856267686367, -0.2252126551407012, 0.5022667170232535, 1.2461337002391393, 0.5012350995449372, 0.8418230939438529, -0.07137117109618285, -0.10285738347200132, 0.5132453630116934, -0.28739694296208024, 0.26325132476352536, 0.7394880615104708, -0.38141401404466013, 0.1539294569151412], \"xaxis\": \"x\", \"y\": [0.0, -1.6006056207743635, 0.4193726230654165, 1.2106667041751091, 0.18756409624635298, 1.0982519303989307, 0.5349377079820287, 3.1352340158332126, -1.8652269841767013, -0.6915237404408896, 1.3682373629478317, 0.14059789806080955, -0.5375433275310699, 0.8752036390250595, 1.0995217872486833, -0.9412329751532207, -4.1041167387777735, 3.234808048867478, -0.9799643696423234, 0.10995975492903384, -3.815952387678571, 1.6495375979521714, 2.8294502944848703, 1.4688588917565653, 1.3917657984345289, -1.0462203950441678, 4.523242218467515, 1.8709566419519166, 1.7357746810190717, -0.6457938375991532, 7.020461145401622, 2.339629277989993, 6.113236724702743, -1.9065791108288235, -4.739228802483263, -7.0697537104465065, -4.10932973962036, 2.1369960369014454, -5.566569722189267, 6.916064534088571, 2.3549405992443053, -3.8128770354870265, 7.00289433004745, -3.94364051069595, -2.652843719729023, -7.743202354425637, 6.3722334920071715, -5.595981251272736, -12.236791696935464, 11.340207351232765, -18.452088835720133, 10.626290803196268, -6.650711280397586, 5.004420002847433, -3.3901393919444343, 3.373008369759799, 17.15642869894875, -1.428684568902431, 4.730880625263373, -1.7532183299186161, 5.08844558166452, -0.7492870825563752, -7.788312335546135, 5.101412059970948, -4.524989005136919, 10.040575032097406, -3.4910518182839203, 3.0575551668262198, -1.4983953821455085, 2.624069582048914, 5.22512185138193, -1.0952624796936345, 4.935193249991318, -0.8075959478595549, -1.802833717669701, -6.110420300081211, 6.1741541232909185, -0.7478348367846062, 1.964693770256323, 2.5864196787949925, -1.9254009155109237, 2.4368469508511033, -2.0706212119722163, -3.2503207309055933, 3.0094195789634375, 0.8410849373303192, 1.3787644606809986, 2.377515304523285, 2.502697302176364, 3.238406624422667, -3.2608026127434546, -0.2883581083073329, 3.2197896660297376, 5.731272546125869, 3.056269768377204, 0.6314022106152543, 1.868147215468962, -2.1711148894197154, 2.8603030555353293, -3.4178146528843123, -2.2081169297147465, -0.4486688579075723, 4.577586524425613, -0.7802462875975502, 0.21576575927588804, -0.631726322539231, 0.011417444338433618, 1.7509832913884564, -1.2892275768578474, 2.7370731560451342, 3.5457718986878883, -6.090696081882544, 1.5489507789829757, 2.7008190369909415, -1.1472965438615996, 1.8470404296037661, -0.19487927410944472, 0.4691953638893364, 2.866772106189528, -0.8056220166676878, -2.269837135299015, 2.7556722982594835, -3.530031726741874, 0.4915253558389227, 3.236419209636872, 0.3395629575784797, 0.8630574749574568, 2.3615658932066066, 0.3303086550790633, 3.4872250237526665, 2.868052175853457, -0.28308701736229724, -4.074725338815622, 3.230618938751513, -1.4430844659575186, -0.9044566451306685, 0.6586253858841609, 3.031407282794352, -1.7339275032289998, 1.067430083225995, -2.9601169096404933, 0.6391984445170638, 2.2266947528333154, -1.976680093776938, 2.4472649697546944, 1.4189385397457404, 0.007060967096253217, 3.725955362004833, 1.9754292894038812, 0.5254869577796415, 0.43193790014446437, -1.19978187989686, -0.30805590054951415, -2.821311166150753, 5.440088279305538, 0.02404705289042771, 1.0574020244740279, 6.684540996833476, -0.6180591575154181, -0.9970833970971551, 0.020599431498488117, 4.468325411033849, 0.2897452561924134, 0.2338820370163278, 0.18039792881822608, -1.1332516274731939, 4.113787837531022, 1.724628227525928, 3.369369142943314, 3.8021776999826042, -9.277521474255542, -3.019479936499822, -5.620917239371761, 6.7321512245931165, -3.171455149728355, -1.1960134703962133, 5.818163896158771, 0.9225194932704919, -3.667923160829646, -0.4075282727049308, -2.2004242886241134, 2.690897507398344, 0.962673689392291, -4.067181012416878, 1.8496835342365288, 4.2577579260374225, 1.2525687816500002, 1.463364960143844, 2.304191906120262, 0.620845811116792, -4.056334336803293, 4.442176883476263, 0.6890183646419678, 1.6561656525935176, -0.896949084537216, -0.5491683610413868, 3.3659680934575062, 0.15640896106203908, -1.073823978030809, -0.8885969210882847, -1.1345744410991352, -2.2716771277992294, 1.0946473295946557, -0.8849184058953814, -1.210731990161179, 1.7158236588057474, -3.303849887088022, 1.9442545290463624, -5.745785737781647, 3.1440571554379195, -3.762288473821455, 0.37298485990522434, 3.487487890498417, 5.950672379003046, 2.6514744236607615, 2.838968794298546, -6.3950699516173435, -6.314762168959118, 5.074377425032278, 0.28880657654808634, -1.1871444015275723, 1.6413502211491484, -0.6881029970974539, 0.048434030824345845, 0.0856284947243156, -2.6227089142236033, 0.39921934795807107, -1.3869921375686027, 2.1377293925001353, 0.2002317744246929, 1.0575792507735715, -0.08581401644132271, 1.1538545779101665, -1.0671635967161837, 1.2111780568076844, 0.35772578216051865, -1.8869485098135599, -3.1404436104080635, 0.3209399974350308, 0.31606399677932556, 2.270755629716855, 0.3888369633885829, -0.8831838920461332, 0.7457022490761747, -0.5190824701416841, 0.453965414821598, -0.4050227772339219, -2.0258627877276822, -0.11916407667912536, -0.7214901904927776, 0.3352588442838556, 1.5645360502673216], \"yaxis\": \"y\"}],\n",
              "                        {\"legend\": {\"tracegroupgap\": 0}, \"template\": {\"data\": {\"bar\": [{\"error_x\": {\"color\": \"#2a3f5f\"}, \"error_y\": {\"color\": \"#2a3f5f\"}, \"marker\": {\"line\": {\"color\": \"#E5ECF6\", \"width\": 0.5}}, \"type\": \"bar\"}], \"barpolar\": [{\"marker\": {\"line\": {\"color\": \"#E5ECF6\", \"width\": 0.5}}, \"type\": \"barpolar\"}], \"carpet\": [{\"aaxis\": {\"endlinecolor\": \"#2a3f5f\", \"gridcolor\": \"white\", \"linecolor\": \"white\", \"minorgridcolor\": \"white\", \"startlinecolor\": \"#2a3f5f\"}, \"baxis\": {\"endlinecolor\": \"#2a3f5f\", \"gridcolor\": \"white\", \"linecolor\": \"white\", \"minorgridcolor\": \"white\", \"startlinecolor\": \"#2a3f5f\"}, \"type\": \"carpet\"}], \"choropleth\": [{\"colorbar\": {\"outlinewidth\": 0, \"ticks\": \"\"}, \"type\": \"choropleth\"}], \"contour\": [{\"colorbar\": {\"outlinewidth\": 0, \"ticks\": \"\"}, \"colorscale\": [[0.0, \"#0d0887\"], [0.1111111111111111, \"#46039f\"], [0.2222222222222222, \"#7201a8\"], [0.3333333333333333, \"#9c179e\"], [0.4444444444444444, \"#bd3786\"], [0.5555555555555556, \"#d8576b\"], [0.6666666666666666, \"#ed7953\"], [0.7777777777777778, \"#fb9f3a\"], [0.8888888888888888, \"#fdca26\"], [1.0, \"#f0f921\"]], \"type\": \"contour\"}], \"contourcarpet\": [{\"colorbar\": {\"outlinewidth\": 0, \"ticks\": \"\"}, \"type\": \"contourcarpet\"}], \"heatmap\": [{\"colorbar\": {\"outlinewidth\": 0, \"ticks\": \"\"}, \"colorscale\": [[0.0, \"#0d0887\"], [0.1111111111111111, \"#46039f\"], [0.2222222222222222, \"#7201a8\"], [0.3333333333333333, \"#9c179e\"], [0.4444444444444444, \"#bd3786\"], [0.5555555555555556, \"#d8576b\"], [0.6666666666666666, \"#ed7953\"], [0.7777777777777778, \"#fb9f3a\"], [0.8888888888888888, \"#fdca26\"], [1.0, \"#f0f921\"]], \"type\": \"heatmap\"}], \"heatmapgl\": [{\"colorbar\": {\"outlinewidth\": 0, \"ticks\": \"\"}, \"colorscale\": [[0.0, \"#0d0887\"], [0.1111111111111111, \"#46039f\"], [0.2222222222222222, \"#7201a8\"], [0.3333333333333333, \"#9c179e\"], [0.4444444444444444, \"#bd3786\"], [0.5555555555555556, \"#d8576b\"], [0.6666666666666666, \"#ed7953\"], [0.7777777777777778, \"#fb9f3a\"], [0.8888888888888888, \"#fdca26\"], [1.0, \"#f0f921\"]], \"type\": \"heatmapgl\"}], \"histogram\": [{\"marker\": {\"colorbar\": {\"outlinewidth\": 0, \"ticks\": \"\"}}, \"type\": \"histogram\"}], \"histogram2d\": [{\"colorbar\": {\"outlinewidth\": 0, \"ticks\": \"\"}, \"colorscale\": [[0.0, \"#0d0887\"], [0.1111111111111111, \"#46039f\"], [0.2222222222222222, \"#7201a8\"], [0.3333333333333333, \"#9c179e\"], [0.4444444444444444, \"#bd3786\"], [0.5555555555555556, \"#d8576b\"], [0.6666666666666666, \"#ed7953\"], [0.7777777777777778, \"#fb9f3a\"], [0.8888888888888888, \"#fdca26\"], [1.0, \"#f0f921\"]], \"type\": \"histogram2d\"}], \"histogram2dcontour\": [{\"colorbar\": {\"outlinewidth\": 0, \"ticks\": \"\"}, \"colorscale\": [[0.0, \"#0d0887\"], [0.1111111111111111, \"#46039f\"], [0.2222222222222222, \"#7201a8\"], [0.3333333333333333, \"#9c179e\"], [0.4444444444444444, \"#bd3786\"], [0.5555555555555556, \"#d8576b\"], [0.6666666666666666, \"#ed7953\"], [0.7777777777777778, \"#fb9f3a\"], [0.8888888888888888, \"#fdca26\"], [1.0, \"#f0f921\"]], \"type\": \"histogram2dcontour\"}], \"mesh3d\": [{\"colorbar\": {\"outlinewidth\": 0, \"ticks\": \"\"}, \"type\": \"mesh3d\"}], \"parcoords\": [{\"line\": {\"colorbar\": {\"outlinewidth\": 0, \"ticks\": \"\"}}, \"type\": \"parcoords\"}], \"pie\": [{\"automargin\": true, \"type\": \"pie\"}], \"scatter\": [{\"marker\": {\"colorbar\": {\"outlinewidth\": 0, \"ticks\": \"\"}}, \"type\": \"scatter\"}], \"scatter3d\": [{\"line\": {\"colorbar\": {\"outlinewidth\": 0, \"ticks\": \"\"}}, \"marker\": {\"colorbar\": {\"outlinewidth\": 0, \"ticks\": \"\"}}, \"type\": \"scatter3d\"}], \"scattercarpet\": [{\"marker\": {\"colorbar\": {\"outlinewidth\": 0, \"ticks\": \"\"}}, \"type\": \"scattercarpet\"}], \"scattergeo\": [{\"marker\": {\"colorbar\": {\"outlinewidth\": 0, \"ticks\": \"\"}}, \"type\": \"scattergeo\"}], \"scattergl\": [{\"marker\": {\"colorbar\": {\"outlinewidth\": 0, \"ticks\": \"\"}}, \"type\": \"scattergl\"}], \"scattermapbox\": [{\"marker\": {\"colorbar\": {\"outlinewidth\": 0, \"ticks\": \"\"}}, \"type\": \"scattermapbox\"}], \"scatterpolar\": [{\"marker\": {\"colorbar\": {\"outlinewidth\": 0, \"ticks\": \"\"}}, \"type\": \"scatterpolar\"}], \"scatterpolargl\": [{\"marker\": {\"colorbar\": {\"outlinewidth\": 0, \"ticks\": \"\"}}, \"type\": \"scatterpolargl\"}], \"scatterternary\": [{\"marker\": {\"colorbar\": {\"outlinewidth\": 0, \"ticks\": \"\"}}, \"type\": \"scatterternary\"}], \"surface\": [{\"colorbar\": {\"outlinewidth\": 0, \"ticks\": \"\"}, \"colorscale\": [[0.0, \"#0d0887\"], [0.1111111111111111, \"#46039f\"], [0.2222222222222222, \"#7201a8\"], [0.3333333333333333, \"#9c179e\"], [0.4444444444444444, \"#bd3786\"], [0.5555555555555556, \"#d8576b\"], [0.6666666666666666, \"#ed7953\"], [0.7777777777777778, \"#fb9f3a\"], [0.8888888888888888, \"#fdca26\"], [1.0, \"#f0f921\"]], \"type\": \"surface\"}], \"table\": [{\"cells\": {\"fill\": {\"color\": \"#EBF0F8\"}, \"line\": {\"color\": \"white\"}}, \"header\": {\"fill\": {\"color\": \"#C8D4E3\"}, \"line\": {\"color\": \"white\"}}, \"type\": \"table\"}]}, \"layout\": {\"annotationdefaults\": {\"arrowcolor\": \"#2a3f5f\", \"arrowhead\": 0, \"arrowwidth\": 1}, \"coloraxis\": {\"colorbar\": {\"outlinewidth\": 0, \"ticks\": \"\"}}, \"colorscale\": {\"diverging\": [[0, \"#8e0152\"], [0.1, \"#c51b7d\"], [0.2, \"#de77ae\"], [0.3, \"#f1b6da\"], [0.4, \"#fde0ef\"], [0.5, \"#f7f7f7\"], [0.6, \"#e6f5d0\"], [0.7, \"#b8e186\"], [0.8, \"#7fbc41\"], [0.9, \"#4d9221\"], [1, \"#276419\"]], \"sequential\": [[0.0, \"#0d0887\"], [0.1111111111111111, \"#46039f\"], [0.2222222222222222, \"#7201a8\"], [0.3333333333333333, \"#9c179e\"], [0.4444444444444444, \"#bd3786\"], [0.5555555555555556, \"#d8576b\"], [0.6666666666666666, \"#ed7953\"], [0.7777777777777778, \"#fb9f3a\"], [0.8888888888888888, \"#fdca26\"], [1.0, \"#f0f921\"]], \"sequentialminus\": [[0.0, \"#0d0887\"], [0.1111111111111111, \"#46039f\"], [0.2222222222222222, \"#7201a8\"], [0.3333333333333333, \"#9c179e\"], [0.4444444444444444, \"#bd3786\"], [0.5555555555555556, \"#d8576b\"], [0.6666666666666666, \"#ed7953\"], [0.7777777777777778, \"#fb9f3a\"], [0.8888888888888888, \"#fdca26\"], [1.0, \"#f0f921\"]]}, \"colorway\": [\"#636efa\", \"#EF553B\", \"#00cc96\", \"#ab63fa\", \"#FFA15A\", \"#19d3f3\", \"#FF6692\", \"#B6E880\", \"#FF97FF\", \"#FECB52\"], \"font\": {\"color\": \"#2a3f5f\"}, \"geo\": {\"bgcolor\": \"white\", \"lakecolor\": \"white\", \"landcolor\": \"#E5ECF6\", \"showlakes\": true, \"showland\": true, \"subunitcolor\": \"white\"}, \"hoverlabel\": {\"align\": \"left\"}, \"hovermode\": \"closest\", \"mapbox\": {\"style\": \"light\"}, \"paper_bgcolor\": \"white\", \"plot_bgcolor\": \"#E5ECF6\", \"polar\": {\"angularaxis\": {\"gridcolor\": \"white\", \"linecolor\": \"white\", \"ticks\": \"\"}, \"bgcolor\": \"#E5ECF6\", \"radialaxis\": {\"gridcolor\": \"white\", \"linecolor\": \"white\", \"ticks\": \"\"}}, \"scene\": {\"xaxis\": {\"backgroundcolor\": \"#E5ECF6\", \"gridcolor\": \"white\", \"gridwidth\": 2, \"linecolor\": \"white\", \"showbackground\": true, \"ticks\": \"\", \"zerolinecolor\": \"white\"}, \"yaxis\": {\"backgroundcolor\": \"#E5ECF6\", \"gridcolor\": \"white\", \"gridwidth\": 2, \"linecolor\": \"white\", \"showbackground\": true, \"ticks\": \"\", \"zerolinecolor\": \"white\"}, \"zaxis\": {\"backgroundcolor\": \"#E5ECF6\", \"gridcolor\": \"white\", \"gridwidth\": 2, \"linecolor\": \"white\", \"showbackground\": true, \"ticks\": \"\", \"zerolinecolor\": \"white\"}}, \"shapedefaults\": {\"line\": {\"color\": \"#2a3f5f\"}}, \"ternary\": {\"aaxis\": {\"gridcolor\": \"white\", \"linecolor\": \"white\", \"ticks\": \"\"}, \"baxis\": {\"gridcolor\": \"white\", \"linecolor\": \"white\", \"ticks\": \"\"}, \"bgcolor\": \"#E5ECF6\", \"caxis\": {\"gridcolor\": \"white\", \"linecolor\": \"white\", \"ticks\": \"\"}}, \"title\": {\"x\": 0.05}, \"xaxis\": {\"automargin\": true, \"gridcolor\": \"white\", \"linecolor\": \"white\", \"ticks\": \"\", \"title\": {\"standoff\": 15}, \"zerolinecolor\": \"white\", \"zerolinewidth\": 2}, \"yaxis\": {\"automargin\": true, \"gridcolor\": \"white\", \"linecolor\": \"white\", \"ticks\": \"\", \"title\": {\"standoff\": 15}, \"zerolinecolor\": \"white\", \"zerolinewidth\": 2}}}, \"title\": {\"text\": \"NVDA\"}, \"xaxis\": {\"anchor\": \"y\", \"domain\": [0.0, 1.0], \"title\": {\"text\": \"^IXIC\"}}, \"yaxis\": {\"anchor\": \"x\", \"domain\": [0.0, 1.0], \"title\": {\"text\": \"NVDA\"}}},\n",
              "                        {\"responsive\": true}\n",
              "                    ).then(function(){\n",
              "                            \n",
              "var gd = document.getElementById('dedc89ea-8a2e-4126-9053-84200b3a4946');\n",
              "var x = new MutationObserver(function (mutations, observer) {{\n",
              "        var display = window.getComputedStyle(gd).display;\n",
              "        if (!display || display === 'none') {{\n",
              "            console.log([gd, 'removed!']);\n",
              "            Plotly.purge(gd);\n",
              "            observer.disconnect();\n",
              "        }}\n",
              "}});\n",
              "\n",
              "// Listen for the removal of the full notebook cells\n",
              "var notebookContainer = gd.closest('#notebook-container');\n",
              "if (notebookContainer) {{\n",
              "    x.observe(notebookContainer, {childList: true});\n",
              "}}\n",
              "\n",
              "// Listen for the clearing of the current output cell\n",
              "var outputEl = gd.closest('.output');\n",
              "if (outputEl) {{\n",
              "    x.observe(outputEl, {childList: true});\n",
              "}}\n",
              "\n",
              "                        })\n",
              "                };\n",
              "                \n",
              "            </script>\n",
              "        </div>\n",
              "</body>\n",
              "</html>"
            ]
          },
          "metadata": {}
        },
        {
          "output_type": "display_data",
          "data": {
            "text/html": [
              "<html>\n",
              "<head><meta charset=\"utf-8\" /></head>\n",
              "<body>\n",
              "    <div>\n",
              "            <script src=\"https://cdnjs.cloudflare.com/ajax/libs/mathjax/2.7.5/MathJax.js?config=TeX-AMS-MML_SVG\"></script><script type=\"text/javascript\">if (window.MathJax) {MathJax.Hub.Config({SVG: {font: \"STIX-Web\"}});}</script>\n",
              "                <script type=\"text/javascript\">window.PlotlyConfig = {MathJaxConfig: 'local'};</script>\n",
              "        <script src=\"https://cdn.plot.ly/plotly-latest.min.js\"></script>    \n",
              "            <div id=\"80452a3d-ce73-408c-8a44-fb765e18fd7c\" class=\"plotly-graph-div\" style=\"height:525px; width:100%;\"></div>\n",
              "            <script type=\"text/javascript\">\n",
              "                \n",
              "                    window.PLOTLYENV=window.PLOTLYENV || {};\n",
              "                    \n",
              "                if (document.getElementById(\"80452a3d-ce73-408c-8a44-fb765e18fd7c\")) {\n",
              "                    Plotly.newPlot(\n",
              "                        '80452a3d-ce73-408c-8a44-fb765e18fd7c',\n",
              "                        [{\"hoverlabel\": {\"namelength\": 0}, \"hovertemplate\": \"^IXIC=%{x}<br>PYPL=%{y}\", \"legendgroup\": \"\", \"marker\": {\"color\": \"#636efa\", \"symbol\": \"circle\"}, \"mode\": \"markers\", \"name\": \"\", \"showlegend\": false, \"type\": \"scatter\", \"x\": [0.0, -0.7855191660339514, 0.5620384728471665, -0.031854247708491115, 0.6689046766684335, 0.8126574744484102, -0.2669584793033168, 1.0357422631592443, -0.24368967780143092, 0.0796654872895177, 1.063104814105905, 0.33996051431786484, -0.19310868474221926, 0.13830140117838088, 0.19939681423002234, -0.9313533039610973, -1.8851559810233676, 1.4264766521421406, 0.05912252564012881, 0.256270844379793, -1.591465499641676, 1.3382226873668104, 2.0981444534002978, 0.42997561370826654, 0.6675027996624794, -0.5394882329740349, 1.1331313707803117, 0.10957991559587729, 0.9027914622439598, -0.1438442521991573, 0.19779675470939986, 0.01603656416913738, 0.8675814939226352, -0.6744295515116596, -1.7883337524623202, -3.7101888679547743, -2.7726076455074673, 0.16920121754294432, -4.613182731047064, 0.010385226940578262, 4.491457698501092, -2.9945821009265603, 3.846114054662644, -3.0993259641753057, -1.8649430797928905, -7.287402343694397, 4.950140308971453, -4.700245022770171, -9.434674309481181, 9.345998172386109, -12.321331290147407, 6.230492341201929, -4.702798877538514, 2.2996268579562185, -3.7907422283539605, -0.274003093278801, 8.121509236724387, -0.4524223861369213, 5.59620065957612, -3.7852983732224246, 3.6224507926325984, -0.952513208745505, -4.409293583528775, 1.7217390358319775, -1.52564779039222, 7.3261127035984215, -0.32831644156512807, 2.581887027561507, 0.7746996815903381, 0.47635325069293516, 3.946578856836743, -1.4392236435332642, 1.6582590775434294, 1.3803835283800632, -1.0336154480887512, -3.475170735558033, 2.8094268330097516, -0.007414416084845749, 1.6453636805085496, 1.1076542783169119, -1.4023761913732073, 3.5663232405100977, -0.2822319106313816, -3.2015075636893258, 1.2290572661607275, 1.1297604522629348, 0.5138939036791482, 1.4147842232649654, 1.5775670101657695, 0.7786102101104126, -2.0646542913830683, -1.5482267339407207, 0.9088148528970065, 0.7920624294565988, 2.443497168047047, -0.5385098407798431, 2.07597818392603, -0.9695234740358589, 0.4276841643477609, 0.16762005701490723, 0.7723653951613199, -0.4607783336758918, 1.2902124966358643, 0.6552216914685036, 0.5897171735574182, 0.7756799205120937, -0.6929795366756427, 2.061922153956055, 1.1276647530284236, 0.2921987959394443, 0.6690906379505211, -5.265476367524758, 1.012133462324583, 1.4309384280850652, 1.7463525072283153, 0.14814418617457112, 0.32813109241147087, 0.030878981402190583, 1.1095819300612568, 0.7446904378745204, -2.193189990518118, 1.088184772035845, -2.59339396463512, 1.1984014641401854, 1.8697217818384297, 0.9530027630585096, 0.5219294116244121, 2.2142310252948234, -0.8603004588705903, 1.4366969932335696, 0.5265665951870384, 0.660713703751985, -2.1342298780777758, 0.940638445445677, 0.5902625120736783, -0.7266027885626613, 0.2803210606196508, 2.512564309189163, -0.8055054192553627, 0.2412796048237268, -2.285699534902473, -0.9390717044975707, 1.6702387584650282, -1.273502800037816, 1.3540604633609157, 0.4255846926598821, 1.487181648780377, 1.4660430152948845, 0.3519290262580381, 0.5230744898274311, 0.997144293532742, -0.8740477960491844, -0.387069228834427, -1.6915932109767786, 2.1276430027220674, 0.27478301400057853, -0.21009911987774507, 1.002156815948722, 0.7287631558350716, -0.5742645841862735, 1.0630301888693465, 0.41588829566680874, 0.6004342637575202, 0.7623210596084231, 1.731917917944346, -0.34050170359683757, 0.6046278217001049, 0.68256330719148, 1.3945099510527015, 0.9780044890400321, -4.9628314741983, -1.265216148443028, -4.114152829024972, 2.709047999938783, -1.9922680048667027, -0.6047849782590421, 1.8712825719911805, 1.2089549470456218, -1.2497460486567282, -1.2686289053217388, -1.0723830833645196, -0.1341618894641025, 1.714846245401242, -3.015872690686464, 0.3694096957600452, 2.26090653310401, 1.868965865910965, -0.29035471587269224, 0.7420650470219435, 1.423773100153644, -2.220368318034313, 2.3247878019402477, -1.5697399364210516, 1.882631446703863, 0.4961095094673616, 1.3918241202884905, 2.5589020749867237, -0.10406790726970577, -0.802180722540493, -0.4661535218957812, -0.361200409870677, -1.6508478266271756, 0.32764827183891476, -0.2761240971887628, 0.1856326565180225, 0.3673776458871612, -1.6395501257923704, 0.6374642083539132, -3.7307886361706455, 1.64217954994535, -2.449580253052983, 0.421758043250314, 1.852228309145515, 3.8547309760295905, 2.5895531360416695, 0.03616858700729745, -1.5254029401884093, -1.3652289708527225, 2.0129145485651314, -0.6519348588783579, 1.0222407181613629, 0.8017374114323119, -0.20789809660017614, -0.821392074337107, 0.8736981000490036, -0.4178197918152635, 0.2164506265461421, 1.314409739132722, 0.4786188956984337, 0.9214943705385352, -0.05824563817777561, 1.281854635668546, -0.04646040554606666, 0.22519019228191595, 0.703316776906088, 0.44703703692096414, 0.5017538804668705, -1.9377239274069296, 0.541856267686367, -0.2252126551407012, 0.5022667170232535, 1.2461337002391393, 0.5012350995449372, 0.8418230939438529, -0.07137117109618285, -0.10285738347200132, 0.5132453630116934, -0.28739694296208024, 0.26325132476352536, 0.7394880615104708, -0.38141401404466013, 0.1539294569151412], \"xaxis\": \"x\", \"y\": [0.0, -1.7968378002433691, 1.2964288387459875, -0.4538440667242743, 1.9604281588177421, 0.670720803118295, 0.31980155576753966, 2.080933735739474, -0.5551694972461909, 0.18318133774485904, 0.47888816636052767, 0.5545921847365964, 0.09479542354678083, -0.5596224858714979, 2.069263540821158, -0.7719026528341366, -1.4874384024890948, 1.110724403874096, 0.12015707438771193, 0.3943074490251039, -2.757857992816566, 2.3004677852515343, 3.064114350156789, -0.2998006369604005, 0.1419964644269606, -0.8424406884413368, 0.9925978570308678, -1.016159624780701, -0.23560988549744757, 1.6447407370036453, 2.0579169227260925, -0.5854144509382282, 1.3412996352903468, -1.194417975298766, -2.4013742008313628, -2.5525110694541806, -5.822740155565212, -0.5015530123932087, -1.1639668823725116, 0.13909637516020737, 4.509679454504285, -2.7467645377956527, 5.04737682917615, -2.7059866990475894, -1.149938413280451, -8.3506197016851, 7.97992800307668, -5.321666166916055, -6.679501770438057, 13.603550501186545, -15.823876589852553, 5.554358777045594, -6.549508002678824, 2.438228055167547, -7.482123976477134, -1.6382073880317265, 14.10978005850276, -1.6240125564666548, 5.140526816433226, -7.105231135481841, 3.7975987322212386, -1.3294866863407495, -4.554001156920329, 2.341868520430923, -1.2082947968131124, 10.04437584219383, -1.3671677138605547, 4.76665221129193, 0.7424317508306207, 0.13228176860097485, 3.5903002308471286, -1.671454800434198, 0.3334883006288261, 3.268397188922719, 0.28609718300376874, -4.12766098689284, 7.113633495212615, 0.04340257079924314, 4.286708202863777, 0.2912285515329795, -3.6422462740474995, 6.406063785522438, -0.4693330817777489, -1.9430889346735265, 2.528814390451169, 1.4313412507270937, 2.2960992158262217, 14.012934354026745, -0.9091439150347529, -0.6898454426632816, -2.0352929966125615, 1.9144841321792208, 0.47311483669655546, 0.761713743391574, 0.501691302238232, -0.5812404756476559, 3.817321050317691, -1.8020413254988574, 1.7811357225111715, -2.5586640559026357, -0.7074784259406888, 1.938878077618475, 4.18038947601917, -0.3096546961801839, 1.9154900260464858, -0.4508265217490298, -1.390478819208361, 0.905558758870281, 0.05768996018629807, 0.4933078932195606, 1.944410965121809, -4.296172983957232, 1.4506020113007172, 1.4749508089291141, 2.3294180246633553, 1.6189062092727475, 2.5758415269108577, -2.1957764798550845, 3.589677460802338, 1.485961976343947, -2.772147388304362, 2.6785714285714284, -0.9449303668478262, -1.4747990201226346, 3.492717202759072, 1.8366509939231956, -0.1239846536633995, -0.5812392071905136, 0.624364938838392, 2.4199055586990847, 0.9142415246787814, -2.6360322783813444, -3.8621074133255417, 0.46061953835021974, -0.13929511834771494, -1.3076833848226572, 2.420352552524705, 2.8173925982413963, -1.8118808636941868, 1.6174941953943625, -2.555765948543449, -0.7477298097285355, 3.140935469186548, -0.9607773323558608, 4.725705808788082, 4.284933987967874, 1.849261294979881, 0.5100219118910999, 0.13193002342979346, 2.827751370433798, 0.5815349930928996, -2.67528617426137, -2.6733108936520122, -2.219122895917887, 1.2114524465482268, 0.9146978533376168, -0.8338947269256168, 2.5227130486232223, -0.8762473996353095, -1.0947241623233324, 2.9827427569913385, -0.7013822994344593, 1.0620517648175378, 1.4028525832834629, 0.8975046239041754, 0.42264626912176095, 0.06851296474378839, -0.16627364289642088, 2.3464256394896923, 0.9046162421354389, -2.7653930502377624, -6.414951364890792, -3.070266629527189, 4.651793114942134, -2.31757945743637, -3.20374372939935, 1.6086993010147759, -0.5027826313917907, -2.747016714862029, -2.8301422101230775, 0.15928895203389623, 4.05520480072492, 2.4944009049500155, -3.285758978088548, 0.3193666808575673, 2.7773190025731984, 2.547398810393024, 1.2915298783246292, 1.3007705806153598, -0.045676464725269775, -2.554076732477651, 2.574124509998955, -2.6365264315394703, 1.5391823499299, -0.796466289962781, 2.1806727271865056, 2.1493334731817137, 3.0916635185143537, -1.992875363520037, -0.22593649316164946, 0.6448742554542434, -2.1472239937278133, 0.949719673327978, 5.501089443957082, -4.289676788967094, -0.43642397960725954, -2.8664264469453076, 1.6276196304683708, -4.051287438962558, 1.4195807613731974, -4.56828789480573, 0.8757264176991127, -4.234127173428707, 8.052942508283245, 5.285915192418686, -0.8946039562454069, -8.88373446771076, -0.7362497841945314, 4.897467112591239, -1.68451195594451, -0.25383975189580965, 1.7601566165644666, 0.18755892767140103, -1.1336494539646784, 0.4102665681303504, 0.9271892766118804, 4.230035414297866, 2.5794206188919637, 4.106799375663684, -1.4315057484422993, 1.291449801514474, 1.1302065309785065, -1.8379956825250077, 0.9314996943360718, 1.5055519191800508, 0.07346668511800389, -0.4542698424479039, -2.8302753390568447, 2.1536969736277025, -0.5944082850676867, 3.1439763637747817, 0.3668702577172854, 3.8808621876613416, 2.3066888049471355, 0.3991348406994954, 0.5371132539024459, 2.4272270918861265, -1.6633138775264906, -0.33411420130334424, -1.2194115276366377, -1.9938052150454915, 0.20776337708316517], \"yaxis\": \"y\"}],\n",
              "                        {\"legend\": {\"tracegroupgap\": 0}, \"template\": {\"data\": {\"bar\": [{\"error_x\": {\"color\": \"#2a3f5f\"}, \"error_y\": {\"color\": \"#2a3f5f\"}, \"marker\": {\"line\": {\"color\": \"#E5ECF6\", \"width\": 0.5}}, \"type\": \"bar\"}], \"barpolar\": [{\"marker\": {\"line\": {\"color\": \"#E5ECF6\", \"width\": 0.5}}, \"type\": \"barpolar\"}], \"carpet\": [{\"aaxis\": {\"endlinecolor\": \"#2a3f5f\", \"gridcolor\": \"white\", \"linecolor\": \"white\", \"minorgridcolor\": \"white\", \"startlinecolor\": \"#2a3f5f\"}, \"baxis\": {\"endlinecolor\": \"#2a3f5f\", \"gridcolor\": \"white\", \"linecolor\": \"white\", \"minorgridcolor\": \"white\", \"startlinecolor\": \"#2a3f5f\"}, \"type\": \"carpet\"}], \"choropleth\": [{\"colorbar\": {\"outlinewidth\": 0, \"ticks\": \"\"}, \"type\": \"choropleth\"}], \"contour\": [{\"colorbar\": {\"outlinewidth\": 0, \"ticks\": \"\"}, \"colorscale\": [[0.0, \"#0d0887\"], [0.1111111111111111, \"#46039f\"], [0.2222222222222222, \"#7201a8\"], [0.3333333333333333, \"#9c179e\"], [0.4444444444444444, \"#bd3786\"], [0.5555555555555556, \"#d8576b\"], [0.6666666666666666, \"#ed7953\"], [0.7777777777777778, \"#fb9f3a\"], [0.8888888888888888, \"#fdca26\"], [1.0, \"#f0f921\"]], \"type\": \"contour\"}], \"contourcarpet\": [{\"colorbar\": {\"outlinewidth\": 0, \"ticks\": \"\"}, \"type\": \"contourcarpet\"}], \"heatmap\": [{\"colorbar\": {\"outlinewidth\": 0, \"ticks\": \"\"}, \"colorscale\": [[0.0, \"#0d0887\"], [0.1111111111111111, \"#46039f\"], [0.2222222222222222, \"#7201a8\"], [0.3333333333333333, \"#9c179e\"], [0.4444444444444444, \"#bd3786\"], [0.5555555555555556, \"#d8576b\"], [0.6666666666666666, \"#ed7953\"], [0.7777777777777778, \"#fb9f3a\"], [0.8888888888888888, \"#fdca26\"], [1.0, \"#f0f921\"]], \"type\": \"heatmap\"}], \"heatmapgl\": [{\"colorbar\": {\"outlinewidth\": 0, \"ticks\": \"\"}, \"colorscale\": [[0.0, \"#0d0887\"], [0.1111111111111111, \"#46039f\"], [0.2222222222222222, \"#7201a8\"], [0.3333333333333333, \"#9c179e\"], [0.4444444444444444, \"#bd3786\"], [0.5555555555555556, \"#d8576b\"], [0.6666666666666666, \"#ed7953\"], [0.7777777777777778, \"#fb9f3a\"], [0.8888888888888888, \"#fdca26\"], [1.0, \"#f0f921\"]], \"type\": \"heatmapgl\"}], \"histogram\": [{\"marker\": {\"colorbar\": {\"outlinewidth\": 0, \"ticks\": \"\"}}, \"type\": \"histogram\"}], \"histogram2d\": [{\"colorbar\": {\"outlinewidth\": 0, \"ticks\": \"\"}, \"colorscale\": [[0.0, \"#0d0887\"], [0.1111111111111111, \"#46039f\"], [0.2222222222222222, \"#7201a8\"], [0.3333333333333333, \"#9c179e\"], [0.4444444444444444, \"#bd3786\"], [0.5555555555555556, \"#d8576b\"], [0.6666666666666666, \"#ed7953\"], [0.7777777777777778, \"#fb9f3a\"], [0.8888888888888888, \"#fdca26\"], [1.0, \"#f0f921\"]], \"type\": \"histogram2d\"}], \"histogram2dcontour\": [{\"colorbar\": {\"outlinewidth\": 0, \"ticks\": \"\"}, \"colorscale\": [[0.0, \"#0d0887\"], [0.1111111111111111, \"#46039f\"], [0.2222222222222222, \"#7201a8\"], [0.3333333333333333, \"#9c179e\"], [0.4444444444444444, \"#bd3786\"], [0.5555555555555556, \"#d8576b\"], [0.6666666666666666, \"#ed7953\"], [0.7777777777777778, \"#fb9f3a\"], [0.8888888888888888, \"#fdca26\"], [1.0, \"#f0f921\"]], \"type\": \"histogram2dcontour\"}], \"mesh3d\": [{\"colorbar\": {\"outlinewidth\": 0, \"ticks\": \"\"}, \"type\": \"mesh3d\"}], \"parcoords\": [{\"line\": {\"colorbar\": {\"outlinewidth\": 0, \"ticks\": \"\"}}, \"type\": \"parcoords\"}], \"pie\": [{\"automargin\": true, \"type\": \"pie\"}], \"scatter\": [{\"marker\": {\"colorbar\": {\"outlinewidth\": 0, \"ticks\": \"\"}}, \"type\": \"scatter\"}], \"scatter3d\": [{\"line\": {\"colorbar\": {\"outlinewidth\": 0, \"ticks\": \"\"}}, \"marker\": {\"colorbar\": {\"outlinewidth\": 0, \"ticks\": \"\"}}, \"type\": \"scatter3d\"}], \"scattercarpet\": [{\"marker\": {\"colorbar\": {\"outlinewidth\": 0, \"ticks\": \"\"}}, \"type\": \"scattercarpet\"}], \"scattergeo\": [{\"marker\": {\"colorbar\": {\"outlinewidth\": 0, \"ticks\": \"\"}}, \"type\": \"scattergeo\"}], \"scattergl\": [{\"marker\": {\"colorbar\": {\"outlinewidth\": 0, \"ticks\": \"\"}}, \"type\": \"scattergl\"}], \"scattermapbox\": [{\"marker\": {\"colorbar\": {\"outlinewidth\": 0, \"ticks\": \"\"}}, \"type\": \"scattermapbox\"}], \"scatterpolar\": [{\"marker\": {\"colorbar\": {\"outlinewidth\": 0, \"ticks\": \"\"}}, \"type\": \"scatterpolar\"}], \"scatterpolargl\": [{\"marker\": {\"colorbar\": {\"outlinewidth\": 0, \"ticks\": \"\"}}, \"type\": \"scatterpolargl\"}], \"scatterternary\": [{\"marker\": {\"colorbar\": {\"outlinewidth\": 0, \"ticks\": \"\"}}, \"type\": \"scatterternary\"}], \"surface\": [{\"colorbar\": {\"outlinewidth\": 0, \"ticks\": \"\"}, \"colorscale\": [[0.0, \"#0d0887\"], [0.1111111111111111, \"#46039f\"], [0.2222222222222222, \"#7201a8\"], [0.3333333333333333, \"#9c179e\"], [0.4444444444444444, \"#bd3786\"], [0.5555555555555556, \"#d8576b\"], [0.6666666666666666, \"#ed7953\"], [0.7777777777777778, \"#fb9f3a\"], [0.8888888888888888, \"#fdca26\"], [1.0, \"#f0f921\"]], \"type\": \"surface\"}], \"table\": [{\"cells\": {\"fill\": {\"color\": \"#EBF0F8\"}, \"line\": {\"color\": \"white\"}}, \"header\": {\"fill\": {\"color\": \"#C8D4E3\"}, \"line\": {\"color\": \"white\"}}, \"type\": \"table\"}]}, \"layout\": {\"annotationdefaults\": {\"arrowcolor\": \"#2a3f5f\", \"arrowhead\": 0, \"arrowwidth\": 1}, \"coloraxis\": {\"colorbar\": {\"outlinewidth\": 0, \"ticks\": \"\"}}, \"colorscale\": {\"diverging\": [[0, \"#8e0152\"], [0.1, \"#c51b7d\"], [0.2, \"#de77ae\"], [0.3, \"#f1b6da\"], [0.4, \"#fde0ef\"], [0.5, \"#f7f7f7\"], [0.6, \"#e6f5d0\"], [0.7, \"#b8e186\"], [0.8, \"#7fbc41\"], [0.9, \"#4d9221\"], [1, \"#276419\"]], \"sequential\": [[0.0, \"#0d0887\"], [0.1111111111111111, \"#46039f\"], [0.2222222222222222, \"#7201a8\"], [0.3333333333333333, \"#9c179e\"], [0.4444444444444444, \"#bd3786\"], [0.5555555555555556, \"#d8576b\"], [0.6666666666666666, \"#ed7953\"], [0.7777777777777778, \"#fb9f3a\"], [0.8888888888888888, \"#fdca26\"], [1.0, \"#f0f921\"]], \"sequentialminus\": [[0.0, \"#0d0887\"], [0.1111111111111111, \"#46039f\"], [0.2222222222222222, \"#7201a8\"], [0.3333333333333333, \"#9c179e\"], [0.4444444444444444, \"#bd3786\"], [0.5555555555555556, \"#d8576b\"], [0.6666666666666666, \"#ed7953\"], [0.7777777777777778, \"#fb9f3a\"], [0.8888888888888888, \"#fdca26\"], [1.0, \"#f0f921\"]]}, \"colorway\": [\"#636efa\", \"#EF553B\", \"#00cc96\", \"#ab63fa\", \"#FFA15A\", \"#19d3f3\", \"#FF6692\", \"#B6E880\", \"#FF97FF\", \"#FECB52\"], \"font\": {\"color\": \"#2a3f5f\"}, \"geo\": {\"bgcolor\": \"white\", \"lakecolor\": \"white\", \"landcolor\": \"#E5ECF6\", \"showlakes\": true, \"showland\": true, \"subunitcolor\": \"white\"}, \"hoverlabel\": {\"align\": \"left\"}, \"hovermode\": \"closest\", \"mapbox\": {\"style\": \"light\"}, \"paper_bgcolor\": \"white\", \"plot_bgcolor\": \"#E5ECF6\", \"polar\": {\"angularaxis\": {\"gridcolor\": \"white\", \"linecolor\": \"white\", \"ticks\": \"\"}, \"bgcolor\": \"#E5ECF6\", \"radialaxis\": {\"gridcolor\": \"white\", \"linecolor\": \"white\", \"ticks\": \"\"}}, \"scene\": {\"xaxis\": {\"backgroundcolor\": \"#E5ECF6\", \"gridcolor\": \"white\", \"gridwidth\": 2, \"linecolor\": \"white\", \"showbackground\": true, \"ticks\": \"\", \"zerolinecolor\": \"white\"}, \"yaxis\": {\"backgroundcolor\": \"#E5ECF6\", \"gridcolor\": \"white\", \"gridwidth\": 2, \"linecolor\": \"white\", \"showbackground\": true, \"ticks\": \"\", \"zerolinecolor\": \"white\"}, \"zaxis\": {\"backgroundcolor\": \"#E5ECF6\", \"gridcolor\": \"white\", \"gridwidth\": 2, \"linecolor\": \"white\", \"showbackground\": true, \"ticks\": \"\", \"zerolinecolor\": \"white\"}}, \"shapedefaults\": {\"line\": {\"color\": \"#2a3f5f\"}}, \"ternary\": {\"aaxis\": {\"gridcolor\": \"white\", \"linecolor\": \"white\", \"ticks\": \"\"}, \"baxis\": {\"gridcolor\": \"white\", \"linecolor\": \"white\", \"ticks\": \"\"}, \"bgcolor\": \"#E5ECF6\", \"caxis\": {\"gridcolor\": \"white\", \"linecolor\": \"white\", \"ticks\": \"\"}}, \"title\": {\"x\": 0.05}, \"xaxis\": {\"automargin\": true, \"gridcolor\": \"white\", \"linecolor\": \"white\", \"ticks\": \"\", \"title\": {\"standoff\": 15}, \"zerolinecolor\": \"white\", \"zerolinewidth\": 2}, \"yaxis\": {\"automargin\": true, \"gridcolor\": \"white\", \"linecolor\": \"white\", \"ticks\": \"\", \"title\": {\"standoff\": 15}, \"zerolinecolor\": \"white\", \"zerolinewidth\": 2}}}, \"title\": {\"text\": \"PYPL\"}, \"xaxis\": {\"anchor\": \"y\", \"domain\": [0.0, 1.0], \"title\": {\"text\": \"^IXIC\"}}, \"yaxis\": {\"anchor\": \"x\", \"domain\": [0.0, 1.0], \"title\": {\"text\": \"PYPL\"}}},\n",
              "                        {\"responsive\": true}\n",
              "                    ).then(function(){\n",
              "                            \n",
              "var gd = document.getElementById('80452a3d-ce73-408c-8a44-fb765e18fd7c');\n",
              "var x = new MutationObserver(function (mutations, observer) {{\n",
              "        var display = window.getComputedStyle(gd).display;\n",
              "        if (!display || display === 'none') {{\n",
              "            console.log([gd, 'removed!']);\n",
              "            Plotly.purge(gd);\n",
              "            observer.disconnect();\n",
              "        }}\n",
              "}});\n",
              "\n",
              "// Listen for the removal of the full notebook cells\n",
              "var notebookContainer = gd.closest('#notebook-container');\n",
              "if (notebookContainer) {{\n",
              "    x.observe(notebookContainer, {childList: true});\n",
              "}}\n",
              "\n",
              "// Listen for the clearing of the current output cell\n",
              "var outputEl = gd.closest('.output');\n",
              "if (outputEl) {{\n",
              "    x.observe(outputEl, {childList: true});\n",
              "}}\n",
              "\n",
              "                        })\n",
              "                };\n",
              "                \n",
              "            </script>\n",
              "        </div>\n",
              "</body>\n",
              "</html>"
            ]
          },
          "metadata": {}
        },
        {
          "output_type": "display_data",
          "data": {
            "text/html": [
              "<html>\n",
              "<head><meta charset=\"utf-8\" /></head>\n",
              "<body>\n",
              "    <div>\n",
              "            <script src=\"https://cdnjs.cloudflare.com/ajax/libs/mathjax/2.7.5/MathJax.js?config=TeX-AMS-MML_SVG\"></script><script type=\"text/javascript\">if (window.MathJax) {MathJax.Hub.Config({SVG: {font: \"STIX-Web\"}});}</script>\n",
              "                <script type=\"text/javascript\">window.PlotlyConfig = {MathJaxConfig: 'local'};</script>\n",
              "        <script src=\"https://cdn.plot.ly/plotly-latest.min.js\"></script>    \n",
              "            <div id=\"ef48ea80-b5fb-4e5d-9a88-ccc24233d391\" class=\"plotly-graph-div\" style=\"height:525px; width:100%;\"></div>\n",
              "            <script type=\"text/javascript\">\n",
              "                \n",
              "                    window.PLOTLYENV=window.PLOTLYENV || {};\n",
              "                    \n",
              "                if (document.getElementById(\"ef48ea80-b5fb-4e5d-9a88-ccc24233d391\")) {\n",
              "                    Plotly.newPlot(\n",
              "                        'ef48ea80-b5fb-4e5d-9a88-ccc24233d391',\n",
              "                        [{\"hoverlabel\": {\"namelength\": 0}, \"hovertemplate\": \"^IXIC=%{x}<br>TSLA=%{y}\", \"legendgroup\": \"\", \"marker\": {\"color\": \"#636efa\", \"symbol\": \"circle\"}, \"mode\": \"markers\", \"name\": \"\", \"showlegend\": false, \"type\": \"scatter\", \"x\": [0.0, -0.7855191660339514, 0.5620384728471665, -0.031854247708491115, 0.6689046766684335, 0.8126574744484102, -0.2669584793033168, 1.0357422631592443, -0.24368967780143092, 0.0796654872895177, 1.063104814105905, 0.33996051431786484, -0.19310868474221926, 0.13830140117838088, 0.19939681423002234, -0.9313533039610973, -1.8851559810233676, 1.4264766521421406, 0.05912252564012881, 0.256270844379793, -1.591465499641676, 1.3382226873668104, 2.0981444534002978, 0.42997561370826654, 0.6675027996624794, -0.5394882329740349, 1.1331313707803117, 0.10957991559587729, 0.9027914622439598, -0.1438442521991573, 0.19779675470939986, 0.01603656416913738, 0.8675814939226352, -0.6744295515116596, -1.7883337524623202, -3.7101888679547743, -2.7726076455074673, 0.16920121754294432, -4.613182731047064, 0.010385226940578262, 4.491457698501092, -2.9945821009265603, 3.846114054662644, -3.0993259641753057, -1.8649430797928905, -7.287402343694397, 4.950140308971453, -4.700245022770171, -9.434674309481181, 9.345998172386109, -12.321331290147407, 6.230492341201929, -4.702798877538514, 2.2996268579562185, -3.7907422283539605, -0.274003093278801, 8.121509236724387, -0.4524223861369213, 5.59620065957612, -3.7852983732224246, 3.6224507926325984, -0.952513208745505, -4.409293583528775, 1.7217390358319775, -1.52564779039222, 7.3261127035984215, -0.32831644156512807, 2.581887027561507, 0.7746996815903381, 0.47635325069293516, 3.946578856836743, -1.4392236435332642, 1.6582590775434294, 1.3803835283800632, -1.0336154480887512, -3.475170735558033, 2.8094268330097516, -0.007414416084845749, 1.6453636805085496, 1.1076542783169119, -1.4023761913732073, 3.5663232405100977, -0.2822319106313816, -3.2015075636893258, 1.2290572661607275, 1.1297604522629348, 0.5138939036791482, 1.4147842232649654, 1.5775670101657695, 0.7786102101104126, -2.0646542913830683, -1.5482267339407207, 0.9088148528970065, 0.7920624294565988, 2.443497168047047, -0.5385098407798431, 2.07597818392603, -0.9695234740358589, 0.4276841643477609, 0.16762005701490723, 0.7723653951613199, -0.4607783336758918, 1.2902124966358643, 0.6552216914685036, 0.5897171735574182, 0.7756799205120937, -0.6929795366756427, 2.061922153956055, 1.1276647530284236, 0.2921987959394443, 0.6690906379505211, -5.265476367524758, 1.012133462324583, 1.4309384280850652, 1.7463525072283153, 0.14814418617457112, 0.32813109241147087, 0.030878981402190583, 1.1095819300612568, 0.7446904378745204, -2.193189990518118, 1.088184772035845, -2.59339396463512, 1.1984014641401854, 1.8697217818384297, 0.9530027630585096, 0.5219294116244121, 2.2142310252948234, -0.8603004588705903, 1.4366969932335696, 0.5265665951870384, 0.660713703751985, -2.1342298780777758, 0.940638445445677, 0.5902625120736783, -0.7266027885626613, 0.2803210606196508, 2.512564309189163, -0.8055054192553627, 0.2412796048237268, -2.285699534902473, -0.9390717044975707, 1.6702387584650282, -1.273502800037816, 1.3540604633609157, 0.4255846926598821, 1.487181648780377, 1.4660430152948845, 0.3519290262580381, 0.5230744898274311, 0.997144293532742, -0.8740477960491844, -0.387069228834427, -1.6915932109767786, 2.1276430027220674, 0.27478301400057853, -0.21009911987774507, 1.002156815948722, 0.7287631558350716, -0.5742645841862735, 1.0630301888693465, 0.41588829566680874, 0.6004342637575202, 0.7623210596084231, 1.731917917944346, -0.34050170359683757, 0.6046278217001049, 0.68256330719148, 1.3945099510527015, 0.9780044890400321, -4.9628314741983, -1.265216148443028, -4.114152829024972, 2.709047999938783, -1.9922680048667027, -0.6047849782590421, 1.8712825719911805, 1.2089549470456218, -1.2497460486567282, -1.2686289053217388, -1.0723830833645196, -0.1341618894641025, 1.714846245401242, -3.015872690686464, 0.3694096957600452, 2.26090653310401, 1.868965865910965, -0.29035471587269224, 0.7420650470219435, 1.423773100153644, -2.220368318034313, 2.3247878019402477, -1.5697399364210516, 1.882631446703863, 0.4961095094673616, 1.3918241202884905, 2.5589020749867237, -0.10406790726970577, -0.802180722540493, -0.4661535218957812, -0.361200409870677, -1.6508478266271756, 0.32764827183891476, -0.2761240971887628, 0.1856326565180225, 0.3673776458871612, -1.6395501257923704, 0.6374642083539132, -3.7307886361706455, 1.64217954994535, -2.449580253052983, 0.421758043250314, 1.852228309145515, 3.8547309760295905, 2.5895531360416695, 0.03616858700729745, -1.5254029401884093, -1.3652289708527225, 2.0129145485651314, -0.6519348588783579, 1.0222407181613629, 0.8017374114323119, -0.20789809660017614, -0.821392074337107, 0.8736981000490036, -0.4178197918152635, 0.2164506265461421, 1.314409739132722, 0.4786188956984337, 0.9214943705385352, -0.05824563817777561, 1.281854635668546, -0.04646040554606666, 0.22519019228191595, 0.703316776906088, 0.44703703692096414, 0.5017538804668705, -1.9377239274069296, 0.541856267686367, -0.2252126551407012, 0.5022667170232535, 1.2461337002391393, 0.5012350995449372, 0.8418230939438529, -0.07137117109618285, -0.10285738347200132, 0.5132453630116934, -0.28739694296208024, 0.26325132476352536, 0.7394880615104708, -0.38141401404466013, 0.1539294569151412], \"xaxis\": \"x\", \"y\": [0.0, 2.9633191145888005, 1.9254659401281693, 3.8800525477639742, 4.920484712014174, -2.1945011900097318, -0.6627337258982953, 9.76890425281116, 2.488282121595565, -3.6102047690807555, -0.9662477636014746, -0.5822894156913927, 7.189034355515293, 4.086257330325449, 0.46351557873408794, -1.2897636514425448, -1.2039239472993366, 1.591341740269572, 2.485447928842739, 10.296222583606998, 1.5230690926841464, 19.894862891486266, 13.725642668895233, -17.175839109965334, 1.9409316438660582, -0.11883747086235807, 3.1026497120937946, 0.4019359955035556, -0.9155805041086885, 4.784378041096256, -0.493785032703437, 7.29597403356598, 6.875583270080933, -1.9631084307631714, 0.17677875350111424, -7.459490327646513, -4.063373964144891, -2.6390470576789915, -12.814581509376035, -1.6214991164397268, 11.322019046587856, 0.2541660955376424, 0.5351966203106591, -3.330213034691301, -2.906675598900712, -13.572525720249965, 6.139799245279704, -1.7200453178938173, -11.61723663579346, -2.4850620797657244, -18.57780361447843, -3.341046380880213, -16.03439966623616, 18.387680604606572, -0.02572628128744873, 1.5811815042183577, 16.281744931685218, 6.7821767070505885, -2.0565551426258204, -2.6128465212773224, -2.377711239525176, 4.355446239344309, -8.099242695255347, -5.625466677799073, 5.619734929439808, 7.547761796824871, 5.658216311303649, 0.6215064869088286, 4.402012273005386, 13.603843084522973, 9.054454384906375, 2.8088905893492195, 2.1073427759149355, 1.1647672098527204, -0.9988172713000716, -7.990787809896868, 6.609683216575625, -3.616936045265942, 2.7663162729485684, 10.149625142797984, -3.7095429565238653, 4.08128749004316, -2.3272649987681615, -10.30337058259072, 8.536758097120407, 0.9222346841307117, 1.8705876066954266, -0.32457438425383817, 5.048463733869059, -0.9921694939304313, -0.23172468012195147, -2.279439564094934, 1.563921691639005, -0.5178449270694921, 1.8093761637960375, -0.690727317242368, 0.93439094817562, 1.4762891558871392, -1.295310015128805, 0.24360675856284808, 0.16608446418940004, -1.7580450564272692, 3.6224403666267655, 7.5568833037050895, -1.8416650412824926, 0.15880869420048824, -2.1042789363951835, 2.461878184246896, 7.2556000448980456, -0.9737614260812827, 8.97019761467369, -5.09341086901266, -3.860857732067424, 5.946878439847223, -0.8850529153080969, 0.9835800181061501, 1.2270771616643295, -0.3048003644624767, -0.6574054904811314, 0.7502637010405554, -4.085729663179653, 2.6153931542133417, -2.6613121571297174, 5.16910682646947, 6.980735542132612, 3.687680726581799, 7.95173412803384, 13.479396859567276, 1.332760471462946, -1.725350125694592, 2.0792429724364743, 10.784780126583124, -3.0809586627229155, 1.318583829062742, 1.9257683215130021, -2.9346528317257587, 0.013330494375263482, 9.472031297577601, -4.542911976848991, 1.528350121283421, -4.977608151564268, -6.349348975036043, 8.652088941189696, -4.09911948782959, 1.5320072444858974, -0.7751283084536957, -3.813799865290908, 3.7909892777031065, 0.13467807962436867, -0.13315269061096008, 0.30706229930723977, -2.475192097283057, -2.3500915920205703, -3.114403543607759, 13.12364261398823, 4.260469954928099, 1.8328148859506752, 11.203055843576127, 2.8028395559453205, -0.45360995462768433, 6.5636439340194, 2.4053003869978893, -1.7453843015600812, 0.4537789063413216, 6.416618923405229, 3.9746042364776737, -1.1323299439907872, 12.568902044142808, -4.669694009718935, -5.826753686360361, -9.023849511099348, 2.7813285808891277, -21.06282614420854, 10.923354307141166, 1.3814561470615998, 0.37162839888564075, 12.583170675810587, 7.182692674122997, -1.7787263932533466, -4.149315620390516, 4.421038080558681, 1.637458068957511, -5.598701093034367, -10.341094335303744, 1.9534187294943468, 5.041385121376604, 3.4025668958968787, -0.5056991503042846, 2.371919313642516, 4.463763889086486, -7.379062623614202, 2.5512530851912367, -2.7485392526691768, 2.7344259399554613, 0.14578548143938497, 1.8970666598263883, 1.9124395836333525, 0.9834967722295689, 3.2799718116372922, -2.692387435251859, -2.0517713765135395, -2.0106049049264367, -2.0634552858284403, 0.16590325709363357, 0.7453136918672072, -1.2118658396290156, -0.08320997062801944, 1.0469196510098402, -4.393897519056241, 1.1846701366300918, -5.54730150481237, 3.213586472040169, 5.840049826606579, -0.6888376862938348, 4.064322510580714, -1.8580620874486156, -2.0211657622239594, -2.587481403736118, 1.649775751271169, -1.2873672606448279, -0.7917256868826593, -0.10036809353962668, 8.213871772028925, 10.196786936560532, 2.5953423444553003, -1.934825620340831, 6.584831028563522, 6.4252238891507485, 3.352658531723049, 2.0487821891332754, -3.1002516178859176, 3.02326196578375, -2.725905016622989, 4.317709862936471, 0.9538530280690948, 7.1314158161796755, 1.2652697260075423, -6.985908794385683, 3.737100910761526, -2.723781538001823, 4.891887954424201, -1.028400811792454, -1.654951515001974, 5.319781595740427, 5.961270640425242, -6.494966136465827, -1.464924554624428, 0.8807748035020533, 2.4443542431519454, 0.2901284212778673, 0.34654549330382656, 4.322893659763297], \"yaxis\": \"y\"}],\n",
              "                        {\"legend\": {\"tracegroupgap\": 0}, \"template\": {\"data\": {\"bar\": [{\"error_x\": {\"color\": \"#2a3f5f\"}, \"error_y\": {\"color\": \"#2a3f5f\"}, \"marker\": {\"line\": {\"color\": \"#E5ECF6\", \"width\": 0.5}}, \"type\": \"bar\"}], \"barpolar\": [{\"marker\": {\"line\": {\"color\": \"#E5ECF6\", \"width\": 0.5}}, \"type\": \"barpolar\"}], \"carpet\": [{\"aaxis\": {\"endlinecolor\": \"#2a3f5f\", \"gridcolor\": \"white\", \"linecolor\": \"white\", \"minorgridcolor\": \"white\", \"startlinecolor\": \"#2a3f5f\"}, \"baxis\": {\"endlinecolor\": \"#2a3f5f\", \"gridcolor\": \"white\", \"linecolor\": \"white\", \"minorgridcolor\": \"white\", \"startlinecolor\": \"#2a3f5f\"}, \"type\": \"carpet\"}], \"choropleth\": [{\"colorbar\": {\"outlinewidth\": 0, \"ticks\": \"\"}, \"type\": \"choropleth\"}], \"contour\": [{\"colorbar\": {\"outlinewidth\": 0, \"ticks\": \"\"}, \"colorscale\": [[0.0, \"#0d0887\"], [0.1111111111111111, \"#46039f\"], [0.2222222222222222, \"#7201a8\"], [0.3333333333333333, \"#9c179e\"], [0.4444444444444444, \"#bd3786\"], [0.5555555555555556, \"#d8576b\"], [0.6666666666666666, \"#ed7953\"], [0.7777777777777778, \"#fb9f3a\"], [0.8888888888888888, \"#fdca26\"], [1.0, \"#f0f921\"]], \"type\": \"contour\"}], \"contourcarpet\": [{\"colorbar\": {\"outlinewidth\": 0, \"ticks\": \"\"}, \"type\": \"contourcarpet\"}], \"heatmap\": [{\"colorbar\": {\"outlinewidth\": 0, \"ticks\": \"\"}, \"colorscale\": [[0.0, \"#0d0887\"], [0.1111111111111111, \"#46039f\"], [0.2222222222222222, \"#7201a8\"], [0.3333333333333333, \"#9c179e\"], [0.4444444444444444, \"#bd3786\"], [0.5555555555555556, \"#d8576b\"], [0.6666666666666666, \"#ed7953\"], [0.7777777777777778, \"#fb9f3a\"], [0.8888888888888888, \"#fdca26\"], [1.0, \"#f0f921\"]], \"type\": \"heatmap\"}], \"heatmapgl\": [{\"colorbar\": {\"outlinewidth\": 0, \"ticks\": \"\"}, \"colorscale\": [[0.0, \"#0d0887\"], [0.1111111111111111, \"#46039f\"], [0.2222222222222222, \"#7201a8\"], [0.3333333333333333, \"#9c179e\"], [0.4444444444444444, \"#bd3786\"], [0.5555555555555556, \"#d8576b\"], [0.6666666666666666, \"#ed7953\"], [0.7777777777777778, \"#fb9f3a\"], [0.8888888888888888, \"#fdca26\"], [1.0, \"#f0f921\"]], \"type\": \"heatmapgl\"}], \"histogram\": [{\"marker\": {\"colorbar\": {\"outlinewidth\": 0, \"ticks\": \"\"}}, \"type\": \"histogram\"}], \"histogram2d\": [{\"colorbar\": {\"outlinewidth\": 0, \"ticks\": \"\"}, \"colorscale\": [[0.0, \"#0d0887\"], [0.1111111111111111, \"#46039f\"], [0.2222222222222222, \"#7201a8\"], [0.3333333333333333, \"#9c179e\"], [0.4444444444444444, \"#bd3786\"], [0.5555555555555556, \"#d8576b\"], [0.6666666666666666, \"#ed7953\"], [0.7777777777777778, \"#fb9f3a\"], [0.8888888888888888, \"#fdca26\"], [1.0, \"#f0f921\"]], \"type\": \"histogram2d\"}], \"histogram2dcontour\": [{\"colorbar\": {\"outlinewidth\": 0, \"ticks\": \"\"}, \"colorscale\": [[0.0, \"#0d0887\"], [0.1111111111111111, \"#46039f\"], [0.2222222222222222, \"#7201a8\"], [0.3333333333333333, \"#9c179e\"], [0.4444444444444444, \"#bd3786\"], [0.5555555555555556, \"#d8576b\"], [0.6666666666666666, \"#ed7953\"], [0.7777777777777778, \"#fb9f3a\"], [0.8888888888888888, \"#fdca26\"], [1.0, \"#f0f921\"]], \"type\": \"histogram2dcontour\"}], \"mesh3d\": [{\"colorbar\": {\"outlinewidth\": 0, \"ticks\": \"\"}, \"type\": \"mesh3d\"}], \"parcoords\": [{\"line\": {\"colorbar\": {\"outlinewidth\": 0, \"ticks\": \"\"}}, \"type\": \"parcoords\"}], \"pie\": [{\"automargin\": true, \"type\": \"pie\"}], \"scatter\": [{\"marker\": {\"colorbar\": {\"outlinewidth\": 0, \"ticks\": \"\"}}, \"type\": \"scatter\"}], \"scatter3d\": [{\"line\": {\"colorbar\": {\"outlinewidth\": 0, \"ticks\": \"\"}}, \"marker\": {\"colorbar\": {\"outlinewidth\": 0, \"ticks\": \"\"}}, \"type\": \"scatter3d\"}], \"scattercarpet\": [{\"marker\": {\"colorbar\": {\"outlinewidth\": 0, \"ticks\": \"\"}}, \"type\": \"scattercarpet\"}], \"scattergeo\": [{\"marker\": {\"colorbar\": {\"outlinewidth\": 0, \"ticks\": \"\"}}, \"type\": \"scattergeo\"}], \"scattergl\": [{\"marker\": {\"colorbar\": {\"outlinewidth\": 0, \"ticks\": \"\"}}, \"type\": \"scattergl\"}], \"scattermapbox\": [{\"marker\": {\"colorbar\": {\"outlinewidth\": 0, \"ticks\": \"\"}}, \"type\": \"scattermapbox\"}], \"scatterpolar\": [{\"marker\": {\"colorbar\": {\"outlinewidth\": 0, \"ticks\": \"\"}}, \"type\": \"scatterpolar\"}], \"scatterpolargl\": [{\"marker\": {\"colorbar\": {\"outlinewidth\": 0, \"ticks\": \"\"}}, \"type\": \"scatterpolargl\"}], \"scatterternary\": [{\"marker\": {\"colorbar\": {\"outlinewidth\": 0, \"ticks\": \"\"}}, \"type\": \"scatterternary\"}], \"surface\": [{\"colorbar\": {\"outlinewidth\": 0, \"ticks\": \"\"}, \"colorscale\": [[0.0, \"#0d0887\"], [0.1111111111111111, \"#46039f\"], [0.2222222222222222, \"#7201a8\"], [0.3333333333333333, \"#9c179e\"], [0.4444444444444444, \"#bd3786\"], [0.5555555555555556, \"#d8576b\"], [0.6666666666666666, \"#ed7953\"], [0.7777777777777778, \"#fb9f3a\"], [0.8888888888888888, \"#fdca26\"], [1.0, \"#f0f921\"]], \"type\": \"surface\"}], \"table\": [{\"cells\": {\"fill\": {\"color\": \"#EBF0F8\"}, \"line\": {\"color\": \"white\"}}, \"header\": {\"fill\": {\"color\": \"#C8D4E3\"}, \"line\": {\"color\": \"white\"}}, \"type\": \"table\"}]}, \"layout\": {\"annotationdefaults\": {\"arrowcolor\": \"#2a3f5f\", \"arrowhead\": 0, \"arrowwidth\": 1}, \"coloraxis\": {\"colorbar\": {\"outlinewidth\": 0, \"ticks\": \"\"}}, \"colorscale\": {\"diverging\": [[0, \"#8e0152\"], [0.1, \"#c51b7d\"], [0.2, \"#de77ae\"], [0.3, \"#f1b6da\"], [0.4, \"#fde0ef\"], [0.5, \"#f7f7f7\"], [0.6, \"#e6f5d0\"], [0.7, \"#b8e186\"], [0.8, \"#7fbc41\"], [0.9, \"#4d9221\"], [1, \"#276419\"]], \"sequential\": [[0.0, \"#0d0887\"], [0.1111111111111111, \"#46039f\"], [0.2222222222222222, \"#7201a8\"], [0.3333333333333333, \"#9c179e\"], [0.4444444444444444, \"#bd3786\"], [0.5555555555555556, \"#d8576b\"], [0.6666666666666666, \"#ed7953\"], [0.7777777777777778, \"#fb9f3a\"], [0.8888888888888888, \"#fdca26\"], [1.0, \"#f0f921\"]], \"sequentialminus\": [[0.0, \"#0d0887\"], [0.1111111111111111, \"#46039f\"], [0.2222222222222222, \"#7201a8\"], [0.3333333333333333, \"#9c179e\"], [0.4444444444444444, \"#bd3786\"], [0.5555555555555556, \"#d8576b\"], [0.6666666666666666, \"#ed7953\"], [0.7777777777777778, \"#fb9f3a\"], [0.8888888888888888, \"#fdca26\"], [1.0, \"#f0f921\"]]}, \"colorway\": [\"#636efa\", \"#EF553B\", \"#00cc96\", \"#ab63fa\", \"#FFA15A\", \"#19d3f3\", \"#FF6692\", \"#B6E880\", \"#FF97FF\", \"#FECB52\"], \"font\": {\"color\": \"#2a3f5f\"}, \"geo\": {\"bgcolor\": \"white\", \"lakecolor\": \"white\", \"landcolor\": \"#E5ECF6\", \"showlakes\": true, \"showland\": true, \"subunitcolor\": \"white\"}, \"hoverlabel\": {\"align\": \"left\"}, \"hovermode\": \"closest\", \"mapbox\": {\"style\": \"light\"}, \"paper_bgcolor\": \"white\", \"plot_bgcolor\": \"#E5ECF6\", \"polar\": {\"angularaxis\": {\"gridcolor\": \"white\", \"linecolor\": \"white\", \"ticks\": \"\"}, \"bgcolor\": \"#E5ECF6\", \"radialaxis\": {\"gridcolor\": \"white\", \"linecolor\": \"white\", \"ticks\": \"\"}}, \"scene\": {\"xaxis\": {\"backgroundcolor\": \"#E5ECF6\", \"gridcolor\": \"white\", \"gridwidth\": 2, \"linecolor\": \"white\", \"showbackground\": true, \"ticks\": \"\", \"zerolinecolor\": \"white\"}, \"yaxis\": {\"backgroundcolor\": \"#E5ECF6\", \"gridcolor\": \"white\", \"gridwidth\": 2, \"linecolor\": \"white\", \"showbackground\": true, \"ticks\": \"\", \"zerolinecolor\": \"white\"}, \"zaxis\": {\"backgroundcolor\": \"#E5ECF6\", \"gridcolor\": \"white\", \"gridwidth\": 2, \"linecolor\": \"white\", \"showbackground\": true, \"ticks\": \"\", \"zerolinecolor\": \"white\"}}, \"shapedefaults\": {\"line\": {\"color\": \"#2a3f5f\"}}, \"ternary\": {\"aaxis\": {\"gridcolor\": \"white\", \"linecolor\": \"white\", \"ticks\": \"\"}, \"baxis\": {\"gridcolor\": \"white\", \"linecolor\": \"white\", \"ticks\": \"\"}, \"bgcolor\": \"#E5ECF6\", \"caxis\": {\"gridcolor\": \"white\", \"linecolor\": \"white\", \"ticks\": \"\"}}, \"title\": {\"x\": 0.05}, \"xaxis\": {\"automargin\": true, \"gridcolor\": \"white\", \"linecolor\": \"white\", \"ticks\": \"\", \"title\": {\"standoff\": 15}, \"zerolinecolor\": \"white\", \"zerolinewidth\": 2}, \"yaxis\": {\"automargin\": true, \"gridcolor\": \"white\", \"linecolor\": \"white\", \"ticks\": \"\", \"title\": {\"standoff\": 15}, \"zerolinecolor\": \"white\", \"zerolinewidth\": 2}}}, \"title\": {\"text\": \"TSLA\"}, \"xaxis\": {\"anchor\": \"y\", \"domain\": [0.0, 1.0], \"title\": {\"text\": \"^IXIC\"}}, \"yaxis\": {\"anchor\": \"x\", \"domain\": [0.0, 1.0], \"title\": {\"text\": \"TSLA\"}}},\n",
              "                        {\"responsive\": true}\n",
              "                    ).then(function(){\n",
              "                            \n",
              "var gd = document.getElementById('ef48ea80-b5fb-4e5d-9a88-ccc24233d391');\n",
              "var x = new MutationObserver(function (mutations, observer) {{\n",
              "        var display = window.getComputedStyle(gd).display;\n",
              "        if (!display || display === 'none') {{\n",
              "            console.log([gd, 'removed!']);\n",
              "            Plotly.purge(gd);\n",
              "            observer.disconnect();\n",
              "        }}\n",
              "}});\n",
              "\n",
              "// Listen for the removal of the full notebook cells\n",
              "var notebookContainer = gd.closest('#notebook-container');\n",
              "if (notebookContainer) {{\n",
              "    x.observe(notebookContainer, {childList: true});\n",
              "}}\n",
              "\n",
              "// Listen for the clearing of the current output cell\n",
              "var outputEl = gd.closest('.output');\n",
              "if (outputEl) {{\n",
              "    x.observe(outputEl, {childList: true});\n",
              "}}\n",
              "\n",
              "                        })\n",
              "                };\n",
              "                \n",
              "            </script>\n",
              "        </div>\n",
              "</body>\n",
              "</html>"
            ]
          },
          "metadata": {}
        }
      ]
    },
    {
      "cell_type": "code",
      "metadata": {
        "id": "jGv-5bp74CIw"
      },
      "source": [
        ""
      ],
      "id": "jGv-5bp74CIw",
      "execution_count": 70,
      "outputs": []
    },
    {
      "cell_type": "code",
      "metadata": {
        "id": "L1Y0Qhie4Cnr"
      },
      "source": [
        ""
      ],
      "id": "L1Y0Qhie4Cnr",
      "execution_count": 70,
      "outputs": []
    },
    {
      "cell_type": "code",
      "metadata": {
        "id": "kS9UB8HSlIdj"
      },
      "source": [
        "#Creamos diccionarios vacíos\n",
        "beta = {}\n",
        "alpha = {}\n",
        "#Calculamos beta y alpha para cada acción mediante una funcion\n",
        "for i in nasd_rd.columns[:-1]:\n",
        "  b,a = np.polyfit(nasd_rd['^IXIC'], nasd_rd[i],1)\n",
        "  beta[i] = b    \n",
        "  alpha[i] = a  \n",
        " "
      ],
      "id": "kS9UB8HSlIdj",
      "execution_count": 71,
      "outputs": []
    },
    {
      "cell_type": "code",
      "metadata": {
        "colab": {
          "base_uri": "https://localhost:8080/"
        },
        "id": "YArMs4j81uKh",
        "outputId": "c11ef4b8-91a3-4c4a-e7c1-885474cf04c5"
      },
      "source": [
        "#Cómo queda conformado el diccionario de betas de los tickers.\n",
        "beta   "
      ],
      "id": "YArMs4j81uKh",
      "execution_count": 72,
      "outputs": [
        {
          "output_type": "execute_result",
          "data": {
            "text/plain": [
              "{'AAPL': 1.1663239874194653,\n",
              " 'AMZN': 0.8142989476471582,\n",
              " 'ASML': 1.0926782389337324,\n",
              " 'FB': 1.0520157018323237,\n",
              " 'GOOG': 0.95090843298401,\n",
              " 'GOOGL': 0.9586078553991435,\n",
              " 'MSFT': 1.1595902731552428,\n",
              " 'NVDA': 1.421541092224634,\n",
              " 'PYPL': 1.2106591912465043,\n",
              " 'TSLA': 1.418852887491144}"
            ]
          },
          "metadata": {},
          "execution_count": 72
        }
      ]
    },
    {
      "cell_type": "code",
      "metadata": {
        "colab": {
          "base_uri": "https://localhost:8080/"
        },
        "id": "ChYjJ30DyYEn",
        "outputId": "06169316-2522-4c2e-8e23-6947fd3e53fa"
      },
      "source": [
        "#Cómo queda conformado el diccionario de alpha de los tickers seleccionados\n",
        "alpha"
      ],
      "id": "ChYjJ30DyYEn",
      "execution_count": 73,
      "outputs": [
        {
          "output_type": "execute_result",
          "data": {
            "text/plain": [
              "{'AAPL': 0.0854161413102946,\n",
              " 'AMZN': 0.11429677749525015,\n",
              " 'ASML': 0.06369281768814511,\n",
              " 'FB': -0.026885901015701603,\n",
              " 'GOOG': -0.030501171787119623,\n",
              " 'GOOGL': -0.0326485011499215,\n",
              " 'MSFT': -0.01890301013784049,\n",
              " 'NVDA': 0.1471990760902861,\n",
              " 'PYPL': 0.14937436025500814,\n",
              " 'TSLA': 0.7595065397058769}"
            ]
          },
          "metadata": {},
          "execution_count": 73
        }
      ]
    },
    {
      "cell_type": "code",
      "metadata": {
        "id": "quPGuKvK7-fH"
      },
      "source": [
        "#Definimos acciones de nuestro diccionario.\n",
        "tickers=list(beta.keys())\n",
        "#Establecemos un diccionario donde se asignarán los valores de retornos de cada accion.\n",
        "ER={}\n",
        "ER_a={}\n",
        "#Definimos tasa libre de riesgo.\n",
        "rf=0\n",
        "#Definimos retorno de mercado(promedio):\n",
        "rm=nasd_rd['^IXIC'].mean() * 252 \n",
        "#Definimos función de CAPM\n",
        "for i in tickers:\n",
        " ER[i] = rf + (beta[i] * (rm-rf))\n"
      ],
      "id": "quPGuKvK7-fH",
      "execution_count": 74,
      "outputs": []
    },
    {
      "cell_type": "code",
      "metadata": {
        "colab": {
          "base_uri": "https://localhost:8080/"
        },
        "id": "9HjYuP6y-aJK",
        "outputId": "31fda2b4-58d0-42e6-af11-e814125e4f61"
      },
      "source": [
        "#Analizamos los rendimientos de cada acción.\n",
        "ER\n"
      ],
      "id": "9HjYuP6y-aJK",
      "execution_count": 75,
      "outputs": [
        {
          "output_type": "execute_result",
          "data": {
            "text/plain": [
              "{'AAPL': 47.97881680861405,\n",
              " 'AMZN': 33.4976391277453,\n",
              " 'ASML': 44.94926763236149,\n",
              " 'FB': 43.27654166632997,\n",
              " 'GOOG': 39.117313885355,\n",
              " 'GOOGL': 39.43404335467267,\n",
              " 'MSFT': 47.70181346596695,\n",
              " 'NVDA': 58.47762747353452,\n",
              " 'PYPL': 49.80262446886501,\n",
              " 'TSLA': 58.367043378683185}"
            ]
          },
          "metadata": {},
          "execution_count": 75
        }
      ]
    },
    {
      "cell_type": "code",
      "metadata": {
        "colab": {
          "base_uri": "https://localhost:8080/"
        },
        "id": "Y0tFhWoi6jnx",
        "outputId": "88323805-6442-430e-dc29-5646be249eb5"
      },
      "source": [
        "#Imprimimos los retornos esperados\n",
        "for i in tickers:\n",
        "  print('El modelo CAPM aplicado a {} indica que su rendimiento esperado es igual a {}%'.format(i, round(ER[i],3)))"
      ],
      "id": "Y0tFhWoi6jnx",
      "execution_count": 76,
      "outputs": [
        {
          "output_type": "stream",
          "name": "stdout",
          "text": [
            "El modelo CAPM aplicado a AAPL indica que su rendimiento esperado es igual a 47.979%\n",
            "El modelo CAPM aplicado a AMZN indica que su rendimiento esperado es igual a 33.498%\n",
            "El modelo CAPM aplicado a ASML indica que su rendimiento esperado es igual a 44.949%\n",
            "El modelo CAPM aplicado a FB indica que su rendimiento esperado es igual a 43.277%\n",
            "El modelo CAPM aplicado a GOOG indica que su rendimiento esperado es igual a 39.117%\n",
            "El modelo CAPM aplicado a GOOGL indica que su rendimiento esperado es igual a 39.434%\n",
            "El modelo CAPM aplicado a MSFT indica que su rendimiento esperado es igual a 47.702%\n",
            "El modelo CAPM aplicado a NVDA indica que su rendimiento esperado es igual a 58.478%\n",
            "El modelo CAPM aplicado a PYPL indica que su rendimiento esperado es igual a 49.803%\n",
            "El modelo CAPM aplicado a TSLA indica que su rendimiento esperado es igual a 58.367%\n"
          ]
        }
      ]
    },
    {
      "cell_type": "markdown",
      "metadata": {
        "id": "novel-double"
      },
      "source": [
        "### Modelos Autorregresivos para predecir precios.\n",
        "\n",
        "Para esta parte del práctico, nos gustaría utilizar precios del pasado para poder estimar cuál va a ser el precio de una acción más adelante. Las regresiones que vemos en la introducción al aprendizaje automático no son las mismas que deben usarse cuando estamos trabajando con precios de mercado, ya que estos datos son series de tiempo. Para trabajar con este tipo de datos, es necesario generar **modelos autorregresivos**.\n",
        "\n",
        "Si suponemos que $y_t$ es el precio de nuestra acción en el tiempo $t$, podemos generar el siguiente modelo autorregresivo:\n",
        "\n",
        "$$\n",
        "y_t = \\delta + \\phi_1 y_{t-1} + \\dots + \\phi_p y_{t-p} + \\epsilon_t\n",
        "$$\n",
        "\n",
        "Existen otras variables que podemos agregar (como estacionariedad o tendencias), pero para este práctico podemos usar solamente el modelo `AutoReg` de la librería StatsModels: https://www.statsmodels.org/stable/examples/notebooks/generated/autoregressions.html.\n",
        "\n",
        "El **ejercicio** para esta sección es crear una función que reciba 4 parámetros:\n",
        "- El *ticker* de un activo.\n",
        "- Una *fecha* a partir de la cual se van a querer predecir los precios del activo.\n",
        "- Un *número de días* hacia atrás que se van a usar para ajustar el modelo autorregresivo.\n",
        "- Un *número de días* hacia adelante para los cuales van a querer predecir el precio del activo utilizando el modelo entrenado.\n",
        "\n",
        "Esta función se debe encargar de buscar los precios del ticker, realizar el ajuste y predecir el precio de la acción hacia delante. Además, debe devolver el [error cuadrático medio](https://es.wikipedia.org/wiki/Error_cuadr%C3%A1tico_medio) de la predicción, comparado con los verdaderos precios del activo.\n",
        "\n",
        "¿Qué pasa si tratamos de predecir el precio del SPY el día antes del primer cisne negro de 2020 con un modelo que use 15 días hacia atrás?"
      ],
      "id": "novel-double"
    },
    {
      "cell_type": "code",
      "metadata": {
        "id": "GXKVVh6qr7IT"
      },
      "source": [
        "# Función que recibe 4 parámetros para predecir los retornos \n",
        "# de un activo a partir de las fechas\n",
        "\n",
        "def predict_over_ticker_date(tickers, start_date, cant_days_before, cant_days_after):\n",
        "   start_date_ticker= start_date - datetime.timedelta(days=cant_days_before)\n",
        "   end_date_ticker= start_date + datetime.timedelta(days=cant_days_after)\n",
        "  \n",
        "   data_tic = data.get_data_yahoo(\n",
        "     tickers,\n",
        "     start=start_date_ticker, \n",
        "     end=end_date_ticker, \n",
        "     data_source='yahoo',\n",
        "   )[\"Adj Close\"]\n",
        "\n",
        "   # Creo el data frame\n",
        "   df=pd.DataFrame(data_tic)\n",
        "\n",
        "   # Calculo los retornos\n",
        "   df['Retornos']=df['Adj Close'].pct_change(1).dropna()\n",
        "\n",
        "   # Elimino la columna Adj Close\n",
        "   df.drop('Adj Close', inplace=True, axis=1)\n",
        "\n",
        "   # Elimino los NaN\n",
        "   df.dropna(inplace=True)\n",
        "\n",
        "   # Separo test y train\n",
        "   df_train=df[df.index <= start_date]\n",
        "   df_test=df[df.index > start_date]\n",
        "\n",
        "   # Calculo start y end para predicción con train con FECHAS\n",
        "   start = df_train.index[0]\n",
        "   end = df_train.index[-1]\n",
        "\n",
        "   # Convierto el index de df_train\n",
        "   df_train.index = pd.DatetimeIndex(df_train.index).to_period('D')\n",
        "   df_test.index = pd.DatetimeIndex(df_test.index).to_period('D')\n",
        "\n",
        "   # Instanciación\n",
        "   mod = AutoReg(df_train, old_names=True, missing='drop', lags=1, hold_back=1)\n",
        "   res = mod.fit()\n",
        "\n",
        "   # Predicción del modelo con el start y end con valores de fechas\n",
        "   predict = res.predict(df_test.index[0] , df_test.index[-1])\n",
        "\n",
        "   # Imprimo el predict\n",
        "   filtered_predict = predict[predict.index.isin(df_test.index)]\n",
        "   \n",
        "   # Calculo del error\n",
        "   train_error = mean_squared_error(df_test[\"Retornos\"], filtered_predict)\n",
        "    \n",
        "   # Devolvemos el predict y el error\n",
        "   return predict, train_error\n"
      ],
      "id": "GXKVVh6qr7IT",
      "execution_count": 77,
      "outputs": []
    },
    {
      "cell_type": "code",
      "metadata": {
        "id": "smqOohz8lVvk"
      },
      "source": [
        "# Función que recibe 4 parámetros para predecir los retornos \n",
        "# de un activo a partir de las fechas\n",
        "\n",
        "def predict_over_ticker_date_price(tickers, start_date, cant_days_before, cant_days_after):\n",
        "   start_date_ticker= start_date - datetime.timedelta(days=cant_days_before)\n",
        "   end_date_ticker= start_date + datetime.timedelta(days=cant_days_after)\n",
        "  \n",
        "   data_tic = data.get_data_yahoo(\n",
        "     tickers,\n",
        "     start=start_date_ticker, \n",
        "     end=end_date_ticker, \n",
        "     data_source='yahoo',\n",
        "   )[\"Adj Close\"]\n",
        "\n",
        "   # Creo el data frame\n",
        "   df=pd.DataFrame(data_tic)\n",
        "\n",
        "   # Elimino los NaN\n",
        "   df.dropna(inplace=True)\n",
        "\n",
        "   \n",
        "   # Separo test y train\n",
        "   df_train=df[df.index <= start_date]\n",
        "   df_test=df[df.index > start_date]\n",
        "\n",
        "   # Calculo start y end para predicción con train con FECHAS\n",
        "   start = df_train.index[0]\n",
        "   end = df_train.index[-1]\n",
        "\n",
        "   # Convierto el index de df_train\n",
        "   df_train.index = pd.DatetimeIndex(df_train.index).to_period('D')\n",
        "   df_test.index = pd.DatetimeIndex(df_test.index).to_period('D')\n",
        "\n",
        "   # Instanciación\n",
        "   mod = AutoReg(df_train, old_names=True, missing='drop', lags=1, hold_back=1)\n",
        "   res = mod.fit()\n",
        "\n",
        "   # Predicción del modelo con el start y end con valores de fechas\n",
        "   predict = res.predict(df_test.index[0] , df_test.index[-1])\n",
        "\n",
        "   # Imprimo el predict\n",
        "   filtered_predict = predict[predict.index.isin(df_test.index)]\n",
        "   \n",
        "   # Calculo del error\n",
        "   train_error = mean_squared_error(df_test[\"Adj Close\"], filtered_predict)\n",
        "    \n",
        "   # Devolvemos el predict y el error\n",
        "   return predict, train_error"
      ],
      "id": "smqOohz8lVvk",
      "execution_count": 78,
      "outputs": []
    },
    {
      "cell_type": "code",
      "metadata": {
        "id": "Ik_W3dcPol6J"
      },
      "source": [
        "# Definición de los valores para predecir los retornos y los precios de Meli en enero de 2021\n",
        "start_date = datetime.datetime(year=2021, month=1, day=1)\n",
        "cant_days_before = 15\n",
        "cant_days_after = 15\n",
        "tickers = ['MELI']"
      ],
      "id": "Ik_W3dcPol6J",
      "execution_count": 79,
      "outputs": []
    },
    {
      "cell_type": "code",
      "metadata": {
        "colab": {
          "base_uri": "https://localhost:8080/"
        },
        "id": "sJyJA0RXR7jL",
        "outputId": "d5be2bce-db88-4f79-fdfb-e47ae3809dcf"
      },
      "source": [
        "# Llamamos a la función para predecir los retornos con fechas\n",
        "predict_over_ticker_date(tickers, start_date, cant_days_before, cant_days_after)"
      ],
      "id": "sJyJA0RXR7jL",
      "execution_count": 80,
      "outputs": [
        {
          "output_type": "stream",
          "name": "stdout",
          "text": [
            "\r[*********************100%***********************]  1 of 1 completed\n"
          ]
        },
        {
          "output_type": "execute_result",
          "data": {
            "text/plain": [
              "(2021-01-04   -0.000091\n",
              " 2021-01-05   -0.001443\n",
              " 2021-01-06   -0.000503\n",
              " 2021-01-07   -0.001156\n",
              " 2021-01-08   -0.000703\n",
              " 2021-01-09   -0.001018\n",
              " 2021-01-10   -0.000799\n",
              " 2021-01-11   -0.000951\n",
              " 2021-01-12   -0.000845\n",
              " 2021-01-13   -0.000919\n",
              " 2021-01-14   -0.000868\n",
              " 2021-01-15   -0.000903\n",
              " Freq: D, dtype: float64, 0.0011305833393696308)"
            ]
          },
          "metadata": {},
          "execution_count": 80
        }
      ]
    },
    {
      "cell_type": "code",
      "metadata": {
        "id": "dfHXDistvngf"
      },
      "source": [
        "# Definición de los valores para predecir los retornos de SPY en marzo de 2021\n",
        "start_date = datetime.datetime(year=2020, month=3, day=1)\n",
        "cant_days_before = 15\n",
        "cant_days_after = 15\n",
        "tickers = ['SPY']"
      ],
      "id": "dfHXDistvngf",
      "execution_count": 81,
      "outputs": []
    },
    {
      "cell_type": "code",
      "metadata": {
        "colab": {
          "base_uri": "https://localhost:8080/"
        },
        "id": "1qS-fcSAR0Ci",
        "outputId": "c2bd2b39-ba0c-46c4-f835-0ce359d28354"
      },
      "source": [
        "# Llamamos a la función para predecir los retornos con fechas\n",
        "predict_over_ticker_date(tickers, start_date, cant_days_before, cant_days_after)"
      ],
      "id": "1qS-fcSAR0Ci",
      "execution_count": 82,
      "outputs": [
        {
          "output_type": "stream",
          "name": "stdout",
          "text": [
            "\r[*********************100%***********************]  1 of 1 completed\n"
          ]
        },
        {
          "output_type": "execute_result",
          "data": {
            "text/plain": [
              "(2020-03-02   -0.018450\n",
              " 2020-03-03   -0.018442\n",
              " 2020-03-04   -0.018444\n",
              " 2020-03-05   -0.018444\n",
              " 2020-03-06   -0.018444\n",
              " 2020-03-07   -0.018444\n",
              " 2020-03-08   -0.018444\n",
              " 2020-03-09   -0.018444\n",
              " 2020-03-10   -0.018444\n",
              " 2020-03-11   -0.018444\n",
              " 2020-03-12   -0.018444\n",
              " 2020-03-13   -0.018444\n",
              " Freq: D, dtype: float64, 0.00339672441490722)"
            ]
          },
          "metadata": {},
          "execution_count": 82
        }
      ]
    },
    {
      "cell_type": "code",
      "metadata": {
        "id": "j_MJXR_fmLrC"
      },
      "source": [
        "# Definición de los valores para predecir los precios de SPY en marzo de 2021\n",
        "start_date = datetime.datetime(year=2020, month=3, day=1)\n",
        "cant_days_before = 15\n",
        "cant_days_after = 15\n",
        "tickers = ['SPY']"
      ],
      "id": "j_MJXR_fmLrC",
      "execution_count": 83,
      "outputs": []
    },
    {
      "cell_type": "code",
      "metadata": {
        "colab": {
          "base_uri": "https://localhost:8080/"
        },
        "id": "L4WhUHUxlTLO",
        "outputId": "edff59d1-e400-4a02-f735-5fceee760d6b"
      },
      "source": [
        "# Llamamos a la función para predecir los precios con fechas\n",
        "predict_over_ticker_date_price(tickers, start_date, cant_days_before, cant_days_after)"
      ],
      "id": "L4WhUHUxlTLO",
      "execution_count": 84,
      "outputs": [
        {
          "output_type": "stream",
          "name": "stdout",
          "text": [
            "\r[*********************100%***********************]  1 of 1 completed\n"
          ]
        },
        {
          "output_type": "execute_result",
          "data": {
            "text/plain": [
              "(2020-03-02    254.224762\n",
              " 2020-03-03    246.496655\n",
              " 2020-03-04    238.409342\n",
              " 2020-03-05    229.946127\n",
              " 2020-03-06    221.089540\n",
              " 2020-03-07    211.821295\n",
              " 2020-03-08    202.122258\n",
              " 2020-03-09    191.972407\n",
              " 2020-03-10    181.350786\n",
              " 2020-03-11    170.235469\n",
              " 2020-03-12    158.603508\n",
              " 2020-03-13    146.430889\n",
              " Freq: D, dtype: float64, 6208.954333959736)"
            ]
          },
          "metadata": {},
          "execution_count": 84
        }
      ]
    },
    {
      "cell_type": "markdown",
      "metadata": {
        "id": "XodyxADplCgO"
      },
      "source": [
        "¿Qué pasa si tratamos de predecir el precio del SPY el día antes del primer cisne negro de 2020 con un modelo que use 15 días hacia atrás?"
      ],
      "id": "XodyxADplCgO"
    },
    {
      "cell_type": "code",
      "metadata": {
        "colab": {
          "base_uri": "https://localhost:8080/"
        },
        "id": "hhQ0KiHiZhGN",
        "outputId": "93183545-f0f1-4488-b800-9a8262063384"
      },
      "source": [
        "tickers = ['SPY']\n",
        "\n",
        "#Se filtran datos de S&P500 desde 2000\n",
        "start_date= '2020-01-01'\n",
        "end_date= '2021-01-01'\n",
        "\n",
        "dfP500 = data.DataReader(\n",
        "    tickers,\n",
        "    start=start_date, \n",
        "    end=end_date, \n",
        "    data_source='yahoo',\n",
        ")[\"Adj Close\"].to_frame()"
      ],
      "id": "hhQ0KiHiZhGN",
      "execution_count": 85,
      "outputs": [
        {
          "output_type": "stream",
          "name": "stdout",
          "text": [
            "\r[*********************100%***********************]  1 of 1 completed\n"
          ]
        }
      ]
    },
    {
      "cell_type": "code",
      "metadata": {
        "colab": {
          "base_uri": "https://localhost:8080/"
        },
        "id": "SAx0Jg9YZorK",
        "outputId": "67fa5ecc-4c88-41fa-ffc0-a1120d95c081"
      },
      "source": [
        "# Calcular los retornos para tickers del 2020\n",
        "s = pd.Series(dfP500['Adj Close'].squeeze())\n",
        "return_SP5000_year_2020 = (s.pct_change(periods=1, fill_method='pad', limit=None, freq=None))*100\n",
        "\n",
        "# Calcular las desviación\n",
        "std = return_SP5000_year_2020.std()\n",
        "\n",
        "# Calcular la media de los retornos\n",
        "mean = return_SP5000_year_2020.mean()\n",
        "\n",
        "# Calcular el exceso de los retornos\n",
        "excess_return_year_2020 = (mean - 0) / std\n",
        "\n",
        "# Imprimir el describe de los retornos de los tickers del 2020\n",
        "print(\"Describe de los retornos (Desde 2000):\\n\", return_SP5000_year_2020.describe())\n",
        "\n",
        "# Imprimir el valor de la desviación\n",
        "print(\"\\nStd:\", std)\n",
        "\n",
        "# Imprimir el valor de la media\n",
        "print(\"\\nMean:\", mean)\n",
        "\n",
        "# Imprimir el exceso de los retornos\n",
        "print(\"\\nExceso de retornos:\", excess_return_year_2020) "
      ],
      "id": "SAx0Jg9YZorK",
      "execution_count": 86,
      "outputs": [
        {
          "output_type": "stream",
          "name": "stdout",
          "text": [
            "Describe de los retornos (Desde 2000):\n",
            " count    252.000000\n",
            "mean       0.085452\n",
            "std        2.107382\n",
            "min      -10.942374\n",
            "25%       -0.585717\n",
            "50%        0.222311\n",
            "75%        1.005257\n",
            "max        9.060316\n",
            "Name: Adj Close, dtype: float64\n",
            "\n",
            "Std: 2.1073823557159472\n",
            "\n",
            "Mean: 0.08545240765466869\n",
            "\n",
            "Exceso de retornos: 0.040549076166881776\n"
          ]
        }
      ]
    },
    {
      "cell_type": "code",
      "metadata": {
        "colab": {
          "base_uri": "https://localhost:8080/"
        },
        "id": "BtVQTYxZa5CG",
        "outputId": "caa7d4c6-b149-4185-b0bb-4a82df58b1b0"
      },
      "source": [
        "# Calcular 3 veces la desviación estándar\n",
        "std3 =std * 3.0\n",
        "\n",
        "# Imprimir el valor de 3 desviaciones estandar\n",
        "print(\"Valor de 3 desviaciones estandar:\", std3)\n",
        "\n",
        "# Mínima y máxima para encontrar cisnes negros\n",
        "mean_std_max = mean + std3\n",
        "mean_std_min = mean - std3\n",
        "\n",
        "# Imprimir valores mínimos y máximos de 3 desviaciones \n",
        "print(\"\\nValores mínimos y máximos de 3 desviaciones\")\n",
        "print(\"Media desviación mayor\", mean_std_max)\n",
        "print(\"Media desviación menor\", mean_std_min)\n",
        "\n",
        "# Encontrar cisnes negros\n",
        "list_cisnes = []\n",
        "for retorno in return_SP5000_year_2020.iteritems(): \n",
        "    #Buscar los retornos mayores o menores a 3 desviaciones (+-) la media  \n",
        "    if retorno[1] > mean_std_max or retorno[1] < mean_std_min: \n",
        "      list_cisnes.append(retorno)"
      ],
      "id": "BtVQTYxZa5CG",
      "execution_count": 87,
      "outputs": [
        {
          "output_type": "stream",
          "name": "stdout",
          "text": [
            "Valor de 3 desviaciones estandar: 6.322147067147842\n",
            "\n",
            "Valores mínimos y máximos de 3 desviaciones\n",
            "Media desviación mayor 6.4075994748025105\n",
            "Media desviación menor -6.236694659493174\n"
          ]
        }
      ]
    },
    {
      "cell_type": "code",
      "metadata": {
        "colab": {
          "base_uri": "https://localhost:8080/",
          "height": 237
        },
        "id": "WjtHbOrUZ6LX",
        "outputId": "79af3253-c5ad-43e8-c374-2ff663b7ecb8"
      },
      "source": [
        "# Convertir la lista a un data frame\n",
        "df_cisnes_negros = pd.DataFrame(list_cisnes)\n",
        "\n",
        "# Asignar nombres a las columnas \n",
        "df_cisnes_negros.columns = ['Fecha','RetornoCisne']\n",
        "\n",
        "# Formatear la fecha en datetime\n",
        "df_cisnes_negros.Fecha = pd.to_datetime(df_cisnes_negros.Fecha)\n",
        "\n",
        "# Se observan nuestros primeros cisnes negros\n",
        "df_cisnes_negros.head(10)"
      ],
      "id": "WjtHbOrUZ6LX",
      "execution_count": 88,
      "outputs": [
        {
          "output_type": "execute_result",
          "data": {
            "text/html": [
              "<div>\n",
              "<style scoped>\n",
              "    .dataframe tbody tr th:only-of-type {\n",
              "        vertical-align: middle;\n",
              "    }\n",
              "\n",
              "    .dataframe tbody tr th {\n",
              "        vertical-align: top;\n",
              "    }\n",
              "\n",
              "    .dataframe thead th {\n",
              "        text-align: right;\n",
              "    }\n",
              "</style>\n",
              "<table border=\"1\" class=\"dataframe\">\n",
              "  <thead>\n",
              "    <tr style=\"text-align: right;\">\n",
              "      <th></th>\n",
              "      <th>Fecha</th>\n",
              "      <th>RetornoCisne</th>\n",
              "    </tr>\n",
              "  </thead>\n",
              "  <tbody>\n",
              "    <tr>\n",
              "      <th>0</th>\n",
              "      <td>2020-03-09</td>\n",
              "      <td>-7.809443</td>\n",
              "    </tr>\n",
              "    <tr>\n",
              "      <th>1</th>\n",
              "      <td>2020-03-12</td>\n",
              "      <td>-9.567720</td>\n",
              "    </tr>\n",
              "    <tr>\n",
              "      <th>2</th>\n",
              "      <td>2020-03-13</td>\n",
              "      <td>8.548646</td>\n",
              "    </tr>\n",
              "    <tr>\n",
              "      <th>3</th>\n",
              "      <td>2020-03-16</td>\n",
              "      <td>-10.942374</td>\n",
              "    </tr>\n",
              "    <tr>\n",
              "      <th>4</th>\n",
              "      <td>2020-03-24</td>\n",
              "      <td>9.060316</td>\n",
              "    </tr>\n",
              "    <tr>\n",
              "      <th>5</th>\n",
              "      <td>2020-04-06</td>\n",
              "      <td>6.716602</td>\n",
              "    </tr>\n",
              "  </tbody>\n",
              "</table>\n",
              "</div>"
            ],
            "text/plain": [
              "       Fecha  RetornoCisne\n",
              "0 2020-03-09     -7.809443\n",
              "1 2020-03-12     -9.567720\n",
              "2 2020-03-13      8.548646\n",
              "3 2020-03-16    -10.942374\n",
              "4 2020-03-24      9.060316\n",
              "5 2020-04-06      6.716602"
            ]
          },
          "metadata": {},
          "execution_count": 88
        }
      ]
    },
    {
      "cell_type": "markdown",
      "metadata": {
        "id": "JCTCHaYA0JCj"
      },
      "source": [
        "Observamos nuestro primer cisne negro en el 2020 para el dia 2020-03-09"
      ],
      "id": "JCTCHaYA0JCj"
    },
    {
      "cell_type": "code",
      "metadata": {
        "colab": {
          "base_uri": "https://localhost:8080/",
          "height": 551
        },
        "id": "jPbTbXU-Z9H3",
        "outputId": "380a2e06-0da7-4606-f582-e9981cf5e36c"
      },
      "source": [
        "dfP500[dfP500['Adj Close'].index > '2020-03-01'].head(15)"
      ],
      "id": "jPbTbXU-Z9H3",
      "execution_count": 89,
      "outputs": [
        {
          "output_type": "execute_result",
          "data": {
            "text/html": [
              "<div>\n",
              "<style scoped>\n",
              "    .dataframe tbody tr th:only-of-type {\n",
              "        vertical-align: middle;\n",
              "    }\n",
              "\n",
              "    .dataframe tbody tr th {\n",
              "        vertical-align: top;\n",
              "    }\n",
              "\n",
              "    .dataframe thead th {\n",
              "        text-align: right;\n",
              "    }\n",
              "</style>\n",
              "<table border=\"1\" class=\"dataframe\">\n",
              "  <thead>\n",
              "    <tr style=\"text-align: right;\">\n",
              "      <th></th>\n",
              "      <th>Adj Close</th>\n",
              "    </tr>\n",
              "    <tr>\n",
              "      <th>Date</th>\n",
              "      <th></th>\n",
              "    </tr>\n",
              "  </thead>\n",
              "  <tbody>\n",
              "    <tr>\n",
              "      <th>2020-03-02</th>\n",
              "      <td>300.484222</td>\n",
              "    </tr>\n",
              "    <tr>\n",
              "      <th>2020-03-03</th>\n",
              "      <td>291.880585</td>\n",
              "    </tr>\n",
              "    <tr>\n",
              "      <th>2020-03-04</th>\n",
              "      <td>304.149261</td>\n",
              "    </tr>\n",
              "    <tr>\n",
              "      <th>2020-03-05</th>\n",
              "      <td>294.038788</td>\n",
              "    </tr>\n",
              "    <tr>\n",
              "      <th>2020-03-06</th>\n",
              "      <td>289.178009</td>\n",
              "    </tr>\n",
              "    <tr>\n",
              "      <th>2020-03-09</th>\n",
              "      <td>266.594818</td>\n",
              "    </tr>\n",
              "    <tr>\n",
              "      <th>2020-03-10</th>\n",
              "      <td>280.389771</td>\n",
              "    </tr>\n",
              "    <tr>\n",
              "      <th>2020-03-11</th>\n",
              "      <td>266.721161</td>\n",
              "    </tr>\n",
              "    <tr>\n",
              "      <th>2020-03-12</th>\n",
              "      <td>241.202026</td>\n",
              "    </tr>\n",
              "    <tr>\n",
              "      <th>2020-03-13</th>\n",
              "      <td>261.821533</td>\n",
              "    </tr>\n",
              "    <tr>\n",
              "      <th>2020-03-16</th>\n",
              "      <td>233.172043</td>\n",
              "    </tr>\n",
              "    <tr>\n",
              "      <th>2020-03-17</th>\n",
              "      <td>245.761475</td>\n",
              "    </tr>\n",
              "    <tr>\n",
              "      <th>2020-03-18</th>\n",
              "      <td>233.317856</td>\n",
              "    </tr>\n",
              "    <tr>\n",
              "      <th>2020-03-19</th>\n",
              "      <td>233.813629</td>\n",
              "    </tr>\n",
              "    <tr>\n",
              "      <th>2020-03-20</th>\n",
              "      <td>223.737656</td>\n",
              "    </tr>\n",
              "  </tbody>\n",
              "</table>\n",
              "</div>"
            ],
            "text/plain": [
              "             Adj Close\n",
              "Date                  \n",
              "2020-03-02  300.484222\n",
              "2020-03-03  291.880585\n",
              "2020-03-04  304.149261\n",
              "2020-03-05  294.038788\n",
              "2020-03-06  289.178009\n",
              "2020-03-09  266.594818\n",
              "2020-03-10  280.389771\n",
              "2020-03-11  266.721161\n",
              "2020-03-12  241.202026\n",
              "2020-03-13  261.821533\n",
              "2020-03-16  233.172043\n",
              "2020-03-17  245.761475\n",
              "2020-03-18  233.317856\n",
              "2020-03-19  233.813629\n",
              "2020-03-20  223.737656"
            ]
          },
          "metadata": {},
          "execution_count": 89
        }
      ]
    },
    {
      "cell_type": "markdown",
      "metadata": {
        "id": "Fe5-nmaA0cG2"
      },
      "source": [
        "Al intentar predecir el precio del SPY un día antes del primer cisne negro de 2020 con un modelo que use 15 días hacia atrás ocurre que se predicen precios mayores a los verdaderos dado que en estos dias la accion tenia un valor mas alto y no era tan volatil"
      ],
      "id": "Fe5-nmaA0cG2"
    },
    {
      "cell_type": "code",
      "metadata": {
        "id": "epTKNHSZaAIO"
      },
      "source": [
        "start_date = datetime.datetime(year=2020, month=3, day=8)\n",
        "cant_days_before = 15\n",
        "cant_days_after = 15\n",
        "tickers = ['SPY']"
      ],
      "id": "epTKNHSZaAIO",
      "execution_count": 90,
      "outputs": []
    },
    {
      "cell_type": "code",
      "metadata": {
        "colab": {
          "base_uri": "https://localhost:8080/"
        },
        "id": "X1_byyTdaEyE",
        "outputId": "82f5510f-621a-47c0-ed94-80f487dd9207"
      },
      "source": [
        "predict_over_ticker_date_price(tickers, start_date, cant_days_before, cant_days_after)"
      ],
      "id": "X1_byyTdaEyE",
      "execution_count": 91,
      "outputs": [
        {
          "output_type": "stream",
          "name": "stdout",
          "text": [
            "\r[*********************100%***********************]  1 of 1 completed\n"
          ]
        },
        {
          "output_type": "execute_result",
          "data": {
            "text/plain": [
              "(2020-03-09    295.313794\n",
              " 2020-03-10    295.315208\n",
              " 2020-03-11    295.315485\n",
              " 2020-03-12    295.315539\n",
              " 2020-03-13    295.315550\n",
              " 2020-03-14    295.315552\n",
              " 2020-03-15    295.315552\n",
              " 2020-03-16    295.315552\n",
              " 2020-03-17    295.315552\n",
              " 2020-03-18    295.315552\n",
              " 2020-03-19    295.315552\n",
              " 2020-03-20    295.315552\n",
              " Freq: D, dtype: float64, 2498.232455207022)"
            ]
          },
          "metadata": {},
          "execution_count": 91
        }
      ]
    },
    {
      "cell_type": "markdown",
      "metadata": {
        "id": "beginning-repository"
      },
      "source": [
        "### Árboles de Decisión para predecir suba o baja.\n",
        "\n",
        "Venimos trabajando los precios con valores continuos, pero otra forma de verlos podría ser convirtiendolos en, por ejemplo, -1 y 1 para saber si el precio está en suba o en baja. De esta forma obtenemos un problema de clasificación que nos permite mirar los datos desde otra perspectiva.\n",
        "\n",
        "- Etiqueten los datos con 1 si [pct_change](https://pandas.pydata.org/docs/reference/api/pandas.DataFrame.pct_change.html) es mayor a cero y 0, -1 si no.\n",
        "- Entrenen un árbol de decisión que prediga si el valor de un activo va a subir o bajar.\n",
        "- Reporten las siguientes métricas sobre el modelo resultante.\n",
        "\n",
        "    - Accuracy\n",
        "    - Precision\n",
        "    - Recall\n",
        "    - F1\n",
        "    - matriz de confusión"
      ],
      "id": "beginning-repository"
    },
    {
      "cell_type": "code",
      "metadata": {
        "id": "YCWyy9mq0d5r",
        "colab": {
          "base_uri": "https://localhost:8080/",
          "height": 255
        },
        "outputId": "75a022a8-8219-4c97-a945-5156f9d50ebe"
      },
      "source": [
        "# Obtenemos un los tickers de Meli para la fecha entre 2020-01-01 y 2020-12_31\n",
        "tickers= ['MELI']\n",
        "start_date = '2020-01-01'\n",
        "end_date = '2020-12-31'\n",
        "\n",
        "data_meli = data.get_data_yahoo(\n",
        "    tickers,\n",
        "    start=start_date, \n",
        "    end=end_date, \n",
        "    data_source='yahoo',\n",
        ")\n",
        "\n",
        "# Creamos un dataframe con los datos de Meli\n",
        "df_meli=pd.DataFrame(data_meli)\n",
        "\n",
        "# Calculo el pct_change de meli\n",
        "df_meli[\"ret_meli\"]=df_meli['Adj Close'].pct_change(1)\n",
        "\n",
        "# Elimino NAN\n",
        "df_meli_model = df_meli.dropna()\n",
        "\n",
        "# Muestro las primeras filas\n",
        "df_meli_model.head()"
      ],
      "id": "YCWyy9mq0d5r",
      "execution_count": 92,
      "outputs": [
        {
          "output_type": "stream",
          "name": "stdout",
          "text": [
            "\r[*********************100%***********************]  1 of 1 completed\n"
          ]
        },
        {
          "output_type": "execute_result",
          "data": {
            "text/html": [
              "<div>\n",
              "<style scoped>\n",
              "    .dataframe tbody tr th:only-of-type {\n",
              "        vertical-align: middle;\n",
              "    }\n",
              "\n",
              "    .dataframe tbody tr th {\n",
              "        vertical-align: top;\n",
              "    }\n",
              "\n",
              "    .dataframe thead th {\n",
              "        text-align: right;\n",
              "    }\n",
              "</style>\n",
              "<table border=\"1\" class=\"dataframe\">\n",
              "  <thead>\n",
              "    <tr style=\"text-align: right;\">\n",
              "      <th></th>\n",
              "      <th>Open</th>\n",
              "      <th>High</th>\n",
              "      <th>Low</th>\n",
              "      <th>Close</th>\n",
              "      <th>Adj Close</th>\n",
              "      <th>Volume</th>\n",
              "      <th>ret_meli</th>\n",
              "    </tr>\n",
              "    <tr>\n",
              "      <th>Date</th>\n",
              "      <th></th>\n",
              "      <th></th>\n",
              "      <th></th>\n",
              "      <th></th>\n",
              "      <th></th>\n",
              "      <th></th>\n",
              "      <th></th>\n",
              "    </tr>\n",
              "  </thead>\n",
              "  <tbody>\n",
              "    <tr>\n",
              "      <th>2020-01-03</th>\n",
              "      <td>602.619995</td>\n",
              "      <td>609.840027</td>\n",
              "      <td>600.059998</td>\n",
              "      <td>607.799988</td>\n",
              "      <td>607.799988</td>\n",
              "      <td>320900</td>\n",
              "      <td>-0.003917</td>\n",
              "    </tr>\n",
              "    <tr>\n",
              "      <th>2020-01-06</th>\n",
              "      <td>601.039978</td>\n",
              "      <td>613.789978</td>\n",
              "      <td>601.000000</td>\n",
              "      <td>606.549988</td>\n",
              "      <td>606.549988</td>\n",
              "      <td>209700</td>\n",
              "      <td>-0.002057</td>\n",
              "    </tr>\n",
              "    <tr>\n",
              "      <th>2020-01-07</th>\n",
              "      <td>606.640015</td>\n",
              "      <td>627.969971</td>\n",
              "      <td>604.739990</td>\n",
              "      <td>625.000000</td>\n",
              "      <td>625.000000</td>\n",
              "      <td>480900</td>\n",
              "      <td>0.030418</td>\n",
              "    </tr>\n",
              "    <tr>\n",
              "      <th>2020-01-08</th>\n",
              "      <td>625.000000</td>\n",
              "      <td>637.820007</td>\n",
              "      <td>624.549988</td>\n",
              "      <td>633.440002</td>\n",
              "      <td>633.440002</td>\n",
              "      <td>334600</td>\n",
              "      <td>0.013504</td>\n",
              "    </tr>\n",
              "    <tr>\n",
              "      <th>2020-01-09</th>\n",
              "      <td>643.429993</td>\n",
              "      <td>649.049988</td>\n",
              "      <td>638.590027</td>\n",
              "      <td>646.429993</td>\n",
              "      <td>646.429993</td>\n",
              "      <td>413800</td>\n",
              "      <td>0.020507</td>\n",
              "    </tr>\n",
              "  </tbody>\n",
              "</table>\n",
              "</div>"
            ],
            "text/plain": [
              "                  Open        High         Low  ...   Adj Close  Volume  ret_meli\n",
              "Date                                            ...                              \n",
              "2020-01-03  602.619995  609.840027  600.059998  ...  607.799988  320900 -0.003917\n",
              "2020-01-06  601.039978  613.789978  601.000000  ...  606.549988  209700 -0.002057\n",
              "2020-01-07  606.640015  627.969971  604.739990  ...  625.000000  480900  0.030418\n",
              "2020-01-08  625.000000  637.820007  624.549988  ...  633.440002  334600  0.013504\n",
              "2020-01-09  643.429993  649.049988  638.590027  ...  646.429993  413800  0.020507\n",
              "\n",
              "[5 rows x 7 columns]"
            ]
          },
          "metadata": {},
          "execution_count": 92
        }
      ]
    },
    {
      "cell_type": "code",
      "metadata": {
        "id": "complicated-planet",
        "colab": {
          "base_uri": "https://localhost:8080/",
          "height": 396
        },
        "outputId": "2dc4b93d-7c09-44d9-e770-d764f93e390d"
      },
      "source": [
        "# Etiqueto en base a pct_change\n",
        "df_meli_model['Target'] = df_meli_model.apply(lambda x: 1 if (x['ret_meli']) >= 0.0 else -1, axis=1)\n",
        "\n",
        "# Elimino la columna pct_change\n",
        "df_meli_model_filter = df_meli_model.drop(['ret_meli'],axis=1)\n",
        "df_meli_model_filter.head()"
      ],
      "id": "complicated-planet",
      "execution_count": 93,
      "outputs": [
        {
          "output_type": "stream",
          "name": "stderr",
          "text": [
            "/usr/local/lib/python3.7/dist-packages/ipykernel_launcher.py:2: SettingWithCopyWarning:\n",
            "\n",
            "\n",
            "A value is trying to be set on a copy of a slice from a DataFrame.\n",
            "Try using .loc[row_indexer,col_indexer] = value instead\n",
            "\n",
            "See the caveats in the documentation: https://pandas.pydata.org/pandas-docs/stable/user_guide/indexing.html#returning-a-view-versus-a-copy\n",
            "\n"
          ]
        },
        {
          "output_type": "execute_result",
          "data": {
            "text/html": [
              "<div>\n",
              "<style scoped>\n",
              "    .dataframe tbody tr th:only-of-type {\n",
              "        vertical-align: middle;\n",
              "    }\n",
              "\n",
              "    .dataframe tbody tr th {\n",
              "        vertical-align: top;\n",
              "    }\n",
              "\n",
              "    .dataframe thead th {\n",
              "        text-align: right;\n",
              "    }\n",
              "</style>\n",
              "<table border=\"1\" class=\"dataframe\">\n",
              "  <thead>\n",
              "    <tr style=\"text-align: right;\">\n",
              "      <th></th>\n",
              "      <th>Open</th>\n",
              "      <th>High</th>\n",
              "      <th>Low</th>\n",
              "      <th>Close</th>\n",
              "      <th>Adj Close</th>\n",
              "      <th>Volume</th>\n",
              "      <th>Target</th>\n",
              "    </tr>\n",
              "    <tr>\n",
              "      <th>Date</th>\n",
              "      <th></th>\n",
              "      <th></th>\n",
              "      <th></th>\n",
              "      <th></th>\n",
              "      <th></th>\n",
              "      <th></th>\n",
              "      <th></th>\n",
              "    </tr>\n",
              "  </thead>\n",
              "  <tbody>\n",
              "    <tr>\n",
              "      <th>2020-01-03</th>\n",
              "      <td>602.619995</td>\n",
              "      <td>609.840027</td>\n",
              "      <td>600.059998</td>\n",
              "      <td>607.799988</td>\n",
              "      <td>607.799988</td>\n",
              "      <td>320900</td>\n",
              "      <td>-1</td>\n",
              "    </tr>\n",
              "    <tr>\n",
              "      <th>2020-01-06</th>\n",
              "      <td>601.039978</td>\n",
              "      <td>613.789978</td>\n",
              "      <td>601.000000</td>\n",
              "      <td>606.549988</td>\n",
              "      <td>606.549988</td>\n",
              "      <td>209700</td>\n",
              "      <td>-1</td>\n",
              "    </tr>\n",
              "    <tr>\n",
              "      <th>2020-01-07</th>\n",
              "      <td>606.640015</td>\n",
              "      <td>627.969971</td>\n",
              "      <td>604.739990</td>\n",
              "      <td>625.000000</td>\n",
              "      <td>625.000000</td>\n",
              "      <td>480900</td>\n",
              "      <td>1</td>\n",
              "    </tr>\n",
              "    <tr>\n",
              "      <th>2020-01-08</th>\n",
              "      <td>625.000000</td>\n",
              "      <td>637.820007</td>\n",
              "      <td>624.549988</td>\n",
              "      <td>633.440002</td>\n",
              "      <td>633.440002</td>\n",
              "      <td>334600</td>\n",
              "      <td>1</td>\n",
              "    </tr>\n",
              "    <tr>\n",
              "      <th>2020-01-09</th>\n",
              "      <td>643.429993</td>\n",
              "      <td>649.049988</td>\n",
              "      <td>638.590027</td>\n",
              "      <td>646.429993</td>\n",
              "      <td>646.429993</td>\n",
              "      <td>413800</td>\n",
              "      <td>1</td>\n",
              "    </tr>\n",
              "  </tbody>\n",
              "</table>\n",
              "</div>"
            ],
            "text/plain": [
              "                  Open        High         Low  ...   Adj Close  Volume  Target\n",
              "Date                                            ...                            \n",
              "2020-01-03  602.619995  609.840027  600.059998  ...  607.799988  320900      -1\n",
              "2020-01-06  601.039978  613.789978  601.000000  ...  606.549988  209700      -1\n",
              "2020-01-07  606.640015  627.969971  604.739990  ...  625.000000  480900       1\n",
              "2020-01-08  625.000000  637.820007  624.549988  ...  633.440002  334600       1\n",
              "2020-01-09  643.429993  649.049988  638.590027  ...  646.429993  413800       1\n",
              "\n",
              "[5 rows x 7 columns]"
            ]
          },
          "metadata": {},
          "execution_count": 93
        }
      ]
    },
    {
      "cell_type": "code",
      "metadata": {
        "id": "AFhABo_FoWO2",
        "colab": {
          "base_uri": "https://localhost:8080/"
        },
        "outputId": "6fe3eede-b9a3-4c95-fdbc-744b90b0b229"
      },
      "source": [
        "# División entre instancias y etiquetas\n",
        "X, y = df_meli_model_filter.iloc[:, :6], df_meli_model_filter.Target\n",
        "print(X)\n",
        "tscv = TimeSeriesSplit(n_splits=2)\n",
        "\n",
        "for train_index, test_index in tscv.split(X):\n",
        "    X_train, X_test = X.iloc[train_index, :], X.iloc[test_index,:]\n",
        "    y_train, y_test = y.iloc[train_index], y.iloc[test_index]\n",
        "\n",
        "print(X_train)\n",
        "print(X_test)"
      ],
      "id": "AFhABo_FoWO2",
      "execution_count": 94,
      "outputs": [
        {
          "output_type": "stream",
          "name": "stdout",
          "text": [
            "                   Open         High  ...    Adj Close  Volume\n",
            "Date                                  ...                     \n",
            "2020-01-03   602.619995   609.840027  ...   607.799988  320900\n",
            "2020-01-06   601.039978   613.789978  ...   606.549988  209700\n",
            "2020-01-07   606.640015   627.969971  ...   625.000000  480900\n",
            "2020-01-08   625.000000   637.820007  ...   633.440002  334600\n",
            "2020-01-09   643.429993   649.049988  ...   646.429993  413800\n",
            "...                 ...          ...  ...          ...     ...\n",
            "2020-12-23  1729.260010  1735.390015  ...  1670.010010  419100\n",
            "2020-12-24  1672.000000  1694.479980  ...  1690.479980  132800\n",
            "2020-12-28  1700.000000  1703.319946  ...  1663.719971  285900\n",
            "2020-12-29  1680.000000  1689.410034  ...  1673.489990  278300\n",
            "2020-12-30  1690.000000  1723.959961  ...  1712.939941  304300\n",
            "\n",
            "[251 rows x 6 columns]\n",
            "                   Open         High  ...    Adj Close  Volume\n",
            "Date                                  ...                     \n",
            "2020-01-03   602.619995   609.840027  ...   607.799988  320900\n",
            "2020-01-06   601.039978   613.789978  ...   606.549988  209700\n",
            "2020-01-07   606.640015   627.969971  ...   625.000000  480900\n",
            "2020-01-08   625.000000   637.820007  ...   633.440002  334600\n",
            "2020-01-09   643.429993   649.049988  ...   646.429993  413800\n",
            "...                 ...          ...  ...          ...     ...\n",
            "2020-08-26  1230.060059  1244.150024  ...  1215.930054  463600\n",
            "2020-08-27  1224.729980  1225.079956  ...  1201.400024  253300\n",
            "2020-08-28  1208.010010  1220.060059  ...  1178.900024  587200\n",
            "2020-08-31  1174.750000  1176.300049  ...  1168.589966  705900\n",
            "2020-09-01  1200.000000  1222.680054  ...  1209.260010  671300\n",
            "\n",
            "[168 rows x 6 columns]\n",
            "                   Open         High  ...    Adj Close   Volume\n",
            "Date                                  ...                      \n",
            "2020-09-02  1221.109985  1225.000000  ...  1195.959961   717600\n",
            "2020-09-03  1168.479980  1177.380005  ...  1087.119995  1097600\n",
            "2020-09-04  1085.010010  1102.290039  ...  1083.380005   899700\n",
            "2020-09-08  1015.080017  1078.699951  ...  1022.530029   714200\n",
            "2020-09-09  1065.810059  1070.520020  ...  1057.339966   667800\n",
            "...                 ...          ...  ...          ...      ...\n",
            "2020-12-23  1729.260010  1735.390015  ...  1670.010010   419100\n",
            "2020-12-24  1672.000000  1694.479980  ...  1690.479980   132800\n",
            "2020-12-28  1700.000000  1703.319946  ...  1663.719971   285900\n",
            "2020-12-29  1680.000000  1689.410034  ...  1673.489990   278300\n",
            "2020-12-30  1690.000000  1723.959961  ...  1712.939941   304300\n",
            "\n",
            "[83 rows x 6 columns]\n"
          ]
        }
      ]
    },
    {
      "cell_type": "code",
      "metadata": {
        "id": "Uq7t6HQkUn-b",
        "colab": {
          "base_uri": "https://localhost:8080/"
        },
        "outputId": "cbbba1c5-68fd-41ae-a649-8f88adf28895"
      },
      "source": [
        "# Entreno el modelo\n",
        "clf = DecisionTreeClassifier(random_state=0)\n",
        "clf.fit(X_train, y_train)"
      ],
      "id": "Uq7t6HQkUn-b",
      "execution_count": 95,
      "outputs": [
        {
          "output_type": "execute_result",
          "data": {
            "text/plain": [
              "DecisionTreeClassifier(ccp_alpha=0.0, class_weight=None, criterion='gini',\n",
              "                       max_depth=None, max_features=None, max_leaf_nodes=None,\n",
              "                       min_impurity_decrease=0.0, min_impurity_split=None,\n",
              "                       min_samples_leaf=1, min_samples_split=2,\n",
              "                       min_weight_fraction_leaf=0.0, presort='deprecated',\n",
              "                       random_state=0, splitter='best')"
            ]
          },
          "metadata": {},
          "execution_count": 95
        }
      ]
    },
    {
      "cell_type": "code",
      "metadata": {
        "id": "5Bb9cFLyWBew",
        "colab": {
          "base_uri": "https://localhost:8080/",
          "height": 595
        },
        "outputId": "ee0d2589-ae4b-4e1a-9b40-4e3fe6e60fe7"
      },
      "source": [
        "# Predicción con los datos de train\n",
        "y_predict_train = clf.predict(X_train)\n",
        "\n",
        "# Preicción con los datos de test\n",
        "y_predict_test = clf.predict(X_test)\n",
        "\n",
        "# Impresión de los predict\n",
        "print(classification_report(y_test, y_predict_test))\n",
        "print(classification_report(y_train, y_predict_train))\n",
        "\n",
        "# Mapa de calor para mostrar la eficencia del modelo\n",
        "sns.heatmap(confusion_matrix(y_test, y_predict_test, normalize='true'),annot=True)"
      ],
      "id": "5Bb9cFLyWBew",
      "execution_count": 96,
      "outputs": [
        {
          "output_type": "stream",
          "name": "stdout",
          "text": [
            "              precision    recall  f1-score   support\n",
            "\n",
            "          -1       0.39      0.87      0.54        30\n",
            "           1       0.76      0.25      0.37        53\n",
            "\n",
            "    accuracy                           0.47        83\n",
            "   macro avg       0.58      0.56      0.46        83\n",
            "weighted avg       0.63      0.47      0.43        83\n",
            "\n",
            "              precision    recall  f1-score   support\n",
            "\n",
            "          -1       1.00      1.00      1.00        70\n",
            "           1       1.00      1.00      1.00        98\n",
            "\n",
            "    accuracy                           1.00       168\n",
            "   macro avg       1.00      1.00      1.00       168\n",
            "weighted avg       1.00      1.00      1.00       168\n",
            "\n"
          ]
        },
        {
          "output_type": "execute_result",
          "data": {
            "text/plain": [
              "<matplotlib.axes._subplots.AxesSubplot at 0x7f2d97be9050>"
            ]
          },
          "metadata": {},
          "execution_count": 96
        },
        {
          "output_type": "display_data",
          "data": {
            "image/png": "[encoded data removed]",
            "text/plain": [
              "<Figure size 432x288 with 2 Axes>"
            ]
          },
          "metadata": {
            "needs_background": "light"
          }
        }
      ]
    },
    {
      "cell_type": "markdown",
      "metadata": {
        "id": "boolean-reward"
      },
      "source": [
        "El etiquetado de datos no suele ser trivial dado a que depende de la naturaleza de los datos. Posiblemente, el precio de un activo suba un poco pero luego continue su declive ¿Cuánto tiene que subir/bajar un precio para ser considerado \"suba\"/\"baja\"?. ¿Tiene sentido tomar \"periodos de suba/baja\" más grandes para predecir si el comportamiento del activo en el futuro?. ¿Se podría utilizar un enfoque más estadístico para elegir el etiquetado?.\n",
        "\n",
        "Aplicar GridSearch sobre los parámetros y luego para la mejor configuración encontrada, evaluar sobre el conjunto de entrenamiento y sobre el conjunto de evaluación, reportando:\n",
        "\n",
        "- Accuracy\n",
        "- Precision\n",
        "- Recall\n",
        "- F1\n",
        "- matriz de confusión"
      ],
      "id": "boolean-reward"
    },
    {
      "cell_type": "code",
      "metadata": {
        "id": "forbidden-shoot"
      },
      "source": [
        "# Selección de parámetros\n",
        "param_grid = {\n",
        "    'criterion': ['entropy','gini'],\n",
        "    'max_depth': [None,2,5,8,10,20],\n",
        "    'min_samples_split' : [2,3,4,8,10,12]\n",
        "}"
      ],
      "id": "forbidden-shoot",
      "execution_count": 97,
      "outputs": []
    },
    {
      "cell_type": "code",
      "metadata": {
        "id": "SseF8dOOX1R5",
        "colab": {
          "base_uri": "https://localhost:8080/",
          "height": 595
        },
        "outputId": "cfe8453b-e2ef-4f24-a012-1d37e98db23c"
      },
      "source": [
        "# Selección del mejor modelo\n",
        "best_model = GridSearchCV(clf, param_grid, scoring='accuracy', cv=5)\n",
        "best_model.fit(X_train, y_train)\n",
        "\n",
        "# Impresión de los valores de prección para train y para test con el mejor modelo\n",
        "y_predict_test = best_model.predict(X_test)\n",
        "y_predict_train = best_model.predict(X_train)\n",
        "\n",
        "# Impresión del clasification report para los datos del mejor modelo\n",
        "print(classification_report(y_test, y_predict_test))\n",
        "print(classification_report(y_train, y_predict_train))\n",
        "\n",
        "# Impresión de la matriz de confusión para comprender la eficacia del modelo\n",
        "sns.heatmap(confusion_matrix(y_test, y_predict_test, normalize='true'),annot=True)"
      ],
      "id": "SseF8dOOX1R5",
      "execution_count": 98,
      "outputs": [
        {
          "output_type": "stream",
          "name": "stdout",
          "text": [
            "              precision    recall  f1-score   support\n",
            "\n",
            "          -1       0.32      0.60      0.42        30\n",
            "           1       0.56      0.28      0.38        53\n",
            "\n",
            "    accuracy                           0.40        83\n",
            "   macro avg       0.44      0.44      0.40        83\n",
            "weighted avg       0.47      0.40      0.39        83\n",
            "\n",
            "              precision    recall  f1-score   support\n",
            "\n",
            "          -1       1.00      0.13      0.23        70\n",
            "           1       0.62      1.00      0.76        98\n",
            "\n",
            "    accuracy                           0.64       168\n",
            "   macro avg       0.81      0.56      0.50       168\n",
            "weighted avg       0.78      0.64      0.54       168\n",
            "\n"
          ]
        },
        {
          "output_type": "execute_result",
          "data": {
            "text/plain": [
              "<matplotlib.axes._subplots.AxesSubplot at 0x7f2d9b0e7550>"
            ]
          },
          "metadata": {},
          "execution_count": 98
        },
        {
          "output_type": "display_data",
          "data": {
            "image/png": "[encoded data removed]",
            "text/plain": [
              "<Figure size 432x288 with 2 Axes>"
            ]
          },
          "metadata": {
            "needs_background": "light"
          }
        }
      ]
    }
  ]
}